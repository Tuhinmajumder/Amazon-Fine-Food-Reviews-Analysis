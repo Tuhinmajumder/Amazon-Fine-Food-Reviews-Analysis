{
 "cells": [
  {
   "cell_type": "markdown",
   "metadata": {},
   "source": [
    "# Amazon Fine Food Reviews Analysis:\n",
    "\n",
    "Data Source: https://www.kaggle.com/snap/amazon-fine-food-reviews\n",
    "\n",
    "Data Published by:Originally this data was published by Stanford Network Analysis Project Team.\n",
    "\n",
    "The Amazon Fine Food Reviews dataset consists of reviews of fine foods from Amazon.<br>\n",
    "\n",
    "Number of reviews: 568,454<br>\n",
    "Number of users: 256,059<br>\n",
    "Number of products: 74,258<br>\n",
    "Timespan: Oct 1999 - Oct 2012<br>\n",
    "Number of Attributes/Columns in data: 10 \n",
    "\n",
    "Attribute Information:\n",
    "\n",
    "1. Id\n",
    "2. ProductId - unique identifier for the product\n",
    "3. UserId - unqiue identifier for the user\n",
    "4. ProfileName\n",
    "5. HelpfulnessNumerator - number of users who found the review helpful\n",
    "6. HelpfulnessDenominator - number of users who indicated whether they found the review helpful or not\n",
    "7. Score - rating between 1 and 5\n",
    "8. Time - timestamp for the review\n",
    "9. Summary - brief summary of the review\n",
    "10. Text - text of the review\n",
    "\n",
    "\n",
    "#### Objective:\n",
    "Given a review, determine whether the review is positive (Rating of 4 or 5) or negative (rating of 1 or 2).\n",
    "\n",
    "<br>\n",
    "[Q] How to determine if a review is positive or negative?<br>\n",
    "<br> \n",
    "[Ans] We could use the Score/Rating. A rating of 4 or 5 could be cosnidered a positive review. A review of 1 or 2 could be considered negative. A review of 3 is nuetral and ignored. This is an approximate and proxy way of determining the polarity (positivity/negativity) of a review."
   ]
  },
  {
   "cell_type": "markdown",
   "metadata": {},
   "source": [
    "## Loading the data\n",
    "\n",
    "The dataset is available in two forms\n",
    "1. .csv file\n",
    "2. SQLite Database\n",
    "\n",
    "In order to load the data, We have used the SQLITE dataset as it easier to query the data and visualise the data efficiently.\n",
    "<br> \n",
    "\n",
    "Here as we only want to get the global sentiment of the recommendations (positive or negative), we will purposefully ignore all Scores equal to 3. If the score id above 3, then the recommendation wil be set to \"positive\". Otherwise, it will be set to \"negative\"."
   ]
  },
  {
   "cell_type": "code",
   "execution_count": 28,
   "metadata": {},
   "outputs": [],
   "source": [
    "import pandas as pd\n",
    "import numpy as np\n",
    "import nltk\n",
    "import string\n",
    "import sqlite3\n",
    "import seaborn as sns\n",
    "import matplotlib.pyplot as plt\n",
    "%matplotlib inline"
   ]
  },
  {
   "cell_type": "code",
   "execution_count": 29,
   "metadata": {},
   "outputs": [],
   "source": [
    "import warnings\n",
    "warnings.filterwarnings(\"ignore\")\n",
    "from sklearn.feature_extraction.text import TfidfTransformer\n",
    "from sklearn.feature_extraction.text import TfidfVectorizer\n",
    "\n",
    "from sklearn.feature_extraction.text import CountVectorizer\n",
    "from sklearn.metrics import confusion_matrix\n",
    "from sklearn import metrics\n",
    "from sklearn.metrics import roc_curve, auc\n",
    "from nltk.stem.porter import PorterStemmer\n",
    "\n",
    "import re\n",
    "import string\n",
    "from nltk.corpus import stopwords\n",
    "from nltk.stem import PorterStemmer\n",
    "from nltk.stem.wordnet import WordNetLemmatizer\n",
    "\n",
    "from gensim.models import Word2Vec\n",
    "from gensim.models import KeyedVectors\n",
    "import pickle\n",
    "\n",
    "\n",
    "\n",
    "# using the SQLite Table to read data.\n",
    "con = sqlite3.connect('database.sqlite') \n",
    "\n",
    "\n",
    "\n",
    "#filtering only positive and negative reviews i.e. \n",
    "# not taking into consideration those reviews with Score=3,as we can't be sure about the polarity of the reviews with Score 3.\n",
    "filtered_data = pd.read_sql_query(\" SELECT * FROM Reviews WHERE Score != 3 \", con) \n",
    "\n",
    "\n",
    "# Give reviews with Score>3 a positive rating, and reviews with a score<3 a negative rating.\n",
    "def partition(x):\n",
    "    if x < 3:\n",
    "        return 'negative'\n",
    "    return 'positive'\n",
    "\n",
    "#changing reviews with score less than 3 to be positive and vice-versa\n",
    "actualScore = filtered_data['Score']\n",
    "positiveNegative = actualScore.map(partition) \n",
    "filtered_data['Score'] = positiveNegative"
   ]
  },
  {
   "cell_type": "code",
   "execution_count": 30,
   "metadata": {},
   "outputs": [],
   "source": [
    "filtered_data_copy=filtered_data.copy()"
   ]
  },
  {
   "cell_type": "markdown",
   "metadata": {},
   "source": [
    " #  Exploratory Data Analysis\n",
    "\n",
    "##  Data Cleaning: Deduplication\n",
    "\n",
    "It is observed (as shown in the table below) that the reviews data had many duplicate entries. Hence it was necessary to remove duplicates in order to get unbiased results for the analysis of the data.  Following is an example:"
   ]
  },
  {
   "cell_type": "code",
   "execution_count": 31,
   "metadata": {},
   "outputs": [],
   "source": [
    "dup=filtered_data.duplicated(subset=['ProductId','UserId','Time','HelpfulnessNumerator','HelpfulnessDenominator','Score','Text'],keep=False)"
   ]
  },
  {
   "cell_type": "code",
   "execution_count": 32,
   "metadata": {},
   "outputs": [
    {
     "data": {
      "text/plain": [
       "(718, 10)"
      ]
     },
     "execution_count": 32,
     "metadata": {},
     "output_type": "execute_result"
    }
   ],
   "source": [
    "filtered_data.loc[dup,:].shape"
   ]
  },
  {
   "cell_type": "code",
   "execution_count": 33,
   "metadata": {},
   "outputs": [],
   "source": [
    "#Sorting data according to ProductId in ascending order\n",
    "sorted_data=filtered_data.sort_values('ProductId', axis=0, ascending=True, inplace=False, kind='quicksort', na_position='last')"
   ]
  },
  {
   "cell_type": "code",
   "execution_count": 34,
   "metadata": {},
   "outputs": [
    {
     "name": "stdout",
     "output_type": "stream",
     "text": [
      "(365910, 10)\n"
     ]
    }
   ],
   "source": [
    "#Deduplication of entries\n",
    "After_dedup=sorted_data.drop_duplicates(subset={\"UserId\",\"ProfileName\",\"Time\",\"Text\",'HelpfulnessNumerator','HelpfulnessDenominator','Score'}, keep='first', inplace=False)\n",
    "print(After_dedup.shape)"
   ]
  },
  {
   "cell_type": "code",
   "execution_count": 35,
   "metadata": {},
   "outputs": [],
   "source": [
    "dup1=After_dedup.duplicated(subset=[\"UserId\",\"ProfileName\",\"Time\",\"Text\"],keep=False)\n"
   ]
  },
  {
   "cell_type": "code",
   "execution_count": 36,
   "metadata": {},
   "outputs": [
    {
     "data": {
      "text/plain": [
       "(3067, 10)"
      ]
     },
     "execution_count": 36,
     "metadata": {},
     "output_type": "execute_result"
    }
   ],
   "source": [
    "After_dedup.loc[dup1,:].shape"
   ]
  },
  {
   "cell_type": "code",
   "execution_count": 37,
   "metadata": {},
   "outputs": [],
   "source": [
    "#Sorting data according to ProductId in ascending order\n",
    "sorted_After_dedup_data=After_dedup.sort_values('ProductId', axis=0, ascending=True, inplace=False, kind='quicksort', na_position='last')"
   ]
  },
  {
   "cell_type": "code",
   "execution_count": 38,
   "metadata": {},
   "outputs": [
    {
     "name": "stdout",
     "output_type": "stream",
     "text": [
      "(364173, 10)\n"
     ]
    }
   ],
   "source": [
    "#Again Deduplication of entries\n",
    "After_dedup=sorted_After_dedup_data.drop_duplicates(subset={\"UserId\",\"ProfileName\",\"Time\",\"Text\"}, keep='first', inplace=False)\n",
    "print(After_dedup.shape)"
   ]
  },
  {
   "cell_type": "code",
   "execution_count": 39,
   "metadata": {},
   "outputs": [
    {
     "data": {
      "text/plain": [
       "69.25890143662969"
      ]
     },
     "execution_count": 39,
     "metadata": {},
     "output_type": "execute_result"
    }
   ],
   "source": [
    "#Checking to see how much % of data still remains\n",
    "((After_dedup['Id'].size)*1.0)/((filtered_data['Id'].size)*1.0)*100"
   ]
  },
  {
   "cell_type": "markdown",
   "metadata": {},
   "source": [
    "Observation: Again it's found that for the below 2 Users the HelpfulnessNumerator is greater than HelpfulnessDenominator.But it is practically not possible,so they need to be removed as well."
   ]
  },
  {
   "cell_type": "code",
   "execution_count": 40,
   "metadata": {},
   "outputs": [
    {
     "data": {
      "text/html": [
       "<div>\n",
       "<style scoped>\n",
       "    .dataframe tbody tr th:only-of-type {\n",
       "        vertical-align: middle;\n",
       "    }\n",
       "\n",
       "    .dataframe tbody tr th {\n",
       "        vertical-align: top;\n",
       "    }\n",
       "\n",
       "    .dataframe thead th {\n",
       "        text-align: right;\n",
       "    }\n",
       "</style>\n",
       "<table border=\"1\" class=\"dataframe\">\n",
       "  <thead>\n",
       "    <tr style=\"text-align: right;\">\n",
       "      <th></th>\n",
       "      <th>Id</th>\n",
       "      <th>ProductId</th>\n",
       "      <th>UserId</th>\n",
       "      <th>ProfileName</th>\n",
       "      <th>HelpfulnessNumerator</th>\n",
       "      <th>HelpfulnessDenominator</th>\n",
       "      <th>Score</th>\n",
       "      <th>Time</th>\n",
       "      <th>Summary</th>\n",
       "      <th>Text</th>\n",
       "    </tr>\n",
       "  </thead>\n",
       "  <tbody>\n",
       "    <tr>\n",
       "      <th>59301</th>\n",
       "      <td>64422</td>\n",
       "      <td>B000MIDROQ</td>\n",
       "      <td>A161DK06JJMCYF</td>\n",
       "      <td>J. E. Stephens \"Jeanne\"</td>\n",
       "      <td>3</td>\n",
       "      <td>1</td>\n",
       "      <td>positive</td>\n",
       "      <td>1224892800</td>\n",
       "      <td>Bought This for My Son at College</td>\n",
       "      <td>My son loves spaghetti so I didn't hesitate or...</td>\n",
       "    </tr>\n",
       "    <tr>\n",
       "      <th>41159</th>\n",
       "      <td>44737</td>\n",
       "      <td>B001EQ55RW</td>\n",
       "      <td>A2V0I904FH7ABY</td>\n",
       "      <td>Ram</td>\n",
       "      <td>3</td>\n",
       "      <td>2</td>\n",
       "      <td>positive</td>\n",
       "      <td>1212883200</td>\n",
       "      <td>Pure cocoa taste with crunchy almonds inside</td>\n",
       "      <td>It was almost a 'love at first bite' - the per...</td>\n",
       "    </tr>\n",
       "  </tbody>\n",
       "</table>\n",
       "</div>"
      ],
      "text/plain": [
       "          Id   ProductId          UserId              ProfileName  \\\n",
       "59301  64422  B000MIDROQ  A161DK06JJMCYF  J. E. Stephens \"Jeanne\"   \n",
       "41159  44737  B001EQ55RW  A2V0I904FH7ABY                      Ram   \n",
       "\n",
       "       HelpfulnessNumerator  HelpfulnessDenominator     Score        Time  \\\n",
       "59301                     3                       1  positive  1224892800   \n",
       "41159                     3                       2  positive  1212883200   \n",
       "\n",
       "                                            Summary  \\\n",
       "59301             Bought This for My Son at College   \n",
       "41159  Pure cocoa taste with crunchy almonds inside   \n",
       "\n",
       "                                                    Text  \n",
       "59301  My son loves spaghetti so I didn't hesitate or...  \n",
       "41159  It was almost a 'love at first bite' - the per...  "
      ]
     },
     "execution_count": 40,
     "metadata": {},
     "output_type": "execute_result"
    }
   ],
   "source": [
    "After_dedup[After_dedup.HelpfulnessNumerator>After_dedup.HelpfulnessDenominator]"
   ]
  },
  {
   "cell_type": "code",
   "execution_count": 41,
   "metadata": {},
   "outputs": [],
   "source": [
    "After_dedup=After_dedup[After_dedup.HelpfulnessNumerator<=After_dedup.HelpfulnessDenominator]"
   ]
  },
  {
   "cell_type": "code",
   "execution_count": 42,
   "metadata": {},
   "outputs": [
    {
     "data": {
      "text/plain": [
       "(364171, 10)"
      ]
     },
     "execution_count": 42,
     "metadata": {},
     "output_type": "execute_result"
    }
   ],
   "source": [
    "After_dedup.shape"
   ]
  },
  {
   "cell_type": "code",
   "execution_count": 43,
   "metadata": {},
   "outputs": [],
   "source": [
    "# Now let's see the Positive and Negetive Scores in our dataset:"
   ]
  },
  {
   "cell_type": "code",
   "execution_count": 44,
   "metadata": {},
   "outputs": [
    {
     "data": {
      "text/plain": [
       "positive    307061\n",
       "negative     57110\n",
       "Name: Score, dtype: int64"
      ]
     },
     "execution_count": 44,
     "metadata": {},
     "output_type": "execute_result"
    }
   ],
   "source": [
    "After_dedup['Score'].value_counts()"
   ]
  },
  {
   "cell_type": "code",
   "execution_count": 45,
   "metadata": {},
   "outputs": [],
   "source": [
    "Prob=After_dedup[After_dedup['Score']=='positive'].size/(After_dedup[After_dedup['Score']=='negative'].size+After_dedup[After_dedup['Score']=='positive'].size)"
   ]
  },
  {
   "cell_type": "code",
   "execution_count": 46,
   "metadata": {},
   "outputs": [
    {
     "name": "stdout",
     "output_type": "stream",
     "text": [
      "The Probability of Positive Score : 0.843178067446337\n"
     ]
    }
   ],
   "source": [
    "print(\"The Probability of Positive Score :\",Prob)"
   ]
  },
  {
   "cell_type": "markdown",
   "metadata": {},
   "source": [
    "# Text Preprocessing: Stemming, stop-word removal and Lemmatization.\n",
    "\n",
    "Now that we have finished deduplication our data requires some preprocessing before we go on further with analysis and making the prediction model.\n",
    "\n",
    "Hence in the Preprocessing phase we do the following in the order below:-\n",
    "\n",
    "1. Begin by removing the html tags\n",
    "2. Remove any punctuations or limited set of special characters like , or . or # etc.\n",
    "3. Check if the word is made up of english letters and is not alpha-numeric\n",
    "4. Check to see if the length of the word is greater than 2 (as it was researched that there is no adjective in 2-letters)\n",
    "5. Convert the word to lowercase\n",
    "6. Remove Stopwords\n",
    "7. Finally Snowball Stemming the word (it was obsereved to be better than Porter Stemming)<br>\n",
    "\n",
    "After which we collect the words used to describe positive and negative reviews"
   ]
  },
  {
   "cell_type": "code",
   "execution_count": 47,
   "metadata": {},
   "outputs": [
    {
     "name": "stdout",
     "output_type": "stream",
     "text": [
      "2\n",
      "In June<br />I saw a charming group<br />of roses all begin<br />to droop<br />I pepped them up<br />with chicken soup!<br />Sprinkle once<br />sprinkle twice<br />sprinkle chicken soup<br />with rice<br /><br />This is a great book to teach children the months of the year. The repetition of the phrases and the funny little stories with accompanying pictures make for an ideal bedtime read. This isn't nearly as good as some of Sendak's other books (like Where the Wild Things are or Pierre: The Boy Who Didn't Care), but it still carries his unique brand of charm.\n"
     ]
    }
   ],
   "source": [
    "# find sentences containing HTML tags\n",
    "import re\n",
    "i=0;\n",
    "for sent in After_dedup['Text'].values:\n",
    "    if (len(re.findall('<.*?>', sent))):\n",
    "        print(i)\n",
    "        print(sent)\n",
    "        break;\n",
    "    i += 1;"
   ]
  },
  {
   "cell_type": "code",
   "execution_count": 48,
   "metadata": {},
   "outputs": [
    {
     "name": "stdout",
     "output_type": "stream",
     "text": [
      "[nltk_data] Downloading package stopwords to\n",
      "[nltk_data]     C:\\Users\\Hp\\AppData\\Roaming\\nltk_data...\n",
      "[nltk_data]   Package stopwords is already up-to-date!\n"
     ]
    },
    {
     "data": {
      "text/plain": [
       "True"
      ]
     },
     "execution_count": 48,
     "metadata": {},
     "output_type": "execute_result"
    }
   ],
   "source": [
    "import nltk\n",
    "nltk.download('stopwords')"
   ]
  },
  {
   "cell_type": "code",
   "execution_count": 49,
   "metadata": {},
   "outputs": [
    {
     "name": "stdout",
     "output_type": "stream",
     "text": [
      "************************************\n",
      "tasti\n"
     ]
    }
   ],
   "source": [
    "stop = set(stopwords.words('english')) #set of stopwords\n",
    "sno = nltk.stem.SnowballStemmer('english') #initialising the snowball stemmer\n",
    "\n",
    "def cleanhtml(sentence): #function to clean the word of any html-tags\n",
    "    cleanr = re.compile('<.*?>')\n",
    "    cleantext = re.sub(cleanr, ' ', sentence)\n",
    "    return cleantext\n",
    "def cleanpunc(sentence): #function to clean the word of any punctuation or special characters\n",
    "    cleaned = re.sub(r'[?|!|\\'|\"|#]',r'',sentence)\n",
    "    cleaned = re.sub(r'[.|,|)|(|\\|/]',r' ',cleaned)\n",
    "    return  cleaned\n",
    "#print(stop)\n",
    "print('************************************')\n",
    "print(sno.stem('tasty'))"
   ]
  },
  {
   "cell_type": "code",
   "execution_count": 50,
   "metadata": {},
   "outputs": [],
   "source": [
    "stop.remove('not') #Actually before eliminating Stopwords,'not' as stopword must me removed before applying BoW technique.\n",
    "                   # After removing 'not' again executing the code the KeyError is 'not',as it is not in set."
   ]
  },
  {
   "cell_type": "code",
   "execution_count": 51,
   "metadata": {},
   "outputs": [],
   "source": [
    "#Code for implementing step-by-step the checks mentioned in the pre-processing phase\n",
    "# this code takes a while to run as it needs to run on 500k sentences.\n",
    "i=0\n",
    "str1=' '\n",
    "final_string=[]\n",
    "all_positive_words=[] # store words from +ve reviews here\n",
    "all_negative_words=[] # store words from -ve reviews here.\n",
    "s=''\n",
    "for sent in After_dedup['Text'].values:\n",
    "    filtered_sentence=[]\n",
    "    #print(sent);\n",
    "    sent=cleanhtml(sent) # remove HTMl tags\n",
    "    for w in sent.split():\n",
    "        for cleaned_words in cleanpunc(w).split():\n",
    "            if((cleaned_words.isalpha()) & (len(cleaned_words)>2)):    \n",
    "                if(cleaned_words.lower() not in stop):\n",
    "                    s=(sno.stem(cleaned_words.lower())).encode('utf8')\n",
    "                    filtered_sentence.append(s)\n",
    "                    if (After_dedup['Score'].values)[i] == 'positive': \n",
    "                        all_positive_words.append(s) #list of all words used to describe positive reviews\n",
    "                    if(After_dedup['Score'].values)[i] == 'negative':\n",
    "                        all_negative_words.append(s) #list of all words used to describe negative reviews reviews\n",
    "                else:\n",
    "                    continue\n",
    "            else:\n",
    "                continue \n",
    "    #print(filtered_sentence)\n",
    "    str1 = b\" \".join(filtered_sentence) #final string of cleaned words\n",
    "    #print(\"***********************************************************************\")\n",
    "    \n",
    "    final_string.append(str1)\n",
    "    i+=1"
   ]
  },
  {
   "cell_type": "code",
   "execution_count": 52,
   "metadata": {},
   "outputs": [],
   "source": [
    "After_dedup['CleanedText']=final_string #adding a column of CleanedText which displays the data after pre-processing of the review \n",
    "After_dedup['CleanedText']=After_dedup['CleanedText'].str.decode(\"utf-8\")"
   ]
  },
  {
   "cell_type": "code",
   "execution_count": 53,
   "metadata": {},
   "outputs": [
    {
     "data": {
      "text/plain": [
       "(364171, 11)"
      ]
     },
     "execution_count": 53,
     "metadata": {},
     "output_type": "execute_result"
    }
   ],
   "source": [
    "After_dedup.shape"
   ]
  },
  {
   "cell_type": "code",
   "execution_count": 54,
   "metadata": {},
   "outputs": [],
   "source": [
    "\n",
    "# store final table into an SQlLite table for future.\n",
    "conn1 = sqlite3.connect('After_ded.sqlite')\n",
    "c=conn1.cursor()\n",
    "conn1.text_factory = str\n",
    "After_dedup.to_sql('Reviews', conn1,  schema=None, index=True, index_label=None, if_exists='replace', chunksize=None, dtype=None)"
   ]
  },
  {
   "cell_type": "markdown",
   "metadata": {},
   "source": [
    "**Time Based Splitting:**"
   ]
  },
  {
   "cell_type": "code",
   "execution_count": 55,
   "metadata": {},
   "outputs": [],
   "source": [
    "nwdf1=After_dedup.sort_values(by=\"Time\")"
   ]
  },
  {
   "cell_type": "markdown",
   "metadata": {},
   "source": [
    "Considering First 20000 points for both Predictor and Target variable to be fed \n",
    "into Train,CV,Test dataframes in 60:20:20 Ratio."
   ]
  },
  {
   "cell_type": "code",
   "execution_count": 56,
   "metadata": {},
   "outputs": [],
   "source": [
    "X_Train=nwdf1['CleanedText'].iloc[:12000]\n",
    "X_cv=nwdf1['CleanedText'].iloc[12000:16000]\n",
    "X_Test=nwdf1['CleanedText'].iloc[16000:20000]\n",
    "Y_Train=nwdf1[\"Score\"].iloc[:12000]\n",
    "Y_cv=nwdf1['Score'].iloc[12000:16000]\n",
    "Y_Test=nwdf1[\"Score\"].iloc[16000:20000]"
   ]
  },
  {
   "cell_type": "markdown",
   "metadata": {},
   "source": [
    "#### Encoding of Target Class:"
   ]
  },
  {
   "cell_type": "code",
   "execution_count": 57,
   "metadata": {},
   "outputs": [],
   "source": [
    "Y_Train=Y_Train.astype('category')\n",
    "Y_Train=Y_Train.cat.codes\n",
    "Y_Test=Y_Test.astype('category')\n",
    "Y_Test=Y_Test.cat.codes\n",
    "Y_cv=Y_cv.astype('category')\n",
    "Y_cv=Y_cv.cat.codes"
   ]
  },
  {
   "cell_type": "code",
   "execution_count": 58,
   "metadata": {},
   "outputs": [],
   "source": [
    "X_Train_copy=X_Train.copy()\n",
    "X_cv_copy=X_cv.copy()\n",
    "X_Test_copy=X_Test.copy()\n",
    "Y_Train_copy=Y_Train.copy()\n",
    "Y_cv_copy=Y_cv.copy()\n",
    "Y_Test_copy=Y_Test.copy()"
   ]
  },
  {
   "cell_type": "code",
   "execution_count": 59,
   "metadata": {},
   "outputs": [],
   "source": [
    "from sklearn.preprocessing import StandardScaler"
   ]
  },
  {
   "cell_type": "markdown",
   "metadata": {},
   "source": [
    "# Bag of Words (BoW)"
   ]
  },
  {
   "cell_type": "code",
   "execution_count": 89,
   "metadata": {},
   "outputs": [
    {
     "name": "stdout",
     "output_type": "stream",
     "text": [
      "the type of count vectorizer  <class 'scipy.sparse.csr.csr_matrix'>\n",
      "the shape of out text BOW vectorizer  (12000, 15026)\n",
      "the number of unique words  15026\n"
     ]
    }
   ],
   "source": [
    "#BoW\n",
    "count_vect = CountVectorizer() #in scikit-learn\n",
    "final_counts = count_vect.fit_transform(X_Train.values)\n",
    "print(\"the type of count vectorizer \",type(final_counts))\n",
    "print(\"the shape of out text BOW vectorizer \",final_counts.get_shape())\n",
    "print(\"the number of unique words \", final_counts.get_shape()[1])"
   ]
  },
  {
   "cell_type": "markdown",
   "metadata": {},
   "source": [
    "#  Bi-Grams and n-Grams.\n",
    "\n",
    "\n",
    "Now that we have our list of words describing positive and negative reviews lets analyse them.<br>\n",
    "\n",
    "We begin analysis by getting the frequency distribution of the words as shown below"
   ]
  },
  {
   "cell_type": "code",
   "execution_count": 61,
   "metadata": {},
   "outputs": [
    {
     "name": "stdout",
     "output_type": "stream",
     "text": [
      "Most Common Positive Words :  [(b'not', 146797), (b'like', 139429), (b'tast', 129047), (b'good', 112766), (b'flavor', 109624), (b'love', 107357), (b'use', 103888), (b'great', 103870), (b'one', 96726), (b'product', 91033), (b'tri', 86791), (b'tea', 83888), (b'coffe', 78814), (b'make', 75107), (b'get', 72125), (b'food', 64802), (b'would', 55568), (b'time', 55264), (b'buy', 54198), (b'realli', 52715)]\n",
      "Most Common Negative Words :  [(b'not', 54378), (b'tast', 34585), (b'like', 32330), (b'product', 28218), (b'one', 20569), (b'flavor', 19575), (b'would', 17972), (b'tri', 17753), (b'use', 15302), (b'good', 15041), (b'coffe', 14716), (b'get', 13786), (b'buy', 13752), (b'order', 12871), (b'food', 12754), (b'dont', 11877), (b'tea', 11665), (b'even', 11085), (b'box', 10844), (b'amazon', 10073)]\n"
     ]
    }
   ],
   "source": [
    "freq_dist_positive=nltk.FreqDist(all_positive_words)\n",
    "freq_dist_negative=nltk.FreqDist(all_negative_words)\n",
    "print(\"Most Common Positive Words : \",freq_dist_positive.most_common(20))\n",
    "print(\"Most Common Negative Words : \",freq_dist_negative.most_common(20))"
   ]
  },
  {
   "cell_type": "markdown",
   "metadata": {},
   "source": [
    "<b>Observation:-</b> From the above it can be seen that the most common positive and the negative words overlap for eg. 'not' could be used as 'not costly','not so bad' etc.But it arrises ambiguity as well. <br>\n",
    "So, it is a good idea to consider pairs of consequent words (bi-grams) or sequnce of n consecutive words (n-grams)"
   ]
  },
  {
   "cell_type": "code",
   "execution_count": 90,
   "metadata": {},
   "outputs": [
    {
     "name": "stdout",
     "output_type": "stream",
     "text": [
      "the type of count vectorizer  <class 'scipy.sparse.csr.csr_matrix'>\n",
      "the shape of out text BOW vectorizer  (12000, 258055)\n",
      "the number of unique words including both unigrams and bigrams  258055\n"
     ]
    }
   ],
   "source": [
    "#bi-gram, tri-gram and n-gram\n",
    "\n",
    "#removing stop words like \"not\" should be avoided before building n-grams\n",
    "count_vect = CountVectorizer(ngram_range=(1,2) ) #in scikit-learn\n",
    "final_bigram_counts_train = count_vect.fit_transform(X_Train.values)\n",
    "final_bigram_counts_test = count_vect.transform(X_Test.values)\n",
    "final_bigram_counts_cv = count_vect.transform(X_cv.values)\n",
    "print(\"the type of count vectorizer \",type(final_bigram_counts_train))\n",
    "print(\"the shape of out text BOW vectorizer \",final_bigram_counts_train.get_shape())\n",
    "print(\"the number of unique words including both unigrams and bigrams \", final_bigram_counts_train.get_shape()[1])"
   ]
  },
  {
   "cell_type": "code",
   "execution_count": 63,
   "metadata": {},
   "outputs": [],
   "source": [
    "#from sklearn.decomposition import TruncatedSVD\n",
    "#svd1= TruncatedSVD(n_components=350,n_iter=5,random_state=42)\n",
    "#svd1.fit(final_bigram_counts_train)  "
   ]
  },
  {
   "cell_type": "code",
   "execution_count": 64,
   "metadata": {},
   "outputs": [],
   "source": [
    "#svd1.fit(final_bigram_counts_test)\n",
    "#svd1.fit(final_bigram_counts_cv)"
   ]
  },
  {
   "cell_type": "code",
   "execution_count": 65,
   "metadata": {},
   "outputs": [],
   "source": [
    "#expvar=np.cumsum(svd1.explained_variance_ratio_)"
   ]
  },
  {
   "cell_type": "code",
   "execution_count": 91,
   "metadata": {},
   "outputs": [],
   "source": [
    "std=StandardScaler(with_mean=False)\n",
    "final_bigram_counts_train_std=std.fit_transform(final_bigram_counts_train)\n",
    "final_bigram_counts_test_std=std.fit_transform(final_bigram_counts_test)\n",
    "final_bigram_counts_cv_std=std.fit_transform(final_bigram_counts_cv)"
   ]
  },
  {
   "cell_type": "markdown",
   "metadata": {},
   "source": [
    "#  TF-IDF"
   ]
  },
  {
   "cell_type": "code",
   "execution_count": 123,
   "metadata": {},
   "outputs": [
    {
     "name": "stdout",
     "output_type": "stream",
     "text": [
      "the type of count vectorizer for unigram and bigram  <class 'scipy.sparse.csr.csr_matrix'>\n",
      "the shape of out text TFIDF vectorizer for train data  (12000, 258055)\n",
      "the shape of out text TFIDF vectorizer for test data  (4000, 258055)\n",
      "the number of unique words including both unigrams and bigrams  258055\n"
     ]
    }
   ],
   "source": [
    "tf_idf_vect = TfidfVectorizer(ngram_range=(1,2))#Uni-grams and Bi-grams\n",
    "final_tf_idf_train = tf_idf_vect.fit_transform(X_Train.values)\n",
    "final_tf_idf_test = tf_idf_vect.transform(X_Test.values)\n",
    "final_tf_idf_cv = tf_idf_vect.transform(X_cv.values)\n",
    "print(\"the type of count vectorizer for unigram and bigram \",type(final_tf_idf_train))\n",
    "print(\"the shape of out text TFIDF vectorizer for train data \",final_tf_idf_train.get_shape())\n",
    "print(\"the shape of out text TFIDF vectorizer for test data \",final_tf_idf_test.get_shape())\n",
    "print(\"the number of unique words including both unigrams and bigrams \", final_tf_idf_train.get_shape()[1])"
   ]
  },
  {
   "cell_type": "code",
   "execution_count": 124,
   "metadata": {},
   "outputs": [],
   "source": [
    "final_tfidf_train_std=std.fit_transform(final_tf_idf_train)\n",
    "final_tfidf_test_std=std.fit_transform(final_tf_idf_test)\n",
    "final_tfidf_cv_std=std.fit_transform(final_tf_idf_cv)"
   ]
  },
  {
   "cell_type": "markdown",
   "metadata": {},
   "source": [
    "#  Word2Vec"
   ]
  },
  {
   "cell_type": "code",
   "execution_count": 69,
   "metadata": {},
   "outputs": [],
   "source": [
    "# Train your own Word2Vec model using own text corpus\n",
    "i=0\n",
    "list_of_sent=[]\n",
    "for sent in X_Train.values:\n",
    "    list_of_sent.append(sent.split())\n",
    "    "
   ]
  },
  {
   "cell_type": "code",
   "execution_count": 70,
   "metadata": {},
   "outputs": [],
   "source": [
    "# min_count = 5 considers only words that occured atleast 5 times\n",
    "w2v_model=Word2Vec(list_of_sent,min_count=5,size=50, workers=4)"
   ]
  },
  {
   "cell_type": "code",
   "execution_count": 71,
   "metadata": {},
   "outputs": [],
   "source": [
    "w2v_words = list(w2v_model.wv.vocab)\n"
   ]
  },
  {
   "cell_type": "code",
   "execution_count": 72,
   "metadata": {},
   "outputs": [
    {
     "name": "stdout",
     "output_type": "stream",
     "text": [
      "like\n"
     ]
    }
   ],
   "source": [
    "count_vect_feat = count_vect.get_feature_names() # list of words in the BoW\n",
    "print(count_vect_feat[count_vect_feat.index('like')])"
   ]
  },
  {
   "cell_type": "code",
   "execution_count": 145,
   "metadata": {},
   "outputs": [],
   "source": [
    "i=0  #For Crossvalidation data:\n",
    "list_of_sent_cv=[]\n",
    "for sent in X_cv.values:\n",
    "    list_of_sent_cv.append(sent.split())\n",
    "    "
   ]
  },
  {
   "cell_type": "code",
   "execution_count": 146,
   "metadata": {},
   "outputs": [],
   "source": [
    "w2v_model_cv=Word2Vec(list_of_sent_cv,min_count=5,size=50, workers=4)"
   ]
  },
  {
   "cell_type": "code",
   "execution_count": 147,
   "metadata": {},
   "outputs": [],
   "source": [
    "w2v_words_cv = list(w2v_model_cv.wv.vocab)"
   ]
  },
  {
   "cell_type": "code",
   "execution_count": 148,
   "metadata": {},
   "outputs": [],
   "source": [
    "i=0  #For Test data:\n",
    "list_of_sent_test=[]\n",
    "for sent in X_Test.values:\n",
    "    list_of_sent_test.append(sent.split())"
   ]
  },
  {
   "cell_type": "code",
   "execution_count": 149,
   "metadata": {},
   "outputs": [],
   "source": [
    "w2v_model_test=Word2Vec(list_of_sent_test,min_count=5,size=50, workers=4)\n",
    "w2v_words_test = list(w2v_model_test.wv.vocab)"
   ]
  },
  {
   "cell_type": "markdown",
   "metadata": {},
   "source": [
    "#  Avg W2V"
   ]
  },
  {
   "cell_type": "code",
   "execution_count": 73,
   "metadata": {},
   "outputs": [
    {
     "name": "stdout",
     "output_type": "stream",
     "text": [
      "12000\n",
      "50\n"
     ]
    }
   ],
   "source": [
    "# average Word2Vec\n",
    "# computing average word2vec for each review of Train data\n",
    "sent_vectors = []; # the avg-w2v for each sentence/review is stored in this list\n",
    "for sent in list_of_sent: # for each review/sentence\n",
    "    sent_vec = np.zeros(50) # as word vectors are of zero length\n",
    "    cnt_words =0; # num of words with a valid vector in the sentence/review\n",
    "    for word in sent: # for each word in a review/sentence\n",
    "        if word in w2v_words:\n",
    "            vec = w2v_model.wv[word]\n",
    "            sent_vec += vec\n",
    "            cnt_words += 1\n",
    "    if cnt_words != 0:\n",
    "        sent_vec /= cnt_words\n",
    "    sent_vectors.append(sent_vec)\n",
    "print(len(sent_vectors))\n",
    "print(len(sent_vectors[0]))"
   ]
  },
  {
   "cell_type": "code",
   "execution_count": 150,
   "metadata": {},
   "outputs": [
    {
     "name": "stdout",
     "output_type": "stream",
     "text": [
      "4000\n",
      "50\n"
     ]
    }
   ],
   "source": [
    "# average Word2Vec\n",
    "# computing average word2vec for each review of CV data\n",
    "sent_vectors_cv = []; # the avg-w2v for each sentence/review is stored in this list\n",
    "for sent_cv in list_of_sent_cv: # for each review/sentence\n",
    "    sent_vec_cv = np.zeros(50) # as word vectors are of zero length\n",
    "    cnt_words_cv =0; # num of words with a valid vector in the sentence/review\n",
    "    for word in sent_cv: # for each word in a review/sentence\n",
    "        if word in w2v_words_cv:\n",
    "            vec = w2v_model_cv.wv[word]\n",
    "            sent_vec_cv += vec\n",
    "            cnt_words_cv += 1\n",
    "    if cnt_words_cv != 0:\n",
    "        sent_vec_cv /= cnt_words_cv\n",
    "    sent_vectors_cv.append(sent_vec_cv)\n",
    "print(len(sent_vectors_cv))\n",
    "print(len(sent_vectors_cv[0]))"
   ]
  },
  {
   "cell_type": "code",
   "execution_count": 151,
   "metadata": {},
   "outputs": [
    {
     "name": "stdout",
     "output_type": "stream",
     "text": [
      "4000\n",
      "50\n"
     ]
    }
   ],
   "source": [
    "sent_vectors_test = []; # the avg-w2v for each sentence/review is stored in this list\n",
    "for sent_test in list_of_sent_test: # for each review/sentence\n",
    "    sent_vec_test = np.zeros(50) # as word vectors are of zero length\n",
    "    cnt_words_test =0; # num of words with a valid vector in the sentence/review\n",
    "    for word in sent_test: # for each word in a review/sentence\n",
    "        if word in w2v_words_test:\n",
    "            vec = w2v_model_test.wv[word]\n",
    "            sent_vec_test += vec\n",
    "            cnt_words_test += 1\n",
    "    if cnt_words_test != 0:\n",
    "        sent_vec_test /= cnt_words_test\n",
    "    sent_vectors_test.append(sent_vec_test)\n",
    "print(len(sent_vectors_test))\n",
    "print(len(sent_vectors_test[0]))"
   ]
  },
  {
   "cell_type": "code",
   "execution_count": 74,
   "metadata": {},
   "outputs": [],
   "source": [
    "from sklearn.metrics import confusion_matrix,accuracy_score,classification_report\n",
    "from sklearn.metrics import scorer,roc_auc_score,f1_score,precision_score,recall_score"
   ]
  },
  {
   "cell_type": "code",
   "execution_count": 75,
   "metadata": {},
   "outputs": [],
   "source": [
    "from sklearn.model_selection import GridSearchCV\n",
    "from sklearn.model_selection import cross_val_score"
   ]
  },
  {
   "cell_type": "code",
   "execution_count": 76,
   "metadata": {},
   "outputs": [],
   "source": [
    "import numpy as np"
   ]
  },
  {
   "cell_type": "code",
   "execution_count": 143,
   "metadata": {},
   "outputs": [
    {
     "name": "stdout",
     "output_type": "stream",
     "text": [
      "(12000, 50)\n",
      "(12000,)\n"
     ]
    }
   ],
   "source": [
    "sentence_W2V=np.array(sent_vectors)\n",
    "print(np.shape(sentence_W2V))\n",
    "print(np.shape(Y_Train))"
   ]
  },
  {
   "cell_type": "markdown",
   "metadata": {},
   "source": [
    "# KNN Classification on TF-IDF Data:"
   ]
  },
  {
   "cell_type": "code",
   "execution_count": 78,
   "metadata": {},
   "outputs": [],
   "source": [
    "from sklearn.neighbors import KNeighborsClassifier "
   ]
  },
  {
   "cell_type": "markdown",
   "metadata": {},
   "source": [
    "**Brute-Force Tree:**"
   ]
  },
  {
   "cell_type": "code",
   "execution_count": 92,
   "metadata": {},
   "outputs": [],
   "source": [
    "lst=list(range(0,20)) \n",
    "neighbors=list(filter(lambda x: x % 2 != 0,lst))\n",
    "cv_scores=[]\n",
    "for k in neighbors:\n",
    "    neigh= KNeighborsClassifier(n_neighbors=k,algorithm='brute')\n",
    "    neigh.fit(final_tf_idf_train,Y_Train)\n",
    "    pred = neigh.predict(final_tf_idf_cv)\n",
    "    acc = accuracy_score(Y_cv, pred, normalize=True)*100\n",
    "    cv_scores.append(acc)\n",
    "   "
   ]
  },
  {
   "cell_type": "code",
   "execution_count": 93,
   "metadata": {},
   "outputs": [
    {
     "data": {
      "image/png": "[encoded data removed]",
      "text/plain": [
       "<Figure size 432x288 with 1 Axes>"
      ]
     },
     "metadata": {},
     "output_type": "display_data"
    }
   ],
   "source": [
    "plt.plot(neighbors,cv_scores)\n",
    "plt.grid()\n",
    "plt.title(\"K_Values Vs CV_Accuracy\")\n",
    "plt.xlabel(\"Depth\")\n",
    "plt.ylabel(\"CV_Accuracy\")\n",
    "plt.show()"
   ]
  },
  {
   "cell_type": "code",
   "execution_count": 94,
   "metadata": {},
   "outputs": [
    {
     "name": "stdout",
     "output_type": "stream",
     "text": [
      "\n",
      "The optimal number of neighbors is 11.\n"
     ]
    }
   ],
   "source": [
    "#scores_lst=list(acc)\n",
    "optimal_k = neighbors[cv_scores.index(max(cv_scores))]\n",
    "print('\\nThe optimal number of neighbors is %d.' % optimal_k)"
   ]
  },
  {
   "cell_type": "code",
   "execution_count": 95,
   "metadata": {},
   "outputs": [
    {
     "data": {
      "text/plain": [
       "KNeighborsClassifier(algorithm='auto', leaf_size=30, metric='minkowski',\n",
       "           metric_params=None, n_jobs=1, n_neighbors=11, p=2,\n",
       "           weights='uniform')"
      ]
     },
     "execution_count": 95,
     "metadata": {},
     "output_type": "execute_result"
    }
   ],
   "source": [
    "neigh2= KNeighborsClassifier(n_neighbors=optimal_k)\n",
    "neigh2.fit(final_tf_idf_train,Y_Train)"
   ]
  },
  {
   "cell_type": "code",
   "execution_count": 96,
   "metadata": {},
   "outputs": [],
   "source": [
    "pred1=neigh2.predict(final_tf_idf_test)"
   ]
  },
  {
   "cell_type": "code",
   "execution_count": 97,
   "metadata": {},
   "outputs": [
    {
     "name": "stdout",
     "output_type": "stream",
     "text": [
      "\n",
      "The accuracy of the knn classifier for k = 11 is 90.250000%\n",
      "0.9457158062799362\n"
     ]
    }
   ],
   "source": [
    "acc1 = accuracy_score(Y_Test, pred1) * 100\n",
    "print('\\nThe accuracy of the knn classifier for k = %d is %f%%' % (optimal_k, acc))\n",
    "f1_score_test= f1_score(Y_Test, pred1)\n",
    "print(f1_score_test)"
   ]
  },
  {
   "cell_type": "code",
   "execution_count": 98,
   "metadata": {},
   "outputs": [
    {
     "data": {
      "text/plain": [
       "Text(33,0.5,'Actual')"
      ]
     },
     "execution_count": 98,
     "metadata": {},
     "output_type": "execute_result"
    },
    {
     "data": {
      "image/png": "[encoded data removed]",
      "text/plain": [
       "<Figure size 432x288 with 2 Axes>"
      ]
     },
     "metadata": {},
     "output_type": "display_data"
    }
   ],
   "source": [
    "conf = (confusion_matrix(Y_Test,pred1))\n",
    "cmap = sns.cubehelix_palette(50, hue=0.05, rot=0, light=0.9, dark=0, as_cmap=True)\n",
    "sns.heatmap(conf,cmap = cmap,xticklabels=['0','1'],yticklabels=['0','1'],annot=True, fmt=\"d\",)\n",
    "plt.xlabel('Predicted')\n",
    "plt.ylabel('Actual')"
   ]
  },
  {
   "cell_type": "code",
   "execution_count": 99,
   "metadata": {},
   "outputs": [
    {
     "name": "stdout",
     "output_type": "stream",
     "text": [
      "\n",
      " Classification report : \n",
      "              precision    recall  f1-score   support\n",
      "\n",
      "          0       0.86      0.09      0.16       440\n",
      "          1       0.90      1.00      0.95      3560\n",
      "\n",
      "avg / total       0.89      0.90      0.86      4000\n",
      "\n",
      "Accuracy   Score :  0.898\n"
     ]
    }
   ],
   "source": [
    "print (\"\\n Classification report : \\n\",classification_report(Y_Test,pred1))\n",
    "print (\"Accuracy   Score : \",accuracy_score(Y_Test,pred1))"
   ]
  },
  {
   "cell_type": "code",
   "execution_count": 194,
   "metadata": {},
   "outputs": [],
   "source": [
    "from sklearn.metrics import log_loss\n",
    "logloss_1=log_loss(Y_Test,pred1)\n"
   ]
  },
  {
   "cell_type": "markdown",
   "metadata": {},
   "source": [
    "#### K-d Tree:"
   ]
  },
  {
   "cell_type": "code",
   "execution_count": 125,
   "metadata": {},
   "outputs": [],
   "source": [
    "lst=list(range(0,20))\n",
    "neighbors=list(filter(lambda x: x % 2 != 0,lst))\n",
    "cv_scores_kd=[]\n",
    "for k in neighbors:\n",
    "    neigh_kd= KNeighborsClassifier(n_neighbors=k,algorithm='kd_tree')\n",
    "    neigh_kd.fit(final_tf_idf_train,Y_Train)\n",
    "    pred_kd = neigh_kd.predict(final_tf_idf_cv)\n",
    "    acc_kd = accuracy_score(Y_cv, pred_kd, normalize=True) * float(100)\n",
    "    cv_scores_kd.append(acc_kd)\n",
    "   "
   ]
  },
  {
   "cell_type": "code",
   "execution_count": 126,
   "metadata": {},
   "outputs": [
    {
     "data": {
      "image/png": "[encoded data removed]",
      "text/plain": [
       "<Figure size 432x288 with 1 Axes>"
      ]
     },
     "metadata": {},
     "output_type": "display_data"
    }
   ],
   "source": [
    "plt.plot(neighbors,cv_scores_kd)\n",
    "plt.grid()\n",
    "plt.title(\"K_Values Vs CV_Accuracy\")\n",
    "plt.xlabel(\"Depth\")\n",
    "plt.ylabel(\"CV_Accuracy\")\n",
    "plt.show()"
   ]
  },
  {
   "cell_type": "code",
   "execution_count": 130,
   "metadata": {},
   "outputs": [
    {
     "name": "stdout",
     "output_type": "stream",
     "text": [
      "\n",
      "The optimal number of neighbors is 11.\n"
     ]
    }
   ],
   "source": [
    "#scores_lst=list(cv_scores_kd)\n",
    "optimal_k1 = neighbors[cv_scores_kd.index(max(cv_scores_kd))]\n",
    "print('\\nThe optimal number of neighbors is %d.' % optimal_k1)"
   ]
  },
  {
   "cell_type": "code",
   "execution_count": 134,
   "metadata": {},
   "outputs": [],
   "source": [
    "neigh_kd1= KNeighborsClassifier(n_neighbors=optimal_k1,algorithm='kd_tree')"
   ]
  },
  {
   "cell_type": "code",
   "execution_count": 136,
   "metadata": {},
   "outputs": [
    {
     "data": {
      "text/plain": [
       "KNeighborsClassifier(algorithm='kd_tree', leaf_size=30, metric='minkowski',\n",
       "           metric_params=None, n_jobs=1, n_neighbors=11, p=2,\n",
       "           weights='uniform')"
      ]
     },
     "execution_count": 136,
     "metadata": {},
     "output_type": "execute_result"
    }
   ],
   "source": [
    "neigh_kd1.fit(final_tf_idf_train,Y_Train)"
   ]
  },
  {
   "cell_type": "code",
   "execution_count": 137,
   "metadata": {},
   "outputs": [],
   "source": [
    "pred_test_kd=neigh_kd1.predict(final_tf_idf_test)"
   ]
  },
  {
   "cell_type": "code",
   "execution_count": 139,
   "metadata": {},
   "outputs": [
    {
     "name": "stdout",
     "output_type": "stream",
     "text": [
      "\n",
      "The accuracy of the knn classifier for k = 11 is 89.800000%\n",
      "0.9457158062799362\n"
     ]
    }
   ],
   "source": [
    "acc_ovr_kd = accuracy_score(Y_Test, pred_test_kd) * 100\n",
    "print('\\nThe accuracy of the knn classifier for k = %d is %f%%' % (optimal_k, acc_ovr_kd))\n",
    "f1_score_test1= f1_score(Y_Test, pred_test_kd)\n",
    "print(f1_score_test1)"
   ]
  },
  {
   "cell_type": "code",
   "execution_count": 183,
   "metadata": {},
   "outputs": [
    {
     "name": "stdout",
     "output_type": "stream",
     "text": [
      "3.523035551822625\n"
     ]
    },
    {
     "data": {
      "image/png": "[encoded data removed]",
      "text/plain": [
       "<Figure size 432x288 with 2 Axes>"
      ]
     },
     "metadata": {},
     "output_type": "display_data"
    }
   ],
   "source": [
    "conf = (confusion_matrix(Y_Test,pred_test_kd))\n",
    "cmap = sns.cubehelix_palette(50, hue=0.05, rot=0, light=0.9, dark=0, as_cmap=True)\n",
    "sns.heatmap(conf,cmap = cmap,xticklabels=['0','1'],yticklabels=['0','1'],annot=True, fmt=\"d\",)\n",
    "plt.xlabel('Predicted')\n",
    "plt.ylabel('Actual')\n",
    "logloss_2=log_loss(Y_Test,pred_test_kd)\n"
   ]
  },
  {
   "cell_type": "markdown",
   "metadata": {},
   "source": [
    "# KNN Classification on AVG-W2V Data:"
   ]
  },
  {
   "cell_type": "code",
   "execution_count": 152,
   "metadata": {},
   "outputs": [],
   "source": [
    "lst=list(range(0,20))\n",
    "neighbors=list(filter(lambda x: x % 2 != 0,lst))\n",
    "cv_scores_avg=[]\n",
    "for k in neighbors:\n",
    "    neigh_avg= KNeighborsClassifier(n_neighbors=k,algorithm='brute')\n",
    "    neigh_avg.fit(sent_vectors,Y_Train)\n",
    "    pred_avg = neigh_avg.predict(sent_vectors_cv)\n",
    "    acc_avg = accuracy_score(Y_cv, pred_avg, normalize=True)*100\n",
    "    cv_scores_avg.append(acc_avg)"
   ]
  },
  {
   "cell_type": "code",
   "execution_count": 153,
   "metadata": {},
   "outputs": [
    {
     "data": {
      "image/png": "[encoded data removed]",
      "text/plain": [
       "<Figure size 432x288 with 1 Axes>"
      ]
     },
     "metadata": {},
     "output_type": "display_data"
    }
   ],
   "source": [
    "plt.plot(neighbors,cv_scores_avg)\n",
    "plt.grid()\n",
    "plt.title(\"K_Values Vs CV_Accuracy\")\n",
    "plt.xlabel(\"Depth\")\n",
    "plt.ylabel(\"CV_Accuracy\")\n",
    "plt.show()"
   ]
  },
  {
   "cell_type": "code",
   "execution_count": 154,
   "metadata": {},
   "outputs": [
    {
     "name": "stdout",
     "output_type": "stream",
     "text": [
      "\n",
      "The optimal number of neighbors is 13.\n"
     ]
    }
   ],
   "source": [
    "#scores_lst=list(acc)\n",
    "optimal_k = neighbors[cv_scores_avg.index(max(cv_scores_avg))]\n",
    "print('\\nThe optimal number of neighbors is %d.' % optimal_k)"
   ]
  },
  {
   "cell_type": "code",
   "execution_count": 155,
   "metadata": {},
   "outputs": [],
   "source": [
    "neigh_avg1= KNeighborsClassifier(n_neighbors=optimal_k)\n",
    "neigh_avg1.fit(sent_vectors,Y_Train)\n",
    "pred_avg1=neigh_avg1.predict(sent_vectors_cv)"
   ]
  },
  {
   "cell_type": "code",
   "execution_count": 156,
   "metadata": {},
   "outputs": [
    {
     "name": "stdout",
     "output_type": "stream",
     "text": [
      "\n",
      "The accuracy of the knn classifier for k = 13 is 84.275000%\n",
      "0.9141999727185922\n"
     ]
    }
   ],
   "source": [
    "acc_avg1 = accuracy_score(Y_Test, pred_avg1) * 100\n",
    "print('\\nThe accuracy of the knn classifier for k = %d is %f%%' % (optimal_k, acc_avg1))\n",
    "f1_score_test_avg1= f1_score(Y_Test, pred_avg1)\n",
    "print(f1_score_test_avg1)"
   ]
  },
  {
   "cell_type": "code",
   "execution_count": 184,
   "metadata": {},
   "outputs": [
    {
     "name": "stdout",
     "output_type": "stream",
     "text": [
      "5.431306545829875\n"
     ]
    },
    {
     "data": {
      "image/png": "[encoded data removed]",
      "text/plain": [
       "<Figure size 432x288 with 2 Axes>"
      ]
     },
     "metadata": {},
     "output_type": "display_data"
    }
   ],
   "source": [
    "conf = (confusion_matrix(Y_Test,pred_avg1))\n",
    "cmap = sns.cubehelix_palette(50, hue=0.05, rot=0, light=0.9, dark=0, as_cmap=True)\n",
    "sns.heatmap(conf,cmap = cmap,xticklabels=['0','1'],yticklabels=['0','1'],annot=True, fmt=\"d\",)\n",
    "plt.xlabel('Predicted')\n",
    "plt.ylabel('Actual')\n",
    "logloss_3=log_loss(Y_Test,pred_avg1)\n"
   ]
  },
  {
   "cell_type": "code",
   "execution_count": 158,
   "metadata": {},
   "outputs": [],
   "source": [
    "lst=list(range(0,20))\n",
    "neighbors=list(filter(lambda x: x % 2 != 0,lst))\n",
    "cv_scores_kdavg=[]\n",
    "for k in neighbors:\n",
    "    neigh_kdavg= KNeighborsClassifier(n_neighbors=k,algorithm='kd_tree')\n",
    "    neigh_kdavg.fit(sent_vectors,Y_Train)\n",
    "    pred_kdavg = neigh_kdavg.predict(sent_vectors_cv)\n",
    "    acc_kdavg = accuracy_score(Y_cv, pred_kdavg, normalize=True)*100\n",
    "    cv_scores_kdavg.append(acc_kdavg)"
   ]
  },
  {
   "cell_type": "code",
   "execution_count": 159,
   "metadata": {},
   "outputs": [
    {
     "data": {
      "image/png": "[encoded data removed]",
      "text/plain": [
       "<Figure size 432x288 with 1 Axes>"
      ]
     },
     "metadata": {},
     "output_type": "display_data"
    }
   ],
   "source": [
    "plt.plot(neighbors,cv_scores_kdavg)\n",
    "plt.grid()\n",
    "plt.title(\"K_Values Vs CV_Accuracy\")\n",
    "plt.xlabel(\"Depth\")\n",
    "plt.ylabel(\"CV_Accuracy\")\n",
    "plt.show()"
   ]
  },
  {
   "cell_type": "code",
   "execution_count": 160,
   "metadata": {},
   "outputs": [
    {
     "name": "stdout",
     "output_type": "stream",
     "text": [
      "\n",
      "The optimal number of neighbors is 13.\n"
     ]
    }
   ],
   "source": [
    "optimal_k = neighbors[cv_scores_kdavg.index(max(cv_scores_kdavg))]\n",
    "print('\\nThe optimal number of neighbors is %d.' % optimal_k)"
   ]
  },
  {
   "cell_type": "code",
   "execution_count": 161,
   "metadata": {},
   "outputs": [],
   "source": [
    "neigh_avg2= KNeighborsClassifier(n_neighbors=optimal_k)\n",
    "neigh_avg2.fit(sent_vectors,Y_Train)\n",
    "pred_avg2=neigh_avg2.predict(sent_vectors_cv)"
   ]
  },
  {
   "cell_type": "code",
   "execution_count": 185,
   "metadata": {},
   "outputs": [
    {
     "name": "stdout",
     "output_type": "stream",
     "text": [
      "\n",
      "The accuracy of the knn classifier for k = 1 is 84.275000%\n",
      "0.9141999727185922\n",
      "5.431306545829875\n"
     ]
    },
    {
     "data": {
      "image/png": "[encoded data removed]",
      "text/plain": [
       "<Figure size 432x288 with 2 Axes>"
      ]
     },
     "metadata": {},
     "output_type": "display_data"
    }
   ],
   "source": [
    "acc_avg2 = accuracy_score(Y_Test, pred_avg2) * 100\n",
    "print('\\nThe accuracy of the knn classifier for k = %d is %f%%' % (optimal_k, acc_avg2))\n",
    "f1_score_test_avg2= f1_score(Y_Test, pred_avg2)\n",
    "print(f1_score_test_avg2)\n",
    "conf = (confusion_matrix(Y_Test,pred_avg2))\n",
    "cmap = sns.cubehelix_palette(50, hue=0.05, rot=0, light=0.9, dark=0, as_cmap=True)\n",
    "sns.heatmap(conf,cmap = cmap,xticklabels=['0','1'],yticklabels=['0','1'],annot=True, fmt=\"d\",)\n",
    "plt.xlabel('Predicted')\n",
    "plt.ylabel('Actual')\n",
    "logloss_4=log_loss(Y_Test,pred_avg2)\n"
   ]
  },
  {
   "cell_type": "markdown",
   "metadata": {},
   "source": [
    "# KNN Classification on Bigrams,ngrams:"
   ]
  },
  {
   "cell_type": "code",
   "execution_count": 166,
   "metadata": {},
   "outputs": [],
   "source": [
    "lst=list(range(0,20))\n",
    "neighbors=list(filter(lambda x: x % 2 != 0,lst))\n",
    "cv_scores_bigram=[]\n",
    "for k in neighbors:\n",
    "    neigh_bigram= KNeighborsClassifier(n_neighbors=k,algorithm='kd_tree')\n",
    "    neigh_bigram.fit(final_bigram_counts_train_std,Y_Train)\n",
    "    pred_bigram = neigh_bigram.predict(final_bigram_counts_cv_std)\n",
    "    acc_bigram = accuracy_score(Y_cv, pred_bigram, normalize=True)*100\n",
    "    cv_scores_bigram.append(acc_bigram)"
   ]
  },
  {
   "cell_type": "code",
   "execution_count": 167,
   "metadata": {},
   "outputs": [
    {
     "data": {
      "image/png": "[encoded data removed]",
      "text/plain": [
       "<Figure size 432x288 with 1 Axes>"
      ]
     },
     "metadata": {},
     "output_type": "display_data"
    }
   ],
   "source": [
    "plt.plot(neighbors,cv_scores_bigram)\n",
    "plt.grid()\n",
    "plt.title(\"K_Values Vs CV_Accuracy\")\n",
    "plt.xlabel(\"Depth\")\n",
    "plt.ylabel(\"CV_Accuracy\")\n",
    "plt.show()"
   ]
  },
  {
   "cell_type": "code",
   "execution_count": 168,
   "metadata": {},
   "outputs": [
    {
     "name": "stdout",
     "output_type": "stream",
     "text": [
      "\n",
      "The optimal number of neighbors is 1.\n"
     ]
    }
   ],
   "source": [
    "optimal_k = neighbors[cv_scores_bigram.index(max(cv_scores_bigram))]\n",
    "print('\\nThe optimal number of neighbors is %d.' % optimal_k)"
   ]
  },
  {
   "cell_type": "code",
   "execution_count": 169,
   "metadata": {},
   "outputs": [],
   "source": [
    "neigh_bigram2= KNeighborsClassifier(n_neighbors=optimal_k)\n",
    "neigh_bigram2.fit(final_bigram_counts_train_std,Y_Train)\n",
    "pred_bigram2=neigh_bigram2.predict(final_bigram_counts_cv_std)"
   ]
  },
  {
   "cell_type": "code",
   "execution_count": 186,
   "metadata": {},
   "outputs": [
    {
     "name": "stdout",
     "output_type": "stream",
     "text": [
      "\n",
      "The accuracy of the knn classifier for k = 1 is 88.850000%\n",
      "0.9409114997350292\n",
      "3.851160924051791\n"
     ]
    },
    {
     "data": {
      "image/png": "[encoded data removed]",
      "text/plain": [
       "<Figure size 432x288 with 2 Axes>"
      ]
     },
     "metadata": {},
     "output_type": "display_data"
    }
   ],
   "source": [
    "acc_bigram2 = accuracy_score(Y_Test, pred_bigram2) * 100\n",
    "print('\\nThe accuracy of the knn classifier for k = %d is %f%%' % (optimal_k, acc_bigram2))\n",
    "f1_score_test_bigram2= f1_score(Y_Test, pred_bigram2)\n",
    "print(f1_score_test_bigram2)\n",
    "conf = (confusion_matrix(Y_Test,pred_bigram2))\n",
    "cmap = sns.cubehelix_palette(50, hue=0.05, rot=0, light=0.9, dark=0, as_cmap=True)\n",
    "sns.heatmap(conf,cmap = cmap,xticklabels=['0','1'],yticklabels=['0','1'],annot=True, fmt=\"d\",)\n",
    "plt.xlabel('Predicted')\n",
    "plt.ylabel('Actual')\n",
    "logloss_5=log_loss(Y_Test,pred_bigram2)\n"
   ]
  },
  {
   "cell_type": "code",
   "execution_count": 176,
   "metadata": {},
   "outputs": [],
   "source": [
    "lst=list(range(0,20))\n",
    "neighbors=list(filter(lambda x: x % 2 != 0,lst))\n",
    "cv_scores_bigram1=[]\n",
    "for k in neighbors:\n",
    "    neigh_bigram1= KNeighborsClassifier(n_neighbors=k,algorithm='brute')\n",
    "    neigh_bigram1.fit(final_bigram_counts_train_std,Y_Train)\n",
    "    pred_bigram1 = neigh_bigram1.predict(final_bigram_counts_cv_std)\n",
    "    acc_bigram1 = accuracy_score(Y_cv, pred_bigram1, normalize=True)*100\n",
    "    cv_scores_bigram1.append(acc_bigram1)"
   ]
  },
  {
   "cell_type": "code",
   "execution_count": 177,
   "metadata": {},
   "outputs": [
    {
     "data": {
      "image/png": "[encoded data removed]",
      "text/plain": [
       "<Figure size 432x288 with 1 Axes>"
      ]
     },
     "metadata": {},
     "output_type": "display_data"
    }
   ],
   "source": [
    "plt.plot(neighbors,cv_scores_bigram1)\n",
    "plt.grid()\n",
    "plt.title(\"K_Values Vs CV_Accuracy\")\n",
    "plt.xlabel(\"Depth\")\n",
    "plt.ylabel(\"CV_Accuracy\")\n",
    "plt.show()"
   ]
  },
  {
   "cell_type": "code",
   "execution_count": 179,
   "metadata": {},
   "outputs": [
    {
     "name": "stdout",
     "output_type": "stream",
     "text": [
      "\n",
      "The optimal number of neighbors is 1.\n"
     ]
    }
   ],
   "source": [
    "optimal_k = neighbors[cv_scores_bigram1.index(max(cv_scores_bigram1))]\n",
    "print('\\nThe optimal number of neighbors is %d.' % optimal_k)\n",
    "neigh_bigram_brute= KNeighborsClassifier(n_neighbors=optimal_k)\n",
    "neigh_bigram_brute.fit(final_bigram_counts_train_std,Y_Train)\n",
    "pred_bigram_brute=neigh_bigram_brute.predict(final_bigram_counts_cv_std)"
   ]
  },
  {
   "cell_type": "code",
   "execution_count": 195,
   "metadata": {},
   "outputs": [
    {
     "name": "stdout",
     "output_type": "stream",
     "text": [
      "\n",
      "The accuracy of the knn classifier for k = 1 is 88.850000%\n",
      "0.9409114997350292\n"
     ]
    },
    {
     "data": {
      "image/png": "[encoded data removed]",
      "text/plain": [
       "<Figure size 432x288 with 2 Axes>"
      ]
     },
     "metadata": {},
     "output_type": "display_data"
    }
   ],
   "source": [
    "acc_bigram_brute = accuracy_score(Y_Test, pred_bigram_brute) * 100\n",
    "print('\\nThe accuracy of the knn classifier for k = %d is %f%%' % (optimal_k, acc_bigram_brute))\n",
    "f1_score_test_bigram_brute= f1_score(Y_Test, pred_bigram_brute)\n",
    "print(f1_score_test_bigram_brute)\n",
    "conf = (confusion_matrix(Y_Test,pred_bigram_brute))\n",
    "cmap = sns.cubehelix_palette(50, hue=0.05, rot=0, light=0.9, dark=0, as_cmap=True)\n",
    "sns.heatmap(conf,cmap = cmap,xticklabels=['0','1'],yticklabels=['0','1'],annot=True, fmt=\"d\",)\n",
    "plt.xlabel('Predicted')\n",
    "plt.ylabel('Actual')\n",
    "logloss_6=log_loss(Y_Test,pred_bigram_brute)\n"
   ]
  },
  {
   "cell_type": "markdown",
   "metadata": {},
   "source": [
    "### Evaluation:"
   ]
  },
  {
   "cell_type": "code",
   "execution_count": 198,
   "metadata": {},
   "outputs": [
    {
     "name": "stdout",
     "output_type": "stream",
     "text": [
      "Log-loss values for different vectorizers:---\n",
      "Log-loss value for TF-IDF Brute and kd_Tree 4.023855005925701 and 3.523035551822625\n",
      "Log-loss value for AVG-W2V Brute and kd_Tree 5.431306545829875 and 5.431306545829875\n",
      "Log-loss value for Bigrams and N-Grams Brute and kd_Tree 3.851160924051791 and 3.851160924051791\n",
      "\n",
      "\n",
      "Accuracy values for different vectorizers:---\n",
      "Accuracy value for TF-IDF Brute and kd_Tree 90.25 and 89.8\n",
      "Accuracy value for AVG-W2V Brute and kd_Tree 84.275 and 84.275\n",
      "Accuracy value for Bigrams and N-Grams Brute and kd_Tree 88.85 and 88.85\n"
     ]
    }
   ],
   "source": [
    "print(\"Log-loss values for different vectorizers:---\")\n",
    "print(\"Log-loss value for TF-IDF Brute and kd_Tree\",logloss_1,\"and\",logloss_2)\n",
    "print(\"Log-loss value for AVG-W2V Brute and kd_Tree\",logloss_3,\"and\",logloss_4)\n",
    "print(\"Log-loss value for Bigrams and N-Grams Brute and kd_Tree\",logloss_6,\"and\",logloss_5)\n",
    "print(\"\\n\")\n",
    "print(\"Accuracy values for different vectorizers:---\")\n",
    "print(\"Accuracy value for TF-IDF Brute and kd_Tree\",acc1,\"and\",acc_ovr_kd)\n",
    "print(\"Accuracy value for AVG-W2V Brute and kd_Tree\",acc_avg1,\"and\",acc_avg2)\n",
    "print(\"Accuracy value for Bigrams and N-Grams Brute and kd_Tree\",acc_bigram_brute,\"and\",acc_bigram2)\n",
    "\n"
   ]
  },
  {
   "cell_type": "markdown",
   "metadata": {},
   "source": [
    "## Conclusions:"
   ]
  },
  {
   "cell_type": "markdown",
   "metadata": {},
   "source": [
    "As per the outcome, its seen that TF-IDF Vectorizer with Brute-Force Tree produced the best Result in terms of accuracy,\n",
    "also the outcome of Confusion matrix shows the TF-IDF Vectorizer produced best True Predictions than others.\n",
    "But,as the dataset is Unbalanced Log-loss metric is  also used and found that,TF-IDF Vectorizer with Kd_Tree produced the best Result.\n",
    "  \n"
   ]
  },
  {
   "cell_type": "code",
   "execution_count": null,
   "metadata": {},
   "outputs": [],
   "source": []
  }
 ],
 "metadata": {
  "kernelspec": {
   "display_name": "Python 3",
   "language": "python",
   "name": "python3"
  },
  "language_info": {
   "codemirror_mode": {
    "name": "ipython",
    "version": 3
   },
   "file_extension": ".py",
   "mimetype": "text/x-python",
   "name": "python",
   "nbconvert_exporter": "python",
   "pygments_lexer": "ipython3",
   "version": "3.6.5"
  }
 },
 "nbformat": 4,
 "nbformat_minor": 2
}
