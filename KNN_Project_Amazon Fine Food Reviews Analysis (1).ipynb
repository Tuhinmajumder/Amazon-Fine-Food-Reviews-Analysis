{
 "cells": [
  {
   "cell_type": "markdown",
   "metadata": {},
   "source": [
    "# Amazon Fine Food Reviews Analysis:\n",
    "\n",
    "Data Source: https://www.kaggle.com/snap/amazon-fine-food-reviews\n",
    "\n",
    "Data Published by:Originally this data was published by Stanford Network Analysis Project Team.\n",
    "\n",
    "The Amazon Fine Food Reviews dataset consists of reviews of fine foods from Amazon.<br>\n",
    "\n",
    "Number of reviews: 568,454<br>\n",
    "Number of users: 256,059<br>\n",
    "Number of products: 74,258<br>\n",
    "Timespan: Oct 1999 - Oct 2012<br>\n",
    "Number of Attributes/Columns in data: 10 \n",
    "\n",
    "Attribute Information:\n",
    "\n",
    "1. Id\n",
    "2. ProductId - unique identifier for the product\n",
    "3. UserId - unqiue identifier for the user\n",
    "4. ProfileName\n",
    "5. HelpfulnessNumerator - number of users who found the review helpful\n",
    "6. HelpfulnessDenominator - number of users who indicated whether they found the review helpful or not\n",
    "7. Score - rating between 1 and 5\n",
    "8. Time - timestamp for the review\n",
    "9. Summary - brief summary of the review\n",
    "10. Text - text of the review\n",
    "\n",
    "\n",
    "#### Objective:\n",
    "Given a review, determine whether the review is positive (Rating of 4 or 5) or negative (rating of 1 or 2).\n",
    "\n",
    "<br>\n",
    "[Q] How to determine if a review is positive or negative?<br>\n",
    "<br> \n",
    "[Ans] We could use the Score/Rating. A rating of 4 or 5 could be cosnidered a positive review. A review of 1 or 2 could be considered negative. A review of 3 is nuetral and ignored. This is an approximate and proxy way of determining the polarity (positivity/negativity) of a review."
   ]
  },
  {
   "cell_type": "markdown",
   "metadata": {},
   "source": [
    "## Loading the data\n",
    "\n",
    "The dataset is available in two forms\n",
    "1. .csv file\n",
    "2. SQLite Database\n",
    "\n",
    "In order to load the data, We have used the SQLITE dataset as it easier to query the data and visualise the data efficiently.\n",
    "<br> \n",
    "\n",
    "Here as we only want to get the global sentiment of the recommendations (positive or negative), we will purposefully ignore all Scores equal to 3. If the score id above 3, then the recommendation wil be set to \"positive\". Otherwise, it will be set to \"negative\"."
   ]
  },
  {
   "cell_type": "code",
   "execution_count": 69,
   "metadata": {},
   "outputs": [],
   "source": [
    "import pandas as pd\n",
    "import numpy as np\n",
    "import nltk\n",
    "import string\n",
    "import sqlite3\n",
    "import seaborn as sns\n",
    "import matplotlib.pyplot as plt\n",
    "%matplotlib inline"
   ]
  },
  {
   "cell_type": "code",
   "execution_count": 70,
   "metadata": {},
   "outputs": [],
   "source": [
    "import warnings\n",
    "warnings.filterwarnings(\"ignore\")\n",
    "from sklearn.feature_extraction.text import TfidfTransformer\n",
    "from sklearn.feature_extraction.text import TfidfVectorizer\n",
    "\n",
    "from sklearn.feature_extraction.text import CountVectorizer\n",
    "from sklearn.metrics import confusion_matrix\n",
    "from sklearn import metrics\n",
    "from sklearn.metrics import roc_curve, auc\n",
    "from nltk.stem.porter import PorterStemmer\n",
    "\n",
    "import re\n",
    "import string\n",
    "from nltk.corpus import stopwords\n",
    "from nltk.stem import PorterStemmer\n",
    "from nltk.stem.wordnet import WordNetLemmatizer\n",
    "\n",
    "from gensim.models import Word2Vec\n",
    "from gensim.models import KeyedVectors\n",
    "import pickle\n",
    "\n",
    "\n",
    "\n",
    "# using the SQLite Table to read data.\n",
    "con = sqlite3.connect('database.sqlite') \n",
    "\n",
    "\n",
    "\n",
    "#filtering only positive and negative reviews i.e. \n",
    "# not taking into consideration those reviews with Score=3,as we can't be sure about the polarity of the reviews with Score 3.\n",
    "filtered_data = pd.read_sql_query(\" SELECT * FROM Reviews WHERE Score != 3 \", con) \n",
    "\n",
    "\n",
    "# Give reviews with Score>3 a positive rating, and reviews with a score<3 a negative rating.\n",
    "def partition(x):\n",
    "    if x < 3:\n",
    "        return 'negative'\n",
    "    return 'positive'\n",
    "\n",
    "#changing reviews with score less than 3 to be positive and vice-versa\n",
    "actualScore = filtered_data['Score']\n",
    "positiveNegative = actualScore.map(partition) \n",
    "filtered_data['Score'] = positiveNegative"
   ]
  },
  {
   "cell_type": "code",
   "execution_count": 71,
   "metadata": {},
   "outputs": [
    {
     "data": {
      "text/html": [
       "<div>\n",
       "<style scoped>\n",
       "    .dataframe tbody tr th:only-of-type {\n",
       "        vertical-align: middle;\n",
       "    }\n",
       "\n",
       "    .dataframe tbody tr th {\n",
       "        vertical-align: top;\n",
       "    }\n",
       "\n",
       "    .dataframe thead th {\n",
       "        text-align: right;\n",
       "    }\n",
       "</style>\n",
       "<table border=\"1\" class=\"dataframe\">\n",
       "  <thead>\n",
       "    <tr style=\"text-align: right;\">\n",
       "      <th></th>\n",
       "      <th>Id</th>\n",
       "      <th>ProductId</th>\n",
       "      <th>UserId</th>\n",
       "      <th>ProfileName</th>\n",
       "      <th>HelpfulnessNumerator</th>\n",
       "      <th>HelpfulnessDenominator</th>\n",
       "      <th>Score</th>\n",
       "      <th>Time</th>\n",
       "      <th>Summary</th>\n",
       "      <th>Text</th>\n",
       "    </tr>\n",
       "  </thead>\n",
       "  <tbody>\n",
       "    <tr>\n",
       "      <th>0</th>\n",
       "      <td>1</td>\n",
       "      <td>B001E4KFG0</td>\n",
       "      <td>A3SGXH7AUHU8GW</td>\n",
       "      <td>delmartian</td>\n",
       "      <td>1</td>\n",
       "      <td>1</td>\n",
       "      <td>positive</td>\n",
       "      <td>1303862400</td>\n",
       "      <td>Good Quality Dog Food</td>\n",
       "      <td>I have bought several of the Vitality canned d...</td>\n",
       "    </tr>\n",
       "    <tr>\n",
       "      <th>1</th>\n",
       "      <td>2</td>\n",
       "      <td>B00813GRG4</td>\n",
       "      <td>A1D87F6ZCVE5NK</td>\n",
       "      <td>dll pa</td>\n",
       "      <td>0</td>\n",
       "      <td>0</td>\n",
       "      <td>negative</td>\n",
       "      <td>1346976000</td>\n",
       "      <td>Not as Advertised</td>\n",
       "      <td>Product arrived labeled as Jumbo Salted Peanut...</td>\n",
       "    </tr>\n",
       "    <tr>\n",
       "      <th>2</th>\n",
       "      <td>3</td>\n",
       "      <td>B000LQOCH0</td>\n",
       "      <td>ABXLMWJIXXAIN</td>\n",
       "      <td>Natalia Corres \"Natalia Corres\"</td>\n",
       "      <td>1</td>\n",
       "      <td>1</td>\n",
       "      <td>positive</td>\n",
       "      <td>1219017600</td>\n",
       "      <td>\"Delight\" says it all</td>\n",
       "      <td>This is a confection that has been around a fe...</td>\n",
       "    </tr>\n",
       "    <tr>\n",
       "      <th>3</th>\n",
       "      <td>4</td>\n",
       "      <td>B000UA0QIQ</td>\n",
       "      <td>A395BORC6FGVXV</td>\n",
       "      <td>Karl</td>\n",
       "      <td>3</td>\n",
       "      <td>3</td>\n",
       "      <td>negative</td>\n",
       "      <td>1307923200</td>\n",
       "      <td>Cough Medicine</td>\n",
       "      <td>If you are looking for the secret ingredient i...</td>\n",
       "    </tr>\n",
       "    <tr>\n",
       "      <th>4</th>\n",
       "      <td>5</td>\n",
       "      <td>B006K2ZZ7K</td>\n",
       "      <td>A1UQRSCLF8GW1T</td>\n",
       "      <td>Michael D. Bigham \"M. Wassir\"</td>\n",
       "      <td>0</td>\n",
       "      <td>0</td>\n",
       "      <td>positive</td>\n",
       "      <td>1350777600</td>\n",
       "      <td>Great taffy</td>\n",
       "      <td>Great taffy at a great price.  There was a wid...</td>\n",
       "    </tr>\n",
       "  </tbody>\n",
       "</table>\n",
       "</div>"
      ],
      "text/plain": [
       "   Id   ProductId          UserId                      ProfileName  \\\n",
       "0   1  B001E4KFG0  A3SGXH7AUHU8GW                       delmartian   \n",
       "1   2  B00813GRG4  A1D87F6ZCVE5NK                           dll pa   \n",
       "2   3  B000LQOCH0   ABXLMWJIXXAIN  Natalia Corres \"Natalia Corres\"   \n",
       "3   4  B000UA0QIQ  A395BORC6FGVXV                             Karl   \n",
       "4   5  B006K2ZZ7K  A1UQRSCLF8GW1T    Michael D. Bigham \"M. Wassir\"   \n",
       "\n",
       "   HelpfulnessNumerator  HelpfulnessDenominator     Score        Time  \\\n",
       "0                     1                       1  positive  1303862400   \n",
       "1                     0                       0  negative  1346976000   \n",
       "2                     1                       1  positive  1219017600   \n",
       "3                     3                       3  negative  1307923200   \n",
       "4                     0                       0  positive  1350777600   \n",
       "\n",
       "                 Summary                                               Text  \n",
       "0  Good Quality Dog Food  I have bought several of the Vitality canned d...  \n",
       "1      Not as Advertised  Product arrived labeled as Jumbo Salted Peanut...  \n",
       "2  \"Delight\" says it all  This is a confection that has been around a fe...  \n",
       "3         Cough Medicine  If you are looking for the secret ingredient i...  \n",
       "4            Great taffy  Great taffy at a great price.  There was a wid...  "
      ]
     },
     "execution_count": 71,
     "metadata": {},
     "output_type": "execute_result"
    }
   ],
   "source": [
    "filtered_data.head()"
   ]
  },
  {
   "cell_type": "code",
   "execution_count": 72,
   "metadata": {},
   "outputs": [],
   "source": [
    "filtered_data_copy=filtered_data.copy()"
   ]
  },
  {
   "cell_type": "markdown",
   "metadata": {},
   "source": [
    " #  Exploratory Data Analysis\n",
    "\n",
    "##  Data Cleaning: Deduplication\n",
    "\n",
    "It is observed (as shown in the table below) that the reviews data had many duplicate entries. Hence it was necessary to remove duplicates in order to get unbiased results for the analysis of the data.  Following is an example:"
   ]
  },
  {
   "cell_type": "code",
   "execution_count": 73,
   "metadata": {},
   "outputs": [],
   "source": [
    "dup=filtered_data.duplicated(subset=['ProductId','UserId','Time','HelpfulnessNumerator','HelpfulnessDenominator','Score','Text'],keep=False)"
   ]
  },
  {
   "cell_type": "code",
   "execution_count": 74,
   "metadata": {},
   "outputs": [
    {
     "data": {
      "text/plain": [
       "(718, 10)"
      ]
     },
     "execution_count": 74,
     "metadata": {},
     "output_type": "execute_result"
    }
   ],
   "source": [
    "filtered_data.loc[dup,:].shape"
   ]
  },
  {
   "cell_type": "code",
   "execution_count": 75,
   "metadata": {},
   "outputs": [],
   "source": [
    "#Sorting data according to ProductId in ascending order\n",
    "sorted_data=filtered_data.sort_values('ProductId', axis=0, ascending=True, inplace=False, kind='quicksort', na_position='last')"
   ]
  },
  {
   "cell_type": "code",
   "execution_count": 76,
   "metadata": {},
   "outputs": [
    {
     "name": "stdout",
     "output_type": "stream",
     "text": [
      "(365910, 10)\n"
     ]
    }
   ],
   "source": [
    "#Deduplication of entries\n",
    "After_dedup=sorted_data.drop_duplicates(subset={\"UserId\",\"ProfileName\",\"Time\",\"Text\",'HelpfulnessNumerator','HelpfulnessDenominator','Score'}, keep='first', inplace=False)\n",
    "print(After_dedup.shape)"
   ]
  },
  {
   "cell_type": "code",
   "execution_count": 77,
   "metadata": {},
   "outputs": [],
   "source": [
    "dup1=After_dedup.duplicated(subset=[\"UserId\",\"ProfileName\",\"Time\",\"Text\"],keep=False)\n"
   ]
  },
  {
   "cell_type": "code",
   "execution_count": 78,
   "metadata": {},
   "outputs": [
    {
     "data": {
      "text/plain": [
       "(3067, 10)"
      ]
     },
     "execution_count": 78,
     "metadata": {},
     "output_type": "execute_result"
    }
   ],
   "source": [
    "After_dedup.loc[dup1,:].shape"
   ]
  },
  {
   "cell_type": "code",
   "execution_count": 79,
   "metadata": {},
   "outputs": [],
   "source": [
    "#Sorting data according to ProductId in ascending order\n",
    "sorted_After_dedup_data=After_dedup.sort_values('ProductId', axis=0, ascending=True, inplace=False, kind='quicksort', na_position='last')"
   ]
  },
  {
   "cell_type": "code",
   "execution_count": 80,
   "metadata": {},
   "outputs": [
    {
     "name": "stdout",
     "output_type": "stream",
     "text": [
      "(364173, 10)\n"
     ]
    }
   ],
   "source": [
    "#Again Deduplication of entries\n",
    "After_dedup=sorted_After_dedup_data.drop_duplicates(subset={\"UserId\",\"ProfileName\",\"Time\",\"Text\"}, keep='first', inplace=False)\n",
    "print(After_dedup.shape)"
   ]
  },
  {
   "cell_type": "code",
   "execution_count": 81,
   "metadata": {},
   "outputs": [
    {
     "data": {
      "text/plain": [
       "69.25890143662969"
      ]
     },
     "execution_count": 81,
     "metadata": {},
     "output_type": "execute_result"
    }
   ],
   "source": [
    "#Checking to see how much % of data still remains\n",
    "((After_dedup['Id'].size)*1.0)/((filtered_data['Id'].size)*1.0)*100"
   ]
  },
  {
   "cell_type": "markdown",
   "metadata": {},
   "source": [
    "Observation: Again it's found that for the below 2 Users the HelpfulnessNumerator is greater than HelpfulnessDenominator.But it is practically not possible,so they need to be removed as well."
   ]
  },
  {
   "cell_type": "code",
   "execution_count": 82,
   "metadata": {},
   "outputs": [
    {
     "data": {
      "text/html": [
       "<div>\n",
       "<style scoped>\n",
       "    .dataframe tbody tr th:only-of-type {\n",
       "        vertical-align: middle;\n",
       "    }\n",
       "\n",
       "    .dataframe tbody tr th {\n",
       "        vertical-align: top;\n",
       "    }\n",
       "\n",
       "    .dataframe thead th {\n",
       "        text-align: right;\n",
       "    }\n",
       "</style>\n",
       "<table border=\"1\" class=\"dataframe\">\n",
       "  <thead>\n",
       "    <tr style=\"text-align: right;\">\n",
       "      <th></th>\n",
       "      <th>Id</th>\n",
       "      <th>ProductId</th>\n",
       "      <th>UserId</th>\n",
       "      <th>ProfileName</th>\n",
       "      <th>HelpfulnessNumerator</th>\n",
       "      <th>HelpfulnessDenominator</th>\n",
       "      <th>Score</th>\n",
       "      <th>Time</th>\n",
       "      <th>Summary</th>\n",
       "      <th>Text</th>\n",
       "    </tr>\n",
       "  </thead>\n",
       "  <tbody>\n",
       "    <tr>\n",
       "      <th>59301</th>\n",
       "      <td>64422</td>\n",
       "      <td>B000MIDROQ</td>\n",
       "      <td>A161DK06JJMCYF</td>\n",
       "      <td>J. E. Stephens \"Jeanne\"</td>\n",
       "      <td>3</td>\n",
       "      <td>1</td>\n",
       "      <td>positive</td>\n",
       "      <td>1224892800</td>\n",
       "      <td>Bought This for My Son at College</td>\n",
       "      <td>My son loves spaghetti so I didn't hesitate or...</td>\n",
       "    </tr>\n",
       "    <tr>\n",
       "      <th>41159</th>\n",
       "      <td>44737</td>\n",
       "      <td>B001EQ55RW</td>\n",
       "      <td>A2V0I904FH7ABY</td>\n",
       "      <td>Ram</td>\n",
       "      <td>3</td>\n",
       "      <td>2</td>\n",
       "      <td>positive</td>\n",
       "      <td>1212883200</td>\n",
       "      <td>Pure cocoa taste with crunchy almonds inside</td>\n",
       "      <td>It was almost a 'love at first bite' - the per...</td>\n",
       "    </tr>\n",
       "  </tbody>\n",
       "</table>\n",
       "</div>"
      ],
      "text/plain": [
       "          Id   ProductId          UserId              ProfileName  \\\n",
       "59301  64422  B000MIDROQ  A161DK06JJMCYF  J. E. Stephens \"Jeanne\"   \n",
       "41159  44737  B001EQ55RW  A2V0I904FH7ABY                      Ram   \n",
       "\n",
       "       HelpfulnessNumerator  HelpfulnessDenominator     Score        Time  \\\n",
       "59301                     3                       1  positive  1224892800   \n",
       "41159                     3                       2  positive  1212883200   \n",
       "\n",
       "                                            Summary  \\\n",
       "59301             Bought This for My Son at College   \n",
       "41159  Pure cocoa taste with crunchy almonds inside   \n",
       "\n",
       "                                                    Text  \n",
       "59301  My son loves spaghetti so I didn't hesitate or...  \n",
       "41159  It was almost a 'love at first bite' - the per...  "
      ]
     },
     "execution_count": 82,
     "metadata": {},
     "output_type": "execute_result"
    }
   ],
   "source": [
    "After_dedup[After_dedup.HelpfulnessNumerator>After_dedup.HelpfulnessDenominator]"
   ]
  },
  {
   "cell_type": "code",
   "execution_count": 83,
   "metadata": {},
   "outputs": [],
   "source": [
    "After_dedup=After_dedup[After_dedup.HelpfulnessNumerator<=After_dedup.HelpfulnessDenominator]"
   ]
  },
  {
   "cell_type": "code",
   "execution_count": 84,
   "metadata": {},
   "outputs": [
    {
     "data": {
      "text/plain": [
       "(364171, 10)"
      ]
     },
     "execution_count": 84,
     "metadata": {},
     "output_type": "execute_result"
    }
   ],
   "source": [
    "After_dedup.shape"
   ]
  },
  {
   "cell_type": "code",
   "execution_count": 85,
   "metadata": {},
   "outputs": [],
   "source": [
    "# Now let's see the Positive and Negetive Scores in our dataset:"
   ]
  },
  {
   "cell_type": "code",
   "execution_count": 86,
   "metadata": {},
   "outputs": [
    {
     "data": {
      "text/plain": [
       "positive    307061\n",
       "negative     57110\n",
       "Name: Score, dtype: int64"
      ]
     },
     "execution_count": 86,
     "metadata": {},
     "output_type": "execute_result"
    }
   ],
   "source": [
    "After_dedup['Score'].value_counts()"
   ]
  },
  {
   "cell_type": "code",
   "execution_count": 87,
   "metadata": {},
   "outputs": [
    {
     "data": {
      "text/html": [
       "<div>\n",
       "<style scoped>\n",
       "    .dataframe tbody tr th:only-of-type {\n",
       "        vertical-align: middle;\n",
       "    }\n",
       "\n",
       "    .dataframe tbody tr th {\n",
       "        vertical-align: top;\n",
       "    }\n",
       "\n",
       "    .dataframe thead th {\n",
       "        text-align: right;\n",
       "    }\n",
       "</style>\n",
       "<table border=\"1\" class=\"dataframe\">\n",
       "  <thead>\n",
       "    <tr style=\"text-align: right;\">\n",
       "      <th></th>\n",
       "      <th>Id</th>\n",
       "      <th>ProductId</th>\n",
       "      <th>UserId</th>\n",
       "      <th>ProfileName</th>\n",
       "      <th>HelpfulnessNumerator</th>\n",
       "      <th>HelpfulnessDenominator</th>\n",
       "      <th>Score</th>\n",
       "      <th>Time</th>\n",
       "      <th>Summary</th>\n",
       "      <th>Text</th>\n",
       "    </tr>\n",
       "  </thead>\n",
       "  <tbody>\n",
       "    <tr>\n",
       "      <th>138706</th>\n",
       "      <td>150524</td>\n",
       "      <td>0006641040</td>\n",
       "      <td>ACITT7DI6IDDL</td>\n",
       "      <td>shari zychinski</td>\n",
       "      <td>0</td>\n",
       "      <td>0</td>\n",
       "      <td>positive</td>\n",
       "      <td>939340800</td>\n",
       "      <td>EVERY book is educational</td>\n",
       "      <td>this witty little book makes my son laugh at l...</td>\n",
       "    </tr>\n",
       "    <tr>\n",
       "      <th>138709</th>\n",
       "      <td>150529</td>\n",
       "      <td>0006641040</td>\n",
       "      <td>A25ACLV5KPB4W</td>\n",
       "      <td>Matt Hetling \"Matt\"</td>\n",
       "      <td>0</td>\n",
       "      <td>1</td>\n",
       "      <td>positive</td>\n",
       "      <td>1108425600</td>\n",
       "      <td>Nice cadence, catchy rhymes</td>\n",
       "      <td>In June&lt;br /&gt;I saw a charming group&lt;br /&gt;of ro...</td>\n",
       "    </tr>\n",
       "    <tr>\n",
       "      <th>138699</th>\n",
       "      <td>150517</td>\n",
       "      <td>0006641040</td>\n",
       "      <td>ABW4IC5G5G8B5</td>\n",
       "      <td>kevin clark</td>\n",
       "      <td>0</td>\n",
       "      <td>0</td>\n",
       "      <td>positive</td>\n",
       "      <td>1291075200</td>\n",
       "      <td>good for children</td>\n",
       "      <td>Classic children's book, can't go wrong. I rea...</td>\n",
       "    </tr>\n",
       "    <tr>\n",
       "      <th>138686</th>\n",
       "      <td>150504</td>\n",
       "      <td>0006641040</td>\n",
       "      <td>AQEYF1AXARWJZ</td>\n",
       "      <td>Les Sinclair \"book maven\"</td>\n",
       "      <td>1</td>\n",
       "      <td>1</td>\n",
       "      <td>positive</td>\n",
       "      <td>1212278400</td>\n",
       "      <td>Chicken Soup with Rice</td>\n",
       "      <td>A very entertaining rhyming story--cleaver and...</td>\n",
       "    </tr>\n",
       "    <tr>\n",
       "      <th>138692</th>\n",
       "      <td>150510</td>\n",
       "      <td>0006641040</td>\n",
       "      <td>AM1MNZMYMS7D8</td>\n",
       "      <td>Dr. Joshua  Grossman</td>\n",
       "      <td>0</td>\n",
       "      <td>0</td>\n",
       "      <td>positive</td>\n",
       "      <td>1348358400</td>\n",
       "      <td>Professional Mentoring</td>\n",
       "      <td>TITLE: Chicken Soup with Rice&lt;br /&gt;AUTHOR: Mau...</td>\n",
       "    </tr>\n",
       "    <tr>\n",
       "      <th>138680</th>\n",
       "      <td>150498</td>\n",
       "      <td>0006641040</td>\n",
       "      <td>A3SJWISOCP31TR</td>\n",
       "      <td>R. J. Wells</td>\n",
       "      <td>2</td>\n",
       "      <td>2</td>\n",
       "      <td>positive</td>\n",
       "      <td>1176336000</td>\n",
       "      <td>A Gem of a Book</td>\n",
       "      <td>This is a wonderful little book. I loved it 40...</td>\n",
       "    </tr>\n",
       "    <tr>\n",
       "      <th>138707</th>\n",
       "      <td>150525</td>\n",
       "      <td>0006641040</td>\n",
       "      <td>A2QID6VCFTY51R</td>\n",
       "      <td>Rick</td>\n",
       "      <td>1</td>\n",
       "      <td>2</td>\n",
       "      <td>positive</td>\n",
       "      <td>1025481600</td>\n",
       "      <td>In December it will be, my snowman's anniversa...</td>\n",
       "      <td>My daughter loves all the \"Really Rosie\" books...</td>\n",
       "    </tr>\n",
       "    <tr>\n",
       "      <th>138677</th>\n",
       "      <td>150494</td>\n",
       "      <td>0006641040</td>\n",
       "      <td>AYZ0PR5QZROD1</td>\n",
       "      <td>Mother of 3 girls</td>\n",
       "      <td>3</td>\n",
       "      <td>3</td>\n",
       "      <td>positive</td>\n",
       "      <td>1173312000</td>\n",
       "      <td>Family favorite</td>\n",
       "      <td>All of my children love this book.  My first g...</td>\n",
       "    </tr>\n",
       "    <tr>\n",
       "      <th>138685</th>\n",
       "      <td>150503</td>\n",
       "      <td>0006641040</td>\n",
       "      <td>A3R5XMPFU8YZ4D</td>\n",
       "      <td>Her Royal Motherliness \"Nana\"</td>\n",
       "      <td>1</td>\n",
       "      <td>1</td>\n",
       "      <td>positive</td>\n",
       "      <td>1233964800</td>\n",
       "      <td>so fun to read</td>\n",
       "      <td>This is my grand daughter's and my favorite bo...</td>\n",
       "    </tr>\n",
       "    <tr>\n",
       "      <th>138683</th>\n",
       "      <td>150501</td>\n",
       "      <td>0006641040</td>\n",
       "      <td>AJ46FKXOVC7NR</td>\n",
       "      <td>Nicholas A Mesiano</td>\n",
       "      <td>2</td>\n",
       "      <td>2</td>\n",
       "      <td>positive</td>\n",
       "      <td>940809600</td>\n",
       "      <td>This whole series is great way to spend time w...</td>\n",
       "      <td>I can remember seeing the show when it aired o...</td>\n",
       "    </tr>\n",
       "    <tr>\n",
       "      <th>138676</th>\n",
       "      <td>150493</td>\n",
       "      <td>0006641040</td>\n",
       "      <td>AMX0PJKV4PPNJ</td>\n",
       "      <td>E. R. Bird \"Ramseelbird\"</td>\n",
       "      <td>71</td>\n",
       "      <td>72</td>\n",
       "      <td>positive</td>\n",
       "      <td>1096416000</td>\n",
       "      <td>Read it once. Read it twice. Reading Chicken S...</td>\n",
       "      <td>These days, when a person says, \"chicken soup\"...</td>\n",
       "    </tr>\n",
       "    <tr>\n",
       "      <th>138682</th>\n",
       "      <td>150500</td>\n",
       "      <td>0006641040</td>\n",
       "      <td>A1IJKK6Q1GTEAY</td>\n",
       "      <td>A Customer</td>\n",
       "      <td>2</td>\n",
       "      <td>2</td>\n",
       "      <td>positive</td>\n",
       "      <td>1009324800</td>\n",
       "      <td>It Was a favorite!</td>\n",
       "      <td>This was a favorite book of mine when I was a ...</td>\n",
       "    </tr>\n",
       "    <tr>\n",
       "      <th>138681</th>\n",
       "      <td>150499</td>\n",
       "      <td>0006641040</td>\n",
       "      <td>A3E7R866M94L0C</td>\n",
       "      <td>L. Barker \"simienwolf\"</td>\n",
       "      <td>2</td>\n",
       "      <td>2</td>\n",
       "      <td>positive</td>\n",
       "      <td>1065830400</td>\n",
       "      <td>Can't explain why</td>\n",
       "      <td>This book has been a favorite of mine since I ...</td>\n",
       "    </tr>\n",
       "    <tr>\n",
       "      <th>138678</th>\n",
       "      <td>150496</td>\n",
       "      <td>0006641040</td>\n",
       "      <td>A3KKR87BJ0C595</td>\n",
       "      <td>Gretchen Goodfellow \"Lover of children's lit\"</td>\n",
       "      <td>3</td>\n",
       "      <td>3</td>\n",
       "      <td>positive</td>\n",
       "      <td>1111363200</td>\n",
       "      <td>You'll use it once, you'll use it twice</td>\n",
       "      <td>One of my earliest memories is of this book.  ...</td>\n",
       "    </tr>\n",
       "    <tr>\n",
       "      <th>138705</th>\n",
       "      <td>150523</td>\n",
       "      <td>0006641040</td>\n",
       "      <td>A2P4F2UO0UMP8C</td>\n",
       "      <td>Elizabeth A. Curry \"Lovely Librarian\"</td>\n",
       "      <td>0</td>\n",
       "      <td>0</td>\n",
       "      <td>positive</td>\n",
       "      <td>1096675200</td>\n",
       "      <td>MMMM chicken soup....</td>\n",
       "      <td>Summary:  A young boy describes the usefulness...</td>\n",
       "    </tr>\n",
       "    <tr>\n",
       "      <th>138684</th>\n",
       "      <td>150502</td>\n",
       "      <td>0006641040</td>\n",
       "      <td>AVFMJ50HNO21J</td>\n",
       "      <td>Jane Doe</td>\n",
       "      <td>1</td>\n",
       "      <td>1</td>\n",
       "      <td>positive</td>\n",
       "      <td>1324944000</td>\n",
       "      <td>Tiny little book, Wonderful little rhymes.</td>\n",
       "      <td>This copy is smaller than I expected (mostly b...</td>\n",
       "    </tr>\n",
       "    <tr>\n",
       "      <th>138703</th>\n",
       "      <td>150521</td>\n",
       "      <td>0006641040</td>\n",
       "      <td>A3RMCRB2NDTDYP</td>\n",
       "      <td>Carol Carruthers</td>\n",
       "      <td>0</td>\n",
       "      <td>0</td>\n",
       "      <td>positive</td>\n",
       "      <td>1243468800</td>\n",
       "      <td>This book is great!</td>\n",
       "      <td>My 7 year old daughter brought this book home ...</td>\n",
       "    </tr>\n",
       "    <tr>\n",
       "      <th>138688</th>\n",
       "      <td>150506</td>\n",
       "      <td>0006641040</td>\n",
       "      <td>A2IW4PEEKO2R0U</td>\n",
       "      <td>Tracy</td>\n",
       "      <td>1</td>\n",
       "      <td>1</td>\n",
       "      <td>positive</td>\n",
       "      <td>1194739200</td>\n",
       "      <td>Love the book, miss the hard cover version</td>\n",
       "      <td>I grew up reading these Sendak books, and watc...</td>\n",
       "    </tr>\n",
       "    <tr>\n",
       "      <th>138689</th>\n",
       "      <td>150507</td>\n",
       "      <td>0006641040</td>\n",
       "      <td>A1S4A3IQ2MU7V4</td>\n",
       "      <td>sally sue \"sally sue\"</td>\n",
       "      <td>1</td>\n",
       "      <td>1</td>\n",
       "      <td>positive</td>\n",
       "      <td>1191456000</td>\n",
       "      <td>chicken soup with rice months</td>\n",
       "      <td>This is a fun way for children to learn their ...</td>\n",
       "    </tr>\n",
       "    <tr>\n",
       "      <th>138690</th>\n",
       "      <td>150508</td>\n",
       "      <td>0006641040</td>\n",
       "      <td>AZGXZ2UUK6X</td>\n",
       "      <td>Catherine Hallberg \"(Kate)\"</td>\n",
       "      <td>1</td>\n",
       "      <td>1</td>\n",
       "      <td>positive</td>\n",
       "      <td>1076025600</td>\n",
       "      <td>a good swingy rhythm for reading aloud</td>\n",
       "      <td>This is a great little book to read aloud- it ...</td>\n",
       "    </tr>\n",
       "    <tr>\n",
       "      <th>138691</th>\n",
       "      <td>150509</td>\n",
       "      <td>0006641040</td>\n",
       "      <td>A3CMRKGE0P909G</td>\n",
       "      <td>Teresa</td>\n",
       "      <td>3</td>\n",
       "      <td>4</td>\n",
       "      <td>positive</td>\n",
       "      <td>1018396800</td>\n",
       "      <td>A great way to learn the months</td>\n",
       "      <td>This is a book of poetry about the months of t...</td>\n",
       "    </tr>\n",
       "    <tr>\n",
       "      <th>138693</th>\n",
       "      <td>150511</td>\n",
       "      <td>0006641040</td>\n",
       "      <td>A1C9K534BCI9GO</td>\n",
       "      <td>Laura Purdie Salas</td>\n",
       "      <td>0</td>\n",
       "      <td>0</td>\n",
       "      <td>positive</td>\n",
       "      <td>1344211200</td>\n",
       "      <td>Charming and childlike</td>\n",
       "      <td>A charming, rhyming book that describes the ci...</td>\n",
       "    </tr>\n",
       "    <tr>\n",
       "      <th>138704</th>\n",
       "      <td>150522</td>\n",
       "      <td>0006641040</td>\n",
       "      <td>A1S3C5OFU508P3</td>\n",
       "      <td>Charles Ashbacher</td>\n",
       "      <td>0</td>\n",
       "      <td>0</td>\n",
       "      <td>positive</td>\n",
       "      <td>1219536000</td>\n",
       "      <td>Children will find it entertaining and a gener...</td>\n",
       "      <td>This book contains a collection of twelve shor...</td>\n",
       "    </tr>\n",
       "    <tr>\n",
       "      <th>138695</th>\n",
       "      <td>150513</td>\n",
       "      <td>0006641040</td>\n",
       "      <td>ASH0DZQQF6AIZ</td>\n",
       "      <td>tessarat</td>\n",
       "      <td>0</td>\n",
       "      <td>0</td>\n",
       "      <td>positive</td>\n",
       "      <td>1325721600</td>\n",
       "      <td>A classic</td>\n",
       "      <td>I remembered this book from my childhood and g...</td>\n",
       "    </tr>\n",
       "    <tr>\n",
       "      <th>138694</th>\n",
       "      <td>150512</td>\n",
       "      <td>0006641040</td>\n",
       "      <td>A1DJXZA5V5FFVA</td>\n",
       "      <td>A. Conway</td>\n",
       "      <td>0</td>\n",
       "      <td>0</td>\n",
       "      <td>positive</td>\n",
       "      <td>1338249600</td>\n",
       "      <td>Must have.</td>\n",
       "      <td>I set aside at least an hour each day to read ...</td>\n",
       "    </tr>\n",
       "    <tr>\n",
       "      <th>138697</th>\n",
       "      <td>150515</td>\n",
       "      <td>0006641040</td>\n",
       "      <td>A2RTT81R6Y3R7X</td>\n",
       "      <td>Lindylu</td>\n",
       "      <td>0</td>\n",
       "      <td>0</td>\n",
       "      <td>positive</td>\n",
       "      <td>1303171200</td>\n",
       "      <td>One of our family's favorite books</td>\n",
       "      <td>This book is a family favorite and was read to...</td>\n",
       "    </tr>\n",
       "    <tr>\n",
       "      <th>138687</th>\n",
       "      <td>150505</td>\n",
       "      <td>0006641040</td>\n",
       "      <td>A2PTSM496CF40Z</td>\n",
       "      <td>Jason A. Teeple \"Nobody made a greater mistak...</td>\n",
       "      <td>1</td>\n",
       "      <td>1</td>\n",
       "      <td>positive</td>\n",
       "      <td>1210809600</td>\n",
       "      <td>A classic</td>\n",
       "      <td>Get the movie or sound track and sing along wi...</td>\n",
       "    </tr>\n",
       "    <tr>\n",
       "      <th>138698</th>\n",
       "      <td>150516</td>\n",
       "      <td>0006641040</td>\n",
       "      <td>A3OI7ZGH6WZJ5G</td>\n",
       "      <td>Mary Jane Rogers \"Maedchen\"</td>\n",
       "      <td>0</td>\n",
       "      <td>0</td>\n",
       "      <td>positive</td>\n",
       "      <td>1293840000</td>\n",
       "      <td>Darling!</td>\n",
       "      <td>The same author wrote \"Where the Wild Things A...</td>\n",
       "    </tr>\n",
       "    <tr>\n",
       "      <th>138700</th>\n",
       "      <td>150518</td>\n",
       "      <td>0006641040</td>\n",
       "      <td>AK1L4EJBA23JF</td>\n",
       "      <td>L. M. Kraus</td>\n",
       "      <td>0</td>\n",
       "      <td>0</td>\n",
       "      <td>positive</td>\n",
       "      <td>1288224000</td>\n",
       "      <td>love this book</td>\n",
       "      <td>Great book, perfect condition arrived in a sho...</td>\n",
       "    </tr>\n",
       "    <tr>\n",
       "      <th>138701</th>\n",
       "      <td>150519</td>\n",
       "      <td>0006641040</td>\n",
       "      <td>A12HY5OZ2QNK4N</td>\n",
       "      <td>Elizabeth H. Roessner</td>\n",
       "      <td>0</td>\n",
       "      <td>0</td>\n",
       "      <td>positive</td>\n",
       "      <td>1256774400</td>\n",
       "      <td>It's a great book!</td>\n",
       "      <td>I've always loved chicken soup and rice. My la...</td>\n",
       "    </tr>\n",
       "    <tr>\n",
       "      <th>...</th>\n",
       "      <td>...</td>\n",
       "      <td>...</td>\n",
       "      <td>...</td>\n",
       "      <td>...</td>\n",
       "      <td>...</td>\n",
       "      <td>...</td>\n",
       "      <td>...</td>\n",
       "      <td>...</td>\n",
       "      <td>...</td>\n",
       "      <td>...</td>\n",
       "    </tr>\n",
       "    <tr>\n",
       "      <th>237591</th>\n",
       "      <td>257770</td>\n",
       "      <td>B009O0U2SW</td>\n",
       "      <td>A16HJRHRHNSUZ6</td>\n",
       "      <td>Danielle Tietz</td>\n",
       "      <td>3</td>\n",
       "      <td>3</td>\n",
       "      <td>positive</td>\n",
       "      <td>1350259200</td>\n",
       "      <td>The flowers look great!</td>\n",
       "      <td>A friend of mine recently planted these Christ...</td>\n",
       "    </tr>\n",
       "    <tr>\n",
       "      <th>428371</th>\n",
       "      <td>463255</td>\n",
       "      <td>B009O753WA</td>\n",
       "      <td>A2UAKIEWZLQCUE</td>\n",
       "      <td>Cindy S.</td>\n",
       "      <td>0</td>\n",
       "      <td>0</td>\n",
       "      <td>positive</td>\n",
       "      <td>1350777600</td>\n",
       "      <td>Shhhhh...it's a surprise!</td>\n",
       "      <td>I recently had the set of Apple Blossom Amaryl...</td>\n",
       "    </tr>\n",
       "    <tr>\n",
       "      <th>195185</th>\n",
       "      <td>211594</td>\n",
       "      <td>B009O7DGEW</td>\n",
       "      <td>A2UAKIEWZLQCUE</td>\n",
       "      <td>Cindy S.</td>\n",
       "      <td>0</td>\n",
       "      <td>0</td>\n",
       "      <td>positive</td>\n",
       "      <td>1350777600</td>\n",
       "      <td>Christmas Bulbs</td>\n",
       "      <td>I gave these bulbs to the receptionist at my l...</td>\n",
       "    </tr>\n",
       "    <tr>\n",
       "      <th>494393</th>\n",
       "      <td>534495</td>\n",
       "      <td>B009OY38SY</td>\n",
       "      <td>A1H1OCLG2B4AEQ</td>\n",
       "      <td>base64</td>\n",
       "      <td>0</td>\n",
       "      <td>0</td>\n",
       "      <td>positive</td>\n",
       "      <td>1350604800</td>\n",
       "      <td>Tastes good, works well</td>\n",
       "      <td>I tried this after reading the ingredients whi...</td>\n",
       "    </tr>\n",
       "    <tr>\n",
       "      <th>430102</th>\n",
       "      <td>465120</td>\n",
       "      <td>B009PCDDO4</td>\n",
       "      <td>A2II09GQGWOMTQ</td>\n",
       "      <td>Brian Nallick \"METALMANMN\"</td>\n",
       "      <td>1</td>\n",
       "      <td>1</td>\n",
       "      <td>positive</td>\n",
       "      <td>1350345600</td>\n",
       "      <td>Feeling blue?</td>\n",
       "      <td>I usually drink Green Machine but I really wan...</td>\n",
       "    </tr>\n",
       "    <tr>\n",
       "      <th>264734</th>\n",
       "      <td>286941</td>\n",
       "      <td>B009PFJUF2</td>\n",
       "      <td>A2UAKIEWZLQCUE</td>\n",
       "      <td>Cindy S.</td>\n",
       "      <td>1</td>\n",
       "      <td>1</td>\n",
       "      <td>positive</td>\n",
       "      <td>1350777600</td>\n",
       "      <td>Amazing color</td>\n",
       "      <td>I have purchased several other Amaryllis from ...</td>\n",
       "    </tr>\n",
       "    <tr>\n",
       "      <th>264735</th>\n",
       "      <td>286942</td>\n",
       "      <td>B009PFJUF2</td>\n",
       "      <td>A16HJRHRHNSUZ6</td>\n",
       "      <td>Danielle Tietz</td>\n",
       "      <td>1</td>\n",
       "      <td>1</td>\n",
       "      <td>positive</td>\n",
       "      <td>1350432000</td>\n",
       "      <td>Looks very pretty when in bloom!</td>\n",
       "      <td>My neighborhood recently decided to create a n...</td>\n",
       "    </tr>\n",
       "    <tr>\n",
       "      <th>241028</th>\n",
       "      <td>261429</td>\n",
       "      <td>B009PG8MVO</td>\n",
       "      <td>A2UAKIEWZLQCUE</td>\n",
       "      <td>Cindy S.</td>\n",
       "      <td>0</td>\n",
       "      <td>0</td>\n",
       "      <td>positive</td>\n",
       "      <td>1350777600</td>\n",
       "      <td>On the first day of Christmas....</td>\n",
       "      <td>....my true love gave to me, a Christmas Bloom...</td>\n",
       "    </tr>\n",
       "    <tr>\n",
       "      <th>269822</th>\n",
       "      <td>292509</td>\n",
       "      <td>B009PIAFTE</td>\n",
       "      <td>A00489763J7YUCSN6CP7K</td>\n",
       "      <td>Andrea Llyod</td>\n",
       "      <td>0</td>\n",
       "      <td>0</td>\n",
       "      <td>positive</td>\n",
       "      <td>1351036800</td>\n",
       "      <td>Truly delicious</td>\n",
       "      <td>I was a bit hesitant to buy this tea due to th...</td>\n",
       "    </tr>\n",
       "    <tr>\n",
       "      <th>343072</th>\n",
       "      <td>371148</td>\n",
       "      <td>B009PICJTS</td>\n",
       "      <td>A09229701Z8W88AD38877</td>\n",
       "      <td>Kristi Greene</td>\n",
       "      <td>0</td>\n",
       "      <td>0</td>\n",
       "      <td>positive</td>\n",
       "      <td>1350518400</td>\n",
       "      <td>One of the best I've had</td>\n",
       "      <td>I am an avid tea drinker and enjoy my tea warm...</td>\n",
       "    </tr>\n",
       "    <tr>\n",
       "      <th>427660</th>\n",
       "      <td>462501</td>\n",
       "      <td>B009PIEW3O</td>\n",
       "      <td>A0849196AFU725N8S7RS</td>\n",
       "      <td>Brady Gibson</td>\n",
       "      <td>0</td>\n",
       "      <td>0</td>\n",
       "      <td>positive</td>\n",
       "      <td>1350518400</td>\n",
       "      <td>Pure and Delicious Iced Tea</td>\n",
       "      <td>My wife and I have been using unsweetened iced...</td>\n",
       "    </tr>\n",
       "    <tr>\n",
       "      <th>184728</th>\n",
       "      <td>200383</td>\n",
       "      <td>B009RE0Y5G</td>\n",
       "      <td>A3M2YJ76LOMNBK</td>\n",
       "      <td>turbo418</td>\n",
       "      <td>0</td>\n",
       "      <td>0</td>\n",
       "      <td>positive</td>\n",
       "      <td>1350864000</td>\n",
       "      <td>This product is AMAZING!!! And way INEXPENSIVE!!</td>\n",
       "      <td>Any product by My Personal Pantry is so delici...</td>\n",
       "    </tr>\n",
       "    <tr>\n",
       "      <th>178145</th>\n",
       "      <td>193174</td>\n",
       "      <td>B009RSR8HO</td>\n",
       "      <td>A4P6AN2L435PV</td>\n",
       "      <td>romarc</td>\n",
       "      <td>0</td>\n",
       "      <td>0</td>\n",
       "      <td>positive</td>\n",
       "      <td>1350432000</td>\n",
       "      <td>LOVE!!  LOVE!!</td>\n",
       "      <td>LOVE, LOVE this sweetener!!  I use it in all m...</td>\n",
       "    </tr>\n",
       "    <tr>\n",
       "      <th>178144</th>\n",
       "      <td>193173</td>\n",
       "      <td>B009RSR8HO</td>\n",
       "      <td>A34TVEXPHSSPBV</td>\n",
       "      <td>Beth</td>\n",
       "      <td>0</td>\n",
       "      <td>0</td>\n",
       "      <td>positive</td>\n",
       "      <td>1350432000</td>\n",
       "      <td>Love it!</td>\n",
       "      <td>I love this sweetener.  I use it to replace su...</td>\n",
       "    </tr>\n",
       "    <tr>\n",
       "      <th>178146</th>\n",
       "      <td>193175</td>\n",
       "      <td>B009RSR8HO</td>\n",
       "      <td>A1A0PMN417S4V9</td>\n",
       "      <td>mamaelle \"mamaelle\"</td>\n",
       "      <td>0</td>\n",
       "      <td>0</td>\n",
       "      <td>positive</td>\n",
       "      <td>1350432000</td>\n",
       "      <td>YAY! No Dextrose!!</td>\n",
       "      <td>Packets of powdered sweeteners usually have a ...</td>\n",
       "    </tr>\n",
       "    <tr>\n",
       "      <th>178147</th>\n",
       "      <td>193176</td>\n",
       "      <td>B009RSR8HO</td>\n",
       "      <td>A76WHW051R3KV</td>\n",
       "      <td>Shawn \"Shawn\"</td>\n",
       "      <td>0</td>\n",
       "      <td>0</td>\n",
       "      <td>positive</td>\n",
       "      <td>1350432000</td>\n",
       "      <td>My #1 Sweetener of choice</td>\n",
       "      <td>What a wonderful product! It's perfect to use ...</td>\n",
       "    </tr>\n",
       "    <tr>\n",
       "      <th>178143</th>\n",
       "      <td>193172</td>\n",
       "      <td>B009RSR8HO</td>\n",
       "      <td>A3JJTHP8T7A8LY</td>\n",
       "      <td>Joanne Eklund \"Joanne\"</td>\n",
       "      <td>0</td>\n",
       "      <td>0</td>\n",
       "      <td>positive</td>\n",
       "      <td>1350432000</td>\n",
       "      <td>Zero</td>\n",
       "      <td>FTS Zero is the best sweetener I have ever tri...</td>\n",
       "    </tr>\n",
       "    <tr>\n",
       "      <th>178141</th>\n",
       "      <td>193170</td>\n",
       "      <td>B009RSR8HO</td>\n",
       "      <td>A1TNEJA68OD7ZH</td>\n",
       "      <td>morgan</td>\n",
       "      <td>0</td>\n",
       "      <td>0</td>\n",
       "      <td>positive</td>\n",
       "      <td>1350518400</td>\n",
       "      <td>Fat to Skinny Zero Sweetner</td>\n",
       "      <td>This is what I use when I'm baking instead of ...</td>\n",
       "    </tr>\n",
       "    <tr>\n",
       "      <th>178142</th>\n",
       "      <td>193171</td>\n",
       "      <td>B009RSR8HO</td>\n",
       "      <td>AH2FVNP7Z6PZH</td>\n",
       "      <td>Marty Campbell</td>\n",
       "      <td>0</td>\n",
       "      <td>0</td>\n",
       "      <td>positive</td>\n",
       "      <td>1350432000</td>\n",
       "      <td>The BEST sugar replacement on the market!</td>\n",
       "      <td>I've been using Fat to Skinny Zero since it wa...</td>\n",
       "    </tr>\n",
       "    <tr>\n",
       "      <th>178137</th>\n",
       "      <td>193166</td>\n",
       "      <td>B009RSR8HO</td>\n",
       "      <td>AD0V42PRKCDBM</td>\n",
       "      <td>Rachelle</td>\n",
       "      <td>0</td>\n",
       "      <td>0</td>\n",
       "      <td>positive</td>\n",
       "      <td>1350777600</td>\n",
       "      <td>Best sweetner ever!!!</td>\n",
       "      <td>This sweetner is so great. A little bit goes a...</td>\n",
       "    </tr>\n",
       "    <tr>\n",
       "      <th>178134</th>\n",
       "      <td>193163</td>\n",
       "      <td>B009RSR8HO</td>\n",
       "      <td>A1QX7TAALGCUKM</td>\n",
       "      <td>H.B. \"H.B.\"</td>\n",
       "      <td>2</td>\n",
       "      <td>2</td>\n",
       "      <td>positive</td>\n",
       "      <td>1350432000</td>\n",
       "      <td>The Best Sweetener I've Ever Used!</td>\n",
       "      <td>I have been using this product a bit over six ...</td>\n",
       "    </tr>\n",
       "    <tr>\n",
       "      <th>178136</th>\n",
       "      <td>193165</td>\n",
       "      <td>B009RSR8HO</td>\n",
       "      <td>A1I08MP3H92U6R</td>\n",
       "      <td>Thomas</td>\n",
       "      <td>1</td>\n",
       "      <td>1</td>\n",
       "      <td>positive</td>\n",
       "      <td>1350432000</td>\n",
       "      <td>Would not use any other sweetener</td>\n",
       "      <td>I have been using the Fat To Skinny Zero sweet...</td>\n",
       "    </tr>\n",
       "    <tr>\n",
       "      <th>178135</th>\n",
       "      <td>193164</td>\n",
       "      <td>B009RSR8HO</td>\n",
       "      <td>A2IZG2VYD476QH</td>\n",
       "      <td>CSTreviso</td>\n",
       "      <td>1</td>\n",
       "      <td>1</td>\n",
       "      <td>positive</td>\n",
       "      <td>1350432000</td>\n",
       "      <td>Love This Stuff!</td>\n",
       "      <td>Fat to Skinny Zero is a wonderful sweetener! I...</td>\n",
       "    </tr>\n",
       "    <tr>\n",
       "      <th>178138</th>\n",
       "      <td>193167</td>\n",
       "      <td>B009RSR8HO</td>\n",
       "      <td>A5F9OUO3F2N7C</td>\n",
       "      <td>Jan</td>\n",
       "      <td>0</td>\n",
       "      <td>0</td>\n",
       "      <td>positive</td>\n",
       "      <td>1350604800</td>\n",
       "      <td>The Best Ever</td>\n",
       "      <td>Zero sweetner is the BEST I have ever used.One...</td>\n",
       "    </tr>\n",
       "    <tr>\n",
       "      <th>178139</th>\n",
       "      <td>193168</td>\n",
       "      <td>B009RSR8HO</td>\n",
       "      <td>A1L130V9KINC45</td>\n",
       "      <td>mildred rosa</td>\n",
       "      <td>0</td>\n",
       "      <td>0</td>\n",
       "      <td>positive</td>\n",
       "      <td>1350518400</td>\n",
       "      <td>love sweetener</td>\n",
       "      <td>Great product not too expensive easy to use. S...</td>\n",
       "    </tr>\n",
       "    <tr>\n",
       "      <th>178140</th>\n",
       "      <td>193169</td>\n",
       "      <td>B009RSR8HO</td>\n",
       "      <td>A3M3S2NCVZ8UXF</td>\n",
       "      <td>Stephanie</td>\n",
       "      <td>0</td>\n",
       "      <td>0</td>\n",
       "      <td>positive</td>\n",
       "      <td>1350518400</td>\n",
       "      <td>Fat to Skinny zero</td>\n",
       "      <td>I have been using this product for 4 months no...</td>\n",
       "    </tr>\n",
       "    <tr>\n",
       "      <th>173675</th>\n",
       "      <td>188389</td>\n",
       "      <td>B009SF0TN6</td>\n",
       "      <td>A1L0GWGRK4BYPT</td>\n",
       "      <td>Bety Robinson</td>\n",
       "      <td>0</td>\n",
       "      <td>0</td>\n",
       "      <td>positive</td>\n",
       "      <td>1350518400</td>\n",
       "      <td>Amazing!! Great sauce for everything!</td>\n",
       "      <td>You have to try this sauce to believe it! It s...</td>\n",
       "    </tr>\n",
       "    <tr>\n",
       "      <th>204727</th>\n",
       "      <td>221795</td>\n",
       "      <td>B009SR4OQ2</td>\n",
       "      <td>A32A6X5KCP7ARG</td>\n",
       "      <td>sicamar</td>\n",
       "      <td>1</td>\n",
       "      <td>1</td>\n",
       "      <td>positive</td>\n",
       "      <td>1350604800</td>\n",
       "      <td>Awesome Taste</td>\n",
       "      <td>I bought this Hazelnut Paste (Nocciola Spread)...</td>\n",
       "    </tr>\n",
       "    <tr>\n",
       "      <th>5259</th>\n",
       "      <td>5703</td>\n",
       "      <td>B009WSNWC4</td>\n",
       "      <td>AMP7K1O84DH1T</td>\n",
       "      <td>ESTY</td>\n",
       "      <td>0</td>\n",
       "      <td>0</td>\n",
       "      <td>positive</td>\n",
       "      <td>1351209600</td>\n",
       "      <td>DELICIOUS</td>\n",
       "      <td>Purchased this product at a local store in NY ...</td>\n",
       "    </tr>\n",
       "    <tr>\n",
       "      <th>302474</th>\n",
       "      <td>327601</td>\n",
       "      <td>B009WVB40S</td>\n",
       "      <td>A3ME78KVX31T21</td>\n",
       "      <td>K'la</td>\n",
       "      <td>0</td>\n",
       "      <td>0</td>\n",
       "      <td>positive</td>\n",
       "      <td>1351123200</td>\n",
       "      <td>Tasty!</td>\n",
       "      <td>I purchased this to send to my son who's away ...</td>\n",
       "    </tr>\n",
       "  </tbody>\n",
       "</table>\n",
       "<p>307061 rows × 10 columns</p>\n",
       "</div>"
      ],
      "text/plain": [
       "            Id   ProductId                 UserId  \\\n",
       "138706  150524  0006641040          ACITT7DI6IDDL   \n",
       "138709  150529  0006641040          A25ACLV5KPB4W   \n",
       "138699  150517  0006641040          ABW4IC5G5G8B5   \n",
       "138686  150504  0006641040          AQEYF1AXARWJZ   \n",
       "138692  150510  0006641040          AM1MNZMYMS7D8   \n",
       "138680  150498  0006641040         A3SJWISOCP31TR   \n",
       "138707  150525  0006641040         A2QID6VCFTY51R   \n",
       "138677  150494  0006641040          AYZ0PR5QZROD1   \n",
       "138685  150503  0006641040         A3R5XMPFU8YZ4D   \n",
       "138683  150501  0006641040          AJ46FKXOVC7NR   \n",
       "138676  150493  0006641040          AMX0PJKV4PPNJ   \n",
       "138682  150500  0006641040         A1IJKK6Q1GTEAY   \n",
       "138681  150499  0006641040         A3E7R866M94L0C   \n",
       "138678  150496  0006641040         A3KKR87BJ0C595   \n",
       "138705  150523  0006641040         A2P4F2UO0UMP8C   \n",
       "138684  150502  0006641040          AVFMJ50HNO21J   \n",
       "138703  150521  0006641040         A3RMCRB2NDTDYP   \n",
       "138688  150506  0006641040         A2IW4PEEKO2R0U   \n",
       "138689  150507  0006641040         A1S4A3IQ2MU7V4   \n",
       "138690  150508  0006641040            AZGXZ2UUK6X   \n",
       "138691  150509  0006641040         A3CMRKGE0P909G   \n",
       "138693  150511  0006641040         A1C9K534BCI9GO   \n",
       "138704  150522  0006641040         A1S3C5OFU508P3   \n",
       "138695  150513  0006641040          ASH0DZQQF6AIZ   \n",
       "138694  150512  0006641040         A1DJXZA5V5FFVA   \n",
       "138697  150515  0006641040         A2RTT81R6Y3R7X   \n",
       "138687  150505  0006641040         A2PTSM496CF40Z   \n",
       "138698  150516  0006641040         A3OI7ZGH6WZJ5G   \n",
       "138700  150518  0006641040          AK1L4EJBA23JF   \n",
       "138701  150519  0006641040         A12HY5OZ2QNK4N   \n",
       "...        ...         ...                    ...   \n",
       "237591  257770  B009O0U2SW         A16HJRHRHNSUZ6   \n",
       "428371  463255  B009O753WA         A2UAKIEWZLQCUE   \n",
       "195185  211594  B009O7DGEW         A2UAKIEWZLQCUE   \n",
       "494393  534495  B009OY38SY         A1H1OCLG2B4AEQ   \n",
       "430102  465120  B009PCDDO4         A2II09GQGWOMTQ   \n",
       "264734  286941  B009PFJUF2         A2UAKIEWZLQCUE   \n",
       "264735  286942  B009PFJUF2         A16HJRHRHNSUZ6   \n",
       "241028  261429  B009PG8MVO         A2UAKIEWZLQCUE   \n",
       "269822  292509  B009PIAFTE  A00489763J7YUCSN6CP7K   \n",
       "343072  371148  B009PICJTS  A09229701Z8W88AD38877   \n",
       "427660  462501  B009PIEW3O   A0849196AFU725N8S7RS   \n",
       "184728  200383  B009RE0Y5G         A3M2YJ76LOMNBK   \n",
       "178145  193174  B009RSR8HO          A4P6AN2L435PV   \n",
       "178144  193173  B009RSR8HO         A34TVEXPHSSPBV   \n",
       "178146  193175  B009RSR8HO         A1A0PMN417S4V9   \n",
       "178147  193176  B009RSR8HO          A76WHW051R3KV   \n",
       "178143  193172  B009RSR8HO         A3JJTHP8T7A8LY   \n",
       "178141  193170  B009RSR8HO         A1TNEJA68OD7ZH   \n",
       "178142  193171  B009RSR8HO          AH2FVNP7Z6PZH   \n",
       "178137  193166  B009RSR8HO          AD0V42PRKCDBM   \n",
       "178134  193163  B009RSR8HO         A1QX7TAALGCUKM   \n",
       "178136  193165  B009RSR8HO         A1I08MP3H92U6R   \n",
       "178135  193164  B009RSR8HO         A2IZG2VYD476QH   \n",
       "178138  193167  B009RSR8HO          A5F9OUO3F2N7C   \n",
       "178139  193168  B009RSR8HO         A1L130V9KINC45   \n",
       "178140  193169  B009RSR8HO         A3M3S2NCVZ8UXF   \n",
       "173675  188389  B009SF0TN6         A1L0GWGRK4BYPT   \n",
       "204727  221795  B009SR4OQ2         A32A6X5KCP7ARG   \n",
       "5259      5703  B009WSNWC4          AMP7K1O84DH1T   \n",
       "302474  327601  B009WVB40S         A3ME78KVX31T21   \n",
       "\n",
       "                                             ProfileName  \\\n",
       "138706                                   shari zychinski   \n",
       "138709                               Matt Hetling \"Matt\"   \n",
       "138699                                       kevin clark   \n",
       "138686                         Les Sinclair \"book maven\"   \n",
       "138692                              Dr. Joshua  Grossman   \n",
       "138680                                       R. J. Wells   \n",
       "138707                                              Rick   \n",
       "138677                                 Mother of 3 girls   \n",
       "138685                     Her Royal Motherliness \"Nana\"   \n",
       "138683                                Nicholas A Mesiano   \n",
       "138676                          E. R. Bird \"Ramseelbird\"   \n",
       "138682                                        A Customer   \n",
       "138681                            L. Barker \"simienwolf\"   \n",
       "138678     Gretchen Goodfellow \"Lover of children's lit\"   \n",
       "138705             Elizabeth A. Curry \"Lovely Librarian\"   \n",
       "138684                                          Jane Doe   \n",
       "138703                                  Carol Carruthers   \n",
       "138688                                             Tracy   \n",
       "138689                             sally sue \"sally sue\"   \n",
       "138690                       Catherine Hallberg \"(Kate)\"   \n",
       "138691                                            Teresa   \n",
       "138693                                Laura Purdie Salas   \n",
       "138704                                 Charles Ashbacher   \n",
       "138695                                          tessarat   \n",
       "138694                                         A. Conway   \n",
       "138697                                           Lindylu   \n",
       "138687  Jason A. Teeple \"Nobody made a greater mistak...   \n",
       "138698                       Mary Jane Rogers \"Maedchen\"   \n",
       "138700                                       L. M. Kraus   \n",
       "138701                             Elizabeth H. Roessner   \n",
       "...                                                  ...   \n",
       "237591                                    Danielle Tietz   \n",
       "428371                                          Cindy S.   \n",
       "195185                                          Cindy S.   \n",
       "494393                                            base64   \n",
       "430102                        Brian Nallick \"METALMANMN\"   \n",
       "264734                                          Cindy S.   \n",
       "264735                                    Danielle Tietz   \n",
       "241028                                          Cindy S.   \n",
       "269822                                      Andrea Llyod   \n",
       "343072                                     Kristi Greene   \n",
       "427660                                      Brady Gibson   \n",
       "184728                                          turbo418   \n",
       "178145                                            romarc   \n",
       "178144                                              Beth   \n",
       "178146                               mamaelle \"mamaelle\"   \n",
       "178147                                     Shawn \"Shawn\"   \n",
       "178143                            Joanne Eklund \"Joanne\"   \n",
       "178141                                            morgan   \n",
       "178142                                    Marty Campbell   \n",
       "178137                                          Rachelle   \n",
       "178134                                       H.B. \"H.B.\"   \n",
       "178136                                            Thomas   \n",
       "178135                                         CSTreviso   \n",
       "178138                                               Jan   \n",
       "178139                                      mildred rosa   \n",
       "178140                                         Stephanie   \n",
       "173675                                     Bety Robinson   \n",
       "204727                                           sicamar   \n",
       "5259                                                ESTY   \n",
       "302474                                              K'la   \n",
       "\n",
       "        HelpfulnessNumerator  HelpfulnessDenominator     Score        Time  \\\n",
       "138706                     0                       0  positive   939340800   \n",
       "138709                     0                       1  positive  1108425600   \n",
       "138699                     0                       0  positive  1291075200   \n",
       "138686                     1                       1  positive  1212278400   \n",
       "138692                     0                       0  positive  1348358400   \n",
       "138680                     2                       2  positive  1176336000   \n",
       "138707                     1                       2  positive  1025481600   \n",
       "138677                     3                       3  positive  1173312000   \n",
       "138685                     1                       1  positive  1233964800   \n",
       "138683                     2                       2  positive   940809600   \n",
       "138676                    71                      72  positive  1096416000   \n",
       "138682                     2                       2  positive  1009324800   \n",
       "138681                     2                       2  positive  1065830400   \n",
       "138678                     3                       3  positive  1111363200   \n",
       "138705                     0                       0  positive  1096675200   \n",
       "138684                     1                       1  positive  1324944000   \n",
       "138703                     0                       0  positive  1243468800   \n",
       "138688                     1                       1  positive  1194739200   \n",
       "138689                     1                       1  positive  1191456000   \n",
       "138690                     1                       1  positive  1076025600   \n",
       "138691                     3                       4  positive  1018396800   \n",
       "138693                     0                       0  positive  1344211200   \n",
       "138704                     0                       0  positive  1219536000   \n",
       "138695                     0                       0  positive  1325721600   \n",
       "138694                     0                       0  positive  1338249600   \n",
       "138697                     0                       0  positive  1303171200   \n",
       "138687                     1                       1  positive  1210809600   \n",
       "138698                     0                       0  positive  1293840000   \n",
       "138700                     0                       0  positive  1288224000   \n",
       "138701                     0                       0  positive  1256774400   \n",
       "...                      ...                     ...       ...         ...   \n",
       "237591                     3                       3  positive  1350259200   \n",
       "428371                     0                       0  positive  1350777600   \n",
       "195185                     0                       0  positive  1350777600   \n",
       "494393                     0                       0  positive  1350604800   \n",
       "430102                     1                       1  positive  1350345600   \n",
       "264734                     1                       1  positive  1350777600   \n",
       "264735                     1                       1  positive  1350432000   \n",
       "241028                     0                       0  positive  1350777600   \n",
       "269822                     0                       0  positive  1351036800   \n",
       "343072                     0                       0  positive  1350518400   \n",
       "427660                     0                       0  positive  1350518400   \n",
       "184728                     0                       0  positive  1350864000   \n",
       "178145                     0                       0  positive  1350432000   \n",
       "178144                     0                       0  positive  1350432000   \n",
       "178146                     0                       0  positive  1350432000   \n",
       "178147                     0                       0  positive  1350432000   \n",
       "178143                     0                       0  positive  1350432000   \n",
       "178141                     0                       0  positive  1350518400   \n",
       "178142                     0                       0  positive  1350432000   \n",
       "178137                     0                       0  positive  1350777600   \n",
       "178134                     2                       2  positive  1350432000   \n",
       "178136                     1                       1  positive  1350432000   \n",
       "178135                     1                       1  positive  1350432000   \n",
       "178138                     0                       0  positive  1350604800   \n",
       "178139                     0                       0  positive  1350518400   \n",
       "178140                     0                       0  positive  1350518400   \n",
       "173675                     0                       0  positive  1350518400   \n",
       "204727                     1                       1  positive  1350604800   \n",
       "5259                       0                       0  positive  1351209600   \n",
       "302474                     0                       0  positive  1351123200   \n",
       "\n",
       "                                                  Summary  \\\n",
       "138706                          EVERY book is educational   \n",
       "138709                        Nice cadence, catchy rhymes   \n",
       "138699                                  good for children   \n",
       "138686                             Chicken Soup with Rice   \n",
       "138692                             Professional Mentoring   \n",
       "138680                                    A Gem of a Book   \n",
       "138707  In December it will be, my snowman's anniversa...   \n",
       "138677                                    Family favorite   \n",
       "138685                                     so fun to read   \n",
       "138683  This whole series is great way to spend time w...   \n",
       "138676  Read it once. Read it twice. Reading Chicken S...   \n",
       "138682                                 It Was a favorite!   \n",
       "138681                                  Can't explain why   \n",
       "138678            You'll use it once, you'll use it twice   \n",
       "138705                              MMMM chicken soup....   \n",
       "138684         Tiny little book, Wonderful little rhymes.   \n",
       "138703                                This book is great!   \n",
       "138688         Love the book, miss the hard cover version   \n",
       "138689                      chicken soup with rice months   \n",
       "138690             a good swingy rhythm for reading aloud   \n",
       "138691                    A great way to learn the months   \n",
       "138693                             Charming and childlike   \n",
       "138704  Children will find it entertaining and a gener...   \n",
       "138695                                          A classic   \n",
       "138694                                         Must have.   \n",
       "138697                 One of our family's favorite books   \n",
       "138687                                          A classic   \n",
       "138698                                           Darling!   \n",
       "138700                                     love this book   \n",
       "138701                                 It's a great book!   \n",
       "...                                                   ...   \n",
       "237591                            The flowers look great!   \n",
       "428371                          Shhhhh...it's a surprise!   \n",
       "195185                                    Christmas Bulbs   \n",
       "494393                            Tastes good, works well   \n",
       "430102                                      Feeling blue?   \n",
       "264734                                      Amazing color   \n",
       "264735                   Looks very pretty when in bloom!   \n",
       "241028                  On the first day of Christmas....   \n",
       "269822                                    Truly delicious   \n",
       "343072                           One of the best I've had   \n",
       "427660                        Pure and Delicious Iced Tea   \n",
       "184728   This product is AMAZING!!! And way INEXPENSIVE!!   \n",
       "178145                                     LOVE!!  LOVE!!   \n",
       "178144                                           Love it!   \n",
       "178146                                 YAY! No Dextrose!!   \n",
       "178147                          My #1 Sweetener of choice   \n",
       "178143                                               Zero   \n",
       "178141                        Fat to Skinny Zero Sweetner   \n",
       "178142          The BEST sugar replacement on the market!   \n",
       "178137                              Best sweetner ever!!!   \n",
       "178134                 The Best Sweetener I've Ever Used!   \n",
       "178136                  Would not use any other sweetener   \n",
       "178135                                   Love This Stuff!   \n",
       "178138                                      The Best Ever   \n",
       "178139                                     love sweetener   \n",
       "178140                                 Fat to Skinny zero   \n",
       "173675              Amazing!! Great sauce for everything!   \n",
       "204727                                      Awesome Taste   \n",
       "5259                                            DELICIOUS   \n",
       "302474                                             Tasty!   \n",
       "\n",
       "                                                     Text  \n",
       "138706  this witty little book makes my son laugh at l...  \n",
       "138709  In June<br />I saw a charming group<br />of ro...  \n",
       "138699  Classic children's book, can't go wrong. I rea...  \n",
       "138686  A very entertaining rhyming story--cleaver and...  \n",
       "138692  TITLE: Chicken Soup with Rice<br />AUTHOR: Mau...  \n",
       "138680  This is a wonderful little book. I loved it 40...  \n",
       "138707  My daughter loves all the \"Really Rosie\" books...  \n",
       "138677  All of my children love this book.  My first g...  \n",
       "138685  This is my grand daughter's and my favorite bo...  \n",
       "138683  I can remember seeing the show when it aired o...  \n",
       "138676  These days, when a person says, \"chicken soup\"...  \n",
       "138682  This was a favorite book of mine when I was a ...  \n",
       "138681  This book has been a favorite of mine since I ...  \n",
       "138678  One of my earliest memories is of this book.  ...  \n",
       "138705  Summary:  A young boy describes the usefulness...  \n",
       "138684  This copy is smaller than I expected (mostly b...  \n",
       "138703  My 7 year old daughter brought this book home ...  \n",
       "138688  I grew up reading these Sendak books, and watc...  \n",
       "138689  This is a fun way for children to learn their ...  \n",
       "138690  This is a great little book to read aloud- it ...  \n",
       "138691  This is a book of poetry about the months of t...  \n",
       "138693  A charming, rhyming book that describes the ci...  \n",
       "138704  This book contains a collection of twelve shor...  \n",
       "138695  I remembered this book from my childhood and g...  \n",
       "138694  I set aside at least an hour each day to read ...  \n",
       "138697  This book is a family favorite and was read to...  \n",
       "138687  Get the movie or sound track and sing along wi...  \n",
       "138698  The same author wrote \"Where the Wild Things A...  \n",
       "138700  Great book, perfect condition arrived in a sho...  \n",
       "138701  I've always loved chicken soup and rice. My la...  \n",
       "...                                                   ...  \n",
       "237591  A friend of mine recently planted these Christ...  \n",
       "428371  I recently had the set of Apple Blossom Amaryl...  \n",
       "195185  I gave these bulbs to the receptionist at my l...  \n",
       "494393  I tried this after reading the ingredients whi...  \n",
       "430102  I usually drink Green Machine but I really wan...  \n",
       "264734  I have purchased several other Amaryllis from ...  \n",
       "264735  My neighborhood recently decided to create a n...  \n",
       "241028  ....my true love gave to me, a Christmas Bloom...  \n",
       "269822  I was a bit hesitant to buy this tea due to th...  \n",
       "343072  I am an avid tea drinker and enjoy my tea warm...  \n",
       "427660  My wife and I have been using unsweetened iced...  \n",
       "184728  Any product by My Personal Pantry is so delici...  \n",
       "178145  LOVE, LOVE this sweetener!!  I use it in all m...  \n",
       "178144  I love this sweetener.  I use it to replace su...  \n",
       "178146  Packets of powdered sweeteners usually have a ...  \n",
       "178147  What a wonderful product! It's perfect to use ...  \n",
       "178143  FTS Zero is the best sweetener I have ever tri...  \n",
       "178141  This is what I use when I'm baking instead of ...  \n",
       "178142  I've been using Fat to Skinny Zero since it wa...  \n",
       "178137  This sweetner is so great. A little bit goes a...  \n",
       "178134  I have been using this product a bit over six ...  \n",
       "178136  I have been using the Fat To Skinny Zero sweet...  \n",
       "178135  Fat to Skinny Zero is a wonderful sweetener! I...  \n",
       "178138  Zero sweetner is the BEST I have ever used.One...  \n",
       "178139  Great product not too expensive easy to use. S...  \n",
       "178140  I have been using this product for 4 months no...  \n",
       "173675  You have to try this sauce to believe it! It s...  \n",
       "204727  I bought this Hazelnut Paste (Nocciola Spread)...  \n",
       "5259    Purchased this product at a local store in NY ...  \n",
       "302474  I purchased this to send to my son who's away ...  \n",
       "\n",
       "[307061 rows x 10 columns]"
      ]
     },
     "execution_count": 87,
     "metadata": {},
     "output_type": "execute_result"
    }
   ],
   "source": [
    "After_dedup[After_dedup['Score']=='positive']"
   ]
  },
  {
   "cell_type": "code",
   "execution_count": 88,
   "metadata": {},
   "outputs": [],
   "source": [
    "Prob=After_dedup[After_dedup['Score']=='positive'].size/(After_dedup[After_dedup['Score']=='negative'].size+After_dedup[After_dedup['Score']=='positive'].size)"
   ]
  },
  {
   "cell_type": "code",
   "execution_count": 89,
   "metadata": {},
   "outputs": [
    {
     "name": "stdout",
     "output_type": "stream",
     "text": [
      "The Probability of Positive Score : 0.843178067446337\n"
     ]
    }
   ],
   "source": [
    "print(\"The Probability of Positive Score :\",Prob)"
   ]
  },
  {
   "cell_type": "markdown",
   "metadata": {},
   "source": [
    "# Text Preprocessing: Stemming, stop-word removal and Lemmatization.\n",
    "\n",
    "Now that we have finished deduplication our data requires some preprocessing before we go on further with analysis and making the prediction model.\n",
    "\n",
    "Hence in the Preprocessing phase we do the following in the order below:-\n",
    "\n",
    "1. Begin by removing the html tags\n",
    "2. Remove any punctuations or limited set of special characters like , or . or # etc.\n",
    "3. Check if the word is made up of english letters and is not alpha-numeric\n",
    "4. Check to see if the length of the word is greater than 2 (as it was researched that there is no adjective in 2-letters)\n",
    "5. Convert the word to lowercase\n",
    "6. Remove Stopwords\n",
    "7. Finally Snowball Stemming the word (it was obsereved to be better than Porter Stemming)<br>\n",
    "\n",
    "After which we collect the words used to describe positive and negative reviews"
   ]
  },
  {
   "cell_type": "code",
   "execution_count": 90,
   "metadata": {},
   "outputs": [
    {
     "name": "stdout",
     "output_type": "stream",
     "text": [
      "2\n",
      "In June<br />I saw a charming group<br />of roses all begin<br />to droop<br />I pepped them up<br />with chicken soup!<br />Sprinkle once<br />sprinkle twice<br />sprinkle chicken soup<br />with rice<br /><br />This is a great book to teach children the months of the year. The repetition of the phrases and the funny little stories with accompanying pictures make for an ideal bedtime read. This isn't nearly as good as some of Sendak's other books (like Where the Wild Things are or Pierre: The Boy Who Didn't Care), but it still carries his unique brand of charm.\n"
     ]
    }
   ],
   "source": [
    "# find sentences containing HTML tags\n",
    "import re\n",
    "i=0;\n",
    "for sent in After_dedup['Text'].values:\n",
    "    if (len(re.findall('<.*?>', sent))):\n",
    "        print(i)\n",
    "        print(sent)\n",
    "        break;\n",
    "    i += 1;"
   ]
  },
  {
   "cell_type": "code",
   "execution_count": 91,
   "metadata": {},
   "outputs": [
    {
     "name": "stdout",
     "output_type": "stream",
     "text": [
      "[nltk_data] Downloading package stopwords to\n",
      "[nltk_data]     C:\\Users\\Hp\\AppData\\Roaming\\nltk_data...\n",
      "[nltk_data]   Package stopwords is already up-to-date!\n"
     ]
    },
    {
     "data": {
      "text/plain": [
       "True"
      ]
     },
     "execution_count": 91,
     "metadata": {},
     "output_type": "execute_result"
    }
   ],
   "source": [
    "import nltk\n",
    "nltk.download('stopwords')"
   ]
  },
  {
   "cell_type": "code",
   "execution_count": 92,
   "metadata": {},
   "outputs": [],
   "source": [
    "# Faced a Problem Fetching the stopwords,hence from nltk library stopwords needed to be downloaded."
   ]
  },
  {
   "cell_type": "code",
   "execution_count": 93,
   "metadata": {},
   "outputs": [
    {
     "name": "stdout",
     "output_type": "stream",
     "text": [
      "{'not', 'any', 'because', 'won', 'herself', 'them', 'where', 'been', 'each', 'haven', 'with', 'as', 'than', 'my', 'wouldn', 'weren', 'but', 'our', 'why', \"you're\", \"hasn't\", 'your', 'hasn', \"mightn't\", 'shouldn', 'up', 'these', 'all', 'off', 'm', 'needn', 's', 'theirs', 'was', 'ma', 'are', \"weren't\", 'shan', 'didn', 'too', \"that'll\", \"you've\", 'very', 'some', 'about', 'am', 'those', 'only', 'down', 'for', 'is', 'him', 'same', 'himself', 'themselves', 'mightn', 'his', \"won't\", \"needn't\", 'if', 'he', 'doing', 'by', \"mustn't\", 'before', 'should', 'who', \"couldn't\", 'into', 'don', 'most', \"shan't\", 'here', 'me', 'above', 'and', 'when', 'll', 'between', 'while', 'o', \"aren't\", 'further', 'a', 'their', 'wasn', 'no', 'what', 'which', \"should've\", 'she', 'i', 'an', \"wouldn't\", 'they', 'at', 'have', 'myself', 'both', 'few', 'own', 'after', 'so', 'hadn', 'y', 'does', 'until', 'nor', 'mustn', 'how', 'ain', 'being', 'of', \"you'll\", 'there', 'over', 'in', 'now', 'isn', 'more', 'we', 'yourselves', \"she's\", \"it's\", 'hers', \"didn't\", 'again', 'below', 'just', 'once', 'itself', 'then', 'couldn', 'aren', 'yours', 'do', 'd', 'that', 'has', 'to', 'it', 'ours', \"haven't\", 'doesn', 'whom', 'did', 'on', 'its', 'through', 've', \"isn't\", 'yourself', 'during', 'her', \"doesn't\", 't', 'other', 'having', \"you'd\", 'were', 'against', 'will', \"wasn't\", \"hadn't\", 'you', 'ourselves', 're', 'the', \"shouldn't\", 'under', 'had', 'out', 'from', 'be', \"don't\", 'or', 'this', 'such', 'can'}\n",
      "************************************\n",
      "tasti\n"
     ]
    }
   ],
   "source": [
    "stop = set(stopwords.words('english')) #set of stopwords\n",
    "sno = nltk.stem.SnowballStemmer('english') #initialising the snowball stemmer\n",
    "\n",
    "def cleanhtml(sentence): #function to clean the word of any html-tags\n",
    "    cleanr = re.compile('<.*?>')\n",
    "    cleantext = re.sub(cleanr, ' ', sentence)\n",
    "    return cleantext\n",
    "def cleanpunc(sentence): #function to clean the word of any punctuation or special characters\n",
    "    cleaned = re.sub(r'[?|!|\\'|\"|#]',r'',sentence)\n",
    "    cleaned = re.sub(r'[.|,|)|(|\\|/]',r' ',cleaned)\n",
    "    return  cleaned\n",
    "print(stop)\n",
    "print('************************************')\n",
    "print(sno.stem('tasty'))"
   ]
  },
  {
   "cell_type": "code",
   "execution_count": 94,
   "metadata": {},
   "outputs": [],
   "source": [
    "stop.remove('not') #Actually before eliminating Stopwords,'not' as stopword must me removed before applying BoW technique.\n",
    "                   # After removing 'not' again executing the code the KeyError is 'not',as it is not in set."
   ]
  },
  {
   "cell_type": "code",
   "execution_count": 95,
   "metadata": {},
   "outputs": [
    {
     "name": "stdout",
     "output_type": "stream",
     "text": [
      "{'any', 'because', 'won', 'herself', 'them', 'where', 'been', 'each', 'haven', 'with', 'as', 'than', 'my', 'wouldn', 'weren', 'but', 'our', 'why', \"you're\", \"hasn't\", 'your', 'hasn', \"mightn't\", 'shouldn', 'up', 'these', 'all', 'off', 'm', 'needn', 's', 'theirs', 'was', 'ma', 'are', \"weren't\", 'shan', 'didn', 'too', \"that'll\", \"you've\", 'very', 'some', 'about', 'am', 'those', 'only', 'down', 'for', 'is', 'him', 'same', 'himself', 'themselves', 'mightn', 'his', \"won't\", \"needn't\", 'if', 'he', 'doing', 'by', \"mustn't\", 'before', 'should', 'who', \"couldn't\", 'into', 'don', 'most', \"shan't\", 'here', 'me', 'above', 'and', 'when', 'll', 'between', 'while', 'o', \"aren't\", 'further', 'a', 'their', 'wasn', 'no', 'what', 'which', \"should've\", 'she', 'i', 'an', \"wouldn't\", 'they', 'at', 'have', 'myself', 'both', 'few', 'own', 'after', 'so', 'hadn', 'y', 'does', 'until', 'nor', 'mustn', 'how', 'ain', 'being', 'of', \"you'll\", 'there', 'over', 'in', 'now', 'isn', 'more', 'we', 'yourselves', \"she's\", \"it's\", 'hers', \"didn't\", 'again', 'below', 'just', 'once', 'itself', 'then', 'couldn', 'aren', 'yours', 'do', 'd', 'that', 'has', 'to', 'it', 'ours', \"haven't\", 'doesn', 'whom', 'did', 'on', 'its', 'through', 've', \"isn't\", 'yourself', 'during', 'her', \"doesn't\", 't', 'other', 'having', \"you'd\", 'were', 'against', 'will', \"wasn't\", \"hadn't\", 'you', 'ourselves', 're', 'the', \"shouldn't\", 'under', 'had', 'out', 'from', 'be', \"don't\", 'or', 'this', 'such', 'can'}\n"
     ]
    }
   ],
   "source": [
    "print(stop)"
   ]
  },
  {
   "cell_type": "code",
   "execution_count": 96,
   "metadata": {},
   "outputs": [],
   "source": [
    "#Code for implementing step-by-step the checks mentioned in the pre-processing phase\n",
    "# this code takes a while to run as it needs to run on 500k sentences.\n",
    "i=0\n",
    "str1=' '\n",
    "final_string=[]\n",
    "all_positive_words=[] # store words from +ve reviews here\n",
    "all_negative_words=[] # store words from -ve reviews here.\n",
    "s=''\n",
    "for sent in After_dedup['Text'].values:\n",
    "    filtered_sentence=[]\n",
    "    #print(sent);\n",
    "    sent=cleanhtml(sent) # remove HTMl tags\n",
    "    for w in sent.split():\n",
    "        for cleaned_words in cleanpunc(w).split():\n",
    "            if((cleaned_words.isalpha()) & (len(cleaned_words)>2)):    \n",
    "                if(cleaned_words.lower() not in stop):\n",
    "                    s=(sno.stem(cleaned_words.lower())).encode('utf8')\n",
    "                    filtered_sentence.append(s)\n",
    "                    if (After_dedup['Score'].values)[i] == 'positive': \n",
    "                        all_positive_words.append(s) #list of all words used to describe positive reviews\n",
    "                    if(After_dedup['Score'].values)[i] == 'negative':\n",
    "                        all_negative_words.append(s) #list of all words used to describe negative reviews reviews\n",
    "                else:\n",
    "                    continue\n",
    "            else:\n",
    "                continue \n",
    "    #print(filtered_sentence)\n",
    "    str1 = b\" \".join(filtered_sentence) #final string of cleaned words\n",
    "    #print(\"***********************************************************************\")\n",
    "    \n",
    "    final_string.append(str1)\n",
    "    i+=1"
   ]
  },
  {
   "cell_type": "code",
   "execution_count": 97,
   "metadata": {},
   "outputs": [],
   "source": [
    "After_dedup['CleanedText']=final_string #adding a column of CleanedText which displays the data after pre-processing of the review \n",
    "After_dedup['CleanedText']=After_dedup['CleanedText'].str.decode(\"utf-8\")"
   ]
  },
  {
   "cell_type": "code",
   "execution_count": 98,
   "metadata": {},
   "outputs": [],
   "source": [
    "After_dedup.head(3) #below the processed review can be seen in the CleanedText Column \n",
    "\n",
    "\n",
    "# store final table into an SQlLite table for future.\n",
    "conn = sqlite3.connect('After_dedup.sqlite')\n",
    "c=conn.cursor()\n",
    "conn.text_factory = str\n",
    "After_dedup.to_sql('Reviews', conn,  schema=None, if_exists='replace', index=True, index_label=None, chunksize=None, dtype=None)"
   ]
  },
  {
   "cell_type": "markdown",
   "metadata": {},
   "source": [
    "# Bag of Words (BoW)"
   ]
  },
  {
   "cell_type": "code",
   "execution_count": 99,
   "metadata": {},
   "outputs": [
    {
     "name": "stdout",
     "output_type": "stream",
     "text": [
      "the type of count vectorizer  <class 'scipy.sparse.csr.csr_matrix'>\n",
      "the shape of out text BOW vectorizer  (364171, 71625)\n",
      "the number of unique words  71625\n"
     ]
    }
   ],
   "source": [
    "#BoW\n",
    "count_vect = CountVectorizer() #in scikit-learn\n",
    "final_counts = count_vect.fit_transform(After_dedup['CleanedText'].values)\n",
    "print(\"the type of count vectorizer \",type(final_counts))\n",
    "print(\"the shape of out text BOW vectorizer \",final_counts.get_shape())\n",
    "print(\"the number of unique words \", final_counts.get_shape()[1])"
   ]
  },
  {
   "cell_type": "markdown",
   "metadata": {},
   "source": [
    "#  Bi-Grams and n-Grams.\n",
    "\n",
    "\n",
    "Now that we have our list of words describing positive and negative reviews lets analyse them.<br>\n",
    "\n",
    "We begin analysis by getting the frequency distribution of the words as shown below"
   ]
  },
  {
   "cell_type": "code",
   "execution_count": 100,
   "metadata": {},
   "outputs": [
    {
     "name": "stdout",
     "output_type": "stream",
     "text": [
      "Most Common Positive Words :  [(b'not', 146797), (b'like', 139429), (b'tast', 129047), (b'good', 112766), (b'flavor', 109624), (b'love', 107357), (b'use', 103888), (b'great', 103870), (b'one', 96726), (b'product', 91033), (b'tri', 86791), (b'tea', 83888), (b'coffe', 78814), (b'make', 75107), (b'get', 72125), (b'food', 64802), (b'would', 55568), (b'time', 55264), (b'buy', 54198), (b'realli', 52715)]\n",
      "Most Common Negative Words :  [(b'not', 54378), (b'tast', 34585), (b'like', 32330), (b'product', 28218), (b'one', 20569), (b'flavor', 19575), (b'would', 17972), (b'tri', 17753), (b'use', 15302), (b'good', 15041), (b'coffe', 14716), (b'get', 13786), (b'buy', 13752), (b'order', 12871), (b'food', 12754), (b'dont', 11877), (b'tea', 11665), (b'even', 11085), (b'box', 10844), (b'amazon', 10073)]\n"
     ]
    }
   ],
   "source": [
    "freq_dist_positive=nltk.FreqDist(all_positive_words)\n",
    "freq_dist_negative=nltk.FreqDist(all_negative_words)\n",
    "print(\"Most Common Positive Words : \",freq_dist_positive.most_common(20))\n",
    "print(\"Most Common Negative Words : \",freq_dist_negative.most_common(20))"
   ]
  },
  {
   "cell_type": "markdown",
   "metadata": {},
   "source": [
    "<b>Observation:-</b> From the above it can be seen that the most common positive and the negative words overlap for eg. 'not' could be used as 'not costly','not so bad' etc.But it arrises ambiguity as well. <br>\n",
    "So, it is a good idea to consider pairs of consequent words (bi-grams) or sequnce of n consecutive words (n-grams)"
   ]
  },
  {
   "cell_type": "code",
   "execution_count": 101,
   "metadata": {},
   "outputs": [
    {
     "name": "stdout",
     "output_type": "stream",
     "text": [
      "the type of count vectorizer  <class 'scipy.sparse.csr.csr_matrix'>\n",
      "the shape of out text BOW vectorizer  (364171, 2905338)\n",
      "the number of unique words including both unigrams and bigrams  2905338\n"
     ]
    }
   ],
   "source": [
    "#bi-gram, tri-gram and n-gram\n",
    "\n",
    "#removing stop words like \"not\" should be avoided before building n-grams\n",
    "count_vect = CountVectorizer(ngram_range=(1,2) ) #in scikit-learn\n",
    "final_bigram_counts = count_vect.fit_transform(After_dedup['CleanedText'].values)\n",
    "print(\"the type of count vectorizer \",type(final_bigram_counts))\n",
    "print(\"the shape of out text BOW vectorizer \",final_bigram_counts.get_shape())\n",
    "print(\"the number of unique words including both unigrams and bigrams \", final_bigram_counts.get_shape()[1])"
   ]
  },
  {
   "cell_type": "markdown",
   "metadata": {},
   "source": [
    "#  TF-IDF"
   ]
  },
  {
   "cell_type": "code",
   "execution_count": 102,
   "metadata": {},
   "outputs": [
    {
     "name": "stdout",
     "output_type": "stream",
     "text": [
      "the type of count vectorizer  <class 'scipy.sparse.csr.csr_matrix'>\n",
      "the shape of out text TFIDF vectorizer  (364171, 2905338)\n",
      "the number of unique words including both unigrams and bigrams  2905338\n"
     ]
    }
   ],
   "source": [
    "tf_idf_vect = TfidfVectorizer(ngram_range=(1,2))\n",
    "final_tf_idf = tf_idf_vect.fit_transform(After_dedup['CleanedText'].values)\n",
    "print(\"the type of count vectorizer \",type(final_tf_idf))\n",
    "print(\"the shape of out text TFIDF vectorizer \",final_tf_idf.get_shape())\n",
    "print(\"the number of unique words including both unigrams and bigrams \", final_tf_idf.get_shape()[1])"
   ]
  },
  {
   "cell_type": "code",
   "execution_count": 103,
   "metadata": {},
   "outputs": [
    {
     "name": "stdout",
     "output_type": "stream",
     "text": [
      "some sample features(unique words in the corpus) ['anyhow bare', 'anyhow big', 'anyhow bit', 'anyhow blend', 'anyhow bought', 'anyhow brew', 'anyhow brought', 'anyhow buy', 'anyhow call', 'anyhow cat']\n"
     ]
    }
   ],
   "source": [
    "features = tf_idf_vect.get_feature_names()\n",
    "print(\"some sample features(unique words in the corpus)\",features[100000:100010])"
   ]
  },
  {
   "cell_type": "code",
   "execution_count": 104,
   "metadata": {},
   "outputs": [],
   "source": [
    "final_tf_idf_data=final_tf_idf[:500,:500]"
   ]
  },
  {
   "cell_type": "code",
   "execution_count": 105,
   "metadata": {},
   "outputs": [],
   "source": [
    "# source: https://buhrmann.github.io/tfidf-analysis.html\n",
    "def top_tfidf_feats(row, features, top_n=25):\n",
    "    ''' Get top n tfidf values in row and return them with their corresponding feature names.'''\n",
    "    topn_ids = np.argsort(row)[::-1][:top_n]\n",
    "    top_feats = [(features[i], row[i]) for i in topn_ids]\n",
    "    df = pd.DataFrame(top_feats)\n",
    "    df.columns = ['feature', 'tfidf']\n",
    "    return df\n",
    "\n",
    "top_tfidf = top_tfidf_feats(final_tf_idf[1,:].toarray()[0],features,25)"
   ]
  },
  {
   "cell_type": "code",
   "execution_count": 106,
   "metadata": {},
   "outputs": [
    {
     "data": {
      "text/html": [
       "<div>\n",
       "<style scoped>\n",
       "    .dataframe tbody tr th:only-of-type {\n",
       "        vertical-align: middle;\n",
       "    }\n",
       "\n",
       "    .dataframe tbody tr th {\n",
       "        vertical-align: top;\n",
       "    }\n",
       "\n",
       "    .dataframe thead th {\n",
       "        text-align: right;\n",
       "    }\n",
       "</style>\n",
       "<table border=\"1\" class=\"dataframe\">\n",
       "  <thead>\n",
       "    <tr style=\"text-align: right;\">\n",
       "      <th></th>\n",
       "      <th>feature</th>\n",
       "      <th>tfidf</th>\n",
       "    </tr>\n",
       "  </thead>\n",
       "  <tbody>\n",
       "    <tr>\n",
       "      <th>0</th>\n",
       "      <td>portray one</td>\n",
       "      <td>0.228982</td>\n",
       "    </tr>\n",
       "    <tr>\n",
       "      <th>1</th>\n",
       "      <td>regard bewilder</td>\n",
       "      <td>0.228982</td>\n",
       "    </tr>\n",
       "    <tr>\n",
       "      <th>2</th>\n",
       "      <td>written mini</td>\n",
       "      <td>0.228982</td>\n",
       "    </tr>\n",
       "    <tr>\n",
       "      <th>3</th>\n",
       "      <td>bewilder amazon</td>\n",
       "      <td>0.228982</td>\n",
       "    </tr>\n",
       "    <tr>\n",
       "      <th>4</th>\n",
       "      <td>book ever</td>\n",
       "      <td>0.228982</td>\n",
       "    </tr>\n",
       "    <tr>\n",
       "      <th>5</th>\n",
       "      <td>version book</td>\n",
       "      <td>0.221901</td>\n",
       "    </tr>\n",
       "    <tr>\n",
       "      <th>6</th>\n",
       "      <td>bewilder</td>\n",
       "      <td>0.221901</td>\n",
       "    </tr>\n",
       "    <tr>\n",
       "      <th>7</th>\n",
       "      <td>book</td>\n",
       "      <td>0.221624</td>\n",
       "    </tr>\n",
       "    <tr>\n",
       "      <th>8</th>\n",
       "      <td>not portray</td>\n",
       "      <td>0.216877</td>\n",
       "    </tr>\n",
       "    <tr>\n",
       "      <th>9</th>\n",
       "      <td>best children</td>\n",
       "      <td>0.207104</td>\n",
       "    </tr>\n",
       "    <tr>\n",
       "      <th>10</th>\n",
       "      <td>email regard</td>\n",
       "      <td>0.207104</td>\n",
       "    </tr>\n",
       "    <tr>\n",
       "      <th>11</th>\n",
       "      <td>children book</td>\n",
       "      <td>0.200876</td>\n",
       "    </tr>\n",
       "    <tr>\n",
       "      <th>12</th>\n",
       "      <td>book not</td>\n",
       "      <td>0.193795</td>\n",
       "    </tr>\n",
       "    <tr>\n",
       "      <th>13</th>\n",
       "      <td>mini version</td>\n",
       "      <td>0.191609</td>\n",
       "    </tr>\n",
       "    <tr>\n",
       "      <th>14</th>\n",
       "      <td>ever written</td>\n",
       "      <td>0.185587</td>\n",
       "    </tr>\n",
       "    <tr>\n",
       "      <th>15</th>\n",
       "      <td>portray</td>\n",
       "      <td>0.175404</td>\n",
       "    </tr>\n",
       "    <tr>\n",
       "      <th>16</th>\n",
       "      <td>got respons</td>\n",
       "      <td>0.170482</td>\n",
       "    </tr>\n",
       "    <tr>\n",
       "      <th>17</th>\n",
       "      <td>one price</td>\n",
       "      <td>0.161018</td>\n",
       "    </tr>\n",
       "    <tr>\n",
       "      <th>18</th>\n",
       "      <td>product sent</td>\n",
       "      <td>0.158843</td>\n",
       "    </tr>\n",
       "    <tr>\n",
       "      <th>19</th>\n",
       "      <td>sent email</td>\n",
       "      <td>0.157050</td>\n",
       "    </tr>\n",
       "    <tr>\n",
       "      <th>20</th>\n",
       "      <td>amazon got</td>\n",
       "      <td>0.148301</td>\n",
       "    </tr>\n",
       "    <tr>\n",
       "      <th>21</th>\n",
       "      <td>price product</td>\n",
       "      <td>0.130643</td>\n",
       "    </tr>\n",
       "    <tr>\n",
       "      <th>22</th>\n",
       "      <td>written</td>\n",
       "      <td>0.126095</td>\n",
       "    </tr>\n",
       "    <tr>\n",
       "      <th>23</th>\n",
       "      <td>regard</td>\n",
       "      <td>0.119062</td>\n",
       "    </tr>\n",
       "    <tr>\n",
       "      <th>24</th>\n",
       "      <td>mini</td>\n",
       "      <td>0.113870</td>\n",
       "    </tr>\n",
       "  </tbody>\n",
       "</table>\n",
       "</div>"
      ],
      "text/plain": [
       "            feature     tfidf\n",
       "0       portray one  0.228982\n",
       "1   regard bewilder  0.228982\n",
       "2      written mini  0.228982\n",
       "3   bewilder amazon  0.228982\n",
       "4         book ever  0.228982\n",
       "5      version book  0.221901\n",
       "6          bewilder  0.221901\n",
       "7              book  0.221624\n",
       "8       not portray  0.216877\n",
       "9     best children  0.207104\n",
       "10     email regard  0.207104\n",
       "11    children book  0.200876\n",
       "12         book not  0.193795\n",
       "13     mini version  0.191609\n",
       "14     ever written  0.185587\n",
       "15          portray  0.175404\n",
       "16      got respons  0.170482\n",
       "17        one price  0.161018\n",
       "18     product sent  0.158843\n",
       "19       sent email  0.157050\n",
       "20       amazon got  0.148301\n",
       "21    price product  0.130643\n",
       "22          written  0.126095\n",
       "23           regard  0.119062\n",
       "24             mini  0.113870"
      ]
     },
     "execution_count": 106,
     "metadata": {},
     "output_type": "execute_result"
    }
   ],
   "source": [
    "top_tfidf"
   ]
  },
  {
   "cell_type": "markdown",
   "metadata": {},
   "source": [
    "#  Word2Vec"
   ]
  },
  {
   "cell_type": "code",
   "execution_count": 107,
   "metadata": {},
   "outputs": [],
   "source": [
    "# Train your own Word2Vec model using own text corpus\n",
    "i=0\n",
    "list_of_sent=[]\n",
    "for sent in After_dedup['CleanedText'].values:\n",
    "    list_of_sent.append(sent.split())"
   ]
  },
  {
   "cell_type": "code",
   "execution_count": 108,
   "metadata": {},
   "outputs": [],
   "source": [
    "#It took few times as,"
   ]
  },
  {
   "cell_type": "code",
   "execution_count": 109,
   "metadata": {},
   "outputs": [
    {
     "name": "stdout",
     "output_type": "stream",
     "text": [
      "witti littl book make son laugh loud recit car drive along alway sing refrain hes learn whale india droop love new word book introduc silli classic book will bet son still abl recit memori colleg\n",
      "*****************************************************************\n",
      "['witti', 'littl', 'book', 'make', 'son', 'laugh', 'loud', 'recit', 'car', 'drive', 'along', 'alway', 'sing', 'refrain', 'hes', 'learn', 'whale', 'india', 'droop', 'love', 'new', 'word', 'book', 'introduc', 'silli', 'classic', 'book', 'will', 'bet', 'son', 'still', 'abl', 'recit', 'memori', 'colleg']\n"
     ]
    }
   ],
   "source": [
    "print(After_dedup['CleanedText'].values[0])\n",
    "print(\"*****************************************************************\")\n",
    "print(list_of_sent[0])"
   ]
  },
  {
   "cell_type": "code",
   "execution_count": 110,
   "metadata": {},
   "outputs": [],
   "source": [
    "# min_count = 5 considers only words that occured atleast 5 times\n",
    "w2v_model=Word2Vec(list_of_sent,min_count=5,size=50, workers=4)"
   ]
  },
  {
   "cell_type": "code",
   "execution_count": 111,
   "metadata": {},
   "outputs": [
    {
     "name": "stdout",
     "output_type": "stream",
     "text": [
      "number of words that occured minimum 5 times  21939\n",
      "sample words  ['witti', 'littl', 'book', 'make', 'son', 'laugh', 'loud', 'recit', 'car', 'drive', 'along', 'alway', 'sing', 'refrain', 'hes', 'learn', 'whale', 'india', 'droop', 'love', 'new', 'word', 'introduc', 'silli', 'classic', 'will', 'bet', 'still', 'abl', 'memori', 'colleg', 'one', 'best', 'children', 'ever', 'written', 'mini', 'version', 'not', 'portray', 'price', 'product', 'sent', 'email', 'regard', 'amazon', 'got', 'respons', 'june', 'saw']\n"
     ]
    }
   ],
   "source": [
    "w2v_words = list(w2v_model.wv.vocab)\n",
    "print(\"number of words that occured minimum 5 times \",len(w2v_words))\n",
    "print(\"sample words \", w2v_words[0:50])"
   ]
  },
  {
   "cell_type": "code",
   "execution_count": 112,
   "metadata": {},
   "outputs": [
    {
     "name": "stdout",
     "output_type": "stream",
     "text": [
      "['witti', 'littl', 'book', 'make', 'son', 'laugh', 'loud', 'recit', 'car', 'drive', 'along', 'alway', 'sing', 'refrain', 'hes', 'learn', 'whale', 'india', 'droop', 'love', 'new', 'word', 'introduc', 'silli', 'classic', 'will', 'bet', 'still', 'abl', 'memori', 'colleg', 'one', 'best', 'children', 'ever', 'written', 'mini', 'version', 'not', 'portray', 'price', 'product', 'sent', 'email', 'regard', 'amazon', 'got', 'respons', 'june', 'saw', 'charm', 'group', 'rose', 'begin', 'pep', 'chicken', 'soup', 'sprinkl', 'twice', 'rice', 'great', 'teach', 'month', 'year', 'repetit', 'phrase', 'funni', 'stori', 'accompani', 'pictur', 'ideal', 'bedtim', 'read', 'isnt', 'near', 'good', 'sendak', 'like', 'wild', 'thing', 'boy', 'didnt', 'care', 'carri', 'uniqu', 'brand', 'cant', 'wrong', 'kid', 'order', 'later', 'beat', 'entertain', 'rhyme', 'catchi', 'illustr', 'imagin', 'fit', 'right', 'howev', 'paperback', 'somewhat', 'small', 'flimsi', 'opt', 'bigger', 'edit', 'mauric', 'josh', 'colonel', 'rural', 'physician', 'author', 'step', 'would', 'believ', 'memor', 'copi', 'tatter', 'profession', 'adult', 'grandchildren', 'confid', 'generat', 'enjoy', 'bravo', 'thank', 'respect', 'submit', 'wonder', 'ago', 'twin', 'help', 'finish', 'cute', 'draw', 'add', 'fun', 'warn', 'toto', 'daughter', 'realli', 'rosi', 'perform', 'carol', 'king', 'also', 'avail', 'birthday', 'know', 'song', 'far', 'johnni', 'allig', 'around', 'well', 'clever', 'art', 'work', 'plus', 'cheap', 'high', 'recommend', 'first', 'grader', 'christma', 'proud', 'teacher', 'independ', 'yet', 'girl', 'especi', 'born', 'go', 'rememb', 'childhood', 'wish', 'larger', 'size', 'tend', 'get', 'lost', 'bookshelf', 'among', 'regular', 'grand', 'favorit', 'rhythm', 'actual', 'give', 'five', 'star', 'print', 'older', 'familiar', 'previous', 'granddaught', 'embarrass', 'gift', 'look', 'puni', 'postcard', 'think', 'overpr', 'ive', 'buy', 'next', 'time', 'ill', 'use', 'see', 'show', 'air', 'televis', 'child', 'sister', 'bought', 'day', 'thirti', 'someth', 'seri', 'student', 'preschool', 'turn', 'whole', 'school', 'purchas', 'tradit', 'live', 'person', 'say', 'theyr', 'probabl', 'follow', 'soul', 'mayb', 'teenag', 'way', 'said', 'enthusiast', 'power', 'pleas', 'report', 'today', 'find', 'hasnt', 'term', 'led', 'host', 'bear', 'resembl', 'tale', 'pierr', 'demeanor', 'bounci', 'combo', 'peopl', 'ostens', 'meant', 'differ', 'rhythmic', 'poem', 'fair', 'simpl', 'pen', 'ink', 'occasion', 'splash', 'blue', 'vari', 'shade', 'yellow', 'gray', 'green', 'may', 'could', 'hope', 'come', 'twelv', 'origin', 'mean', 'honest', 'much', 'even', 'fanciest', 'let', 'alon', 'quit', 'lot', 'happen', 'cold', 'winter', 'sup', 'slide', 'ice', 'celebr', 'snowman', 'gale', 'spring', 'there', 'robin', 'nest', 'cure', 'stolen', 'jealous', 'march', 'wind', 'hero', 'potenti', 'joy', 'cook', 'pot', 'stew', 'odd', 'enough', 'tree', 'degrad', 'skill', 'parent', 'everywher', 'cannot', 'audio', 'though', 'wise', 'cultur', 'kind', 'old', 'age', 'tune', 'heck', 'entir', 'recent', 'found', 'perfect', 'everi', 'line', 'particular', 'style', 'your', 'loath', 'fine', 'understand', 'might', 'want', 'taint', 'alreadi', 'exist', 'melodi', 'havent', 'jingl', 'immedi', 'sooner', 'whoopi', 'correct', 'oomph', 'miss', 'take', 'serious', 'boom', 'remain', 'method', 'danger', 'forgotten', 'pull', 'strap', 'danc', 'shoe', 'merri', 'poultri', 'broth', 'finest', 'mine', 'mom', 'two', 'either', 'given', 'away', 'anoth', 'garag', 'sale', 'condit', 'dont', 'somewher', 'attic', 'niec', 'sinc', 'introduct', 'poetri', 'humor', 'inspir', 'write', 'type', 'reminisc', 'bond', 'earliest', 'mother', 'constant', 'quot', 'fact', 'typic', 'sort', 'beg', 'groceri', 'class', 'situat', 'never', 'met', 'ask', 'sure', 'stupid', 'fan', 'poetic', 'young', 'describ', 'creativ', 'season', 'identifi', 'snowmen', 'strong', 'bird', 'flower', 'swim', 'hot', 'temperatur', 'final', 'holiday', 'throughout', 'halloween', 'octob', 'decemb', 'three', 'color', 'addit', 'educ', 'activ', 'afterward', 'bind', 'page', 'togeth', 'creat', 'smaller', 'expect', 'most', 'pay', 'attent', 'list', 'dimens', 'absolut', 'fond', 'shelf', 'mention', 'beauti', 'brought', 'home', 'librari', 'easi', 'anyway', 'start', 'return', 'better', 'hand', 'grew', 'watch', 'movi', 'incorpor', 'hard', 'cover', 'seem', 'keep', 'open', 'invent', 'nice', 'place', 'bombay', 'nile', 'eat', 'skate', 'treat', 'head', 'long', 'wont', 'came', 'surpris', 'goe', 'purpos', 'circumst', 'sound', 'recess', 'crazi', 'childlik', 'contain', 'collect', 'short', 'statement', 'end', 'base', 'element', 'nonsens', 'vers', 'reason', 'giggl', 'set', 'asid', 'least', 'hour', 'point', 'consid', 'connoisseur', 'santa', 'claus', 'put', 'weve', 'perpetu', 'taught', 'second', 'pleasur', 'suit', 'worth', 'own', 'borrow', 'deserv', 'perman', 'spot', 'famili', 'track', 'stuff', 'extend', 'heart', 'qualiti', 'music', 'wrote', 'match', 'lyric', 'fabul', 'tini', 'easili', 'misplac', 'arriv', 'amount', 'deliveri', 'date', 'late', 'ethel', 'made', 'homemad', 'back', 'father', 'went', 'hous', 'blind', 'remind', 'bring', 'happi', 'share', 'bowl', 'squeal', 'delight', 'hug', 'told', 'ador', 'true', 'sung', 'archer', 'farm', 'drink', 'mix', 'flavor', 'packet', 'water', 'bottl', 'natur', 'sweetner', 'stevia', 'real', 'fruit', 'food', 'veget', 'pure', 'tast', 'eight', 'box', 'calori', 'per', 'dog', 'pet', 'store', 'tag', 'attach', 'china', 'satisfi', 'safe', 'anymor', 'usa', 'bad', 'chanc', 'till', 'import', 'ingredi', 'unlik', 'recip', 'special', 'healthi', 'yummi', 'snack', 'align', 'raw', 'diet', 'valu', 'sell', 'local', 'freez', 'dri', 'liver', 'hypnot', 'effect', 'anyth', 'train', 'powder', 'ad', 'mani', 'medicin', 'heartworm', 'arthriti', 'tablet', 'etc', 'caus', 'scarf', 'powderi', 'chew', 'consist', 'chop', 'cube', 'extrem', 'lightweight', 'due', 'moistur', 'thus', 'low', 'weight', 'label', 'shouldnt', 'overfe', 'manufactur', 'daili', 'medium', 'larg', 'largest', 'packag', 'econom', 'tub', 'save', 'money', 'youll', 'handi', 'suppli', 'longer', 'tire', 'zero', 'wast', 'bit', 'bottom', 'dust', 'reward', 'here', 'nutrit', 'preserv', 'protein', 'less', 'fat', 'fiber', 'varieti', 'shitzus', 'big', 'run', 'hear', 'lid', 'respond', 'tri', 'prefer', 'trainer', 'stewart', 'beef', 'maltipoo', 'name', 'elvi', 'lee', 'meal', 'provid', 'walk', 'play', 'ball', 'pouch', 'refriger', 'without', 'chemic', 'attribut', 'wouldnt', 'part', 'continu', 'dice', 'moist', 'frank', 'hell', 'mile', 'expens', 'usual', 'cut', 'quarter', 'sharp', 'knife', 'last', 'review', 'note', 'crack', 'jerki', 'supplement', 'noth', 'artif', 'seek', 'multipl', 'puppi', 'call', 'heroin', 'becom', 'snap', 'smelli', 'undivid', 'session', 'slice', 'half', 'inch', 'side', 'thin', 'four', 'lengthwis', 'crosswis', 'fractur', 'addict', 'tiniest', 'sliver', 'necessari', 'reinforc', 'behavior', 'need', 'ship', 'painless', 'pack', 'extra', 'breakag', 'remark', 'ana', 'mardol', 'stay', 'clean', 'pocket', 'obey', 'command', 'suppos', 'limit', 'lab', 'nut', 'vet', 'pup', 'act', 'cat', 'catnip', 'hit', 'excel', 'motiv', 'doggi', 'interest', 'life', 'kidney', 'bean', 'kitchen', 'guess', 'that', 'pricer', 'averag', 'inconveni', 'piec', 'pretti', 'appropri', 'practic', 'full', 'junk', 'receiv', 'seal', 'top', 'decent', 'cheaper', 'light', 'huski', 'picki', 'breakfast', 'encourag', 'crumbl', 'wow', 'hesit', 'theyll', 'sandra', 'eater', 'sensit', 'stomach', 'doesnt', 'unless', 'pricey', 'lowfat', 'breez', 'current', 'samson', 'sit', 'front', 'pantri', 'drool', 'meat', 'scrap', 'filler', 'rottweil', 'chihuahua', 'problem', 'except', 'bucket', 'fast', 'issu', 'outrag', 'coffe', 'pound', 'stuck', 'owner', 'oppos', 'someon', 'profess', 'quick', 'yeah', 'shes', 'finicki', 'gather', 'uniform', 'often', 'break', 'downsid', 'tendenc', 'pant', 'rescu', 'stray', 'youd', 'shed', 'offer', 'pickier', 'seen', 'heard', 'thrown', 'bag', 'cooki', 'arent', 'process', 'grain', 'yrs', 'smell', 'delici', 'decad', 'accept', 'almost', 'ferret', 'med', 'economi', 'conveni', 'mee', 'gimborn', 'treet', 'kat', 'yoo', 'mane', 'yore', 'plastic', 'rib', 'must', 'torn', 'remov', 'tape', 'assur', 'tamper', 'donat', 'spca', 'swear', 'pronounc', 'shake', 'feel', 'hefti', 'fav', 'sourc', 'nutrient', 'trick', 'whenev', 'playmat', 'drag', 'servic', 'faucet', 'husband', 'instal', 'leak', 'fix', 'assist', 'hold', 'gone', 'dinner', 'lose', 'gentl', 'pickiest', 'world', 'exampl', 'morn', 'wake', 'win', 'deal', 'compar', 'crate', 'soon', 'notic', 'wait', 'tail', 'wag', 'horribl', 'human', 'leav', 'residu', 'behind', 'suggest', 'couldnt', 'disagre', 'english', 'bulldog', 'sole', 'voic', 'peic', 'site', 'advertis', 'fourth', 'free', 'fashion', 'disappoint', 'unhappi', 'cage', 'night', 'bed', 'readili', 'enter', 'munch', 'sleep', 'lover', 'bonker', 'lulu', 'swallow', 'whine', 'obnoxi', 'brat', 'stink', 'finger', 'fruitabl', 'repli', 'momma', 'curious', 'photo', 'post', 'variat', 'tip', 'forese', 'nose', 'altho', 'german', 'shorthair', 'pointer', 'discov', 'buzzi', 'meatbal', 'entic', 'chow', 'friend', 'odor', 'greasi', 'stop', 'prompt', 'foster', 'smith', 'wirehair', 'dachshund', 'els', 'close', 'sever', 'sometim', 'crush', 'fom', 'readi', 'reach', 'goodi', 'joke', 'tool', 'bin', 'feed', 'meet', 'middl', 'beagl', 'fda', 'death', 'bill', 'cheapest', 'notifi', 'okay', 'common', 'sens', 'tell', 'serv', 'flip', 'ahead', 'westi', 'huge', 'bother', 'amozon', 'futur', 'select', 'compani', 'higher', 'fill', 'crum', 'wors', 'gold', 'standard', 'thru', 'seller', 'similar', 'purebit', 'peke', 'general', 'mouth', 'bite', 'possibl', 'choke', 'dens', 'flatter', 'easier', 'appear', 'steadi', 'notch', 'inexpens', 'truli', 'mesmer', 'slimi', 'backpack', 'hike', 'feather', 'wet', 'mush', 'apart', 'maltes', 'poodl', 'obedi', 'worri', 'lengthen', 'usag', 'stash', 'crumb', 'modif', 'morsel', 'pinki', 'nail', 'useless', 'coat', 'bland', 'chewi', 'toy', 'hound', 'proper', 'definit', 'pass', 'petsmart', 'effici', 'wiener', 'iron', 'defici', 'alot', 'thought', 'decid', 'glad', 'anyon', 'otter', 'across', 'dealer', 'cost', 'busi', 'besid', 'crash', 'hide', 'mental', 'challeng', 'figur', 'anim', 'field', 'gobbl', 'bewar', 'sniff', 'wherev', 'hidden', 'spend', 'doubl', 'paid', 'area', 'chuck', 'refus', 'diva', 'tiffani', 'greeni', 'nanci', 'shea', 'mind', 'pill', 'gave', 'springer', 'spaniel', 'beach', 'race', 'distanc', 'aid', 'bore', 'wide', 'broken', 'neighborhood', 'therefor', 'chees', 'encount', 'left', 'minor', 'upset', 'adopt', 'shepherd', 'basic', 'banana', 'stubborn', 'third', 'avoid', 'digest', 'market', 'indefinit', 'kept', 'cool', 'psst', 'onlin', 'sick', 'lamb', 'lick', 'lip', 'nub', 'oldest', 'nonchal', 'forward', 'build', 'red', 'blood', 'cell', 'aw', 'item', 'exact', 'promis', 'super', 'intact', 'counter', 'spontan', 'difficult', 'rich', 'spare', 'burst', 'afford', 'fresh', 'diagnois', 'diabet', 'health', 'prici', 'prime', 'golden', 'prioriti', 'anxious', 'corgi', 'prevent', 'throw', 'allow', 'potti', 'outsid', 'stranger', 'paw', 'ground', 'inhibit', 'desir', 'jump', 'amaz', 'appreci', 'weird', 'yes', 'brush', 'spread', 'greyhound', 'relat', 'biscuit', 'teeth', 'overindulg', 'basi', 'vendor', 'shop', 'welsh', 'terrier', 'sophi', 'alergi', 'oscar', 'lhasa', 'apso', 'becuas', 'salt', 'approv', 'phenomen', 'began', 'alaskan', 'malamut', 'speak', 'empti', 'penni', 'quadrant', 'hunger', 'strike', 'room', 'pooch', 'leg', 'be', 'sugar', 'virtual', 'carnivor', 'cattl', 'rabbit', 'beet', 'pulp', 'corn', 'syrup', 'kitten', 'weak', 'jaw', 'gain', 'trust', 'abus', 'heal', 'maintain', 'minus', 'concentr', 'susi', 'snout', 'park', 'resist', 'surround', 'crowd', 'poke', 'thses', 'produst', 'account', 'coupl', 'load', 'irregular', 'drawback', 'prospect', 'recept', 'took', 'advantag', 'shipper', 'saver', 'slow', 'everyday', 'defin', 'tasti', 'plan', 'constip', 'ziploc', 'refil', 'complaint', 'incred', 'split', 'internet', 'insulin', 'shot', 'stress', 'bargain', 'instruct', 'advis', 'rate', 'various', 'thick', 'rectangular', 'girlfriend', 'teacup', 'chunk', 'niblet', 'magic', 'critter', 'although', 'pitbul', 'sammi', 'breath', 'over', 'artifici', 'overal', 'phobia', 'includ', 'doorway', 'ignor', 'fear', 'posit', 'squar', 'fingernail', 'overf', 'soft', 'pressur', 'pain', 'gum', 'stage', 'consider', 'comparison', 'yucki', 'textur', 'gross', 'havanes', 'breeder', 'hotel', 'phoenix', 'separ', 'anxieti', 'routin', 'kiss', 'direct', 'stand', 'aussi', 'fixat', 'wave', 'redirect', 'focus', 'onto', 'main', 'recal', 'yard', 'leftov', 'jacket', 'regardless', 'fed', 'upload', 'guidelin', 'comment', 'inform', 'inconsist', 'interpret', 'tabl', 'closer', 'dozen', 'expir', 'undersid', 'healthier', 'forget', 'distinct', 'white', 'eye', 'stain', 'rid', 'ugli', 'exceed', 'grow', 'trim', 'groomer', 'week', 'hair', 'miniatur', 'buck', 'prefect', 'result', 'leash', 'law', 'rang', 'done', 'research', 'mommi', 'tear', 'black', 'face', 'non', 'cake', 'betsi', 'pick', 'petco', 'fortun', 'smash', 'ton', 'ounc', 'handl', 'commerci', 'meati', 'arm', 'waver', 'moder', 'organ', 'shaker', 'carb', 'number', 'straight', 'otherwis', 'reject', 'certain', 'quantiti', 'wallet', 'wolf', 'crude', 'thirsti', 'intial', 'veterinarian', 'offic', 'rudi', 'jack', 'russel', 'terrior', 'can', 'hed', 'heaven', 'camper', 'despit', 'loss', 'sight', 'everyth', 'within', 'unit', 'state', 'chain', 'qualifi', 'fail', 'charle', 'turkey', 'cranberri', 'imposs', 'bonus', 'combat', 'weepi', 'bunch', 'byproduct', 'wee', 'pad', 'airedal', 'kennel', 'gotta', 'toss', 'zip', 'lock', 'pit', 'bull', 'initi', 'jam', 'insid', 'hollow', 'bone', 'stood', 'test', 'instead', 'complet', 'other', 'prior', 'violat', 'tin', 'sweet', 'tooth', 'strawberri', 'dollar', 'ten', 'tummi', 'trap', 'fli', 'setup', 'attract', 'vicin', 'liter', 'excit', 'land', 'surfac', 'approach', 'examin', 'flew', 'paper', 'tacki', 'appli', 'nurtur', 'plant', 'repot', 'gotten', 'funki', 'soil', 'overrun', 'coloni', 'swat', 'bug', 'gut', 'frequent', 'exclam', 'citi', 'san', 'francisco', 'compost', 'aggrav', 'voila', 'dose', 'sucker', 'insert', 'annoy', 'sticki', 'entranc', 'favor', 'strip', 'yuck', 'factor', 'worst', 'simpli', 'catch', 'singl', 'hardwar', 'spiral', 'influx', 'flys', 'fall', 'lower', 'success', 'vat', 'scald', 'random', 'ridicul', 'august', 'septemb', 'warm', 'window', 'screen', 'victor', 'rat', 'mous', 'spray', 'caught', 'milk', 'drown', 'california', 'smarter', 'fig', 'prune', 'taken', 'rot', 'proxim', 'unravel', 'garden', 'wasnt', 'search', 'moment', 'dismay', 'stun', 'imag', 'perhap', 'funniest', 'realist', 'idea', 'infest', 'squish', 'bugger', 'clear', 'dab', 'wine', 'column', 'glass', 'flap', 'wing', 'frantic', 'sec', 'total', 'cardboard', 'adhes', 'gluey', 'afternoon', 'escap', 'roll', 'past', 'dubious', 'hubbi', 'desper', 'gnat', 'invas', 'settl', 'peski', 'countertop', 'tall', 'ceil', 'hang', 'hanger', 'claim', 'none', 'choic', 'outdoor', 'job', 'awhil', 'suck', 'microscop', 'bbq', 'pool', 'terribl', 'disturb', 'fantast', 'buyer', 'island', 'infact', 'pink', 'spotti', 'oop', 'tragic', 'investig', 'darn', 'feet', 'case', 'invest', 'quicker', 'reflex', 'sli', 'summer', 'grill', 'parti', 'door', 'develop', 'smear', 'honey', 'count', 'hundr', 'resort', 'swatter', 'kill', 'spent', 'ribbon', 'slight', 'prove', 'manag', 'miniscul', 'fraction', 'solut', 'touch', 'ineffect', 'worthless', 'indoor', 'combin', 'realiz', 'fewer', 'victim', 'buzz', 'luck', 'bounc', 'hors', 'mosquito', 'hungri', 'spider', 'ant', 'nickel', 'bank', 'chicago', 'illinoi', 'liquid', 'bait', 'magnet', 'stinker', 'reek', 'space', 'protect', 'weather', 'www', 'com', 'unreal', 'cours', 'stinki', 'nearbi', 'shipment', 'sticker', 'design', 'sign', 'revers', 'program', 'comput', 'monitor', 'outstand', 'decal', 'everybodi', 'thumb', 'newer', 'film', 'michael', 'keaton', 'beetlejuic', 'alec', 'baldwin', 'priceless', 'view', 'bizarr', 'concept', 'charact', 'wacki', 'genr', 'ghost', 'dvds', 'dvd', 'releas', 'experi', 'video', 'upgrad', 'cartoon', 'shown', 'winona', 'ryder', 'known', 'hey', 'hilari', 'asham', 'self', 'dead', 'barbara', 'adam', 'die', 'accid', 'lydia', 'question', 'wither', 'scare', 'spirit', 'move', 'dad', 'dork', 'control', 'freak', 'women', 'sculpt', 'unbeliv', 'neglect', 'psycho', 'dark', 'depress', 'sexi', 'visit', 'weirdo', 'beliv', 'geena', 'davi', 'hire', 'forc', 'tim', 'burton', 'awesom', 'everyon', 'wed', 'dress', 'hater', 'ladi', 'flaw', 'bitch', 'masteri', 'detail', 'menu', 'trash', 'embarass', 'click', 'scene', 'chapter', 'button', 'what', 'garbag', 'disk', 'format', 'stick', 'switch', 'scratch', 'idiot', 'slap', 'crap', 'micheal', 'batman', 'admit', 'freaki', 'nightmar', 'willi', 'wonka', 'wierd', 'volum', 'dream', 'afterlif', 'quirk', 'hadnt', 'accredit', 'felt', 'tone', 'urban', 'drawn', 'deepli', 'root', 'abstract', 'painter', 'risk', 'latest', 'mode', 'foolish', 'annual', 'driveway', 'comedi', 'york', 'thier', 'chang', 'nutti', 'whos', 'dosnt', 'brilliant', 'thay', 'stilll', 'chessi', 'gremlin', 'batch', 'mask', 'edward', 'scissorhand', 'wood', 'fish', 'gori', 'funnier', 'comedian', 'crisp', 'warner', 'featur', 'younger', 'violent', 'career', 'adventur', 'beetl', 'juic', 'forev', 'camp', 'trip', 'ray', 'player', 'superb', 'rider', 'role', 'flick', 'fianc', 'plot', 'actor', 'earli', 'harri', 'belafont', 'soundtrack', 'ultra', 'lib', 'send', 'valentin', 'fifteen', 'wednesday', 'obvious', 'maitland', 'connecticut', 'yuppi', 'prematur', 'wreck', 'charl', 'delia', 'deetz', 'goth', 'jeffrey', 'jone', 'catherin', 'ohara', 'attempt', 'wear', 'sheet', 'possess', 'lead', 'scari', 'opinion', 'gem', 'sylvia', 'sidney', 'juno', 'worker', 'push', 'eighti', 'equival', 'social', 'smoke', 'cigarett', 'slit', 'throat', 'youv', 'hollywood', 'sad', 'cast', 'delet', 'visual', 'unleash', 'unus', 'restrain', 'support', 'guy', 'honor', 'agre', 'system', 'major', 'camera', 'effort', 'signatur', 'reveal', 'authent', 'creator', 'hate', 'guarante', 'brain', 'pee', 'popular', 'monkey', 'strang', 'critic', 'energet', 'giant', 'sand', 'worm', 'sensat', 'danni', 'elfman', 'titl', 'planet', 'aftermath', 'showtim', 'boat', 'disc', 'credit', 'shoddi', 'treatment', 'disgrac', 'energi', 'lousi', 'commentari', 'theatric', 'present', 'theater', 'advic', 'somebodi', 'capabl', 'materi', 'shine', 'bluray', 'cripsi', 'makeup', 'automobil', 'meanwhil', 'countri', 'sold', 'trendi', 'yorker', 'unwelcom', 'difficulti', 'mediat', 'commit', 'suicid', 'civil', 'servant', 'knew', 'warp', 'edg', 'town', 'vacat', 'scale', 'model', 'appar', 'renov', 'bridg', 'river', 'eventu', 'haunt', 'neighbor', 'estat', 'agent', 'dysfunct', 'wife', 'comfort', 'modern', 'dread', 'interior', 'decor', 'sculptur', 'arguabl', 'produc', 'redeem', 'aspect', 'morbid', 'sympathi', 'assess', 'attitud', 'funer', 'deceas', 'index', 'talk', 'casework', 'abrupt', 'shrivel', 'woman', 'seep', 'slash', 'neck', 'contact', 'handbook', 'measur', 'demon', 'alien', 'frighten', 'marri', 'refer', 'underworld', 'bureaucraci', 'altogeth', 'member', 'horror', 'supernatur', 'rest', 'gothic', 'princess', 'doom', 'action', 'eldest', 'brother', 'chum', 'cloth', 'spit', 'gina', 'latter', 'alic', 'wonderland', 'trippi', 'highlight', 'robert', 'goulet', 'shape', 'matter', 'score', 'talent', 'director', 'amus', 'clariti', 'greatest', 'alright', 'african', 'smile', 'script', 'warren', 'mcdowel', 'depart', 'welch', 'improvis', 'herald', 'reckon', 'unqualifi', 'hook', 'timeless', 'whacki', 'wit', 'signific', 'dous', 'wall', 'masterpiec', 'craft', 'affect', 'techniqu', 'improv', 'revolt', 'fascin', 'viewer', 'comed', 'inhabit', 'divers', 'dick', 'singer', 'occult', 'theme', 'tout', 'chalk', 'succeed', 'vision', 'accent', 'rather', 'noteworthi', 'twist', 'skeptic', 'honeymoon', 'plain', 'snake', 'haha', 'blah', 'acquir', 'comer', 'trailer', 'clip', 'million', 'lol', 'nephew', 'mischiev', 'superbl', 'sum', 'famous', 'premis', 'foul', 'antiqu', 'react', 'alex', 'riot', 'sang', 'dine', 'grandpar', 'thrill', 'grandson', 'mail', 'hyster', 'oldi', 'prank', 'lesson', 'slim', 'actuali', 'abil', 'involv', 'theatr', 'anniversari', 'delux', 'spin', 'episod', 'beyond', 'transfer', 'bros', 'pedigre', 'manual', 'default', 'orig', 'stretch', 'retrospect', 'listen', 'boot', 'genius', 'creepi', 'unrealist', 'underpin', 'hello', 'reccomend', 'asap', 'loos', 'mutt', 'plung', 'tad', 'yep', 'cope', 'whim', 'intend', 'occupi', 'intrigu', 'moreov', 'background', 'mood', 'helper', 'candid', 'earlier', 'uninvit', 'master', 'display', 'equal', 'minut', 'eccentr', 'cameo', 'costum', 'sequenc', 'corni', 'guest', 'join', 'relax', 'intrus', 'antic', 'jane', 'anni', 'rattl', 'balanc', 'beam', 'somehow', 'deciph', 'thicken', 'fanci', 'artist', 'jefferi', 'surviv', 'likeabl', 'disgruntl', 'former', 'impair', 'circus', 'loopi', 'otho', 'glen', 'ceremoni', 'charg', 'radius', 'steal', 'angel', 'chip', 'otherworld', 'gloomi', 'demis', 'transport', 'mysteri', 'journey', 'pair', 'roller', 'coaster', 'til', 'cri', 'widescreen', 'mistak', 'rip', 'row', 'thorough', 'histori', 'convinc', 'chemistri', 'england', 'theyv', 'newli', 'guid', 'remodel', 'mixtur', 'now', 'puchas', 'keton', 'john', 'cross', 'misunderstood', 'teen', 'belov', 'witch', 'doctor', 'shrink', 'repres', 'pre', 'breakdown', 'cheesi', 'creatur', 'wax', 'dedic', 'inner', 'welfar', 'sleazi', 'delic', 'bare', 'inexperi', 'pitfal', 'kick', 'disillus', 'communic', 'target', 'compromis', 'terrif', 'symbol', 'fest', 'peep', 'choos', 'content', 'twenti', 'sampler', 'puppet', 'surreal', 'oddbal', 'irrever', 'impact', 'rampant', 'satur', 'frame', 'vile', 'manic', 'sinist', 'agenda', 'boost', 'resum', 'transplant', 'spite', 'stamp', 'interview', 'achiev', 'cult', 'status', 'credibl', 'homeown', 'bio', 'invad', 'farc', 'comic', 'romp', 'anywher', 'grown', 'macabr', 'discuss', 'societi', 'perspect', 'spotlight', 'interact', 'glenn', 'collabor', 'deliv', 'integr', 'gorgeous', 'proof', 'cheer', 'whose', 'maker', 'american', 'cinema', 'uplift', 'depend', 'freddi', 'jason', 'hilt', 'upon', 'struggl', 'svelt', 'document', 'sober', 'streak', 'upcom', 'tough', 'shuffl', 'mortal', 'coil', 'mint', 'confin', 'quaint', 'threaten', 'annihil', 'peac', 'recours', 'contract', 'shadi', 'betelgeus', 'eas', 'worsen', 'earth', 'delect', 'meek', 'retir', 'bulli', 'calypso', 'appeal', 'toler', 'surrog', 'distract', 'demonstr', 'unnatur', 'awar', 'curios', 'propel', 'fright', 'convers', 'embodi', 'trait', 'pervers', 'cow', 'otto', 'nasti', 'game', 'spunki', 'thwart', 'likabl', 'fuel', 'inject', 'expand', 'street', 'cred', 'exhibit', 'smidg', 'architectur', 'dazzl', 'gag', 'divert', 'war', 'ambianc', 'astonish', 'backward', 'paltri', 'skeleton', 'closet', 'spooki', 'option', 'blend', 'invit', 'manner', 'solidifi', 'brightest', 'belli', 'mere', 'centerpiec', 'brief', 'whatev', 'vhs', 'halfway', 'censor', 'violenc', 'languag', 'verson', 'establish', 'campi', 'essenti', 'enlist', 'experienc', 'insist', 'allianc', 'shift', 'chase', 'engag', 'announc', 'saturday', 'accord', 'press', 'web', 'exclus', 'unusu', 'spec', 'subtitl', 'spanish', 'profil', 'disgust', 'guilti', 'solid', 'vehicl', 'drama', 'chao', 'couldv', 'disapoint', 'footag', 'enthral', 'transform', 'ape', 'sleepi', 'inde', 'signal', 'recoveri', 'charli', 'chocol', 'factori', 'spoil', 'length', 'creation', 'map', 'earn', 'breakthrough', 'deep', 'captiv', 'adequ', 'realiti', 'electr', 'spell', 'blast', 'seventeen', 'repuls', 'conclus', 'repeat', 'neeed', 'strangest', 'apar', 'unbeliev', 'dialogu', 'marvel', 'troubl', 'veil', 'compos', 'duo', 'blockbust', 'project', 'frenet', 'gruesom', 'held', 'gun', 'unto', 'illicit', 'nomin', 'newlyw', 'victorian', 'outset', 'slowli', 'pathet', 'chubbi', 'alli', 'unpredict', 'impress', 'nerdi', 'degre', 'mob', 'unbeknownst', 'of', 'quirki', 'miami', 'shock', 'unfortun', 'cusp', 'acclaim', 'muriel', 'uninspir', 'accident', 'tourist', 'becam', 'heather', 'fire', 'mermaid', 'emperor', 'ferri', 'princip', 'infam', 'welcom', 'receptionist', 'ron', 'gung', 'stole', 'elev', 'maniac', 'rob', 'dramat', 'recov', 'alcohol', 'recogn', 'liber', 'afraid', 'dude', 'argu', 'icon', 'killer', 'rock', 'wick', 'scream', 'eatin', 'whove', 'oblivi', 'kooki', 'realm', 'menac', 'spectacular', 'doubt', 'grace', 'extens', 'crew', 'deni', 'mishap', 'boister', 'deet', 'storylin', 'boast', 'prop', 'labyrinth', 'david', 'jennif', 'centuri', 'recruit', 'period', 'leap', 'skip', 'sudden', 'tumbl', 'lake', 'board', 'fireplac', 'stellar', 'bride', 'willow', 'incept', 'sorri', 'spruce', 'remast', 'realis', 'broke', 'friendship', 'nicer', 'ultim', 'brood', 'fare', 'era', 'forgot', 'needless', 'mad', 'rogu', 'string', 'goal', 'poignant', 'outlook', 'suitabl', 'earnest', 'innoc', 'startl', 'tremend', 'pretenti', 'trademark', 'emot', 'yearn', 'reclaim', 'wound', 'lone', 'adolesc', 'lend', 'hilar', 'debbi', 'wesselmann', 'atmospher', 'acquaint', 'psychic', 'trulli', 'ect', 'threw', 'dissapoint', 'french', 'deficit', 'disord', 'intern', 'logic', 'toward', 'float', 'revel', 'insight', 'gimmick', 'fluff', 'dear', 'monster', 'interrupt', 'redo', 'unexpect', 'nightstand', 'occup', 'mirror', 'dealt', 'brad', 'pitt', 'abysm', 'joe', 'oddest', 'selv', 'desert', 'popul', 'nyc', 'artisan', 'consult', 'pronouc', 'henc', 'beer', 'swill', 'cuss', 'captur', 'rumbl', 'absurd', 'pace', 'dull', 'stitch', 'aliv', 'etern', 'farmhous', 'aesthet', 'fantasi', 'plenti', 'irresist', 'border', 'histor', 'romanc', 'nope', 'blu', 'fals', 'stripe', 'rule', 'itll', 'tortur', 'studio', 'worthi', 'iter', 'motion', 'doc', 'complain', 'tick', 'sorta', 'plank', 'desk', 'clerk', 'condemn', 'pastel', 'leisur', 'terror', 'greater', 'freedom', 'godzilla', 'explor', 'boundari', 'chaotic', 'conflict', 'imperfect', 'plagu', 'assign', 'subject', 'complement', 'sensibl', 'extraordinarili', 'guidanc', 'landscap', 'culmin', 'abund', 'ironi', 'outlandish', 'bodi', 'augment', 'devious', 'persist', 'level', 'euphoria', 'ingeni', 'tour', 'exuber', 'jovial', 'exercis', 'philosoph', 'percept', 'unabl', 'undeserv', 'analysi', 'undeni', 'flawless', 'isol', 'pan', 'scan', 'disney', 'channel', 'offens', 'walmart', 'opportun', 'recogniz', 'speaker', 'panason', 'updat', 'benefit', 'drop', 'digit', 'movement', 'subtract', 'poor', 'tie', 'represent', 'edgi', 'graphic', 'layer', 'horrif', 'impati', 'determin', 'extent', 'pointless', 'loyalti', 'concern', 'pop', 'award', 'insan', 'compliment', 'belong', 'ridden', 'drastic', 'ride', 'justifi', 'creep', 'grit', 'ass', 'genus', 'link', 'facebook', 'crimin', 'graini', 'devoid', 'utter', 'perplex', 'sprang', 'elementari', 'batter', 'reel', 'paragraph', 'overview', 'gleam', 'wikipedia', 'sam', 'club', 'truer', 'inevit', 'criterion', 'brazil', 'ara', 'distributor', 'ghostbust', 'mischief', 'excus', 'pun', 'partner', 'hardship', 'hotter', 'clamshel', 'elimin', 'profan', 'uncut', 'lack', 'unmitig', 'disast', 'salvag', 'youth', 'beatl', 'bomb', 'sexual', 'lax', 'distinguish', 'characterist', 'popcorn', 'chose', 'marketplac', 'acknowledg', 'indic', 'via', 'usp', 'cancel', 'mole', 'dig', 'poison', 'gas', 'devic', 'harm', 'penetr', 'patienc', 'tunnel', 'locat', 'rout', 'sturdi', 'barb', 'trigger', 'heavi', 'guag', 'steel', 'spike', 'sharpen', 'diagon', 'travel', 'freeli', 'sprung', 'flatten', 'straddl', 'dirt', 'mechan', 'cluster', 'castor', 'oil', 'repel', 'pellet', 'studi', 'likelihood', 'whether', 'built', 'reappear', 'sandi', 'reaction', 'drill', 'hole', 'stake', 'spear', 'proven', 'lawn', 'peanut', 'grub', 'duti', 'driven', 'key', 'rais', 'highway', 'trail', 'bingo', 'patient', 'stronger', 'extermin', 'six', 'tricki', 'faith', 'assum', 'alarm', 'dug', 'biggest', 'reflect', 'plunger', 'powerful', 'sod', 'mol', 'gopher', 'solv', 'flood', 'flare', 'poisen', 'wrigley', 'dynamit', 'pest', 'mice', 'breed', 'reproduc', 'offspr', 'network', 'grass', 'forest', 'branch', 'section', 'forth', 'collaps', 'bam', 'underneath', 'rotat', 'mound', 'specif', 'ide', 'thanx', 'reus', 'allerg', 'sun', 'exposur', 'replac', 'landfil', 'bee', 'brew', 'jar', 'pinch', 'soap', 'slipperi', 'evapor', 'anchorag', 'salmon', 'screw', 'hung', 'loop', 'mismatch', 'secur', 'rap', 'wasp', 'appl', 'dispos', 'crucial', 'ooop', 'huh', 'refund', 'icki', 'check', 'countless', 'erad', 'vole', 'lawnmow', 'bar', 'beep', 'nois', 'herb', 'math', 'easiest', 'screwdriv', 'sweep', 'pincer', 'clog', 'dent', 'attack', 'woodstream', 'corp', 'lay', 'wire', 'steak', 'min', 'sweeney', 'construct', 'flex', 'snag', 'releg', 'burrow', 'reset', 'exhaust', 'sneaki', 'diagram', 'crafti', 'wagon', 'destroy', 'portion', 'evad', 'furri', 'terrorist', 'excav', 'suspect', 'unsuccess', 'macabe', 'tube', 'whack', 'probe', 'trench', 'shovel', 'presum', 'perceiv', 'bump', 'plate', 'requir', 'dislodg', 'ruin', 'poision', 'sonic', 'hunt', 'southern', 'theyd', 'piss', 'sink', 'instanc', 'shoulder', 'properti', 'plug', 'scamper', 'hip', 'awkward', 'cinch', 'seat', 'shorten', 'shi', 'oper', 'literatur', 'access', 'necessarili', 'cent', 'normal', 'zone', 'egg', 'murray', 'flash', 'butcher', 'twine', 'overkil', 'mark', 'flag', 'stem', 'souvenir', 'acr', 'reduc', 'safer', 'seed', 'patch', 'pile', 'wahoo', 'youtub', 'contribut', 'kinda', 'flop', 'trowel', 'depot', 'chess', 'peg', 'tap', 'reviw', 'evid', 'damag', 'user', 'poster', 'tinker', 'extream', 'pleasant', 'bent', 'reloc', 'lucki', 'claw', 'safeti', 'suburban', 'clay', 'rain', 'soften', 'modifi', 'illus', 'frustrat', 'straw', 'tek', 'deploy', 'path', 'varmint', 'replant', 'insecticid', 'coincid', 'gummi', 'bleach', 'contrapt', 'bamm', 'harpoon', 'ran', 'shoot', 'disregard', 'repair', 'geoffrey', 'klos', 'stomp', 'lift', 'runway', 'infrequ', 'deeper', 'parallel', 'obstruct', 'foundat', 'fake', 'inferior', 'temporari', 'weekend', 'substanti', 'fierc', 'cooper', 'slot', 'blade', 'lever', 'forum', 'squeezer', 'center', 'buri', 'latch', 'hardest', 'mess', 'pros', 'durabl', 'loui', 'reserch', 'trial', 'error', 'plier', 'adjust', 'pacif', 'spoon', 'fleet', 'mower', 'shallow', 'depth', 'lotteri', 'caution', 'strength', 'scoot', 'yank', 'record', 'termin', 'patio', 'exagger', 'devast', 'understat', 'increas', 'vigil', 'versus', 'windi', 'foot', 'satisfact', 'bane', 'dangl', 'bend', 'sear', 'detract', 'bastard', 'explain', 'corner', 'pic', 'tempt', 'tomorrow', 'nicknam', 'hunter', 'dirti', 'wreak', 'havoc', 'digger', 'prepar', 'glanc', 'mediev', 'symptom', 'expert', 'cumbersom', 'flush', 'gadget', 'hurt', 'superior', 'width', 'spade', 'concret', 'hill', 'eaten', 'pail', 'swiss', 'seattl', 'facil', 'illeg', 'washington', 'damn', 'enclos', 'prong', 'pavement', 'shut', 'drywal', 'occassion', 'angri', 'googl', 'woke', 'beast', 'curvi', 'road', 'dilig', 'fight', 'reciev', 'commenc', 'northern', 'websit', 'condo', 'complex', 'beginn', 'starter', 'remeb', 'news', 'friday', 'cock', 'muscl', 'procedur', 'yesterday', 'tom', 'pine', 'simultan', 'stab', 'lump', 'freeway', 'bake', 'compress', 'flat', 'elbow', 'greas', 'ratio', 'truck', 'disrupt', 'structur', 'floor', 'clump', 'tight', 'remaind', 'block', 'tigh', 'blockag', 'novemb', 'patrol', 'dock', 'inexplic', 'altern', 'anchor', 'traplin', 'simplic', 'dryer', 'fulli', 'intent', 'serial', 'turd', 'builder', 'wrench', 'bermuda', 'belittl', 'fenc', 'alter', 'aint', 'glow', 'inventor', 'employe', 'persever', 'await', 'eyebal', 'battl', 'gear', 'assembl', 'convent', 'wisdom', 'pour', 'wore', 'wash', 'rubber', 'glove', 'outlin', 'emb', 'moth', 'batteri', 'pole', 'backyard', 'pri', 'confirm', 'tougher', 'reliabl', 'file', 'round', 'invis', 'interfer', 'function', 'placement', 'havnt', 'pro', 'solar', 'trapper', 'tuna', 'florida', 'evil', 'murphi', 'cayenn', 'pepper', 'phase', 'popsicl', 'messag', 'intrud', 'geoff', 'clamp', 'speed', 'scissor', 'neither', 'damp', 'squash', 'snow', 'melt', 'con', 'itd', 'destruct', 'mumbo', 'jumbo', 'aerat', 'plow', 'downward', 'gravel', 'univers', 'peel', 'roof', 'habit', 'stone', 'woo', 'hoo', 'connect', 'myriad', 'instinct', 'fuzzi', 'rod', 'squeez', 'punctur', 'pat', 'gass', 'rare', 'abandon', 'overnight', 'turf', 'gap', 'daylight', 'man', 'biolog', 'habitat', 'custom', 'coordin', 'folk', 'height', 'invert', 'sulphur', 'earthworm', 'litter', 'deterr', 'calm', 'metal', 'leverag', 'pin', 'dwindl', 'hoop', 'aug', 'clan', 'upsid', 'bloodi', 'injuri', 'spine', 'chaser', 'pebbl', 'span', 'visibl', 'cite', 'carv', 'wider', 'diamet', 'machin', 'diffus', 'fiction', 'theori', 'smart', 'weed', 'adjac', 'invari', 'individualist', 'territori', 'mate', 'attest', 'courag', 'anticip', 'rake', 'belt', 'thinner', 'observ', 'paint', 'rust', 'weaken', 'polici', 'defect', 'address', 'outsourc', 'vice', 'clod', 'paddl', 'jon', 'oregon', 'pardon', 'fault', 'hose', 'gasolin', 'april', 'smooth', 'mow', 'simplest', 'spore', 'nash', 'chock', 'deviat', 'inward', 'alltogeth', 'reveng', 'deceiv', 'underground', 'toughest', 'thicker', 'harder', 'reader', 'disastr', 'veloc', 'forehead', 'bled', 'profus', 'tamp', 'axe', 'ambival', 'fell', 'numer', 'reluct', 'emerg', 'elder', 'suffer', 'minimum', 'mailbox', 'putti', 'perpendicular', 'widen', 'trough', 'gonna', 'nothin', 'knock', 'pride', 'murder', 'peta', 'silent', 'hallelujah', 'primarili', 'vibrat', 'thingi', 'employ', 'ordinarili', 'wiggl', 'unhook', 'basketbal', 'team', 'misconcept', 'misunderstand', 'primari', 'stationari', 'panic', 'overlap', 'minim', 'hibern', 'boss', 'flake', 'prep', 'compon', 'terminolog', 'answer', 'hyper', 'tab', 'browser', 'south', 'xmas', 'tore', 'warmish', 'peek', 'prolli', 'buddi', 'hatch', 'cicada', 'larva', 'mutat', 'articl', 'ecosystem', 'decreas', 'dwell', 'sayin', 'woe', 'massiv', 'hospit', 'inquiri', 'garlic', 'skull', 'applic', 'insect', 'elus', 'object', 'disadvantag', 'sooooo', 'outsmart', 'vast', 'fabric', 'task', 'upstat', 'zig', 'zag', 'happier', 'prohibit', 'confisc', 'court', 'beleiv', 'restock', 'fee', 'passag', 'fork', 'sidewalk', 'mash', 'grip', 'firm', 'grab', 'hesist', 'occas', 'pitch', 'recur', 'tidi', 'muddi', 'reusabl', 'brick', 'unbalanc', 'conclud', 'narrow', 'drove', 'merciless', 'cowork', 'kee', 'socal', 'sausag', 'displac', 'hinder', 'experiment', 'mid', 'meantim', 'superman', 'groov', 'wooden', 'shaft', 'discard', 'mop', 'glu', 'approxim', 'heel', 'clearanc', 'incident', 'sunlight', 'squeamish', 'ankl', 'stock', 'notif', 'supplier', 'estim', 'info', 'equip', 'bic', 'superstor', 'monday', 'thursday', 'grief', 'fist', 'pie', 'hassl', 'physic', 'exert', 'slip', 'martial', 'specialti', 'male', 'dave', 'request', 'pdf', 'unansw', 'flea', 'holder', 'wrap', 'soapi', 'shame', 'clumsi', 'sock', 'therel', 'lint', 'reciept', 'debri', 'particl', 'glue', 'bulb', 'burnt', 'lamp', 'neat', 'recomend', 'statist', 'wattag', 'pencil', 'raid', 'lure', 'negat', 'redesign', 'expos', 'conjunct', 'freecycl', 'nat', 'vacuum', 'carpet', 'daytim', 'warmth', 'frontlin', 'comb', 'diatomac', 'rub', 'toxic', 'retreat', 'bathroom', 'burn', 'bitten', 'itch', 'temporarili', 'cabinet', 'nada', 'pesticid', 'mattress', 'crevic', 'gal', 'pump', 'sprayer', 'edibl', 'perimet', 'shampoo', 'premier', 'condition', 'oral', 'revolut', 'skin', 'generic', 'hrs', 'instant', 'zap', 'sore', 'peni', 'staph', 'herp', 'dish', 'allergi', 'util', 'partial', 'anaylsi', 'bedroom', 'lizard', 'toe', 'shook', 'bright', 'grid', 'trade', 'curv', 'boil', 'industri', 'cooler', 'arrest', 'furnitur', 'lemongrass', 'reveiw', 'retail', 'multipli', 'fungus', 'contamin', 'ensur', 'headach', 'basement', 'palmetto', 'thereaft', 'unwant', 'peal', 'denver', 'dissip', 'form', 'asset', 'regimin', 'starv', 'cockroach', 'unstopp', 'alert', 'gizmo', 'valuabl', 'household', 'topic', 'gravit', 'wander', 'disappear', 'hartz', 'hord', 'mite', 'enthusiasm', 'bum', 'zack', 'resid', 'mike', 'hop', 'reliev', 'inset', 'balm', 'couch', 'flee', 'congest', 'michigan', 'crawli', 'hornet', 'heat', 'tuck', 'furnac', 'fur', 'lightbulb', 'fogger', 'missouri', 'decompos', 'someplac', 'lifespan', 'proactiv', 'africa', 'thousand', 'fishi', 'decay', 'avers', 'dislik', 'bless', 'gallon', 'mayonnais', 'nation', 'east', 'west', 'rocki', 'persuad', 'sill', 'har', 'aerosol', 'crud', 'undesir', 'goat', 'vegetarian', 'rent', 'dora', 'event', 'lunch', 'veggi', 'relish', 'cole', 'slaw', 'grape', 'soda', 'spongebob', 'guacamol', 'taco', 'poo', 'pig', 'promin', 'weigh', 'sunris', 'mass', 'bog', 'mire', 'stare', 'rise', 'unpleas', 'sago', 'palm', 'fungi', 'humili', 'wold', 'ventil', 'owe', 'genet', 'sinus', 'dump', 'drain', 'januari', 'devil', 'lazi', 'dumb', 'oder', 'acceler', 'stench', 'flesh', 'detect', 'sewer', 'environ', 'porch', 'swarm', 'ordinari', 'counti', 'rug', 'fixtur', 'maggot', 'formid', 'summertim', 'sunni', 'flock', 'stip', 'stunk', 'omg', 'herd', 'happili', 'wipe', 'flytrap', 'theoret', 'defens', 'analyz', 'anecdot', 'btw', 'skimpi', 'execut', 'thread', 'cup', 'coach', 'rear', 'alley', 'messi', 'grenad', 'barn', 'technic', 'ecstat', 'blow', 'reuseabl', 'siev', 'circl', 'mountain', 'lime', 'vinegar', 'cap', 'dome', 'perch', 'quart', 'mason', 'burb', 'colorado', 'texa', 'kudo', 'ladybug', 'cloud', 'zapper', 'euthan', 'excess', 'letter', 'seam', 'gate', 'luckili', 'waaay', 'chamber', 'aroma', 'storm', 'bathtub', 'phew', 'vagu', 'liquifi', 'barnyard', 'manur', 'pint', 'sturdier', 'winner', 'spill', 'mankind', 'voluntarili', 'withstand', 'smallest', 'picnic', 'fragil', 'weaker', 'definet', 'diseas', 'panama', 'toucan', 'parrot', 'buckl', 'bacteria', 'avert', 'guard', 'yay', 'aris', 'juli', 'contend', 'optim', 'blame', 'umbrella', 'recreat', 'porous', 'toothpick', 'tint', 'overdu', 'vibrant', 'wilton', 'hue', 'gel', 'frost', 'runni', 'minuscul', 'rainbow', 'fondant', 'hint', 'mileag', 'meringu', 'buttercream', 'writer', 'cupcak', 'wilson', 'distribut', 'gingerbread', 'royal', 'vivid', 'fuss', 'dye', 'dough', 'velvet', 'pix', 'babi', 'exp', 'tho', 'peachi', 'vodka', 'laboratori', 'fulfil', 'glucos', 'flow', 'darker', 'marshmallow', 'lovelovelov', 'americolor', 'sky', 'brown', 'lemon', 'teal', 'fuchsia', 'leaf', 'violet', 'orang', 'descript', 'produt', 'baker', 'grey', 'mccormick', 'ateco', 'seamless', 'kit', 'darken', 'playdough', 'rave', 'usabl', 'palett', 'alik', 'suffici', 'norway', 'maxim', 'spectrum', 'chart', 'outcom', 'brighter', 'purpl', 'brillant', 'butter', 'cream', 'colour', 'bold', 'candi', 'macaron', 'extract', 'pistachio', 'kiwi', 'magnific', 'liqueur', 'mill', 'denot', 'kosher', 'wool', 'unend', 'caserol', 'mari', 'assort', 'unsur', 'ramp', 'supermarket', 'intens', 'martha', 'dessert', 'tea', 'contest', 'raini', 'dilut', 'apron', 'pancak', 'dispens', 'pastri', 'neutral', 'hing', 'novic', 'grout', 'tile', 'scientist', 'easter', 'dia', 'los', 'bitter', 'dropper', 'pigment', 'tongu', 'accur', 'yogurt', 'darkest', 'watermelon', 'individu', 'pearl', 'decort', 'nicest', 'gumpast', 'conic', 'shave', 'dot', 'dentist', 'chemo', 'enzym', 'cancer', 'mild', 'caviti', 'sweeten', 'xylitol', 'therapi', 'radiat', 'bubbl', 'medic', 'salivari', 'plaqu', 'stimul', 'saliva', 'jim', 'konedog', 'koenig', 'dds', 'minti', 'refresh', 'asthma', 'anis', 'licoric', 'viral', 'infect', 'chronic', 'cough', 'western', 'eucalyptus', 'chines', 'herbal', 'yan', 'mucous', 'lung', 'grate', 'competitor', 'relief', 'outclass', 'peppermint', 'chamomil', 'spici', 'egyptian', 'ginger', 'drinkabl', 'sebastopol', 'yogi', 'gypsi', 'scent', 'irrit', 'chest', 'achey', 'sooth', 'rapid', 'constrict', 'airway', 'wheez', 'steroid', 'nasal', 'antibot', 'ala', 'lord', 'sampl', 'in', 'grea', 'fridg', 'inhal', 'occur', 'shower', 'steam', 'respiratori', 'flu', 'ailment', 'pulmonari', 'nag', 'fennel', 'overpow', 'vocal', 'sip', 'stuf', 'nyquil', 'religi', 'naturad', 'soy', 'benefici', 'browni', 'chocolatey', 'beverag', 'pave', 'genisoy', 'fudg', 'cliff', 'fructos', 'notori', 'airborn', 'difinit', 'clif', 'swore', 'luna', 'byte', 'vitamin', 'fudgey', 'salti', 'ration', 'crave', 'highest', 'bike', 'treadmil', 'jellybean', 'waxi', 'fruiti', 'astronaut', 'scienc', 'armi', 'tens', 'soldier', 'tonsil', 'lug', 'nowaday', 'tripl', 'museum', 'shatter', 'razor', 'evalu', 'snuck', 'bishop', 'hawaii', 'marbl', 'slab', 'creameri', 'stuffer', 'basket', 'hostess', 'pocketbook', 'cranki', 'norm', 'novel', 'regret', 'grade', 'bulki', 'ziplock', 'ditch', 'facilit', 'wrapper', 'bulk', 'icecream', 'mater', 'whe', 'specifi', 'sooo', 'nasa', 'vanilla', 'compact', 'purs', 'frozen', 'sublim', 'vapor', 'mold', 'hippi', 'thatll', 'mojo', 'crunchi', 'gritti', 'creami', 'neapolitan', 'midday', 'pretend', 'jupit', 'neopolitan', 'fave', 'stale', 'choc', 'iti', 'obsess', 'sweeter', 'hooray', 'hurri', 'north', 'caramel', 'remnant', 'culinari', 'sandwich', 'anytim', 'scam', 'foil', 'disput', 'resolv', 'postal', 'resolut', 'homi', 'pod', 'illi', 'whatnot', 'arabica', 'starbuck', 'decaf', 'espresso', 'substitut', 'barista', 'espression', 'airtight', 'lesser', 'vote', 'european', 'latt', 'caffein', 'nighttim', 'bolder', 'gosh', 'sake', 'geez', 'diego', 'shopp', 'simul', 'italian', 'cappuccino', 'briel', 'russian', 'kindest', 'exquisit', 'itali', 'lavish', 'prais', 'fallen', 'competit', 'wherea', 'caveat', 'acid', 'robusto', 'sept', 'shelv', 'crema', 'filter', 'roast', 'fyi', 'drip', 'robusta', 'lavazza', 'brevill', 'slower', 'handpresso', 'palat', 'akita', 'shepard', 'ongo', 'mobil', 'joint', 'surgeri', 'brittani', 'msm', 'glucosamin', 'canin', 'ear', 'weimeran', 'prescript', 'alo', 'vera', 'soother', 'antisept', 'antibiot', 'antifung', 'cleaner', 'bush', 'wouldv', 'retriev', 'lotion', 'spout', 'cinnamon', 'ingedi', 'uncomfort', 'squirt', 'tender', 'membran', 'yow', 'copious', 'rins', 'salin', 'inflict', 'ark', 'formula', 'whatsoev', 'inadvert', 'cocker', 'cotton', 'mainten', 'max', 'secondari', 'atop', 'dermat', 'cleanser', 'inflam', 'swell', 'lean', 'principl', 'valid', 'evacu', 'stopper', 'profit', 'vacuvin', 'maximum', 'cork', 'vacu', 'vin', 'oxygen', 'napa', 'concerto', 'reassur', 'enabl', 'refin', 'marin', 'configur', 'guesswork', 'dishwash', 'drinker', 'coars', 'drunk', 'brittl', 'fresher', 'premium', 'stylish', 'cab', 'oxid', 'contradictori', 'diverg', 'enemi', 'robust', 'therebi', 'deterior', 'disagr', 'biochem', 'proceed', 'faster', 'spoilag', 'dissolv', 'decant', 'storag', 'hoffman', 'bang', 'barrel', 'soak', 'init', 'seiz', 'subtl', 'unknown', 'polish', 'depriv', 'cellar', 'inclin', 'pasta', 'pizza', 'aromat', 'skunki', 'emptor', 'gourmet', 'chef', 'dissappoint', 'invalu', 'oliv', 'merlot', 'restaur', 'aspir', 'snob', 'ergonom', 'rack', 'leakag', 'advanc', 'longest', 'effortless', 'rush', 'glutton', 'dec', 'differnt', 'reseal', 'chill', 'vacum', 'stroke', 'keeper', 'sweat', 'froze', 'lubric', 'dosag', 'cleans', 'harsh', 'laxat', 'consum', 'ate', 'amateur', 'applianc', 'clove', 'pesto', 'toast', 'baguett', 'trident', 'heartburn', 'freshen', 'sugarless', 'whiten', 'measli', 'sodium', 'sorbitol', 'aspartam', 'deriv', 'phenylalanin', 'pose', 'toll', 'cracker', 'albacor', 'onion', 'poop', 'stiff', 'shell', 'catalog', 'moor', 'coupon', 'tax', 'clue', 'sponsor', 'crisco', 'mimic', 'heavier', 'lighter', 'muffin', 'oatmeal', 'wheat', 'nutella', 'pungent', 'moon', 'trenton', 'tilapia', 'rancid', 'waiter', 'sport', 'folger', 'secret', 'savvi', 'beelin', 'octopus', 'creamer', 'communiti', 'accustom', 'dollop', 'belgium', 'piroulin', 'wafer', 'america', 'flaki', 'hazelnut', 'slender', 'instrument', 'afterword', 'repackag', 'van', 'beethoven', 'album', 'miscellan', 'sloppi', 'unprofession', 'band', 'vinyl', 'ident', 'faint', 'tweak', 'simplist', 'composit', 'boredom', 'presenc', 'compil', 'categor', 'unpretenti', 'hillbilli', 'jazz', 'surf', 'flexibl', 'loweri', 'penchant', 'sneak', 'cvb', 'dismantl', 'leader', 'fellow', 'spiritu', 'obscur', 'audienc', 'relentless', 'belief', 'nelli', 'alongsid', 'pierc', 'bleed', 'wealth', 'despis', 'glee', 'plateau', 'intellig', 'unimport', 'global', 'guitar', 'orchestra', 'violin', 'chant', 'jolt', 'loan', 'revolutionari', 'sweetheart', 'iii', 'carrot', 'necess', 'rabid', 'cds', 'elect', 'eclect', 'virgin', 'lovabl', 'fluffi', 'yarn', 'philli', 'keyboard', 'heartbroken', 'sanit', 'nonetheless', 'feb', 'endless', 'blown', 'sour', 'matur', 'endear', 'debut', 'goofi', 'psychedel', 'confus', 'tentat', 'sarcast', 'conceiv', 'suffic', 'seven', 'harrison', 'photograph', 'compet', 'glossi', 'booklet', 'essay', 'cruz', 'factual', 'journalist', 'phenomenon', 'men', 'radio', 'station', 'banjo', 'australia', 'sleev', 'lengthi', 'rocker', 'lifestyl', 'godsend', 'chalki', 'februari', 'whelm', 'smelt', 'siberian', 'yip', 'yap', 'appet', 'rosemari', 'atleast', 'demand', 'halitosi', 'uncl', 'cautious', 'ting', 'parsley', 'femur', 'frisbe', 'newfound', 'hover', 'sparkl', 'failur', 'pez', 'denser', 'crunchier', 'vomit', 'kibbl', 'stapl', 'dane', 'kobe', 'unseen', 'arkansa', 'alleri', 'afflict', 'manifest', 'yeast', 'eleph', 'abdomen', 'bald', 'thigh', 'bacteri', 'remedi', 'environment', 'vegit', 'scout', 'allergen', 'wysong', 'therapeut', 'bath', 'linen', 'antihistamin', 'shrunk', 'intermitt', 'rawhid', 'marrow', 'detriment', 'gravi', 'hydrat', 'uret', 'dalmatian', 'itchi', 'suprem', 'reccommend', 'renal', 'crisi', 'crf', 'jus', 'comprehens', 'solium', 'phosphorus', 'ham', 'spaghetti', 'sauc', 'setback', 'quiet', 'rambuncti', 'rascal', 'gerber', 'cornstarch', 'usda', 'mandat', 'miner', 'duck', 'standalon', 'nine', 'lil', 'swollow', 'hardwood', 'tug', 'rope', 'floss', 'oftentim', 'stool', 'coton', 'tulear', 'thrive', 'energ', 'siames', 'letharg', 'hmm', 'oblig', 'distress', 'shelter', 'commend', 'chariti', 'ludicr', 'kitti', 'brewer', 'gluten', 'where', 'unnam', 'roadkil', 'bella', 'friski', 'kaboodl', 'housem', 'judgment', 'discount', 'devour', 'pars', 'deliber', 'checkup', 'carbohydr', 'slaughterhous', 'transit', 'percent', 'sawdust', 'regrett', 'howl', 'genuin', 'halo', 'innova', 'evo', 'salsa', 'orijen', 'gulp', 'buffalo', 'merrick', 'femal', 'passion', 'honesti', 'misfortun', 'theo', 'dental', 'discontinu', 'gingiv', 'prescrib', 'acclim', 'purina', 'reddish', 'cellulos', 'sketchi', 'clot', 'prednisolon', 'inflamatori', 'bowel', 'coon', 'hairbal', 'wilder', 'nutriti', 'god', 'aisl', 'indigest', 'roughag', 'chomp', 'halv', 'precious', 'hazard', 'abnorm', 'naiv', 'orient', 'expel', 'dire', 'consequ', 'subsequ', 'compel', 'insult', 'lame', 'blender', 'haul', 'bunk', 'physiqu', 'triangular', 'onset', 'syndrom', 'ib', 'diarrhea', 'regul', 'lbs', 'twinkl', 'litterbox', 'intestin', 'toxin', 'cee', 'shorter', 'likley', 'infinit', 'certifi', 'fountain', 'miseri', 'nugget', 'sift', 'tartar', 'elig', 'agenc', 'scrape', 'tarter', 'ward', 'frequenc', 'unreason', 'herbicid', 'patent', 'spleen', 'tractor', 'miser', 'speedi', 'exit', 'urg', 'rubbermaid', 'hock', 'epic', 'tupperwar', 'kcal', 'starvat', 'divid', 'public', 'stagger', 'overweight', 'meatless', 'beak', 'veterinari', 'hype', 'tactic', 'untest', 'fad', 'anyhow', 'tan', 'triangl', 'underweight', 'fussi', 'crunch', 'xray', 'tract', 'anesthesia', 'molli', 'iam', 'urinari', 'heaviest', 'chore', 'consumpt', 'entrail', 'explanatori', 'soybean', 'hull', 'aka', 'inappropri', 'fatter', 'inact', 'pea', 'potato', 'venison', 'shiner', 'boneless', 'herring', 'russet', 'laughabl', 'tiki', 'felin', 'holist', 'graze', 'petfooddirect', 'satiat', 'hmmm', 'wean', 'piti', 'meow', 'emaci', 'tonga', 'fatten', 'sleek', 'strict', 'gradual', 'jumbl', 'fece', 'purist', 'torti', 'adulthood', 'petit', 'obes', 'slept', 'sway', 'flabbi', 'skinni', 'wiri', 'mend', 'softest', 'wanda', 'labradoodl', 'stalk', 'feast', 'microwav', 'rigid', 'softer', 'accommod', 'sturdiest', 'snug', 'stiffer', 'overs', 'elsewher', 'petmat', 'dinosaur', 'supervis', 'doberman', 'pinscher', 'nylabon', 'barefoot', 'shred', 'schedul', 'shiba', 'stegosaurus', 'feroci', 'worn', 'projectil', 'ingest', 'avid', 'chewer', 'harmless', 'ouch', 'producto', 'una', 'hasta', 'costa', 'rica', 'buen', 'buena', 'calidad', 'estrella', 'que', 'pero', 'asi', 'estoy', 'daisi', 'minpin', 'colli', 'trace', 'dino', 'stoke', 'noisi', 'mths', 'stegasaurus', 'apbt', 'aggress', 'overlook', 'cherish', 'squeeki', 'tackl', 'walker', 'cart', 'agress', 'scotti', 'unattend', 'cleanest', 'puggl', 'bumpi', 'massag', 'mastiff', 'boxer', 'whoever', 'pear', 'rotti', 'courtesi', 'nowher', 'pointi', 'yorki', 'voraci', 'gnaw', 'soooo', 'frenchi', 'ridgeback', 'cairn', 'labrador', 'brontosaurus', 'bacon', 'nubbi', 'basset', 'happiest', 'parson', 'probem', 'galileo', 'souper', 'replenish', 'sadden', 'badass', 'jag', 'moldi', 'shelti', 'reviv', 'angl', 'keen', 'manipul', 'limb', 'molar', 'bark', 'up', 'wad', 'enhanc', 'injur', 'ahold', 'demolish', 'thorn', 'polit', 'postag', 'declin', 'stir', 'extinct', 'gnar', 'cavali', 'mistaken', 'mangl', 'canal', 'specialist', 'upper', 'categori', 'purchac', 'pitti', 'ring', 'asleep', 'promot', 'kong', 'excruci', 'incid', 'schnoodl', 'silki', 'terrifi', 'ramif', 'wishbon', 'pug', 'spanki', 'ancient', 'reptil', 'def', 'weim', 'ummm', 'rough', 'fragment', 'disconcert', 'australian', 'champion', 'indestruct', 'outlast', 'retriv', 'coonhound', 'boston', 'downfal', 'protrud', 'outgrown', 'misc', 'dime', 'tact', 'rex', 'bichon', 'wari', 'looov', 'whith', 'bubblegum', 'thereof', 'recognit', 'enamor', 'cutest', 'knobbi', 'awak', 'rescuer', 'indispens', 'staffordshir', 'irish', 'wolfhound', 'buildup', 'nervous', 'backup', 'mesquit', 'sat', 'shank', 'weapon', 'unknow', 'core', 'dingo', 'selfish', 'nobodi', 'shard', 'envi', 'chipper', 'speck', 'vaccum', 'unrecogniz', 'occurr', 'judg', 'corpor', 'grind', 'fledg', 'unidentifi', 'wholeheart', 'fling', 'associ', 'seldom', 'lie', 'rank', 'ohio', 'blanket', 'tendanc', 'flutter', 'especailli', 'heh', 'kookamunga', 'fool', 'nip', 'mylar', 'boo', 'poxi', 'droplet', 'skittish', 'flurri', 'drift', 'basil', 'int', 'contrari', 'fiend', 'jerri', 'whiff', 'wand', 'inc', 'pounc', 'spong', 'laziest', 'awaken', 'bologna', 'bat', 'dip', 'overwhelm', 'blew', 'panick', 'nerv', 'maneuv', 'ricochet', 'candl', 'newfoundland', 'knee', 'regimen', 'nsaid', 'shellfish', 'bovin', 'chondroitin', 'sulfat', 'yucca', 'nettl', 'alfalfa', 'celeri', 'tumer', 'chewabl', 'merchant', 'parcel', 'dogfood', 'eukanuba', 'hamburg', 'cheat', 'shini', 'thanksgiv', 'quest', 'germ', 'kelp', 'thistl', 'tablespoon', 'budget', 'tonight', 'lamaderm', 'diagnos', 'mealtim', 'inu', 'strand', 'silken', 'truth', 'knuckl', 'sought', 'eager', 'hunk', 'piggi', 'precis', 'lam', 'breast', 'hopeless', 'chief', 'regurgit', 'nourish', 'firmer', 'senior', 'uti', 'triumph', 'trout', 'heartili', 'gene', 'undercoat', 'bout', 'immun', 'lush', 'unhealthi', 'tisk', 'proplan', 'bene', 'net', 'baffl', 'pitcairn', 'specimen', 'glitch', 'complimentari', 'dehydr', 'until', 'transact', 'tech', 'sitter', 'lifesav', 'struvit', 'crystal', 'imho', 'urin', 'oxal', 'vital', 'underw', 'spoke', 'cystiti', 'seafood', 'ocean', 'whitefish', 'cocktail', 'growth', 'ceram', 'liddi', 'purr', 'virus', 'homeopath', 'manhattan', 'intak', 'petstor', 'scoop', 'puke', 'nineteen', 'shih', 'tzus', 'mighti', 'finickiest', 'lit', 'manna', 'fluke', 'fervor', 'pur', 'whenver', 'slick', 'pate', 'sea', 'captain', 'youngest', 'opposit', 'bengal', 'gusto', 'coup', 'richer', 'verit', 'savori', 'cod', 'shrimp', 'stack', 'persian', 'knowledg', 'pregnant', 'nurs', 'malnourish', 'recuper', 'surgic', 'feral', 'birth', 'spay', 'neuter', 'vaccin', 'trustworthi', 'diy', 'interv', 'percentag', 'incent', 'imo', 'safest', 'yike', 'gsd', 'overgrowth', 'renown', 'clinic', 'probiot', 'eagl', 'demean', 'inherit', 'purebr', 'perkier', 'norwegian', 'burmes', 'himalayan', 'prone', 'pillow', 'ragdol', 'staff', 'tonn', 'dandruff', 'stereotyp', 'mushi', 'teaspoon', 'canola', 'rapese', 'somet', 'coconut', 'guardian', 'welless', 'flax', 'cider', 'prozym', 'unlock', 'murmur', 'lite', 'fart', 'cereal', 'taurin', 'petag', 'kmr', 'newborn', 'colostrum', 'frail', 'premix', 'enclosur', 'unnecessari', 'canida', 'chocal', 'discolor', 'balk', 'indredi', 'flint', 'nutromax', 'odorless', 'overse', 'fri', 'checkpoint', 'cal', 'mamma', 'mia', 'backbon', 'dander', 'financi', 'japan', 'militari', 'hund', 'flocken', 'costco', 'kirkland', 'dal', 'candida', 'sack', 'tokyo', 'tastier', 'heartier', 'bernard', 'shep', 'blk', 'shinni', 'al', 'prednison', 'shriek', 'rep', 'birdi', 'homework', 'loyal', 'lessen', 'werent', 'bread', 'foreign', 'dishonest', 'immor', 'legal', 'feder', 'evas', 'pricier', 'densiti', 'hast', 'woop', 'ick', 'reli', 'bloat', 'schnauzer', 'sneek', 'unsatisfi', 'cruel', 'papillon', 'extem', 'debat', 'reduct', 'alwasi', 'bloodhound', 'gunki', 'wrinkl', 'shiney', 'horrifi', 'multi', 'puppyhood', 'sheen', 'contant', 'msg', 'blog', 'acetaminophen', 'baggi', 'alleg', 'rumor', 'wildfir', 'burp', 'lookout', 'wanna', 'everytim', 'advert', 'shinier', 'eventhough', 'flatul', 'commod', 'rocket', 'condescend', 'feedback', 'shopper', 'unload', 'partnership', 'diamond', 'stringent', 'inspect', 'anal', 'handler', 'satisfactori', 'fox', 'predict', 'albeit', 'calcul', 'diversifi', 'climb', 'impli', 'subpar', 'luxuri', 'belgian', 'malinoi', 'rude', 'explos', 'diaherra', 'vizsla', 'felida', 'parasit', 'formul', 'plump', 'mcdonald', 'grant', 'oversight', 'goldendoodl', 'explan', 'pursu', 'precook', 'amino', 'calcium', 'beforehand', 'riley', 'allot', 'decis', 'penelop', 'margin', 'biggi', 'sneez', 'nibbl', 'sporad', 'agit', 'proport', 'wks', 'relationship', 'compari', 'mammal', 'canario', 'contempl', 'approx', 'appetit', 'constitut', 'fluid', 'recheck', 'argument', 'specious', 'licens', 'stinkiest', 'petcar', 'reorder', 'stainless', 'puzzl', 'chin', 'rash', 'diarreah', 'hive', 'yell', 'millet', 'lest', 'chosen', 'skew', 'dissatisfact', 'client', 'consumeraffair', 'eureka', 'ascrib', 'soley', 'overstuff', 'horrid', 'conscienc', 'spose', 'ruff', 'rhodesian', 'bash', 'jerk', 'neurot', 'miracl', 'arnt', 'affair', 'ultrasound', 'attorney', 'html', 'topnotch', 'bernes', 'chiweeni', 'weightloss', 'advers', 'bulletproof', 'liquidi', 'gurgl', 'sicker', 'dodgi', 'unannounc', 'healthwis', 'oversea', 'yellowish', 'foam', 'swish', 'variant', 'buttock', 'hysteria', 'woohoo', 'epilepsi', 'seizur', 'complic', 'fastest', 'gland', 'sac', 'blowout', 'preach', 'shetland', 'sheepdog', 'tocopherol', 'tomato', 'pomac', 'cholin', 'chlorid', 'inulin', 'chicori', 'lecithin', 'sage', 'sunflow', 'schidigera', 'enterococcus', 'faecium', 'ferment', 'lactobacillus', 'acidophilus', 'casei', 'plantarum', 'trichoderma', 'longibrachiatum', 'zinc', 'copper', 'ferrous', 'potassium', 'iodid', 'thiamin', 'mononitr', 'manganes', 'mangan', 'ascorb', 'biotin', 'niacin', 'pantothen', 'selenit', 'pyridoxin', 'hydrochlorid', 'riboflavin', 'folic', 'papaya', 'pineappl', 'newest', 'retch', 'ranch', 'siezur', 'standbi', 'sojo', 'mfg', 'afer', 'diarreha', 'lethargi', 'panel', 'bottomlin', 'las', 'vega', 'roulett', 'heartach', 'greet', 'visitor', 'personn', 'undergo', 'risen', 'unnecessarili', 'groom', 'armpit', 'drizzl', 'famish', 'driver', 'glitter', 'aafco', 'melamin', 'antacid', 'cortizon', 'canada', 'crappi', 'chub', 'rag', 'receommend', 'labor', 'spatula', 'smelliest', 'counteract', 'wholesom', 'petguard', 'journal', 'winn', 'dixi', 'alpo', 'controversi', 'inabl', 'undoubt', 'astound', 'reput', 'epidem', 'relaps', 'vial', 'urolog', 'nauseat', 'savannah', 'hum', 'administ', 'enorm', 'clueless', 'stabil', 'laundri', 'spunk', 'isabel', 'hurdl', 'forumla', 'pharmaci', 'sylvest', 'friskier', 'infuri', 'unsuspect', 'overpay', 'carcinogen', 'tragedi', 'omnivor', 'flour', 'guar', 'carageenan', 'cheeseburg', 'styrofoam', 'expenc', 'inclus', 'brave', 'avoderm', 'void', 'feeder', 'timer', 'zillion', 'prey', 'crop', 'gizzard', 'lipid', 'mainstream', 'steamer', 'viabl', 'british', 'weruva', 'thailand', 'bpa', 'remot', 'gari', 'anemia', 'transfus', 'laxaton', 'crock', 'companion', 'healthiest', 'tabbi', 'bile', 'strain', 'understood', 'pancreat', 'graci', 'sugari', 'endors', 'someday', 'kittenhood', 'swirl', 'lap', 'stabl', 'gnc', 'mega', 'newman', 'junki', 'regain', 'vigor', 'pallet', 'fifth', 'chunki', 'patt', 'snarf', 'ash', 'wateri', 'temp', 'starchi', 'silk', 'agil', 'mandi', 'onslaught', 'radiant', 'revis', 'refrig', 'nuke', 'verifi', 'lieu', 'insur', 'giblet', 'archi', 'defi', 'plummet', 'alaska', 'unscrupul', 'decept', 'testi', 'bulim', 'thyroid', 'swollen', 'pinpoint', 'noxious', 'fume', 'bound', 'epitom', 'notabl', 'towel', 'maul', 'ope', 'emphat', 'littler', 'absorb', 'amplifi', 'silkiest', 'shiniest', 'envious', 'gasp', 'ethic', 'fowl', 'membership', 'walla', 'pork', 'juicer', 'syring', 'nebul', 'turnaround', 'slop', 'malnutrit', 'antioxid', 'concur', 'thirst', 'cave', 'crept', 'tickl', 'tres', 'bien', 'barf', 'safeway', 'ditto', 'chix', 'beech', 'calif', 'whiska', 'bumbl', 'turk', 'testimoni', 'flaxse', 'elizabeth', 'hodgkin', 'botul', 'chx', 'minc', 'magnesium', 'spinach', 'phosphat', 'chelat', 'cobalt', 'carrageenan', 'surmis', 'unbeat', 'sardin', 'lizzi', 'nutro', 'flavour', 'lurk', 'medallion', 'scrambl', 'untouch', 'faulti', 'coax', 'unfortunet', 'yen', 'aspca', 'llc', 'threat', 'precaut', 'canning', 'dusti', 'crawl', 'swheat', 'cycl', 'wbcl', 'strait', 'flushabl', 'globbi', 'wastebasket', 'pipe', 'gelatin', 'perfum', 'toilet', 'mat', 'coverag', 'resourc', 'farmer', 'inert', 'peed', 'asthmat', 'unbear', 'improp', 'warehous', 'scooper', 'sibl', 'cement', 'chisel', 'ammonia', 'eyebrow', 'cheeto', 'puf', 'starch', 'metro', 'weakl', 'scoopabl', 'weevil', 'swept', 'dissatisfi', 'sicken', 'adher', 'husk', 'sail', 'courteous', 'gooey', 'heretofor', 'hammer', 'contrast', 'contradict', 'lifeless', 'oblivion', 'permit', 'cleanli', 'humid', 'wetter', 'warmer', 'deodor', 'hall', 'offici', 'ugh', 'automat', 'superfin', 'disabl', 'hind', 'meali', 'potent', 'granul', 'fertil', 'galvan', 'bust', 'gripe', 'ungod', 'induc', 'unfinish', 'domest', 'matt', 'perk', 'silicon', 'fatal', 'liner', 'recycl', 'biodegrad', 'traumat', 'clumpi', 'nutshel', 'plumb', 'ooooh', 'vegan', 'bonito', 'accomplish', 'briefli', 'agreement', 'deterg', 'holi', 'admir', 'bodili', 'excret', 'piddl', 'lava', 'mudslid', 'clung', 'dribbl', 'fondest', 'hellish', 'sludgi', 'assault', 'iceberg', 'lobster', 'mmm', 'mma', 'wring', 'derail', 'olfactori', 'noodl', 'ghast', 'substanc', 'oven', 'mightili', 'waft', 'scar', 'yeasti', 'chaff', 'merci', 'injest', 'fragranc', 'ponder', 'convert', 'downstair', 'upstair', 'kneel', 'fret', 'ensu', 'offend', 'teeni', 'paranoid', 'buffi', 'outweigh', 'wholli', 'crumpl', 'bay', 'tray', 'electron', 'cakey', 'workout', 'accumul', 'nonstick', 'pam', 'tilt', 'unscent', 'glob', 'bladder', 'harden', 'profound', 'chemcial', 'bunni', 'bypass', 'motor', 'billow', 'reiter', 'whomev', 'upward', 'nuff', 'unlucki', 'lavend', 'bonni', 'whew', 'wrestl', 'weimaran', 'dogfoodadvisor', 'maxwel', 'sharon', 'nitpick', 'fought', 'exchang', 'drug', 'incl', 'nutritionist', 'phosphor', 'justic', 'skimp', 'subscrib', 'fortifi', 'benifit', 'shephard', 'advisor', 'senset', 'basenji', 'borzoi', 'salmonella', 'upc', 'code', 'vermin', 'scrub', 'express', 'freakin', 'behav', 'totw', 'athlet', 'healti', 'dobi', 'barley', 'patti', 'paperwork', 'feat', 'austin', 'kirland', 'gambl', 'bison', 'apex', 'careless', 'cuz', 'disguis', 'bandwagon', 'stumbl', 'deer', 'wich', 'deliverd', 'nearest', 'renew', 'intimid', 'unbox', 'wheaten', 'intoler', 'rebuy', 'hickori', 'peggi', 'pimpl', 'fus', 'coulnt', 'patten', 'tighten', 'twitchi', 'flabbergast', 'ding', 'pray', 'cheeper', 'vommit', 'ween', 'displeasur', 'jackson', 'spawn', 'squirrel', 'hubbard', 'buster', 'bitz', 'rec', 'sacrif', 'blacki', 'hottest', 'gristl', 'acut', 'protien', 'metabol', 'hack', 'evidenc', 'verdict', 'zipper', 'eski', 'eskimo', 'omega', 'fatti', 'trot', 'duli', 'cousin', 'teddi', 'repurchas', 'discomfort', 'evi', 'agreeabl', 'tinkerbel', 'closest', 'ambient', 'linger', 'par', 'cedar', 'mitig', 'reproduct', 'unopen', 'southwest', 'climat', 'sifter', 'infiltr', 'aforement', 'volunt', 'perfumi', 'rummag', 'circul', 'overload', 'geni', 'increment', 'exam', 'bus', 'pom', 'predispos', 'trachea', 'luxat', 'patella', 'mislead', 'supervisor', 'pasti', 'goo', 'distend', 'wist', 'thaw', 'ooz', 'pepperoni', 'frise', 'freezer', 'trickier', 'ridg', 'rever', 'stuffn', 'roundup', 'livestock', 'finiki', 'thunderstorm', 'crusti', 'grrrreat', 'yorkshir', 'coast', 'resurfac', 'babycat', 'chicklet', 'lifetim', 'aim', 'mama', 'motorhom', 'convienc', 'supris', 'gastric', 'redbarn', 'nitrit', 'oili', 'hoov', 'hoof', 'smokey', 'thou', 'kaiser', 'biscotti', 'crouton', 'savor', 'longev', 'spearmint', 'salad', 'cupboard', 'ferrel', 'nutrici', 'esp', 'unavail', 'render', 'carcass', 'slaughter', 'undevelop', 'unavoid', 'ban', 'unsuit', 'committe', 'pussi', 'moonshin', 'foxi', 'luv', 'chlorin', 'neic', 'prefac', 'voluntari', 'carolina', 'forgiv', 'lawsuit', 'anybodi', 'accus', 'scum', 'centimet', 'bullion', 'lara', 'zuke', 'bestfriend', 'semi', 'arthrit', 'bloodstream', 'progress', 'stair', 'expo', 'anaheim', 'sep', 'olden', 'rimadyl', 'echo', 'founder', 'patrick', 'fund', 'diagnosi', 'diminish', 'clock', 'dosent', 'efficaci', 'piper', 'sprint', 'stamina', 'kneecap', 'deform', 'immens', 'limp', 'lowest', 'advisori', 'crinkl', 'cushion', 'disposit', 'sasha', 'judi', 'watson', 'acl', 'nap', 'navig', 'reali', 'reasearch', 'dos', 'broccoli', 'deduct', 'pomeranian', 'cartilag', 'strengthen', 'delay', 'glucosomin', 'have', 'suppliment', 'an', 'nevertheless', 'uninterest', 'aspirin', 'orthoped', 'bundl', 'card', 'rott', 'boarder', 'wonki', 'yelp', 'disclosur', 'calor', 'crane', 'creek', 'ole', 'loosen', 'metacam', 'waaaay', 'placebo', 'presid', 'freind', 'amp', 'doxi', 'tripe', 'cherri', 'blueberri', 'turmer', 'seasam', 'indian', 'spice', 'ozzi', 'goldi', 'tissu', 'agoni', 'utah', 'anguish', 'naught', 'hiker', 'daddi', 'maya', 'tzu', 'pekinges', 'colon', 'drier', 'tallow', 'preval', 'retain', 'harvest', 'tnr', 'supper', 'dori', 'overeat', 'reintroduc', 'meowmix', 'uneth', 'synthet', 'influenc', 'iamb', 'baselin', 'incur', 'bribe', 'scoobi', 'oreo', 'generous', 'naughti', 'apt', 'kathi', 'eng', 'setter', 'cet', 'toothpast', 'toothbrush', 'gastrointestin', 'currenc', 'perish', 'crumbi', 'menhaden', 'japanes', 'tenni', 'casual', 'freshner', 'whiter', 'bud', 'bedpost', 'andi', 'litt', 'steep', 'sediment', 'infus', 'vertic', 'rim', 'strainer', 'mesh', 'mug', 'dilemma', 'cylindr', 'dunk', 'drank', 'sub', 'oolong', 'yerba', 'gringo', 'streamlin', 'reheat', 'boldest', 'unfurl', 'impervi', 'reson', 'rental', 'roommat', 'vaccuum', 'midwest', 'mist', 'nozzl', 'splatter', 'gob', 'necco', 'unbroken', 'liven', 'melita', 'buzzworthi', 'thet', 'melitta', 'heavili', 'coffeemak', 'juan', 'valdez', 'rival', 'senseo', 'mediocr', 'cofe', 'boutiqu', 'pinnacl', 'appt', 'filet', 'tortois', 'trickeri', 'redon', 'favour', 'inadequ', 'temptat', 'lilac', 'grandmoth', 'elsa', 'silver', 'foor', 'snowflak', 'medley', 'stereo', 'worrisom', 'vienna', 'versatil', 'sludg', 'cafe', 'renam', 'austrian', 'grinder', 'burr', 'hearti', 'opinon', 'gentler', 'afficionado', 'steer', 'franchis', 'leeri', 'uniniti', 'laid', 'ubiquit', 'deg', 'inoffens', 'spark', 'asphalt', 'doz', 'eatabl', 'titanium', 'dioxid', 'checkbook', 'horrend', 'lethal', 'prism', 'nutrion', 'rubberi', 'smartblend', 'shar', 'pei', 'winco', 'proposit', 'defend', 'beggar', 'nestl', 'possum', 'blankenship', 'ozark', 'costo', 'subscript', 'walli', 'indiffer', 'alittl', 'kitteh', 'port', 'tuxedo', 'contour', 'fitter', 'afficianado', 'penalti', 'spur', 'acn', 'squiggl', 'tendon', 'cohen', 'flossi', 'preoccupi', 'hurl', 'miki', 'graduat', 'rotten', 'spam', 'unsubscrib', 'tor', 'teh', 'fade', 'booster', 'workabl', 'lambert', 'kay', 'beig', 'germani', 'trio', 'stride', 'adapt', 'bolt', 'puff', 'yowl', 'splurg', 'darl', 'squabbl', 'pamper', 'lion', 'caribbean', 'dentashield', 'flav', 'alerg', 'bedsid', 'survey', 'immit', 'caterpillar', 'dee', 'sanction', 'pyramid', 'lipton', 'tazo', 'strongest', 'milder', 'coff', 'fort', 'peko', 'grocer', 'delv', 'hyperbol', 'lemonad', 'keurig', 'punch', 'earl', 'jame', 'portrait', 'invigor', 'tealeav', 'transcend', 'evok', 'jumpstart', 'rebecca', 'campus', 'pub', 'standpoint', 'zen', 'suppress', 'sympton', 'essenc', 'verbena', 'portland', 'motto', 'reincarn', 'unclear', 'enlighten', 'lemoni', 'earthi', 'zhejiang', 'provinc', 'aftertast', 'celesti', 'mellow', 'unwind', 'puerto', 'rican', 'pilon', 'hispan', 'kimbo', 'raleigh', 'cuban', 'expresso', 'defenet', 'conquer', 'exil', 'gaggia', 'javacabana', 'turkish', 'berber', 'natasha', 'cairo', 'ibrik', 'cardamom', 'splenda', 'jordan', 'compens', 'finer', 'coriand', 'slightest', 'forewarn', 'najjar', 'kentucki', 'lebanes', 'cardamon', 'discrib', 'loaf', 'loav', 'panda', 'blurb', 'cloy', 'molass', 'anise', 'accross', 'cholesterol', 'oat', 'raisin', 'adren', 'cafix', 'roastaroma', 'postum', 'aficionado', 'replica', 'malti', 'nutrasweet', 'aros', 'warfar', 'gerd', 'yum', 'akin', 'pourer', 'bodum', 'simplifi', 'substitu', 'imit', 'smoother', 'mor', 'chickori', 'peet', 'truvia', 'ritual', 'dandi', 'heap', 'rye', 'mexican', 'carob', 'disolv', 'jumpi', 'slighti', 'almond', 'inka', 'decafin', 'aggrev', 'interstiti', 'humbl', 'coastal', 'nova', 'scotia', 'hancock', 'aquarium', 'tastey', 'bisqu', 'mac', 'amout', 'mayo', 'bun', 'interf', 'midwestern', 'nom', 'skillet', 'bon', 'ampl', 'mayonais', 'bday', 'saliv', 'smother', 'disappont', 'these', 'subway', 'insul', 'awe', 'tarragon', 'doo', 'bred', 'southeastern', 'georgia', 'navi', 'northeast', 'multipack', 'paul', 'blacken', 'firsthand', 'gulf', 'mexico', 'snapper', 'louisiana', 'scour', 'ingl', 'genious', 'prudhomm', 'worthwhil', 'ketchup', 'cajun', 'redfish', 'carbon', 'crust', 'detector', 'smoki', 'standout', 'paprika', 'veal', 'chile', 'chili', 'spicier', 'perfecto', 'guajillo', 'ancho', 'pasilla', 'chipotl', 'arbol', 'creol', 'cuisin', 'orlean', 'adject', 'amongst', 'privat', 'barbecu', 'bbqs', 'skinless', 'soggi', 'ben', 'fajita', 'tingl', 'louisianna', 'pizzaz', 'chiken', 'juiciest', 'noon', 'ralph', 'kroger', 'wondrous', 'panacea', 'bell', 'chex', 'carolyn', 'dud', 'mrs', 'dash', 'gumbo', 'pizazz', 'parmesan', 'casserol', 'zest', 'cob', 'tangi', 'parmesian', 'myrtl', 'regulari', 'canist', 'marinad', 'outlet', 'tenderloin', 'rind', 'steve', 'smoker', 'barbequ', 'meatloaf', 'tobasco', 'terriyaki', 'kabob', 'mount', 'superfresh', 'resent', 'ribey', 'recipi', 'iowa', 'charcoal', 'undu', 'bargin', 'bast', 'burger', 'pepperi', 'crawfish', 'broil', 'grandkid', 'yah', 'mango', 'peach', 'cilantro', 'overboard', 'sazon', 'topper', 'mustard', 'govern', 'omelett', 'saut', 'pretzel', 'yumm', 'bourbon', 'applebe', 'sirloin', 'leaner', 'coleman', 'stove', 'hood', 'caesar', 'checker', 'calistoga', 'cater', 'vege', 'asian', 'ambiti', 'asparagus', 'gourmand', 'rodell', 'delicaci', 'vouch', 'crab', 'conch', 'ang', 'chopstick', 'distant', 'neo', 'lengthier', 'moisten', 'hockey', 'periodont', 'phos', 'catfood', 'finnicki', 'snif', 'pediasur', 'tbsp', 'tsp', 'kefir', 'perscript', 'anorex', 'clobber', 'unfortunat', 'runt', 'prognosi', 'webpag', 'pester', 'prolong', 'vita', 'palit', 'ibd', 'mikey', 'mixer', 'juici', 'sabrina', 'sigh', 'defeat', 'heartsick', 'enzad', 'jelli', 'percentil', 'halibut', 'ripoff', 'errand', 'blob', 'impend', 'sentenc', 'smack', 'discourag', 'ticket', 'glycerin', 'mortar', 'uncontrol', 'hairi', 'underbelli', 'tangl', 'bullystick', 'reconsid', 'trixi', 'machineri', 'quartz', 'miller', 'roman', 'bob', 'closur', 'crink', 'millston', 'bran', 'endosperm', 'clover', 'whisk', 'knead', 'elast', 'preheat', 'arthur', 'tart', 'lundberg', 'blander', 'central', 'asia', 'shall', 'pomegran', 'maranatha', 'hydrogen', 'peanutti', 'sin', 'unprocess', 'muchi', 'overton', 'teavana', 'adagio', 'swoon', 'bergamot', 'geek', 'bitti', 'jasmin', 'chai', 'chestnut', 'begun', 'unmistak', 'thai', 'coconutti', 'berri', 'cozi', 'comfi', 'autumn', 'masala', 'rendit', 'guzzl', 'adiago', 'needl', 'procuct', 'cannist', 'citrus', 'froot', 'gunpowd', 'utmost', 'cigar', 'hojicha', 'harmoni', 'prize', 'interchang', 'genmai', 'cha', 'blossom', 'genmaicha', 'gyokuro', 'afternot', 'umami', 'absent', 'rooibo', 'colonoscopi', 'radioact', 'hardcor', 'blech', 'zing', 'steeper', 'attend', 'trinket', 'maynard', 'pina', 'colada', 'dewey', 'raspberri', 'melang', 'expedit', 'christmass', 'apricot', 'rooibus', 'sprout', 'shrug', 'rene', 'humus', 'bloom', 'photographi', 'down', 'outer', 'macer', 'kernel', 'chair', 'oak', 'emphasi', 'swift', 'traffic', 'abour', 'noc', 'wort', 'germin', 'waist', 'stunt', 'attain', 'unappet', 'pkgs', 'gown', 'deck', 'rooftop', 'misti', 'tiger', 'restraint', 'stingi', 'mew', 'grassi', 'deter', 'jamaica', 'trek', 'jbm', 'filtrat', 'compair', 'prepair', 'scoff', 'fanat', 'toung', 'trueli', 'novelti', 'kona', 'wallenford', 'jamaican', 'scorch', 'coma', 'dunkin', 'donut', 'ethiopian', 'mud', 'percol', 'farberwar', 'quailti', 'ace', 'ontario', 'albertson', 'rite', 'gore', 'perc', 'cling', 'grandma', 'vanish', 'aunt', 'presto', 'gloria', 'percul', 'sacramento', 'yosemit', 'ought', 'overflow', 'coddler', 'fuse', 'troop', 'grayish', 'kettl', 'korn', 'pirat', 'hawaiian', 'yall', 'waterfal', 'tine', 'impecc', 'dy', 'thirteen', 'sunburn', 'tablecloth', 'playtim', 'nonexist', 'benzoat', 'sorbat', 'agar', 'citric', 'arrang', 'jewel', 'useful', 'marzipan', 'upright', 'fiberglass', 'turquois', 'discern', 'palet', 'congrat', 'doorstep', 'windex', 'liitl', 'intensifi', 'coal', 'tar', 'petroleum', 'adhd', 'nesco', 'recomiendo', 'sabor', 'carn', 'muy', 'bueno', 'por', 'tiempo', 'certif', 'teriyaki', 'boyfriend', 'extrud', 'margarin', 'jerkey', 'convient', 'reciep', 'spous', 'premeasur', 'cylind', 'london', 'plasma', 'lace', 'explod', 'hank', 'habanero', 'clone', 'sulfur', 'dan', 'saltiest', 'hurrah', 'helen', 'roobio', 'trend', 'inflamm', 'suscept', 'envelop', 'inquir', 'ire', 'phone', 'dive', 'yunnan', 'mocha', 'jig', 'assert', 'caffien', 'insomnia', 'assam', 'seduc', 'virtu', 'darjeel', 'atlant', 'region', 'aloha', 'smoothest', 'mainland', 'sophist', 'mooch', 'emma', 'relay', 'apolog', 'anna', 'diatrib', 'gestur', 'ach', 'planter', 'hoodi', 'virginia', 'feridi', 'redskin', 'unsalt', 'crunchiest', 'condon', 'baught', 'suppris', 'antigua', 'guatemala', 'roaster', 'plethora', 'awoken', 'ashbi', 'beter', 'nebraska', 'yahoo', 'plum', 'delish', 'cuppa', 'wimpi', 'thermo', 'polyphenol', 'transpar', 'greenish', 'bakeri', 'almondi', 'cocoa', 'confect', 'stover', 'whitman', 'scharffen', 'berger', 'walnut', 'bordeaux', 'divin', 'carmel', 'premad', 'pecan', 'truffl', 'godiva', 'fanni', 'lindt', 'particulari', 'glitteri', 'reform', 'sincer', 'janet', 'mack', 'airport', 'sustain', 'eleg', 'stark', 'ceylon', 'froth', 'sri', 'lanka', 'madagascar', 'rishi', 'nobl', 'harney', 'foremost', 'atom', 'firebal', 'unflavor', 'domin', 'keemun', 'predomin', 'auto', 'vietnames', 'waitress', 'stassen', 'floweri', 'inflat', 'floral', 'pitcher', 'fragrant', 'richardson', 'yield', 'chardonnay', 'tamarind', 'fruitier', 'saucepan', 'tucson', 'esophagus', 'mushroom', 'tempura', 'dashi', 'monosodium', 'glutam', 'lactos', 'miso', 'citrat', 'disodium', 'inosin', 'guanyl', 'kikkoman', 'somen', 'mart', 'reopen', 'ethnic', 'condiment', 'overbear', 'frys', 'cookbook', 'hitler', 'dynasti', 'trader', 'bahama', 'paulin', 'wasabi', 'restur', 'korean', 'sushi', 'sashimi', 'gase', 'glaze', 'nori', 'bancha', 'hangov', 'horseradish', 'shaw', 'pansi', 'seawe', 'wakam', 'text', 'snip', 'rehydr', 'julien', 'cucumb', 'daikon', 'sesam', 'korea', 'pickl', 'elabor', 'campaign', 'hoax', 'nineti', 'suspici', 'neurotoxin', 'curri', 'gulden', 'dijon', 'roland', 'kame', 'nuclear', 'unoffici', 'saus', 'discoverd', 'extreem', 'panko', 'crispi', 'eachoth', 'airi', 'poulti', 'breadcrumb', 'portugues', 'tonkatsu', 'cutlet', 'unaccept', 'overstuf', 'pattern', 'calibr', 'redefin', 'wok', 'behold', 'kale', 'nishiki', 'vener', 'cooker', 'tabasco', 'acet', 'benchmark', 'tapatio', 'picant', 'southwestern', 'takeout', 'bufalo', 'stead', 'harbing', 'pato', 'tortilla', 'jalapeno', 'enchilada', 'dipper', 'kum', 'oyster', 'dripper', 'shout', 'sriracha', 'worcestershir', 'tuong', 'rooster', 'heinz', 'spicy', 'cafeteria', 'unrefriger', 'ramen', 'couscous', 'garlicki', 'yamasa', 'soya', 'saltier', 'guilin', 'goto', 'tofu', 'pls', 'hoisin', 'bbqd', 'japantown', 'translat', 'preced', 'soooooo', 'udon', 'overcook', 'soo', 'sis', 'hometown', 'edmond', 'campari', 'unscath', 'fizzi', 'taylor', 'mocktail', 'guin', 'malta', 'huey', 'chinotto', 'garnish', 'sanbitt', 'shiver', 'revuls', 'clarifi', 'goldens', 'sputter', 'fluorid', 'partak', 'englishman', 'coke', 'pellegrino', 'aquir', 'bellini', 'nonalcohol', 'highbal', 'merg', 'swizzl', 'vase', 'pregnanc', 'aperitif', 'grapefruit', 'ipa', 'digestif', 'penut', 'papadum', 'raita', 'spritz', 'lentil', 'franc', 'tedious', 'maill', 'amora', 'europ', 'pari', 'brisket', 'vinegari', 'pretzl', 'suitcas', 'savior', 'institut', 'frite', 'exorbit', 'outfit', 'northwest', 'uncertain', 'foodi', 'ave', 'memphi', 'dare', 'chutney', 'magazin', 'patak', 'gram', 'tran', 'dietari', 'cocnut', 'metabisulphit', 'wel', 'pac', 'breastmilk', 'brine', 'dill', 'acini', 'pepe', 'pice', 'bbs', 'whimsic', 'alphabet', 'cecco', 'quich', 'merchandis', 'vender', 'potluck', 'frog', 'pappardell', 'bolognes', 'mongolian', 'rogan', 'korma', 'hankerin', 'spicey', 'ater', 'depict', 'balsam', 'lyle', 'cane', 'jumper', 'rey', 'cluizel', 'hachez', 'reserv', 'valrhona', 'flavorless', 'hunch', 'peppercorn', 'fillet', 'roughi', 'fisherman', 'wharf', 'lettuc', 'blts', 'impart', 'wedg', 'grin', 'indulg', 'playground', 'overdr', 'macadamia', 'maltitol', 'nutrtion', 'fibr', 'griddl', 'fold', 'whip', 'tbs', 'saucer', 'suger', 'cornbread', 'pedest', 'unsweeten', 'pud', 'dairi', 'ined', 'mouss', 'nutmeg', 'tasteless', 'dieter', 'guiltless', 'vinci', 'pumpkin', 'pilsburi', 'ediet', 'skim', 'nonfat', 'davinci', 'tide', 'bagel', 'bariatr', 'sugarfre', 'sweetn', 'resign', 'scotch', 'imbib', 'margarita', 'baja', 'rundown', 'limey', 'mojito', 'passabl', 'martini', 'hurrican', 'whiskey', 'mai', 'tai', 'merit', 'tequila', 'despar', 'sprite', 'conscious', 'applaud', 'acrid', 'citrusi', 'margherita', 'entri', 'rubi', 'loco', 'mapl', 'disclaim', 'unpasteur', 'glorious', 'mutton', 'purifi', 'wineri', 'blanc', 'humboldt', 'fog', 'sex', 'prosciutto', 'slicer', 'fab', 'eleven', 'whisper', 'commer', 'bavarian', 'sauerkraut', 'duh', 'tase', 'kraut', 'pasteur', 'saftey', 'unmatch', 'cheddar', 'hybrid', 'toaster', 'woven', 'prosecco', 'log', 'igourmet', 'vinag', 'unforgett', 'creme', 'nuanc', 'misl', 'cotechino', 'chive', 'sustitut', 'vermont', 'fraich', 'paso', 'greeneri', 'mall', 'karat', 'caviar', 'amber', 'partook', 'dorset', 'drum', 'butteri', 'accessori', 'dublin', 'danish', 'stilton', 'gouda', 'chlorophyl', 'avocado', 'scalp', 'leafi', 'pietro', 'chilean', 'herbac', 'tought', 'reimburs', 'monounsatur', 'hummus', 'pita', 'ripe', 'vessel', 'carr', 'boar', 'sopressata', 'zealand', 'sauvignon', 'saint', 'andr', 'spain', 'buch', 'chevr', 'fedex', 'dolc', 'gorgonzola', 'familar', 'chedder', 'broad', 'villag', 'arugula', 'fiance', 'gruyer', 'fondu', 'superl', 'cauliflow', 'gratin', 'sourdough', 'plane', 'kraft', 'romain', 'colbi', 'relli', 'ireland', 'maxx', 'wegman', 'divina', 'fullfil', 'holland', 'uned', 'manchego', 'quinc', 'sherri', 'zinfandel', 'bummer', 'soire', 'olio', 'cari', 'introductori', 'goya', 'oregano', 'greedi', 'ciabatta', 'liguria', 'oro', 'parmigiano', 'reggiano', 'bruschetta', 'broiler', 'sass', 'scammer', 'yuk', 'disqust', 'parma', 'parm', 'descent', 'linda', 'delicioso', 'ripen', 'picnick', 'unwieldi', 'piquant', 'inher', 'frugal', 'affin', 'brie', 'creamier', 'tang', 'wheel', 'gracious', 'confound', 'exot', 'porter', 'ale', 'stout', 'bikini', 'babe', 'yup', 'bass', 'trumpet', 'shirley', 'solo', 'doughnut', 'dragon', 'wholegrain', 'nirvana', 'roquefort', 'roar', 'subtleti', 'rosehip', 'leaflet', 'pamphlet', 'grapese', 'popper', 'fullest', 'kirsch', 'cheez', 'switzerland', 'mmmmm', 'tapa', 'sheep', 'vino', 'drunken', 'geograph', 'launch', 'innov', 'parad', 'reserva', 'raclett', 'cornichon', 'incorrect', 'dashboard', 'gormet', 'grownup', 'lebanon', 'stor', 'cola', 'gin', 'tiresom', 'nostalg', 'overwork', 'ther', 'katrina', 'kindl', 'beignet', 'mond', 'sultri', 'sweati', 'district', 'jade', 'skewer', 'ambrosi', 'feta', 'anchovi', 'apo', 'incompar', 'npr', 'mccoy', 'entitl', 'toffe', 'florentin', 'florenc', 'chocolati', 'marriag', 'travers', 'mingl', 'temper', 'stacker', 'downright', 'confectionari', 'unintent', 'viabil', 'antarctica', 'thatd', 'meltaway', 'cfh', 'isl', 'retest', 'walgreen', 'wal', 'ardent', 'dandelion', 'arctic', 'radic', 'offal', 'bangalor', 'tent', 'parisian', 'odifer', 'sim', 'lotus', 'decaffein', 'hibiscus', 'blackberri', 'petal', 'safflow', 'sarsaparilla', 'poppi', 'numi', 'aspen', 'gingerroot', 'snobbi', 'wussi', 'nauseous', 'shaki', 'snappi', 'compart', 'enterpris', 'takeov', 'rainforest', 'purest', 'tastiest', 'malaysia', 'treasur', 'retri', 'windsor', 'teapot', 'sensual', 'tetley', 'caffin', 'spa', 'loung', 'meadow', 'brass', 'romant', 'yoga', 'definat', 'swimmer', 'panicki', 'fuller', 'teabag', 'medlin', 'miscarriag', 'endur', 'heb', 'curl', 'but', 'untamp', 'toasti', 'bouquet', 'hay', 'vitacost', 'dweller', 'himalaya', 'namast', 'puriti', 'wallah', 'garam', 'occass', 'hypertens', 'puls', 'taiwan', 'through', 'omnipres', 'purer', 'liquor', 'ricey', 'harsher', 'pale', 'faintest', 'bergamont', 'tannin', 'bigelow', 'expertis', 'nuwara', 'eliya', 'uva', 'dimbula', 'sumptuous', 'splendid', 'potion', 'legend', 'mandarin', 'piccadilli', 'yangtz', 'gorg', 'bliss', 'pkg', 'yin', 'yang', 'gingeri', 'litmus', 'subsrib', 'enchant', 'tropic', 'tantal', 'snuggl', 'ski', 'eggnog', 'jug', 'venti', 'qts', 'cape', 'stroll', 'amend', 'fraud', 'wintertim', 'nativ', 'joseph', 'taffi', 'guilt', 'discrimin', 'sipper', 'drawer', 'marrakesh', 'orangey', 'sunshin', 'dna', 'zinger', 'subt', 'confer', 'descriptor', 'optimist', 'magnifi', 'unapp', 'coagul', 'moral', 'zesti', 'modul', 'peer', 'obtain', 'sachet', 'fundrais', 'commut', 'rage', 'warrant', 'meyer', 'sacrific', 'sencha', 'oversteep', 'ginseng', 'brisk', 'appletini', 'bartend', 'passionfruit', 'homebrew', 'keg', 'monin', 'grenadin', 'templ', 'kah', 'undissolv', 'alum', 'cutter', 'smokin', 'hooter', 'tastebud', 'dis', 'turbul', 'boulder', 'tomatillo', 'nacho', 'quesadilla', 'chilehead', 'caraway', 'canadian', 'loin', 'morton', 'pcs', 'responc', 'vike', 'sweden', 'fuzz', 'hormel', 'deli', 'bridgeford', 'scrumptious', 'weld', 'offset', 'buon', 'appetito', 'ziti', 'brim', 'submerg', 'coland', 'bail', 'tong', 'ferrari', 'basebal', 'genoves', 'dang', 'alltim', 'freshest', 'romano', 'cashew', 'hobo', 'crostini', 'lasagn', 'umph', 'artichok', 'brows', 'gnocchi', 'martelli', 'penn', 'evoo', 'mascarpon', 'hydroxid', 'stringi', 'junior', 'carsick', 'nausea', 'shortbread', 'tootsi', 'drugstor', 'cvs', 'afghanistan', 'sweetest', 'tahini', 'siena', 'tazzina', 'rome', 'java', 'goug', 'nitrogen', 'caff', 'loom', 'hungari', 'hungarian', 'goulash', 'celiac', 'valley', 'micro', 'amish', 'cinnabon', 'makara', 'ebay', 'korintj', 'ake', 'preground', 'macaroni', 'cavend', 'greek', 'festiv', 'forti', 'gimmicki', 'hott', 'bonnet', 'pastrami', 'elixir', 'underestim', 'footbal', 'burrito', 'ambul', 'crank', 'subsitut', 'chipolt', 'inoper', 'catchup', 'habenero', 'inferno', 'worchestershir', 'proprietor', 'butt', 'cring', 'scorn', 'firehous', 'numb', 'hiccup', 'outta', 'cheek', 'scovill', 'capsaicin', 'diarhea', 'distil', 'capsicum', 'cleanup', 'freight', 'shabu', 'endorphin', 'contemporari', 'blair', 'jersey', 'meager', 'malici', 'bludgeon', 'widow', 'grrr', 'xxxtra', 'brag', 'lumpi', 'seedi', 'obscen', 'haw', 'tank', 'harbor', 'pho', 'rasta', 'vindaloo', 'simmer', 'cumin', 'allspic', 'annato', 'boric', 'fizz', 'apollo', 'ignit', 'flame', 'oleoresin', 'formal', 'pore', 'gush', 'heater', 'ceas', 'cabin', 'dorito', 'sammich', 'timid', 'prick', 'cactus', 'slushi', 'beliz', 'hulk', 'molecul', 'somon', 'suac', 'sneakili', 'anger', 'youngster', 'liabl', 'jean', 'pinappl', 'context', 'salesperson', 'ane', 'shoud', 'concoct', 'dispers', 'blazin', 'jalepeno', 'serrano', 'duper', 'hotta', 'betta', 'telephon', 'underton', 'squirm', 'rosso', 'hail', 'somethin', 'napkin', 'optimum', 'wonderm', 'walkerswood', 'dian', 'pickapeppa', 'portal', 'cholula', 'piquin', 'neg', 'civilian', 'downplay', 'bodega', 'xanthan', 'rediscov', 'scovi', 'indiana', 'relig', 'frig', 'goin', 'comin', 'hobbi', 'collector', 'shu', 'peak', 'julia', 'leaki', 'scott', 'allud', 'eastern', 'chiavetta', 'clown', 'billi', 'overhyp', 'overr', 'rotisseri', 'emeril', 'grillin', 'spammer', 'stockpil', 'fifti', 'refiger', 'augustin', 'hammock', 'swamp', 'gator', 'waiver', 'macho', 'pete', 'inventori', 'showcas', 'breathtak', 'slather', 'punish', 'asada', 'kickin', 'vinigar', 'unhappili', 'iguana', 'poach', 'lawyer', 'sorghum', 'receipt', 'nov', 'leaven', 'alkali', 'dutch', 'gloppi', 'masa', 'discret', 'hershey', 'versa', 'ghirardelli', 'redhot', 'ballpark', 'stadium', 'frankfurt', 'carton', 'hotdog', 'bavaria', 'yukon', 'blaze', 'semisweet', 'pgpr', 'emulsifi', 'vanillin', 'rant', 'sterl', 'omelet', 'flavo', 'curt', 'cop', 'quickest', 'landjaeg', 'wisconsinmad', 'unsolicit', 'landjag', 'spendi', 'unwrap', 'postman', 'exhorbit', 'liverwurst', 'cash', 'queen', 'wisconsin', 'aberr', 'apologet', 'kebab', 'pounder', 'bro', 'referenc', 'nuesk', 'applewood', 'intox', 'bleu', 'stiffen', 'calib', 'connaisseur', 'unremark', 'seemd', 'shrinkag', 'smokier', 'weep', 'abid', 'bonsai', 'fir', 'junip', 'foliag', 'jan', 'christen', 'majest', 'arbor', 'seren', 'beacon', 'bleak', 'backdrop', 'bonzai', 'trunk', 'lop', 'unpack', 'unfriend', 'polym', 'azalea', 'desktop', 'watt', 'dormant', 'geranium', 'brussel', 'freed', 'statu', 'slowest', 'bushi', 'tuesday', 'wat', 'giver', 'sucralos', 'logo', 'sucros', 'deciev', 'abdomin', 'dizzi', 'cue', 'toothless', 'cinnamint', 'weakest', 'orbit', 'floresc', 'blatant', 'checkout', 'gardenia', 'lou', 'procrastin', 'tue', 'scant', 'minnesota', 'minatur', 'reciv', 'shrub', 'buggi', 'hardi', 'dakota', 'christmastim', 'restrict', 'humidifi', 'tee', 'eve', 'supersav', 'ficus', 'stuffi', 'driest', 'craftsmanship', 'sunset', 'bough', 'twig', 'ware', 'speci', 'nurseri', 'cos', 'venu', 'lament', 'rebound', 'brochur', 'brownish', 'hehe', 'eta', 'slid', 'moss', 'garner', 'lighten', 'thie', 'skype', 'boxwood', 'throught', 'fate', 'scheme', 'becar', 'ord', 'undamag', 'overwat', 'withstood', 'lous', 'windowsil', 'pluck', 'ariv', 'cutout', 'compat', 'compli', 'coldest', 'concer', 'orderd', 'wharehous', 'absolutley', 'harold', 'helpful', 'bulbous', 'tuber', 'unattract', 'drainag', 'fickl', 'sworn', 'pluse', 'bamboo', 'pond', 'fluoresc', 'stil', 'pristin', 'condtion', 'doubli', 'mystifi', 'drench', 'flourish', 'dorm', 'thrip', 'mottl', 'summari', 'gunk', 'hampshir', 'mar', 'fluctuat', 'scatter', 'greenhous', 'probli', 'sofa', 'morph', 'tuft', 'ditti', 'suspens', 'galor', 'rainstorm', 'wringer', 'cocoon', 'affili', 'oval', 'dummi', 'necklac', 'florist', 'choosen', 'downhil', 'disinclin', 'uncharacterist', 'cursori', 'oodl', 'ornament', 'vent', 'decript', 'elm', 'agro', 'fukien', 'layman', 'outbreak', 'aphid', 'testur', 'snail', 'server', 'shrinkwrap', 'spillag', 'toppl', 'taller', 'sunday', 'reship', 'gentleman', 'bead', 'vest', 'classi', 'assumpt', 'grower', 'unfrozen', 'untrain', 'drought', 'dreari', 'unprepar', 'slug', 'temperment', 'hobbyist', 'leari', 'weari', 'steadili', 'bachelor', 'surpass', 'aluminum', 'catcher', 'minuet', 'cali', 'ammount', 'cought', 'grammer', 'counterpart', 'cultiv', 'stonewar', 'horizont', 'gnarl', 'confess', 'chirstma', 'cfl', 'caretak', 'trepid', 'vist', 'alabama', 'practition', 'dub', 'underwhelm', 'ths', 'rectangl', 'irrig', 'rusti', 'gentil', 'bot', 'receip', 'indent', 'mourn', 'interim', 'laps', 'spoken', 'mississippi', 'dawn', 'redwood', 'taper', 'unharm', 'saran', 'sender', 'manicur', 'drope', 'finali', 'indirect', 'grove', 'foothil', 'meticul', 'extraordinari', 'primit', 'saddest', 'stump', 'balconi', 'regrow', 'impuls', 'gratif', 'seedl', 'symmetr', 'wilt', 'tallest', 'ginkgo', 'fring', 'denni', 'preform', 'richard', 'ralli', 'packeg', 'data', 'furious', 'mana', 'unemploy', 'sheryl', 'crepe', 'bonsia', 'noob', 'dwarf', 'droopi', 'condens', 'unspecifi', 'fontana', 'grossli', 'overcharg', 'torani', 'smoothi', 'seper', 'ghiradelli', 'bow', 'misshap', 'duplic', 'equivil', 'juggl', 'corkscrew', 'errat', 'knapsack', 'pumpernickel', 'foodist', 'peter', 'granola', 'peculiar', 'likewis', 'unsulfur', 'emiss', 'torron', 'norri', 'bhut', 'rabi', 'yea', 'bruchetta', 'speechless', 'genit', 'hashbrown', 'tonic', 'sadist', 'casket', 'xxx', 'mutter', 'exhal', 'banshe', 'melinda', 'forbid', 'restroom', 'tater', 'tot', 'compound', 'fieri', 'hah', 'folli', 'blush', 'blurri', 'heed', 'admonish', 'swab', 'ploy', 'childbirth', 'crampi', 'tum', 'processor', 'latino', 'ross', 'flammabl', 'roomat', 'hiss', 'habenaro', 'eyelid', 'antonio', 'unglu', 'eighth', 'tutor', 'ego', 'vault', 'chronicl', 'roadtrip', 'fixin', 'unwit', 'monterey', 'afterburn', 'naga', 'jolokia', 'burner', 'jeopardi', 'spiciest', 'dopey', 'legitim', 'ointment', 'hotsauc', 'ulcer', 'overus', 'savina', 'furi', 'brutal', 'smug', 'legendari', 'rootbeer', 'queso', 'diablo', 'goodby', 'handsom', 'amt', 'subsid', 'feebl', 'silenc', 'backsid', 'radar', 'obligatori', 'piqu', 'puddl', 'vein', 'mule', 'sting', 'molten', 'heartbeat', 'protest', 'poser', 'jeremi', 'palpit', 'spag', 'bol', 'slogan', 'wrath', 'luke', 'iraq', 'plantain', 'taquito', 'donkey', 'gullet', 'embrac', 'tier', 'italia', 'dissect', 'glutin', 'mozart', 'uber', 'headi', 'micron', 'handmad', 'euro', 'celophan', 'cashier', 'bridal', 'cheapo', 'specul', 'polar', 'joker', 'asst', 'swedish', 'furthest', 'cadburi', 'loganberri', 'grail', 'forefing', 'tournament', 'victori', 'portabl', 'chewier', 'stickier', 'allur', 'vine', 'superfast', 'anonym', 'stirrer', 'paraphras', 'darrel', 'trophi', 'shallot', 'agav', 'grabber', 'tamal', 'keychain', 'flashi', 'experinc', 'sneer', 'fred', 'drumstick', 'threshold', 'almighti', 'knive', 'revert', 'poppin', 'fame', 'boatload', 'xxxxtra', 'xtra', 'pappi', 'spork', 'lineup', 'ymmv', 'truest', 'snatch', 'rhizom', 'unsurpass', 'keepsak', 'alfredo', 'columbia', 'sixti', 'lox', 'excrement', 'favotit', 'titan', 'trimest', 'diagnost', 'matrix', 'umm', 'paradis', 'ether', 'slurpi', 'succul', 'elong', 'ecstasi', 'nostril', 'slurp', 'mortifi', 'pivot', 'semant', 'octopi', 'jeff', 'bezo', 'espous', 'differenti', 'whilst', 'brook', 'underst', 'destin', 'behalf', 'fella', 'recom', 'sphere', 'penguin', 'hat', 'appal', 'tarri', 'defunct', 'hersey', 'heidi', 'subdu', 'gimbal', 'monopoli', 'scath', 'neednt', 'scandinavian', 'nana', 'apothecari', 'strateg', 'kookaburra', 'electrolyt', 'problemat', 'retent', 'under', 'receptor', 'liquoric', 'variabl', 'ersatz', 'shadow', 'nib', 'twizzler', 'allsort', 'mmmm', 'jello', 'qti', 'shortag', 'inaccuraci', 'ronald', 'reagan', 'grave', 'leagu', 'cram', 'gong', 'treater', 'bites', 'doorbel', 'leo', 'modest', 'payoff', 'disciplin', 'vulner', 'mikel', 'esq', 'omaha', 'payment', 'entre', 'rariti', 'drv', 'hash', 'gigant', 'bombard', 'puck', 'superbowl', 'scallop', 'woul', 'perus', 'cordon', 'cheesecak', 'restor', 'autolyz', 'doent', 'defrost', 'ravioli', 'stouffer', 'guarente', 'mahi', 'straightforward', 'risotto', 'pilaf', 'petri', 'slider', 'slime', 'smoosh', 'crabmeat', 'steakhous', 'litl', 'breaker', 'compain', 'hfcs', 'flyer', 'shread', 'mignon', 'conform', 'suspicion', 'diner', 'interst', 'overdo', 'slave', 'babysit', 'marco', 'pernigotti', 'gianduiotti', 'nich', 'insofar', 'abroad', 'tangibl', 'religion', 'shove', 'dastard', 'satan', 'lamin', 'abomin', 'futil', 'andrew', 'johnson', 'capsul', 'skunk', 'diabol', 'incomprehens', 'monstros', 'permeat', 'whop', 'oatmeali', 'wallpap', 'munchi', 'blank', 'conserv', 'rodent', 'dept', 'mouthwash', 'gourment', 'custard', 'turtl', 'capuccino', 'church', 'undigest', 'cramp', 'suzann', 'sommer', 'balloon', 'culprit', 'sank', 'asterisk', 'durat', 'labl', 'waffl', 'laxit', 'gassi', 'eon', 'howard', 'atkin', 'butterworth', 'jemima', 'julian', 'nutrisweet', 'wrape', 'indistinguish', 'malitol', 'glycem', 'eggo', 'growl', 'terri', 'mapley', 'gov', 'quinn', 'revenu', 'eject', 'concert', 'carbin', 'absorbt', 'nostalgia', 'robitussin', 'reformul', 'sweetend', 'lucious', 'hoard', 'overzeal', 'octan', 'farther', 'peanutbutt', 'trashcan', 'luscious', 'kringl', 'tradtion', 'kake', 'toothach', 'brace', 'knockoff', 'interlock', 'smarti', 'lego', 'tower', 'sweettart', 'stackabl', 'defenit', 'mute', 'buzzer', 'lollipop', 'smore', 'doabl', 'num', 'gee', 'haut', 'sled', 'pittsburgh', 'marshmellow', 'tobacco', 'menthol', 'jolli', 'rancher', 'champagn', 'maltodextrin', 'gmo', 'gmos', 'leach', 'preemi', 'philipin', 'jesus', 'noah', 'nerd', 'horriabl', 'deem', 'livabl', 'displeas', 'chorizo', 'paella', 'brach', 'wannab', 'wham', 'sane', 'tijuana', 'gevalia', 'goodearth', 'scriptur', 'professor', 'testament', 'christian', 'scroll', 'malt', 'cosmet', 'golf', 'banquet', 'kikoman', 'maggi', 'url', 'latin', 'vinaigrett', 'cappacino', 'frother', 'rio', 'replic', 'soymilk', 'snowi', 'exfoli', 'overseason', 'gumbal', 'eras', 'defiant', 'booth', 'dubbl', 'sweetart', 'laffi', 'concess', 'therapist', 'everlast', 'gobstopp', 'jawbreak', 'lke', 'exterior', 'slew', 'legit', 'holla', 'diff', 'razz', 'blowpop', 'lolli', 'satchel', 'boulevard', 'experiec', 'vie', 'seduct', 'savag', 'offshoot', 'firework', 'les', 'citron', 'workhors', 'tumor', 'cuff', 'margaret', 'enchanc', 'sacrileg', 'ppl', 'cone', 'sealabl', 'beater', 'chilli', 'veg', 'roux', 'shortcut', 'extric', 'fer', 'daunt', 'pennsylvania', 'markup', 'zatarain', 'baumer', 'chilihead', 'ceo', 'laptop', 'zapp', 'wink', 'lawri', 'pringl', 'camellia', 'expatri', 'inn', 'toughen', 'misrepres', 'coin', 'toddler', 'saute', 'aidel', 'mozzarella', 'gail', 'cannellini', 'polenta', 'shun', 'andouill', 'jambalaya', 'amidst', 'bratwurst', 'withdraw', 'huckleberri', 'montana', 'chokecherri', 'lather', 'reliv', 'schnitzel', 'shack', 'wyom', 'jell', 'overshadow', 'labori', 'boysenberri', 'saskatoon', 'elderberri', 'midnight', 'exper', 'scenario', 'housewarm', 'correspond', 'recommen', 'deepest', 'condol', 'hapi', 'asin', 'boullion', 'whirl', 'marathon', 'grouper', 'melissa', 'huzzah', 'turnov', 'thumbprint', 'dollup', 'arizona', 'glacier', 'pectin', 'hanker', 'sucr', 'cmon', 'whichev', 'bolner', 'papain', 'kansa', 'cowboy', 'tennesse', 'emerald', 'aaah', 'brunch', 'fastachi', 'thinkin', 'yoda', 'waistlin', 'rump', 'burden', 'crustacean', 'strung', 'roach', 'saniti', 'gastronom', 'innumer', 'embasa', 'verd', 'tostito', 'herdez', 'shaken', 'immers', 'casera', 'pico', 'reconstitut', 'wishlist', 'publix', 'subsidiari', 'unripen', 'fruti', 'pinto', 'curs', 'cubicl', 'tio', 'yucateco', 'drake', 'columbus', 'costena', 'preferida', 'casa', 'fiesta', 'victoria', 'ortega', 'trappey', 'refri', 'pica', 'palma', 'prduct', 'cleveland', 'mainstay', 'mexgroc', 'mex', 'tostada', 'bearabl', 'saddl', 'homini', 'plaza', 'pozol', 'millennium', 'monoton', 'menudo', 'delious', 'adn', 'buse', 'midway', 'caravan', 'talkin', 'tortillia', 'littlest', 'queri', 'tinni', 'enuff', 'refridger', 'guava', 'bumper', 'milo', 'nescaf', 'philippin', 'filipino', 'eden', 'vir', 'coco', 'steami', 'singapor', 'colombian', 'yummiest', 'graviti', 'ovaltin', 'yummier', 'choco', 'milkshak', 'omit', 'queasi', 'nesquik', 'doughi', 'cottonse', 'bicarbon', 'ammonium', 'iodiz', 'tame', 'laden', 'dona', 'maria', 'rochest', 'para', 'mesa', 'ibarra', 'brandi', 'rue', 'melti', 'abuelita', 'prison', 'madrid', 'foami', 'afterthought', 'cacao', 'loophol', 'barrista', 'aerolatt', 'frapp', 'theobromin', 'aztec', 'cappucino', 'orgin', 'pestl', 'hecho', 'granni', 'smirk', 'lavor', 'salud', 'mouthfeel', 'cancun', 'pulver', 'wintri', 'salvador', 'quik', 'powed', 'nido', 'enviro', 'knorr', 'bouillon', 'kim', 'mercado', 'fiendish', 'uncompl', 'neon', 'valentina', 'ventur', 'mayan', 'tienda', 'brow', 'loooov', 'redder', 'downgrad', 'kennedi', 'snowstorm', 'slam', 'unrel', 'napalm', 'defil', 'unenjoy', 'curdl', 'strive', 'omlett', 'dam', 'inund', 'retro', 'championship', 'poker', 'drab', 'hideous', 'upend', 'adobo', 'ninja', 'adob', 'meijer', 'donald', 'repost', 'carribean', 'texmex', 'yucatan', 'chiptol', 'workplac', 'distraught', 'usus', 'receipi', 'carl', 'hanukkah', 'latk', 'dunno', 'showstopp', 'flavorful', 'moot', 'character', 'multitud', 'rick', 'bayless', 'macker', 'achiot', 'roo', 'crockpot', 'nicaraguan', 'annatto', 'publish', 'nicaragua', 'pastor', 'peninsula', 'rojo', 'tats', 'emphas', 'tex', 'luggag', 'woodman', 'frontera', 'rectifi', 'cottag', 'mockeri', 'nectar', 'yous', 'blandest', 'horchata', 'ambrosia', 'dulc', 'lech', 'squeezabl', 'cajeta', 'saffron', 'arroz', 'pollo', 'rico', 'brasil', 'cuba', 'nantucket', 'looong', 'republ', 'dreamsicl', 'rum', 'azteca', 'esta', 'fabulosa', 'valor', 'mejor', 'flor', 'quench', 'purveyor', 'agua', 'waterbottl', 'bodaci', 'chico', 'perrier', 'topo', 'zang', 'jarrito', 'waysid', 'dew', 'conniseur', 'frutos', 'afterbit', 'fanta', 'ramun', 'sel', 'peru', 'mission', 'inca', 'kola', 'houston', 'peruvian', 'pepsi', 'coca', 'whow', 'ecuador', 'distort', 'princeton', 'impercept', 'atlanta', 'unwil', 'passov', 'forgo', 'subsidi', 'sociabl', 'fromt', 'gaug', 'litr', 'nba', 'gooood', 'dalla', 'mich', 'consensus', 'sunscreen', 'repurpos', 'potpourri', 'milkfat', 'milki', 'frothi', 'carlo', 'limon', 'chiclet', 'lotta', 'squid', 'unlead', 'squishi', 'comprehend', 'saladito', 'actal', 'trinidad', 'favourit', 'enrich', 'opend', 'frijol', 'corona', 'cognoscenti', 'cin', 'steap', 'pinol', 'tarahumara', 'canyon', 'dificult', 'toenail', 'sangria', 'grapefuit', 'tampa', 'rosa', 'kindof', 'rees', 'seasons', 'melon', 'classroom', 'louder', 'foist', 'unseal', 'tenth', 'deliciuo', 'salli', 'critiqu', 'spagetti', 'calphalon', 'gramma', 'guatemalan', 'maseca', 'unfamiliar', 'harina', 'empanada', 'arepa', 'kiddo', 'bittman', 'slosh', 'peterson', 'casein', 'jewish', 'wyler', 'nazi', 'heirloom', 'secretari', 'aquaint', 'senc', 'yuma', 'thusfar', 'amaretto', 'overjoy', 'tailor', 'upss', 'roger', 'polic', 'rodger', 'columbian', 'supremo', 'hugger', 'endang', 'commerc', 'elit', 'banish', 'menus', 'org', 'icepack', 'complementari', 'immin', 'mchaiku', 'listmania', 'regist', 'richter', 'haiti', 'scampi', 'trump', 'charleston', 'chowder', 'glucomet', 'skyrocket', 'whey', 'algin', 'marion', 'servi', 'graham', 'wonderul', 'fla', 'stepson', 'virtuous', 'nabisco', 'menier', 'marketspic', 'sweetish', 'muscovado', 'pipelin', 'insipid', 'richest', 'platinum', 'ladder', 'blogger', 'itti', 'tyler', 'resound', 'globe', 'lacta', 'greec', 'milka', 'perugina', 'fingertip', 'henri', 'trivia', 'williamson', 'flirt', 'toronto', 'jay', 'superflu', 'ruth', 'curtiss', 'maiden', 'kate', 'proffer', 'yanke', 'beneath', 'nougat', 'blond', 'westminst', 'friggin', 'relev', 'reggi', 'avenu', 'wond', 'cani', 'william', 'luden', 'confection', 'confectioneri', 'ladyfing', 'pillowcas', 'jujub', 'timelin', 'philadelphia', 'dietrich', 'ann', 'chatchi', 'vend', 'chuckl', 'wane', 'rolo', 'matine', 'dim', 'crown', 'procur', 'bumblebe', 'lavendar', 'beehiv', 'nordic', 'winni', 'pooh', 'envis', 'purchs', 'honeycomb', 'vincent', 'raffl', 'quinoa', 'sonoma', 'capres', 'syrupi', 'elat', 'lechera', 'mincemeat', 'scarciti', 'blackwel', 'scarc', 'sultana', 'mace', 'frazzl', 'fruitless', 'mauri', 'fruitcak', 'borden', 'transluc', 'charlott', 'raiser', 'baci', 'reg', 'challang', 'beani', 'weeni', 'prepper', 'descib', 'watercress', 'cheapen', 'angelo', 'shoyu', 'everynight', 'crutch', 'cabbag', 'mirin', 'usd', 'jvs', 'soylent', 'zippi', 'vegat', 'potstick', 'triscuit', 'ritz', 'wimp', 'mahalo', 'personali', 'morel', 'obtrus', 'cach', 'minimalist', 'epazot', 'fingerl', 'pike', 'oklahoma', 'soyrizo', 'digust', 'hannaford', 'remiss', 'smucker', 'sandwitch', 'enoy', 'crumpet', 'abound', 'twain', 'evoc', 'scone', 'jana', 'negoti', 'grizzli', 'toni', 'attende', 'blop', 'jammi', 'grandaught', 'purhas', 'sentiment', 'spreadabl', 'kone', 'idaho', 'walden', 'craisin', 'oxo', 'pitter', 'erni', 'chris', 'particip', 'flouri', 'shiraz', 'durango', 'sumatra', 'clicker', 'kaviar', 'hoover', 'helpless', 'hypoallergen', 'miracul', 'jac', 'unaffect', 'akc', 'rectum', 'scope', 'shirt', 'salesman', 'iodat', 'bacillus', 'subtili', 'aspergillus', 'oryza', 'bulkier', 'cardigan', 'cockapoo', 'thougth', 'compris', 'poorest', 'fdas', 'musti', 'butyl', 'bha', 'hydroxytoluen', 'bht', 'propyl', 'gallat', 'propylen', 'glycol', 'antifreez', 'ethoxyquin', 'infertil', 'jip', 'purin', 'classifi', 'niger', 'coliti', 'sedentari', 'buddha', 'inhibitor', 'unbias', 'collar', 'reclin', 'plugra', 'lurpak', 'craker', 'declar', 'boycott', 'denmark', 'lactic', 'churn', 'beurr', 'olak', 'atk', 'rach', 'plastici', 'nipper', 'pimento', 'pedestrian', 'clash', 'tuscani', 'pecorino', 'poppyse', 'provolon', 'syrah', 'peppadew', 'ooh', 'aah', 'debt', 'preview', 'pepperoncini', 'airplan', 'douw', 'egbert', 'netherland', 'buffet', 'jitteri', 'washer', 'windmil', 'bisquit', 'kuhn', 'boursin', 'sensori', 'wurst', 'imper', 'argentina', 'croissant', 'argentinian', 'mouthwat', 'flan', 'uruguay', 'paraguay', 'perenni', 'mati', 'gourd', 'bittersweet', 'volatil', 'alkaloid', 'xanthin', 'theophyllin', 'guarani', 'inter', 'alia', 'cardiovascular', 'fatigu', 'fever', 'diuret', 'purgat', 'shaman', 'tribe', 'bombilla', 'liquer', 'polyunsatur', 'ghee', 'boca', 'riem', 'breafast', 'olympia', 'tylenol', 'citri', 'arnold', 'febuari', 'supplant', 'doldrum', 'plea', 'cajol', 'keeshond', 'evolv', 'abbi', 'costlier', 'snub', 'alkalin', 'looser', 'fetish', 'craigslist', 'poorer', 'sixth', 'seventh', 'martin', 'piana', 'tortellini', 'eggplant', 'zucchini', 'venic', 'sicili', 'sicilian', 'galett', 'bolster', 'foolproof', 'diffent', 'geat', 'oooooh', 'henderson', 'dale', 'glori', 'mediterranean', 'pakistani', 'nondairi', 'whif', 'amazoni', 'unsweet', 'woof', 'orca', 'intl', 'mmmmmmm', 'carber', 'swordfish', 'isra', 'disappoin', 'marmalad', 'ali', 'mozarella', 'lulus', 'brenda', 'undrink', 'habbit', 'baltimor', 'cheapli', 'simliar', 'frosti', 'orlando', 'walter', 'weber', 'zoo', 'misto', 'hamilton', 'dual', 'output', 'kingdom', 'bhutan', 'mekong', 'vietnam', 'lao', 'princ', 'sichuan', 'mythic', 'milton', 'horizon', 'heritag', 'bai', 'dali', 'plantat', 'puerh', 'northwestern', 'tibet', 'monetari', 'lapsang', 'souchong', 'islay', 'whiski', 'laphroaig', 'harrog', 'imprint', 'technolog', 'pinewood', 'centenni', 'alexand', 'adulter', 'intermingl', 'wuyi', 'fujian', 'cypress', 'emit', 'paler', 'lyche', 'foojoy', 'unquestion', 'nepales', 'surgeon', 'campbel', 'rainfal', 'tippi', 'ftgfop', 'clincher', 'ito', 'yamamotoyama', 'ming', 'nightfal', 'silveri', 'pingshui', 'yangts', 'delta', 'tribut', 'export', 'mistook', 'gunshot', 'botan', 'currant', 'accomod', 'bonbon', 'outward', 'hormon', 'evolut', 'disdain', 'bifidobacterium', 'thermophilum', 'longum', 'menadion', 'bisulfit', 'caram', 'rigor', 'ohhh', 'reknown', 'sumatran', 'touchi', 'unimpress', 'bialetti', 'ughhh', 'monti', 'aeropress', 'homerun', 'verona', 'slammin', 'patron', 'turbinado', 'variet', 'costliest', 'unawar', 'rooki', 'weekday', 'peaberri', 'flavinoid', 'messiest', 'letdown', 'kingston', 'moccamast', 'disproportion', 'britt', 'counsel', 'roster', 'hario', 'prepackag', 'nifti', 'objection', 'bjs', 'marshal', 'maui', 'brian', 'hahah', 'dodger', 'hipster', 'colleagu', 'oclock', 'snobbish', 'unriv', 'merced', 'cuisinart', 'bunn', 'thermal', 'caraf', 'kenyan', 'winey', 'oahu', 'inept', 'smiley', 'glucotest', 'terriff', 'trauma', 'confetti', 'gaurante', 'tweezer', 'eek', 'acord', 'meter', 'donna', 'prayer', 'hypoglycemia', 'stream', 'newspap', 'accuraci', 'borderlin', 'overdos', 'simpler', 'ketosi', 'stix', 'absorpt', 'everon', 'provenc', 'unfair', 'marker', 'bento', 'mario', 'castl', 'luster', 'paintbrush', 'strategi', 'gild', 'renaiss', 'similiar', 'gala', 'lorann', 'nicotin', 'vape', 'dram', 'nevada', 'daniell', 'leroux', 'capac', 'yummo', 'nielsen', 'schill', 'penzey', 'tahitian', 'extol', 'insignific', 'indonesia', 'porridg', 'orchid', 'tellicherri', 'umpteen', 'kaf', 'brule', 'ramekin', 'suspend', 'massey', 'zabar', 'terra', 'cotta', 'satisfid', 'battenburg', 'spinkl', 'egypt', 'expiri', 'muddl', 'golfer', 'fairway', 'handel', 'how', 'downtown', 'array', 'indonesian', 'woodi', 'arabian', 'disintegr', 'bullet', 'breakfest', 'diffrent', 'buttermint', 'footprint', 'pasteri', 'jami', 'refrigerat', 'thr', 'murki', 'fleck', 'substandard', 'progresso', 'ewww', 'cornish', 'hen', 'copyright', 'mileston', 'disapprov', 'woodsi', 'comsum', 'charbuck', 'yech', 'reign', 'primo', 'volcan', 'teasan', 'oasi', 'herbivor', 'lobbi', 'sorbe', 'hitch', 'decaff', 'blasphemi', 'aslo', 'consisteni', 'tierra', 'triest', 'neuhaus', 'amaretti', 'kernal', 'scallion', 'kimche', 'ponzu', 'tangerin', 'kauai', 'barrier', 'happend', 'unagi', 'catfish', 'tunafish', 'kewpi', 'hellman', 'duke', 'abbey', 'camembert', 'tabletop', 'nectarin', 'absolutey', 'execel', 'drew', 'tidbit', 'cinnamoni', 'dillut', 'tiramisu', 'reflux', 'trow', 'pickup', 'kugel', 'austria', 'truckload', 'mmmmmm', 'tull', 'choclatey', 'goood', 'prepe', 'ajika', 'cardiac', 'inaccur', 'vow', 'crohn', 'ashley', 'barri', 'watcher', 'urad', 'kimchi', 'fritter', 'channa', 'kala', 'chana', 'makhani', 'rasam', 'yummmi', 'resin', 'piney', 'paperi', 'bruis', 'pilau', 'biryani', 'cassarol', 'nuisanc', 'equat', 'idl', 'spongi', 'fini', 'modena', 'hmmmm', 'runnier', 'popov', 'goos', 'entr', 'lakewood', 'healthfood', 'superfood', 'warrior', 'exept', 'concord', 'odwalla', 'unrip', 'indiscern', 'blink', 'folat', 'teeter', 'twangi', 'alton', 'langer', 'unneed', 'insuffici', 'wholesal', 'asbach', 'uralt', 'rita', 'homeland', 'snifter', 'cognac', 'middleman', 'pralin', 'shortcom', 'chocat', 'coop', 'milan', 'volcano', 'catagori', 'tsa', 'badoit', 'tds', 'gerolstein', 'suburb', 'noir', 'nys', 'coolant', 'quebec', 'boudin', 'applesauc', 'val', 'limead', 'brioch', 'marron', 'breakabl', 'supergrain', 'unreli', 'breadstick', 'ferrero', 'runner', 'jare', 'kinder', 'proclaim', 'dupe', 'wld', 'fabriqu', 'gherkin', 'curb', 'foie', 'gras', 'poupon', 'thyme', 'dryness', 'pheasant', 'coney', 'putrid', 'rerun', 'elmer', 'fudd', 'bernais', 'tuscan', 'smeagol', 'detest', 'filthi', 'rabbits', 'deffin', 'cloverdal', 'mutil', 'ella', 'coerc', 'wolv', 'torso', 'wabbit', 'uranium', 'ore', 'twinki', 'python', 'roam', 'onward', 'boycot', 'raccoon', 'mailman', 'clad', 'slipper', 'thoughtless', 'hairless', 'headless', 'deft', 'trembl', 'immobil', 'nake', 'spind', 'leapt', 'livingroom', 'extort', 'clench', 'squint', 'mallet', 'screech', 'crippl', 'lash', 'pursuit', 'sped', 'lightn', 'rampag', 'rifl', 'ammunit', 'jeep', 'rig', 'scrappi', 'analog', 'whistl', 'untold', 'gusher', 'scientif', 'swanson', 'entireti', 'limbaugh', 'monstrous', 'feisti', 'engin', 'grampa', 'sos', 'oughta', 'cookin', 'burgundi', 'acm', 'slack', 'coyot', 'soni', 'jimmi', 'suzi', 'downer', 'christ', 'panhandl', 'ringer', 'messiah', 'hid', 'stagnant', 'blindfold', 'woulda', 'hangup', 'calendar', 'pinata', 'arrow', 'shotgun', 'magician', 'yknow', 'justin', 'timmi', 'spinal', 'chord', 'wive', 'landlord', 'union', 'nippl', 'southeast', 'enema', 'noooo', 'bing', 'positv', 'trucker', 'swap', 'kamchatka', 'despair', 'cabl', 'woefulli', 'russia', 'odyssey', 'grasp', 'yak', 'vengeanc', 'juicey', 'innocu', 'disclos', 'doll', 'wrink', 'cuddl', 'timothi', 'duct', 'clammi', 'lipstick', 'paralyz', 'lent', 'ram', 'fasten', 'vaselin', 'songbird', 'affix', 'digniti', 'keel', 'riddl', 'amanda', 'thiev', 'loser', 'benign', 'preorder', 'mulch', 'celeb', 'demi', 'gamey', 'leatheri', 'greenwich', 'wildlif', 'infrar', 'licenc', 'reprehens', 'makin', 'guinea', 'chinchilla', 'givin', 'seventi', 'gang', 'appalachian', 'grubbi', 'hare', 'dolphin', 'escargot', 'lilli', 'outdon', 'chomper', 'mutual', 'halt', 'brigad', 'bulg', 'napoleon', 'sideway', 'registri', 'linoleum', 'elk', 'clap', 'sidelin', 'hutch', 'hamster', 'dougla', 'escal', 'carrier', 'kinki', 'amaazon', 'backord', 'skirt', 'stall', 'beard', 'unconvent', 'lube', 'underwear', 'kenya', 'explicit', 'shudder', 'whisker', 'unequivoc', 'turbo', 'panther', 'cornucopia', 'salari', 'prestigi', 'ostrich', 'lem', 'satin', 'aphrodisiac', 'musk', 'crib', 'unadulter', 'pane', 'fantas', 'pus', 'corps', 'permiss', 'bruce', 'plead', 'conspir', 'circuit', 'affirm', 'wealthi', 'incom', 'freshman', 'heartless', 'exploit', 'unsaf', 'splinter', 'din', 'cruelti', 'reactor', 'goldfish', 'ted', 'hog', 'quintessenti', 'excurs', 'fattest', 'awok', 'testicl', 'advil', 'chi', 'scribbl', 'aha', 'thang', 'imma', 'takin', 'sho', 'usin', 'dun', 'ken', 'dem', 'herr', 'meh', 'runnin', 'gud', 'gret', 'sissi', 'sed', 'sassi', 'sir', 'wile', 'tasmanian', 'samuel', 'gami', 'doa', 'fetus', 'transmitt', 'marigold', 'toil', 'forag', 'satifi', 'seltzer', 'poivr', 'vert', 'fallot', 'moutard', 'dea', 'bea', 'harissa', 'morocco', 'moroccan', 'merguez', 'tunisian', 'peasant', 'sugur', 'lyon', 'algerian', 'cest', 'balein', 'celtic', 'aspertam', 'valencia', 'moulin', 'roug', 'orangina', 'spheric', 'stubbi', 'aromatherapi', 'pleaser', 'goblet', 'spritzer', 'hfc', 'sahara', 'dingi', 'pawn', 'bevmo', 'zilch', 'highland', 'bottler', 'congress', 'capit', 'incompet', 'harass', 'fiasco', 'childish', 'tbls', 'taist', 'kombu', 'shiro', 'chard', 'shiitak', 'chinatown', 'mein', 'choy', 'ped', 'tangiest', 'continent', 'greenland', 'flight', 'conni', 'needi', 'wichita', 'mecca', 'circular', 'robberi', 'granddaugh', 'gorant', 'cordial', 'ooooo', 'promo', 'dietitian', 'salami', 'nonni', 'contin', 'ambit', 'poni', 'poepl', 'grandpa', 'flair', 'tyme', 'emporium', 'prawn', 'twizler', 'redvin', 'podcast', 'adorn', 'wiredweird', 'frest', 'maesri', 'panang', 'pos', 'nutra', 'appoint', 'nosh', 'nibbler', 'paramet', 'chug', 'unpronounc', 'borsari', 'muse', 'gar', 'garni', 'rhode', 'evan', 'bisto', 'brais', 'propos', 'vertigo', 'rheumatoid', 'menopaus', 'surpriz', 'bothersom', 'senna', 'porcelain', 'urgent', 'legum', 'crispier', 'unrefin', 'extern', 'nutiva', 'spoonful', 'amla', 'cur', 'eczema', 'cortison', 'pediatrician', 'chap', 'delit', 'jojoba', 'frizzi', 'knot', 'artisana', 'mono', 'poli', 'unsatur', 'phd', 'misinform', 'pinterest', 'frizz', 'gloss', 'straighten', 'dementia', 'parkinson', 'newport', 'lard', 'fahrenheit', 'antibacteri', 'antimicrobi', 'detox', 'herbi', 'glossari', 'zingib', 'ayurved', 'detoxifi', 'reinvigor', 'ibuprofen', 'lozeng', 'continut', 'smush', 'mailer', 'uterus', 'postpartum', 'allevi', 'menstrual', 'anti', 'valerian', 'tantrum', 'midwif', 'alvita', 'lea', 'mullein', 'rasberri', 'tastless', 'chakra', 'doug', 'regim', 'breastfeed', 'embarras', 'intervent', 'gyn', 'chia', 'rejuven', 'palpabl', 'mediciney', 'soar', 'colicki', 'colic', 'hyde', 'muski', 'ampli', 'mucus', 'schlep', 'parmasean', 'statin', 'rhubarb', 'kicker', 'uri', 'ruptur', 'dilat', 'bacterium', 'pms', 'suppositori', 'crow', 'fenugreek', 'herbalist', 'uterin', 'potenc', 'sync', 'toner', 'eri', 'durham', 'ail', 'kiosk', 'airlin', 'sucess', 'paperboard', 'proverb', 'ici', 'devote', 'purport', 'singular', 'narcot', 'testosteron', 'knox', 'fallon', 'jensen', 'gell', 'tryptophan', 'chlorella', 'spirulina', 'cosmic', 'grammi', 'turducken', 'savour', 'poof', 'soccer', 'tru', 'laci', 'beau', 'wihout', 'ohh', 'devin', 'fecal', 'thw', 'bussi', 'pollen', 'propoli', 'uht', 'holl', 'milupa', 'meyenberg', 'furthermor', 'breastfe', 'facial', 'debilit', 'breastf', 'infant', 'wisk', 'chiropractor', 'garrett', 'bibl', 'teas', 'doe', 'uss', 'calmer', 'equin', 'neonat', 'mare', 'blazer', 'fuze', 'dynam', 'eleuthero', 'rhodiola', 'achi', 'caplet', 'daycar', 'lactat', 'dong', 'quai', 'swing', 'concious', 'taht', 'cystic', 'lauric', 'realize', 'fife', 'stockpot', 'evco', 'tblsp', 'eneri', 'breakout', 'psoriasi', 'colder', 'underflavor', 'mth', 'coconuti', 'daugher', 'braid', 'idk', 'eyelash', 'hampton', 'mos', 'barlean', 'louana', 'migrat', 'sealer', 'diffrenc', 'suppl', 'intim', 'leech', 'uncommon', 'unscrew', 'sealant', 'ezcema', 'stovetop', 'skincar', 'sceptic', 'diaper', 'defint', 'prewash', 'mascara', 'arab', 'neem', 'intric', 'lakanto', 'opaqu', 'beekeep', 'thi', 'apper', 'bandag', 'ofcours', 'dermatologist', 'unfilt', 'unheat', 'pollin', 'amylas', 'celsius', 'undergon', 'imperi', 'roe', 'wildflow', 'bragg', 'liquefi', 'flora', 'manuka', 'looooong', 'wholewheat', 'velveti', 'yolk', 'deb', 'counterfeit', 'prebiot', 'vegenais', 'oversweet', 'pourabl', 'lethicin', 'twix', 'becuz', 'detour', 'gym', 'bisco', 'hydrolyz', 'input', 'dietician', 'waffer', 'chewey', 'kitkat', 'suagr', 'buff', 'flakey', 'sacr', 'trekk', 'andes', 'terrain', 'altitud', 'cont', 'migrain', 'hectic', 'definatley', 'texur', 'bigtim', 'peptid', 'xplode', 'crip', 'certainti', 'preworkout', 'gooseberri', 'czech', 'handcraft', 'facet', 'napl', 'marmit', 'vegemit', 'savouri', 'advent', 'hong', 'sheer', 'wellb', 'saltin', 'abhor', 'joanna', 'brit', 'upbring', 'preferr', 'classmat', 'jaggeri', 'booz', 'vintag', 'untoast', 'koi', 'schmear', 'mum', 'wwii', 'bouillion', 'canap', 'rda', 'meatier', 'glace', 'undilut', 'marscapon', 'cheesecloth', 'koo', 'gout', 'drinkin', 'uric', 'tempatur', 'flank', 'beacus', 'rambutan', 'freshpak', 'tannic', 'unobtrus', 'quaniti', 'safari', 'crisper', 'sherman', 'bias', 'wonderful', 'teatim', 'incomplet', 'durban', 'stroganoff', 'orign', 'worship', 'sharwood', 'nando', 'shrede', 'peri', 'kfcs', 'soemth', 'piri', 'rhino', 'worldwid', 'slough', 'ami', 'hut', 'portug', 'burni', 'brazilian', 'covet', 'bangkok', 'souri', 'adzuki', 'ment', 'mochi', 'blackey', 'mooshi', 'mania', 'somth', 'slope', 'taj', 'horn', 'biz', 'blemish', 'cous', 'sluggish', 'spenda', 'sprig', 'prompli', 'accoutr', 'handili', 'karen', 'fava', 'stricken', 'diverticul', 'atta', 'roti', 'refurbish', 'grist', 'butterscotch', 'sunda', 'dreami', 'mildest', 'ukrain', 'teaser', 'unpalat', 'exponenti', 'tarnish', 'arrowroot', 'paleo', 'equit', 'jel', 'bluberri', 'cloudi', 'uncook', 'superstar', 'unbak', 'altough', 'soupi', 'tapioca', 'marionberri', 'budg', 'vacant', 'homogen', 'sherbet', 'binder', 'xanthum', 'amaranth', 'happpi', 'ivori', 'teff', 'spelt', 'viscos', 'shear', 'emuls', 'colorless', 'sucanat', 'sucan', 'vegtabl', 'solubl', 'maltos', 'boon', 'tvp', 'minestron', 'decatur', 'hostil', 'expans', 'keenwa', 'marjoram', 'lidia', 'iterest', 'saponin', 'varment', 'bounti', 'shelnutt', 'ceral', 'ethiopia', 'unpop', 'tempertur', 'wheatgrass', 'thye', 'lynchburg', 'daniel', 'nashvill', 'hustl', 'crusad', 'eddi', 'tjs', 'undertast', 'craze', 'newton', 'oxymoron', 'cholestorol', 'chocoat', 'persuas', 'unaccustom', 'comest', 'absenc', 'deposit', 'westsoy', 'crackl', 'philosophi', 'foodstuff', 'yam', 'uneat', 'bale', 'stamped', 'anesthet', 'tension', 'probal', 'mik', 'cinamon', 'guiness', 'roasti', 'tilia', 'adaptogen', 'seasick', 'chemotherapi', 'antispasmod', 'tamer', 'commiss', 'cfr', 'sedat', 'proprietari', 'feasibl', 'restless', 'calendula', 'echinacea', 'yarrow', 'firt', 'sparki', 'blackish', 'orgnaic', 'ama', 'kava', 'metaphys', 'unconcern', 'healthcar', 'unexplain', 'drowsi', 'media', 'insomniac', 'wretch', 'sleepytim', 'kavalacton', 'xanax', 'nightim', 'whizz', 'benjamin', 'nationwid', 'frend', 'bph', 'eggi', 'primal', 'reprogram', 'boundless', 'blueprint', 'sulfit', 'sulphit', 'moister', 'maid', 'moscow', 'unsulphur', 'unsulph', 'whoa', 'unconscion', 'contessa', 'scottish', 'beaten', 'btb', 'deepen', 'uhhh', 'peapod', 'dominick', 'panti', 'chickeni', 'orzo', 'heighten', 'kuerig', 'pbs', 'visa', 'beefi', 'quicki', 'cruis', 'gimm', 'hmmmmm', 'senat', 'bistro', 'eateri', 'collard', 'turnip', 'sharpi', 'clam', 'bristol', 'orgasm', 'newburg', 'lasagna', 'chis', 'overheat', 'ladl', 'parmesean', 'royalti', 'sheesh', 'flagship', 'devein', 'croquett', 'apetit', 'rustic', 'supurb', 'vegatarian', 'homestyl', 'ref', 'bok', 'sauci', 'randal', 'larder', 'greed', 'ninth', 'citat', 'mollusk', 'myth', 'curd', 'brocolli', 'fraudul', 'dispar', 'hunker', 'vegi', 'repertoir', 'bye', 'hydrol', 'resend', 'soupbas', 'pucker', 'quadrupl', 'soooooooo', 'cheddari', 'buttermilk', 'cheesier', 'cabot', 'chedar', 'flavorwis', 'bisquick', 'macnchees', 'overrid', 'iffi', 'notion', 'therein', 'hodgson', 'dap', 'rigatoni', 'gruel', 'guesstim', 'reclos', 'orphan', 'unlov', 'veteran', 'easymac', 'thee', 'resal', 'colin', 'frontier', 'timeli', 'spun', 'aluminium', 'kal', 'sulphat', 'misnom', 'dishearten', 'yoghurt', 'illumin', 'granular', 'knowleg', 'desolv', 'shope', 'speckl', 'chat', 'sham', 'taglin', 'granual', 'courser', 'hoagi', 'conspiraci', 'somtim', 'gestat', 'pleasent', 'hardier', 'burlington', 'gargl', 'eggrol', 'mae', 'shure', 'catsup', 'knoxvill', 'wonton', 'wei', 'cambodia', 'versitil', 'dumpl', 'tht', 'sleeper', 'ahv', 'dippin', 'fryer', 'squat', 'whoop', 'siracha', 'aoli', 'youself', 'cantones', 'headquart', 'lkk', 'slurpe', 'brainer', 'mercken', 'yummm', 'wintergreen', 'vermint', 'wintermint', 'convien', 'curcumin', 'dodg', 'painkil', 'blackhead', 'dismiss', 'acv', 'croatia', 'abras', 'purch', 'ldl', 'prolifer', 'leukemia', 'lymphoma', 'copenhagen', 'coli', 'cognit', 'grasshopp', 'implor', 'communist', 'mds', 'stonger', 'gound', 'scabi', 'cataract', 'analys', 'chickpea', 'sizabl', 'sewag', 'ioniz', 'euphor', 'dagoba', 'acai', 'hanov', 'overcom', 'molecular', 'biologist', 'powerhous', 'cheezi', 'scrabbl', 'chrees', 'illustri', 'misspel', 'blini', 'quail', 'urchin', 'shooter', 'yummmmm', 'wabash', 'whir', 'tartrazin', 'flavorcol', 'couldt', 'whirley', 'valli', 'orvill', 'lordi', 'reddenbach', 'jiffi', 'quliti', 'pope', 'laughter', 'misfir', 'hulless', 'grad', 'lili', 'argh', 'warranti', 'thst', 'junkfood', 'redenbach', 'redenback', 'hulli', 'whirlypop', 'unsatisfactori', 'variti', 'taster', 'nuf', 'pocorn', 'exager', 'conagra', 'conglomer', 'mosti', 'newb', 'paragon', 'crimson', 'bleh', 'poplit', 'pervas', 'tuff', 'whirleypop', 'dentur', 'poofi', 'hullless', 'knack', 'uneasi', 'cayann', 'iodin', 'goiter', 'multivitamin', 'fleur', 'tequilla', 'flavacol', 'amzaon', 'cookwar', 'mull', 'wassail', 'exclaim', 'crockeri', 'knudsen', 'smallish', 'cosmos', 'astronom', 'dictat', 'pefect', 'tsps', 'cohes', 'repack', 'regina', 'breadmak', 'garbanzo', 'xantham', 'breadmix', 'fluffiest', 'injera', 'barium', 'lysin', 'buckwheat', 'cornsilk', 'tack', 'spud', 'semolina', 'didt', 'samurai', 'earthquak', 'zoom', 'eversinc', 'cobbler', 'wih', 'deafen', 'levi', 'prebak', 'devot', 'koez', 'coloss', 'kaffre', 'roma', 'teeccino', 'cellophan', 'montreal', 'resteraunt', 'endeavor', 'veer', 'yawn', 'mislabel', 'samll', 'sellar', 'arsenal', 'joann', 'weir', 'zomg', 'goooooood', 'piccata', 'streusel', 'marinara', 'elv', 'detroit', 'vernor', 'reed', 'insolubl', 'incarn', 'gnome', 'schwepp', 'microbrew', 'keller', 'galaxi', 'pungenc', 'convey', 'tacoma', 'roca', 'haley', 'doller', 'diappoint', 'bassett', 'haribo', 'smudg', 'connot', 'unlabel', 'valv', 'swoop', 'faculti', 'agon', 'okra', 'ese', 'portafilt', 'pommeri', 'graet', 'goopi', 'acacia', 'karo', 'americana', 'invoic', 'sassafra', 'prob', 'marina', 'chopper', 'bbb', 'ahem', 'stire', 'shelflif', 'pliabl', 'calzon', 'becau', 'eco', 'cantalop', 'vey', 'spat', 'gunna', 'heft', 'balsalm', 'balsamico', 'noe', 'vancouv', 'exaclti', 'onesi', 'handier', 'strenth', 'htm', 'campfir', 'tote', 'packabl', 'beta', 'caroten', 'nook', 'chez', 'berkeley', 'regualr', 'brighten', 'oct', 'bbp', 'okc', 'deliev', 'gall', 'sundri', 'raft', 'nod', 'enliven', 'mustardi', 'politician', 'impos', 'clinton', 'hor', 'doeuvr', 'overprocess', 'glop', 'ohhhh', 'yeesh', 'pronto', 'basmati', 'wehani', 'boylan', 'birch', 'flovor', 'amazing', 'draught', 'timefram', 'bottlework', 'lewi', 'kevin', 'whod', 'thunk', 'lemm', 'gelson', 'gushi', 'oakland', 'immigr', 'parlor', 'paus', 'kemper', 'malabsorpt', 'herradura', 'cabo', 'libr', 'throwback', 'hoboken', 'grapey', 'oaki', 'unspoil', 'weinhard', 'harken', 'quencher', 'precursor', 'sorbet', 'gristed', 'sweetern', 'othr', 'lore', 'chapel', 'cheapskat', 'alzheim', 'contributor', 'cricket', 'prestig', 'fore', 'morgan', 'myer', 'delut', 'aaa', 'hugh', 'thoma', 'upshot', 'mon', 'grapevin', 'cox', 'equivel', 'thermomet', 'negril', 'ocho', 'tbl', 'yer', 'cayman', 'florett', 'bev', 'speedili', 'jamacia', 'gatlinburg', 'authen', 'mose', 'kielbasa', 'seve', 'underr', 'huy', 'fong', 'marley', 'putumayo', 'cinnamin', 'meld', 'guayaki', 'chocolatt', 'snobberi', 'hcg', 'comapni', 'taragui', 'sinensi', 'indigen', 'wage', 'getaway', 'deicious', 'gotton', 'jitter', 'readjust', 'grittier', 'sunspir', 'hydro', 'boiler', 'grainier', 'absoult', 'proclus', 'pastur', 'eggwhit', 'merengu', 'honeyvill', 'tightwad', 'undetect', 'harp', 'saf', 'anderson', 'unbleach', 'agreat', 'camel', 'misread', 'mock', 'gfs', 'retard', 'bankrupt', 'fleishmann', 'empow', 'focaccia', 'catalogu', 'kalamata', 'fiddl', 'troubleshoot', 'sorbitan', 'monostear', 'enlarg', 'ver', 'cyber', 'calros', 'astring', 'implement', 'segreg', 'amoung', 'utensil', 'finsh', 'nehi', 'overstock', 'jamacian', 'castillo', 'vineg', 'ashtray', 'mahogani', 'oberto', 'dessic', 'fpo', 'riski', 'trusti', 'evilspeak', 'cadet', 'tome', 'tormentor', 'clint', 'decapit', 'sequel', 'stanley', 'summon', 'academi', 'carnag', 'eric', 'weston', 'tvs', 'galleri', 'coopersmith', 'esteban', 'conduct', 'mindless', 'nosey', 'swine', 'zit', 'armstrong', 'devilish', 'joey', 'dusk', 'aveng', 'scanner', 'stephen', 'christin', 'muster', 'sid', 'spree', 'parker', 'accentu', 'gratuit', 'missionari', 'immort', 'petti', 'brute', 'solac', 'audac', 'obstacl', 'tantamount', 'resurrect', 'infern', 'antagonist', 'zombi', 'misfit', 'prevail', 'conjur', 'minion', 'sword', 'taxi', 'godfath', 'apocalyps', 'homag', 'lumber', 'grudg', 'atroci', 'lens', 'spaniard', 'lad', 'claud', 'teammat', 'bubba', 'pal', 'jameson', 'sarg', 'discoveri', 'torment', 'despic', 'enforc', 'casino', 'blunt', 'prolif', 'leon', 'theft', 'ahhh', 'destini', 'loner', 'fumbl', 'incess', 'priest', 'erect', 'shore', 'heresi', 'deflat', 'digress', 'nelson', 'outlaw', 'wale', 'invok', 'clich', 'spars', 'requisit', 'lynn', 'predat', 'admiss', 'davidson', 'reynard', 'missi', 'biscoff', 'aboard', 'unassum', 'handicap', 'unexcept', 'phillip', 'chemex', 'capresso', 'chas', 'wolfgang', 'demo', 'circumv', 'decaffin', 'reat', 'generos', 'decker', 'coffeehous', 'pjs', 'teriff', 'dishwat', 'pacakg', 'toddi', 'ecopad', 'hazlenut', 'adjunct', 'visabl', 'bailey', 'bett', 'howver', 'christmas', 'evey', 'grindmast', 'porduct', 'unadorn', 'median', 'mandhel', 'molto', 'adaptor', 'wtf', 'forego', 'waltz', 'pizzazz', 'speciali', 'mintu', 'yuban', 'colombia', 'senso', 'roomi', 'mmmmmmmm', 'manufactor', 'sarah', 'raven', 'overroast', 'krup', 'faux', 'desid', 'differnet', 'coffer', 'flavia', 'ocassion', 'bookstor', 'barest', 'hasti', 'psycholog', 'macchiato', 'paula', 'oz', 'receiev', 'coffeeduck', 'ordeal', 'hawthorn', 'salem', 'degener', 'alloc', 'nespresso', 'adict', 'philip', 'snotti', 'caf', 'assuag', 'des', 'foward', 'conveinc', 'milano', 'mocca', 'enought', 'afficiando', 'postscript', 'susan', 'drone', 'mustv', 'devout', 'delcious', 'sixteen', 'burt', 'evern', 'smartest', 'flavorsom', 'libat', 'moo', 'masquerad', 'awash', 'neighbourhood', 'thereabout', 'foamer', 'rancilio', 'silva', 'brett', 'tel', 'withdrawn', 'baronet', 'lyn', 'monica', 'shouldv', 'overcam', 'roadshow', 'monsanto', 'juri', 'recenlti', 'snakc', 'speculoo', 'janitor', 'passeng', 'contempt', 'wheather', 'lunchbox', 'shabbi', 'chic', 'limonada', 'giveaway', 'limonata', 'thirstier', 'bel', 'manicotti', 'antipasto', 'caponata', 'fresco', 'caffe', 'greg', 'pavoni', 'moka', 'habitu', 'pizzeria', 'campania', 'brazillian', 'medal', 'homegrown', 'jtg', 'napoli', 'chianti', 'colavita', 'credenti', 'fourteen', 'phenol', 'atherosclerosi', 'testifi', 'pumpkinse', 'styrian', 'kadoya', 'microplan', 'grater', 'alessi', 'lucini', 'lauri', 'sooooooooooooo', 'hazel', 'immatur', 'protector', 'pbj', 'gelato', 'scandal', 'flourless', 'ritter', 'willpow', 'dove', 'chocohol', 'toooo', 'capri', 'sorrento', 'lodg', 'giada', 'laurentii', 'insignia', 'smitten', 'kasia', 'inimit', 'imbu', 'parchment', 'offlin', 'martinelli', 'surplus', 'nog', 'struck', 'aranciata', 'navel', 'itallian', 'cynar', 'writ', 'grimac', 'jonathan', 'angostura', 'lark', 'detractor', 'decrib', 'parch', 'sharper', 'liken', 'ostrim', 'methan', 'decomposit', 'faygo', 'ughh', 'gawd', 'sue', 'comprabl', 'dictionari', 'smh', 'baskin', 'robbin', 'pixi', 'borax', 'henna', 'preffer', 'deliciousi', 'jostl', 'sabotag', 'moron', 'robot', 'lane', 'raley', 'heinous', 'snappl', 'domino', 'iherb', 'quaker', 'descipt', 'hoosier', 'unchang', 'upscal', 'billion', 'allrecip', 'piecrust', 'inbetween', 'insta', 'fleishman', 'biermann', 'franci', 'overfil', 'snooti', 'conspicu', 'lucaff', 'gran', 'acidi', 'coffeeshop', 'tradeoff', 'delonghi', 'anita', 'outdat', 'uneven', 'consit', 'podmerch', 'dek', 'americano', 'fettucin', 'dicken', 'fluffier', 'proflow', 'tulip', 'dignifi', 'conduc', 'bestow', 'muscatel', 'daybreak', 'hunan', 'moonlight', 'bushmen', 'honeybush', 'honeysuckl', 'phytoestrogen', 'tiptre', 'scarlett', 'damson', 'sevill', 'tawni', 'instructor', 'unequ', 'milligram', 'methodolog', 'rev', 'vegeterian', 'fetch', 'changer', 'saccharin', 'dextros', 'necta', 'nectasweet', 'sevic', 'unsettl', 'greener', 'entiti', 'morinu', 'consent', 'eschew', 'serrat', 'remors', 'gratitud', 'spurt', 'clearest', 'stern', 'thusli', 'uncov', 'friction', 'contigu', 'elicit', 'rhetor', 'literari', 'midpoint', 'ruthless', 'hermit', 'relunct', 'corriand', 'privileg', 'awsom', 'marsala', 'ditalia', 'otc', 'antica', 'vox', 'aglio', 'moin', 'ingr', 'sard', 'pinenut', 'shoprit', 'vain', 'postpon', 'dainti', 'jill', 'cardiologist', 'phytosterol', 'serum', 'hearten', 'constanc', 'cichlid', 'shelli', 'serendip', 'slimfast', 'wic', 'liberti', 'frrrozen', 'oprah', 'choclat', 'jigger', 'kaluha', 'hurray', 'cacoa', 'viva', 'deen', 'haagen', 'daz', 'opium', 'intuit', 'toledo', 'especiali', 'restaraunt', 'fro', 'dop', 'aceto', 'tradizional', 'sai', 'quoi', 'extravag', 'cam', 'saba', 'leonardi', 'emilia', 'acetaia', 'granita', 'ricotta', 'monasteri', 'massachusett', 'reveri', 'monk', 'titil', 'loa', 'noh', 'ahi', 'limu', 'tako', 'honolulu', 'poki', 'jackpot', 'panamanian', 'chee', 'afew', 'leek', 'radish', 'devis', 'char', 'siu', 'primat', 'chartreus', 'muslim', 'bao', 'bbqing', 'gratifi', 'hebrew', 'broccolli', 'triglycerid', 'highi', 'chcolat', 'inspector', 'beacaus', 'packett', 'vermouth', 'trappist', 'rossi', 'strut', 'bulgur', 'groat', 'sproutabl', 'denigr', 'pertain', 'zojirushi', 'macrobiot', 'porcini', 'boletus', 'eduli', 'cheeri', 'fax', 'dunde', 'colland', 'orangi', 'snacki', 'pith', 'handbag', 'unsight', 'twisti', 'carnat', 'crescent', 'viola', 'crudit', 'bellagio', 'glorifi', 'julio', 'grandfath', 'nonna', 'ciao', 'cheep', 'cathol', 'communion', 'signifi', 'fourti', 'yipe', 'delicatessen', 'ferrara', 'godmoth', 'mmmmmmmmmmmmm', 'styria', 'lupicia', 'kusmi', 'kashmir', 'anastasia', 'frangranc', 'misrepresent', 'dole', 'undescrib', 'lawrenc', 'exasper', 'vinegrett', 'butternut', 'marzano', 'irrelev', 'classif', 'ahh', 'excerpt', 'reread', 'cento', 'stickler', 'bogus', 'packer', 'dani', 'beefsteak', 'masher', 'trivial', 'tomoato', 'dececco', 'ragu', 'wth', 'bid', 'masaman', 'prik', 'recoommend', 'sturgeon', 'marki', 'confront', 'wilkin', 'sweaten', 'cointreau', 'grama', 'mulberri', 'dink', 'paesano', 'zingerman', 'sierra', 'wholefood', 'flatbread', 'seedless', 'reunion', 'cocain', 'salut', 'havarti', 'infer', 'shipp', 'fervent', 'plebian', 'frederick', 'maryland', 'communal', 'candycan', 'luo', 'han', 'guo', 'irradi', 'effervesc', 'wounder', 'engulf', 'typhoo', 'luziann', 'sizzl', 'waay', 'unsophist', 'ancestr', 'britain', 'workday', 'harrowg', 'presev', 'veranda', 'scarlet', 'jail', 'ian', 'ltd', 'diminut', 'boi', 'chairman', 'mortgag', 'fairi', 'fortnum', 'harrod', 'ransom', 'niagara', 'jubile', 'chamomill', 'arabia', 'deali', 'rambl', 'ploughman', 'branston', 'itm', 'netflix', 'rutabaga', 'stint', 'nalley', 'vlasic', 'upfront', 'shopkeep', 'stave', 'criteria', 'prostat', 'prairi', 'snickerdoodl', 'abc', 'merchand', 'dreg', 'ratchet', 'vitaminlif', 'coffeehol', 'mould', 'thx', 'caregiv', 'grr', 'outpost', 'suet', 'ford', 'tinctur', 'ozeri', 'vitamix', 'coarsest', 'recommmend', 'peppermil', 'discript', 'sap', 'encas', 'chicl', 'ganach', 'leather', 'pang', 'unexcit', 'agricultur', 'rumford', 'calumet', 'herebi', 'spoilt', 'horsford', 'gazillion', 'essens', 'ecstaci', 'snackmast', 'pasadena', 'plesant', 'herm', 'anaphylaxi', 'dialysi', 'hain', 'firesid', 'mcds', 'macdonald', 'evergreen', 'brake', 'magnolia', 'gro', 'picard', 'starship', 'snore', 'quilt', 'cascad', 'frigid', 'horton', 'overbrew', 'boba', 'bona', 'teahous', 'dhl', 'chiapa', 'madelein', 'feminin', 'semest', 'recd', 'amd', 'maraschino', 'proportion', 'ftd', 'hamper', 'triplet', 'immediatley', 'throwaway', 'jewelri', 'omigosh', 'dum', 'cig', 'razzl', 'midge', 'zotz', 'nickl', 'arous', 'jealousi', 'exacerb', 'hygien', 'resel', 'deplet', 'pickwick', 'paddi', 'mackintosh', 'hoot', 'befit', 'puffin', 'peev', 'hepat', 'chorus', 'kink', 'wha', 'brita', 'julienn', 'aqua', 'bali', 'lilikoi', 'nexium', 'decongest', 'moan', 'jarrow', 'bodybuild', 'regiment', 'buti', 'wre', 'mccann', 'mister', 'rold', 'utz', 'sanfrancisco', 'cheesesteak', 'backwood', 'bonanza', 'sooooooo', 'pura', 'vida', 'origen', 'been', 'fullbodi', 'underscor', 'token', 'ripp', 'sew', 'chemist', 'tofurki', 'grizzl', 'psych', 'oversp', 'cowgirl', 'juicier', 'royc', 'lefs', 'olson', 'minneapoli', 'sorbic', 'tort', 'melba', 'madelin', 'tamari', 'hopper', 'saeco', 'odea', 'giro', 'creama', 'justif', 'pruchas', 'flavonoid', 'rosebud', 'companionship', 'pamprin', 'menstruat', 'handful', 'usuali', 'gai', 'cambridg', 'poblano', 'earthier', 'lingonberri', 'liek', 'ras', 'hanout', 'deligh', 'sauerbraten', 'sprouter', 'messier', 'todd', 'slimey', 'fluf', 'suttl', 'sproutpeopl', 'sandwhich', 'mildew', 'bonn', 'maman', 'munich', 'ponytail', 'arround', 'loacker', 'quadratini', 'palac', 'neufchatel', 'quartet', 'phlegm', 'lakerol', 'scratchi', 'forthcom', 'dominican', 'guam', 'swede', 'pastill', 'discreet', 'enrol', 'speech', 'scrubber', 'bacaus', 'iranian', 'polo', 'betti', 'crocker', 'silica', 'optic', 'insinu', 'healtheir', 'unwarr', 'blanch', 'porki', 'petrifi', 'redicul', 'jacqu', 'pepin', 'voluptu', 'cask', 'mediteranean', 'jeani', 'obsolet', 'mahatma', 'parboil', 'zatarin', 'chichen', 'popey', 'hillshir', 'anticak', 'caribou', 'sobe', 'joghurt', 'lag', 'regulatori', 'normali', 'cheesey', 'cornzapoppin', 'mil', 'dows', 'extravaganza', 'textbook', 'krispi', 'unfer', 'estrogen', 'nugo', 'charger', 'adkin', 'leonida', 'defer', 'dearest', 'amsterdam', 'centr', 'kilo', 'antoinett', 'lait', 'napolitain', 'ballotin', 'dor', 'epicurean', 'tulli', 'rocher', 'distast', 'peddl', 'undefin', 'bzz', 'amazaon', 'nutric', 'groggi', 'soluabl', 'lectur', 'biochemistri', 'gaba', 'valium', 'charit', 'conceal', 'pharmaceut', 'flinch', 'spasm', 'mystic', 'snort', 'physiolog', 'stanc', 'tentacl', 'nustevia', 'spoonabl', 'disbelief', 'mundan', 'abit', 'gifte', 'lindor', 'soynut', 'diglycerid', 'gingersnap', 'scarv', 'imbed', 'esteem', 'magnifiqu', 'disrespect', 'phenomin', 'unti', 'keith', 'cheryl', 'sen', 'cargo', 'immacul', 'additon', 'gig', 'wendi', 'gummier', 'simon', 'soapbox', 'pumpk', 'jab', 'haiku', 'chocolat', 'giftabl', 'dean', 'deluca', 'redol', 'vladimir', 'crime', 'amor', 'salada', 'guis', 'romanoff', 'glisten', 'fancier', 'itsi', 'bitsi', 'bugl', 'riedel', 'vinum', 'flute', 'clark', 'teaberri', 'geezer', 'alchohol', 'phoni', 'bazooka', 'dentyn', 'smoth', 'snicker', 'glimps', 'flavius', 'tis', 'candybar', 'hagman', 'kamut', 'maarten', 'matouk', 'tobago', 'newcom', 'arborio', 'madison', 'shirakiku', 'aji', 'pavilion', 'epcot', 'okinawa', 'creamsicl', 'oneself', 'takoyaki', 'okonomiyaki', 'asianfoodgroc', 'mainlin', 'yakitori', 'plop', 'ajinomoto', 'convin', 'rubbish', 'champ', 'rejoic', 'yeh', 'lucia', 'balenc', 'cote', 'higgin', 'kipper', 'scotland', 'fusion', 'nasi', 'goreng', 'satay', 'kecap', 'ketcup', 'synergi', 'efagold', 'further', 'antivir', 'epstein', 'barr', 'twitter', 'softgel', 'loc', 'anem', 'complianc', 'hemoglobin', 'vco', 'hdl', 'clementin', 'lactaid', 'excercis', 'bannana', 'salvat', 'shiz', 'thourough', 'septic', 'listerin', 'misprint', 'cub', 'nastiest', 'vinagrett', 'bernstein', 'delicious', 'nutrisystem', 'overtak', 'monosatur', 'latex', 'wrung', 'unsavori', 'coleslaw', 'bois', 'shiritaki', 'alpin', 'pavlov', 'divis', 'serbia', 'thati', 'definitley', 'willl', 'drage', 'wreath', 'halal', 'overh', 'beefeat', 'doesent', 'kilogram', 'artic', 'volpi', 'pancetta', 'genoa', 'moreso', 'alt', 'pas', 'alga', 'petrodex', 'enzymat', 'beefhid', 'gigi', 'thankyou', 'cynthia', 'dachsund', 'congo', 'pedro', 'hade', 'texan', 'madra', 'airfar', 'ani', 'ajwa', 'mif', 'pranc', 'blunder', 'calli', 'aunti', 'amazom', 'looney', 'tinfoil', 'diss', 'spinner', 'bop', 'twang', 'bracelet', 'ratti', 'washabl', 'hindsight', 'gleefulli', 'pitr', 'goodluck', 'pediatr', 'spri', 'reminer', 'finland', 'osteoporosi', 'chick', 'gete', 'xlear', 'tread', 'pekingnes', 'duncan', 'rater', 'solder', 'voltag', 'cabernet', 'viennes', 'canard', 'porto', 'foi', 'ilk', 'meiji', 'splotch', 'baklava', 'ion', 'unrest', 'enthus', 'dunkabl', 'backlog', 'craver', 'wfm', 'unitl', 'rebelli', 'styrafoam', 'abyssinian', 'jeopard', 'wimper', 'geriatr', 'cheapi', 'louisvill', 'larri', 'spi', 'inordin', 'susten', 'burrough', 'ellen', 'gladwar', 'goobl', 'midtown', 'mink', 'desicc', 'weav', 'shark', 'dsh', 'madden', 'neater', 'unmark', 'esspresso', 'bicycl', 'dist', 'tamarin', 'archetyp', 'squeaker', 'antler', 'coccidia', 'giardia', 'inflammatori', 'mustach', 'bub', 'nameless', 'muslin', 'scratcher', 'poppycock', 'houseguest', 'burdensom', 'salesmen', 'lucid', 'deed', 'organc', 'wayyy', 'moe', 'marijuana', 'lcd', 'laser', 'veggied', 'harvey', 'shunt', 'sheppard', 'debon', 'tritical', 'conscienti', 'cleo', 'lott', 'ume', 'probali', 'fortnight', 'altoid', 'shredder', 'banger', 'expat', 'reusuabl', 'preslic', 'alwya', 'tepid', 'undistinguish', 'er', 'tulsi', 'dalfour', 'waht', 'shakey', 'erot', 'meltdown', 'yogitea', 'redbush', 'purcha', 'hight', 'ephedra', 'bronchial', 'expector', 'scrupul', 'salv', 'protocol', 'syptom', 'fop', 'printer', 'prilosec', 'latent', 'kurt', 'nylon', 'kool', 'pkts', 'contracept', 'psyllium', 'cerial', 'betcha', 'expend', 'essiac', 'expedi', 'sours', 'librarian', 'nay', 'georg', 'elud', 'calabria', 'unpreced', 'decafein', 'arrowhead', 'raisen', 'tranquil', 'pollut', 'artwork', 'treati', 'foray', 'madhava', 'hth', 'dial', 'gingko', 'biloba', 'clockwork', 'holli', 'loke', 'chagrin', 'rape', 'opiat', 'ind', 'unsmok', 'maccha', 'petey', 'kountri', 'crook', 'flown', 'breton', 'cytosport', 'twinlab', 'creatin', 'lifter', 'puffi', 'lastest', 'jet', 'cyclist', 'rebuild', 'regener', 'pocki', 'cardio', 'empir', 'pamela', 'kicki', 'cradl', 'plato', 'opera', 'calla', 'splendor', 'athen', 'vicki', 'demitass', 'monobas', 'astaxanthin', 'drs', 'proteas', 'nanosecond', 'tetra', 'prosper', 'beggin', 'crest', 'thunder', 'corso', 'cull', 'slobberi', 'peroni', 'sauag', 'crummi', 'vitakraft', 'milag', 'whereev', 'cologn', 'salon', 'sadi', 'retreiv', 'squeak', 'gorilla', 'hedgehog', 'cudd', 'sire', 'booda', 'squeek', 'mott', 'zupreem', 'piano', 'manchest', 'skid', 'detach', 'den', 'epoxi', 'bracket', 'constitu', 'mastif', 'heeler', 'wobbl', 'destoy', 'cheerio', 'gobbler', 'nina', 'koko', 'wobbler', 'sprinkler', 'quieter', 'dexter', 'clink', 'shihpoo', 'reservoir', 'dresser', 'outgrew', 'racket', 'bos', 'kai', 'juneau', 'reap', 'washcloth', 'strenuous', 'faze', 'refreez', 'disinterest', 'fay', 'hedg', 'egregi', 'boomer', 'monocalcium', 'epilept', 'beati', 'ness', 'shield', 'nick', 'disassembl', 'reassembl', 'littermaid', 'afteral', 'beasti', 'rea', 'stupor', 'static', 'frolic', 'btwn', 'squeaki', 'minni', 'whippet', 'dura', 'sal', 'distroy', 'verri', 'definitey', 'haa', 'nyla', 'unsupervis', 'bullmastiff', 'morter', 'durachew', 'overstat', 'resili', 'bur', 'housepl', 'hawk', 'moolah', 'insecur', 'fray', 'conced', 'waiv', 'liabil', 'entirelypet', 'embed', 'traceabl', 'nonstop', 'cranni', 'dunn', 'poa', 'tarrazu', 'surgar', 'sleepless', 'enjoyingtea', 'wooo', 'brookshir', 'classico', 'clasico', 'tspn', 'tspns', 'parthenon', 'yugoslavia', 'vegeta', 'eileen', 'croatian', 'debunk', 'correl', 'whiz', 'poland', 'medjool', 'development', 'chrysanthemum', 'prodcut', 'moringa', 'coffemak', 'seoul', 'mugicha', 'imedi', 'frown', 'yummmmmmm', 'gustiamo', 'carpaccio', 'caper', 'mindset', 'cynic', 'plaster', 'garante', 'firenz', 'toscana', 'villa', 'crix', 'avacado', 'mabel', 'diana', 'multigrain', 'ahd', 'coffeecak', 'tate', 'steven', 'champaign', 'bottarga', 'matcha', 'unroast', 'intrest', 'seaweedi', 'upton', 'tanin', 'anyplac', 'uhm', 'unthink', 'rustichella', 'dabruzzo', 'forsak', 'montebello', 'fusili', 'briney', 'nonpareil', 'pantalleria', 'provok', 'tsos', 'satisifi', 'gen', 'judici', 'busha', 'walkerwood', 'sandal', 'baron', 'drippi', 'gladi', 'rodney', 'indi', 'afor', 'croix', 'habe', 'mal', 'ich', 'sehr', 'nur', 'ist', 'und', 'das', 'sie', 'auch', 'macht', 'von', 'lang', 'tha', 'unconsci', 'bristl', 'mightv', 'kryptonit', 'milkbon', 'steril', 'chigger', 'hydrant', 'pheromon', 'inspit', 'housebreak', 'instil', 'housebroken', 'alpha', 'poll', 'endcap', 'ziggi', 'charley', 'frisk', 'tinier', 'nfl', 'midst', 'roid', 'doest', 'mucousi', 'gato', 'mas', 'como', 'tien', 'sanctuari', 'housecat', 'erron', 'xtreme', 'smartykat', 'impot', 'reshap', 'dowel', 'zani', 'inaccess', 'superglu', 'veternarian', 'eel', 'overpaid', 'stat', 'bil', 'disparag', 'esther', 'receptacl', 'locker', 'reinsert', 'privaci', 'counterintuit', 'troy', 'packo', 'teabal', 'istanbul', 'tornado', 'canteen', 'israel', 'herbamar', 'naturopath', 'vogel', 'fwiw', 'incanto', 'sirius', 'circa', 'miel', 'aday', 'mis', 'filtro', 'qualita', 'lightest', 'pienaroma', 'unground', 'rocamojo', 'klein', 'magnifica', 'lavazzo', 'mokka', 'jura', 'superautomat', 'customari', 'convini', 'multin', 'unwis', 'cust', 'kurig', 'soli', 'impressa', 'varianc', 'lustrous', 'jeremiah', 'fogbust', 'silvia', 'throne', 'interfac', 'karma', 'drek', 'beaneri', 'medaglia', 'doro', 'jacki', 'roadsid', 'caramelli', 'stealth', 'solomon', 'hotspot', 'expediti', 'shiloh', 'pyrene', 'overt', 'twitch', 'gasi', 'gastroenter', 'hime', 'offput', 'morki', 'wastag', 'sharpei', 'tripett', 'shorki', 'dannon', 'stella', 'nong', 'shim', 'tasi', 'ymi', 'stormi', 'vocabulari', 'uwajimaya', 'deffinat', 'liar', 'sno', 'chrisma', 'discharg', 'pdq', 'dodo', 'diabetisweet', 'indomi', 'peda', 'mondo', 'indo', 'maruchan', 'platter', 'ramyun', 'delirium', 'shin', 'supercent', 'grime', 'unnotic', 'beautifi', 'ivi', 'cacti', 'misus', 'indescrib', 'hoji', 'elix', 'perfumey', 'arar', 'traditionalist', 'gust', 'newslett', 'doodl', 'quibbl', 'webb', 'sweetpotato', 'wellbit', 'manor', 'fortuit', 'whay', 'zico', 'cocount', 'substit', 'campsit', 'rememeb', 'dinki', 'handout', 'shatila', 'baklawa', 'dearborn', 'figi', 'phyllo', 'truley', 'aegean', 'deff', 'teast', 'pistacio', 'corrug', 'clearer', 'barni', 'karaj', 'smokehous', 'anthoni', 'trendl', 'editor', 'hungarianbookstor', 'reoccur', 'schipperk', 'willing', 'listless', 'luci', 'disservic', 'bishon', 'pudg', 'catahoula', 'rippl', 'purebre', 'dalmat', 'wieght', 'loook', 'pancrea', 'rma', 'overdid', 'jog', 'glossier', 'dogfoodanalysi', 'butterbal', 'jrt', 'layla', 'tommi', 'intoller', 'newbi', 'samantha', 'chesapeak', 'dysplasia', 'stank', 'puggi', 'nero', 'nutri', 'blackjack', 'pepto', 'bismol', 'lttle', 'retract', 'perfor', 'leopard', 'rufus', 'whini', 'cookout', 'dvm', 'immediat', 'necter', 'hansen', 'moxi', 'zingi', 'palmer', 'remembr', 'pervad', 'puch', 'beawar', 'pumkin', 'traditon', 'compot', 'dismal', 'propan', 'dromedari', 'hine', 'yippe', 'centrifug', 'delus', 'ballist', 'lovin', 'teflon', 'cauldron', 'broom', 'daytona', 'frickin', 'outragi', 'cornmeal', 'weil', 'elliott', 'indistinct', 'corndog', 'tranc', 'kite', 'pimp', 'jazzi', 'asiago', 'fettuccini', 'floyd', 'reunit', 'apprehens', 'soba', 'dur', 'mascot', 'forgiven', 'overdon', 'yakisoba', 'carniv', 'trudg', 'cobbl', 'encompass', 'kyoto', 'yadda', 'brooklyn', 'mellita', 'griev', 'particul', 'frige', 'coomb', 'molassa', 'thickest', 'splice', 'washi', 'bronchiti', 'nurnberg', 'drys', 'xbox', 'duff', 'posol', 'tester', 'ontop', 'marshmallowi', 'hairspray', 'swig', 'snot', 'uneaten', 'segment', 'eclair', 'kopiko', 'frappuccino', 'jerusalem', 'kasugai', 'trung', 'nguyen', 'pund', 'dumond', 'nola', 'bustelo', 'coffee', 'cdm', 'muggi', 'cookeri', 'ove', 'reall', 'viet', 'shroom', 'chan', 'mui', 'bobbi', 'millilit', 'panini', 'urn', 'emboss', 'inscript', 'kati', 'fettuccin', 'chanterell', 'portobello', 'mouser', 'swipe', 'redund', 'hanx', 'cartlidg', 'famin', 'hygienist', 'achill', 'coincident', 'advoc', 'misgiv', 'verif', 'timberwolf', 'greenbean', 'cesar', 'vicious', 'hermet', 'frenzi', 'puncher', 'out', 'hypersensit', 'propion', 'deioniz', 'tremor', 'valarian', 'snooz', 'jrts', 'substrat', 'helicopt', 'overhead', 'trimmer', 'debacl', 'sooper', 'qvc', 'fantasicak', 'undercurr', 'leonard', 'hallmark', 'commissari', 'undisturb', 'disconnect', 'transpir', 'pachag', 'gos', 'shitak', 'cepe', 'knockout', 'terroir', 'wilma', 'dreck', 'mushroomi', 'greyish', 'fettucini', 'beaker', 'patterson', 'fungal', 'gullibl', 'kennett', 'garlici', 'confit', 'mandolin', 'reappli', 'tourangell', 'jrs', 'truffier', 'detritus', 'glean', 'unheard', 'oliven', 'vista', 'mozzerella', 'szechuan', 'breadth', 'muss', 'ftw', 'wherein', 'reactiv', 'yeowww', 'plush', 'joan', 'learnt', 'kung', 'pao', 'amit', 'aroung', 'erythritol', 'careful', 'cudo', 'flashback', 'kitchenaid', 'aceton', 'befor', 'resus', 'bushel', 'cinnimon', 'beij', 'penzi', 'wfs', 'withheld', 'plumper', 'yummer', 'scrawni', 'bandit', 'smoooooth', 'sambal', 'unworthi', 'refug', 'portfolio', 'whang', 'isa', 'szechwan', 'incandesc', 'tangy', 'resturaunt', 'squeezi', 'gainesvill', 'cheshir', 'dietet', 'ratch', 'hazi', 'thud', 'broadcast', 'involuntari', 'reommend', 'revv', 'omlet', 'stirfri', 'fallback', 'sandpap', 'perspir', 'lancast', 'yama', 'tectur', 'sofrito', 'provecho', 'vialon', 'nano', 'refrito', 'purhcas', 'dessaux', 'fil', 'weiner', 'sweater', 'wellington', 'regress', 'posh', 'innat', 'fighter', 'stepfath', 'andrea', 'hardboil', 'thinnest', 'krino', 'dolma', 'gallbladd', 'souc', 'satsifi', 'survivor', 'lingon', 'suntan', 'cloudberri', 'delawar', 'matzo', 'unforget', 'fauchon', 'contriv', 'kumquat', 'caseload', 'tsuyu', 'oelek', 'bluegrass', 'dragonfli', 'koon', 'chun', 'perrin', 'stratospher', 'molina', 'crystallin', 'perfer', 'tahiti', 'cozumel', 'dennison', 'paprikash', 'beefier', 'chunkier', 'fowler', 'nathan', 'nippi', 'wayn', 'capn', 'oh', 'fing', 'arteri', 'rougher', 'pallat', 'mallow', 'mallomar', 'randi', 'pinwheel', 'preper', 'moonpi', 'daresay', 'prejudic', 'mallowmar', 'albani', 'creas', 'jsut', 'mccabe', 'penney', 'moli', 'mamba', 'bottlecap', 'slo', 'zour', 'momentarili', 'momentari', 'dib', 'peck', 'townhous', 'lmao', 'gianduja', 'comapar', 'creamiest', 'cielo', 'inhuman', 'euphemist', 'technician', 'vegecat', 'flutd', 'zoe', 'wll', 'neighbour', 'affection', 'racoon', 'scruffi', 'becasu', 'intro', 'gallop', 'cantaloup', 'eyesight', 'fathom', 'referr', 'inconvi', 'muscular', 'agian', 'silkier', 'synthes', 'cindi', 'costom', 'braun', 'jiggl', 'shipe', 'petcarerx', 'krill', 'wheaton', 'pollux', 'ultramix', 'fomula', 'furmin', 'luau', 'ita', 'dilettant', 'unmix', 'strudel', 'tutori', 'parev', 'odens', 'whimper', 'laud', 'promt', 'sunbeam', 'kafka', 'moscato', 'evian', 'volvic', 'maestro', 'frap', 'beth', 'truffel', 'deadlin', 'undecid', 'beano', 'rexi', 'mauna', 'bottomless', 'kern', 'tighter', 'pizzl', 'diacet', 'concav', 'amiss', 'behaviorist', 'backfir', 'starmark', 'repugn', 'wrist', 'rugbi', 'jindo', 'pacifi', 'samoy', 'nite', 'boyajian', 'cubbi', 'skys', 'sur', 'submiss', 'snoopi', 'clipper', 'pickey', 'getter', 'impromptu', 'griffon', 'fromm', 'lima', 'hemolyt', 'hemp', 'mung', 'sproutmast', 'unsprout', 'overrip', 'brer', 'blackstrap', 'pioneer', 'cormick', 'lickin', 'junket', 'rennet', 'platon', 'kahlua', 'tia', 'eclips', 'luncheon', 'whopper', 'canker', 'more', 'comeback', 'farina', 'maypo', 'wheatena', 'wheati', 'hart', 'krusteaz', 'dukan', 'snowbird', 'facsimil', 'bigg', 'cincinnati', 'lye', 'overpackag', 'eatten', 'lenni', 'donsuemor', 'milwauke', 'delisci', 'tulsa', 'benedict', 'hollandais', 'medit', 'florid', 'marsh', 'starfish', 'aruba', 'smuggl', 'baggag', 'rdas', 'lunchtim', 'daschund', 'csr', 'nolong', 'munchkin', 'comerci', 'cord', 'knaw', 'groan', 'wrangl', 'homecook', 'hon', 'stalwart', 'switcheroo', 'counterpoint', 'katsuobushi', 'mea', 'hondashi', 'symposium', 'karl', 'hydrochlor', 'microorgan', 'hydrolysi', 'aerob', 'emigr', 'olney', 'lesion', 'grotesqu', 'endocrin', 'appx', 'gyoza', 'togarashi', 'roy', 'edamam', 'shichimi', 'sanwich', 'retrain', 'uninform', 'vinagar', 'brini', 'bluebird', 'pvc', 'silverfish', 'motel', 'centiped', 'inconspicu', 'pend', 'warmest', 'chute', 'coffin', 'certian', 'gecko', 'baseboard', 'ortho', 'straggler', 'hallway', 'bronz', 'clutter', 'polli', 'surg', 'scorpion', 'cobweb', 'tlc', 'unintend', 'chirp', 'furnish', 'congreg', 'corral', 'zareba', 'groundhog', 'volt', 'recharg', 'parenthes', 'quotat', 'easli', 'imped', 'pepperhead', 'amalfi', 'furbabi', 'superfici', 'goof', 'doorstop', 'hudson', 'healer', 'gnash', 'carousel', 'choo', 'bowser', 'scaveng', 'dumpster', 'narrowli', 'fattoria', 'estens', 'riserva', 'gamut', 'riyadh', 'armagnac', 'nichola', 'reindeer', 'cursiv', 'hearken', 'msrp', 'manmad', 'englishmen', 'apparatus', 'pharmacist', 'exhilar', 'pepsico', 'kfc', 'roadhous', 'cattlemen', 'coctail', 'duan', 'medicini', 'stawberri', 'consortium', 'monger', 'thrust', 'corrupt', 'citizen', 'bryant', 'origni', 'versitl', 'gentlmen', 'lowri', 'mres', 'linguini', 'prepared', 'yougurt', 'coveni', 'milkman', 'stater', 'hydrogin', 'saudi', 'ministri', 'salton', 'kretschmer', 'chromium', 'selenium', 'kellogg', 'epa', 'unborn', 'czar', 'glyphos', 'propaganda', 'untru', 'unjustifi', 'krazi', 'smidgen', 'criollo', 'crytal', 'foggi', 'kindergarten', 'neglig', 'mit', 'ahhhh', 'tangier', 'inlin', 'synonym', 'gatorad', 'cocacola', 'hyperact', 'coolest', 'hiatus', 'fresca', 'sanitari', 'fudgi', 'fide', 'brooklynit', 'bosco', 'bronx', 'stemwar', 'flintston', 'tumbler', 'scenic', 'edam', 'departur', 'unstabl', 'passiv', 'icebox', 'offshor', 'purg', 'throb', 'sob', 'beguil', 'lopez', 'hinterland', 'robber', 'snitch', 'methadon', 'kreme', 'hess', 'weirdest', 'huggi', 'afghan', 'clingi', 'succinct', 'riceselect', 'drost', 'incas', 'artesian', 'aquif', 'fiji', 'microb', 'glaceau', 'smartwat', 'municip', 'aquafina', 'pathogen', 'osmosi', 'purif', 'dasani', 'saga', 'rethink', 'mgs', 'tso', 'knob', 'stubb', 'venezuela', 'venezuelan', 'debit', 'fastidi', 'guac', 'ored', 'hahaha', 'demot', 'jule', 'destroop', 'jeez', 'scof', 'freckl', 'greesi', 'alba', 'spf', 'aubrey', 'goop', 'brunswick', 'masochist', 'blister', 'rember', 'netgroc', 'camomil', 'entrepreneur', 'loi', 'lunchbag', 'seinfeld', 'ionize', 'ronzoni', 'bullsey', 'rigati', 'exclud', 'longtim', 'vagina', 'lolipop', 'smartfood', 'mitten', 'mope', 'altruist', 'libbi', 'northland', 'engend', 'lisa', 'onut', 'wil', 'sunmaid', 'katchup', 'kerri', 'sligh', 'lycopen', 'downsiz', 'ingred', 'sicilia', 'koolaid', 'sanka', 'heheh', 'terrin', 'perserv', 'durke', 'coarser', 'restraunt', 'autom', 'gaga', 'threesom', 'streit', 'rabbi', 'typo', 'recaito', 'golli', 'sulli', 'sadder', 'monoglycerid', 'reesestick', 'fastbreak', 'nutrag', 'nee', 'archway', 'diacetyl', 'whet', 'mandatori', 'unhealth', 'jif', 'cruddi', 'electrolit', 'hastl', 'figurin', 'unilev', 'aficianado', 'eggless', 'manischewitz', 'aback', 'sockarooni', 'chacher', 'konriko', 'solicit', 'penc', 'webber', 'lust', 'messeng', 'siren', 'brainwash', 'bla', 'troll', 'jacksonvill', 'repons', 'sara', 'laura', 'mage', 'krimpet', 'tastykak', 'northeastern', 'spongey', 'pompous', 'ooo', 'tween', 'snackwel', 'organo', 'coz', 'prevel', 'natrual', 'redmond', 'sugartwin', 'amen', 'formaldehyd', 'bearnais', 'agin', 'californian', 'aghast', 'chippi', 'norman', 'spigot', 'verrri', 'remoulad', 'blt', 'hydrolys', 'enzymolysi', 'zebra', 'carrol', 'shelbi', 'taboo', 'rao', 'amex', 'lik', 'anatomi', 'berni', 'durum', 'commisari', 'oragan', 'synder', 'fluffernutt', 'everyt', 'jew', 'yoohoo', 'canfield', 'glug', 'fend', 'medifast', 'aspartan', 'shasta', 'slog', 'boboli', 'pepperidg', 'entenmann', 'nanc', 'fischer', 'keebler', 'travesti', 'louisana', 'tomatoey', 'cheyenn', 'tricalcium', 'cruet', 'pastic', 'gustatori', 'hoodia', 'thermogen', 'dope', 'ceasar', 'chessmen', 'rook', 'emblem', 'brillianc', 'tabouli', 'moi', 'soggier', 'grumpi', 'wasa', 'buckey', 'rachel', 'ars', 'ikea', 'ius', 'jacob', 'bode', 'quarrel', 'domain', 'syllabl', 'domingo', 'fremont', 'rhapsod', 'sweeti', 'supersweet', 'chrome', 'pyrex', 'and', 'schoolboy', 'colgin', 'revamp', 'seitan', 'wright', 'finnish', 'fazer', 'westbra', 'skippi', 'firey', 'pulpi', 'nintendo', 'slouch', 'twas', 'armour', 'winc', 'overst', 'goooood', 'cranappl', 'abut', 'briefcas', 'cauter', 'jester', 'tryme', 'strick', 'linguin', 'swir', 'woeber', 'bewild', 'coronari', 'kasha', 'wolff', 'aorund', 'wheatgerm', 'diabeti', 'kelli', 'skittl', 'satisi', 'closeout', 'jungl', 'renfro', 'filippo', 'berio', 'del', 'mont', 'rejuvin', 'ashi', 'unparallel', 'sooooooooooooooooo', 'simular', 'copycat', 'header', 'puttanesca', 'muir', 'bpas', 'mimick', 'pomi', 'batali', 'boyarde', 'dinti', 'congeal', 'oni', 'obama', 'disatisfi', 'yodel', 'mariani', 'odditi', 'kosciusko', 'arlington', 'looooov', 'loofah', 'halvah', 'mcbutter', 'deoder', 'ppm', 'loo', 'extinguish', 'upholsteri', 'cathi', 'minist', 'doseag', 'unalt', 'tsang', 'althought', 'blitz', 'realemon', 'boughten', 'fron', 'sulpher', 'hendrick', 'doublemint', 'countrysid', 'serivc', 'discountinu', 'xxxx', 'overbak', 'iphon', 'ecoli', 'coward', 'tovolo', 'teeli', 'friel', 'swissgold', 'useabl', 'scotsman', 'edinburgh', 'drysdal', 'malawi', 'twing', 'succumb', 'wigg', 'bib', 'disingenu', 'bayou', 'tomat', 'vigo', 'hummo', 'undon', 'provis', 'prophet', 'nestea', 'presweeten', 'glasgow', 'suscrib', 'hotcak', 'tupelo', 'wiser', 'patsi', 'bertolli', 'arrabiata', 'mcilhenni', 'slobber', 'sprink', 'bestsel', 'duel', 'unauthor', 'wilbur', 'res', 'nacm', 'mumbai', 'thief', 'distrust', 'arriba', 'tope', 'chucki', 'phil', 'iwa', 'norfolk', 'exud', 'platform', 'tapwat', 'cornerston', 'orecchiett', 'vitaminwat', 'bridgford', 'pout', 'alla', 'frutti', 'sophia', 'loren', 'farfall', 'fusilli', 'contadina', 'vanila', 'stephani', 'suckin', 'similac', 'anywho', 'locali', 'syracus', 'biker', 'harley', 'nit', 'intermedi', 'bluish', 'oversalt', 'nassau', 'yummmm', 'foreman', 'pratic', 'comparis', 'eggnoggn', 'manli', 'cumul', 'beechnut', 'dispit', 'sog', 'oncom', 'stope', 'acorn', 'sweetz', 'makeov', 'timley', 'tarot', 'drape', 'knight', 'arcana', 'pip', 'penta', 'sympathet', 'shpping', 'neccessari', 'impur', 'arsenic', 'flourid', 'anisett', 'ina', 'iwil', 'taiwanes', 'stomachach', 'polan', 'perogi', 'occat', 'undrain', 'robertson', 'keiller', 'impost', 'tillman', 'blan', 'orchard', 'dai', 'ashevill', 'substitud', 'rothschild', 'avial', 'buis', 'mccormack', 'unforgiv', 'velveeta', 'albert', 'everth', 'unseason', 'raptur', 'methink', 'hyperthyroid', 'johnston', 'unanim', 'consolid', 'efa', 'fiv', 'patchi', 'smellier', 'hoofi', 'musket', 'pembrok', 'pak', 'calf', 'deworm', 'sudaf', 'buffer', 'kushka', 'wicker', 'pepcid', 'calico', 'injector', 'hypothyroid', 'ruse', 'withhold', 'pinkish', 'flagyl', 'benadryl', 'oblong', 'headlin', 'jose', 'coffi', 'smoooth', 'underwood', 'steviad', 'mintier', 'begrudg', 'entail', 'artemi', 'caption', 'sheepish', 'dha', 'broadway', 'wheeler', 'chanukah', 'schwan', 'defent', 'inlaw', 'deffinet', 'trys', 'mammoth', 'queensland', 'boney', 'lull', 'jackabe', 'defini', 'saber', 'ligament', 'hydraul', 'termit', 'farenheit', 'ginorm', 'seclud', 'negit', 'forearm', 'anya', 'furkid', 'biljac', 'folksi', 'kia', 'goji', 'bms', 'heav', 'lunat', 'rebat', 'diamondpetrecal', 'shaggi', 'healhti', 'financ', 'pupperoni', 'nitrat', 'ocasion', 'judgement', 'stung', 'tobi', 'lifelong', 'irrespons', 'dicalcium', 'erythorb', 'nbs', 'ruv', 'salam', 'snausag', 'puperoni', 'bal', 'cheetah', 'unicorn', 'grazer', 'su', 'hazzard', 'grunt', 'hee', 'limeston', 'jiff', 'biscut', 'bose', 'lambi', 'baa', 'addendum', 'grati', 'audibl', 'kramer', 'sphynx', 'prissi', 'ledg', 'sop', 'circumfer', 'refut', 'sergeant', 'woud', 'nutter', 'thisi', 'boought', 'audit', 'homebound', 'overgroom', 'choosey', 'acana', 'grossest', 'shitzu', 'taz', 'jake', 'teat', 'tmi', 'ida', 'fizzl', 'exploratori', 'scrunch', 'jour', 'funyun', 'alten', 'allergist', 'forseeabl', 'heath', 'hooch', 'changeov', 'upchuck', 'bellrock', 'convein', 'foulest', 'inexperienc', 'ocelot', 'cruchi', 'chelsea', 'dogswel', 'thoughout', 'authorit', 'longhair', 'thia', 'ingridi', 'stinkin', 'trickl', 'exspens', 'docil', 'hungrier', 'deign', 'planner', 'triniti', 'gabbi', 'majic', 'gabriella', 'undernourish', 'compassion', 'raunchi', 'organix', 'healthili', 'omni', 'qualm', 'erupt', 'implic', 'pajama', 'prettier', 'dentastix', 'staight', 'sic', 'assimil', 'gus', 'annabell', 'heftier', 'sudsi', 'brindl', 'nutrid', 'hemorrhoid', 'badia', 'corto', 'bariani', 'barbera', 'frantoia', 'sizeabl', 'cubic', 'council', 'exemplifi', 'agra', 'systemat', 'tunisia', 'hem', 'fransico', 'olivey', 'mkt', 'frill', 'fran', 'lux', 'auburn', 'sparrow', 'woofer', 'arf', 'heartfelt', 'conveyor', 'bigalow', 'mulligan', 'recount', 'capita', 'statesid', 'cassia', 'ethylenediamin', 'oti', 'yumi', 'chafe', 'rehab', 'rad', 'santand', 'guittard', 'michel', 'summar', 'undercook', 'addi', 'virbac', 'gazpacho', 'cas', 'devest', 'venetian', 'aftertas', 'nunatur', 'stevita', 'sclerosi', 'virgil', 'sweetleaf', 'peelu', 'sloppili', 'meaning', 'nautic', 'nooodl', 'ochazuk', 'gir', 'patricia', 'commensur', 'northwood', 'mochaccino', 'angelina', 'lac', 'capelin', 'pakag', 'sao', 'paraffin', 'proust', 'vaniti', 'peasi', 'etcetera', 'sleigh', 'cutesi', 'voodoo', 'genova', 'tonno', 'reassess', 'preconcept', 'laurel', 'sonni', 'canot', 'nicois', 'ortiz', 'starkist', 'yellowfin', 'gender', 'mercuri', 'maldon', 'erod', 'maki', 'velcro', 'behaviour', 'shiso', 'fumi', 'furikak', 'retic', 'onigiri', 'wasab', 'jfc', 'adit', 'perki', 'surfer', 'ratatouill', 'unnerv', 'conatin', 'ucc', 'frappucino', 'eva', 'reliz', 'kokuho', 'durn', 'slush', 'ust', 'krupuk', 'komodo', 'camouflag', 'fin', 'crapola', 'unplug', 'reload', 'zagnut', 'whatchamacallit', 'stretchi', 'celebratori', 'tgif', 'disco', 'trifl', 'crocus', 'wastelin', 'evang', 'dishonesti', 'wart', 'xylan', 'hemicellulos', 'streptococcus', 'pneumonia', 'enamel', 'xylotol', 'nullifi', 'thar', 'plumber', 'lassi', 'shuck', 'sunkist', 'lookin', 'mackinac', 'unrol', 'usaf', 'matti', 'inelig', 'ozbo', 'bendi', 'sate', 'serendipitea', 'tisan', 'lorenzo', 'particularili', 'neurolog', 'autism', 'normalci', 'bonita', 'kisser', 'himalyan', 'fentiman', 'multilay', 'unifi', 'burdock', 'aloud', 'timey', 'pibb', 'beckon', 'contort', 'recoup', 'bundt', 'reconcil', 'unmelt', 'recommed', 'bucatini', 'girth', 'dissuad', 'difer', 'dobe', 'unrespons', 'scali', 'redish', 'chiplet', 'bfs', 'nubbin', 'ish', 'nutriton', 'diahrea', 'tastybit', 'christi', 'snozzl', 'discrep', 'archiv', 'bureau', 'personnel', 'wellpet', 'manx', 'earwax', 'flung', 'tempera', 'mang', 'flay', 'mangosteen', 'tarti', 'roxi', 'softbal', 'bomber', 'cavachon', 'macaroon', 'romanov', 'mikhail', 'ambassador', 'petersburg', 'samovar', 'petfood', 'lori', 'phila', 'settler', 'cain', 'unbrew', 'hiv', 'epsom', 'expec', 'igloo', 'adrenalin', 'horni', 'toad', 'bija', 'claey', 'witht', 'supposs', 'licorc', 'halva', 'reallli', 'challah', 'cinammon', 'kerrygold', 'scrumptous', 'butterfat', 'acryl', 'seatl', 'dinnertim', 'rainier', 'avali', 'picker', 'sweeet', 'phillipin', 'ryan', 'tagin', 'fritz', 'mustapha', 'malaysian', 'simplybeauti', 'scrutini', 'stigma', 'outperform', 'rajma', 'bhindi', 'yamat', 'marnier', 'forgett', 'uk', 'fairtrad', 'cassoulet', 'bentley', 'jumbon', 'rebutt', 'naw', 'saltwat', 'null', 'sockey', 'redhead', 'all', 'herein', 'orthodox', 'homeless', 'gettin', 'eighteen', 'bambi', 'piglet', 'err', 'stinkier', 'pekines', 'indigo', 'faction', 'purrfect', 'administr', 'wheelchair', 'moos', 'vitatop', 'clarif', 'mri', 'ovarian', 'cyst', 'eros', 'appitit', 'keratosi', 'hungov', 'theraflu', 'tired', 'moodi', 'takeaway', 'seborrh', 'nontox', 'penal', 'slimmer', 'overnit', 'consecut', 'hasten', 'skinnier', 'purevia', 'cellulit', 'lice', 'lauryl', 'selsun', 'instantan', 'cidar', 'sweedish', 'pharm', 'pew', 'thrice', 'limeaid', 'belch', 'carlson', 'forbidden', 'rosewat', 'fibroid', 'complexion', 'brunett', 'concot', 'scab', 'nizor', 'panten', 'alka', 'bandaid', 'detoxif', 'ragwe', 'activia', 'claritin', 'sleepwalk', 'paralysi', 'sniffl', 'wuss', 'sil', 'meth', 'effic', 'detangl', 'vagin', 'lyme', 'sls', 'ext', 'bleck', 'tropicana', 'bioavail', 'wether', 'thees', 'thir', 'anyhoo', 'yoke', 'worht', 'allright', 'ovaeasi', 'gorp', 'shortcak', 'yougart', 'dei', 'unsurpris', 'folder', 'loft', 'elana', 'scd', 'ecolog', 'carbi', 'unduli', 'casien', 'cappaccino', 'urea', 'mantova', 'plural', 'deced', 'hyve', 'rimmer', 'vibranc', 'magnitud', 'scandinavia', 'dank', 'freash', 'funnel', 'quantit', 'nutramax', 'cosequin', 'melatonin', 'tenant', 'courier', 'restuar', 'bartolini', 'stoop', 'gaze', 'connector', 'brodi', 'blueberryz', 'stickin', 'snacker', 'bischon', 'irrat', 'tibetan', 'spoiler', 'learner', 'expeci', 'chorki', 'amzon', 'poopi', 'pickest', 'caldwel', 'precut', 'unpaid', 'amstaff', 'applaus', 'bcs', 'sheperd', 'pixel', 'tipsi', 'tush', 'disprov', 'jammin', 'apiec', 'overfeed', 'outing', 'len', 'verg', 'crabbi', 'reaali', 'heathi', 'denomin', 'whoo', 'defat', 'canva', 'rollov', 'izzi', 'shocker', 'counselor', 'lola', 'jamba', 'jbs', 'serendipi', 'tao', 'nuker', 'punctuat', 'pilat', 'mir', 'smooti', 'breyer', 'collagen', 'thrift', 'diahrrea', 'addison', 'flamingo', 'solvent', 'molinari', 'wholist', 'wala', 'berserk', 'amamzon', 'becker', 'incredi', 'scooter', 'excema', 'peppi', 'austrailian', 'jayon', 'delicio', 'gms', 'singleton', 'kcup', 'diedrich', 'flaor', 'houtt', 'coffeem', 'eww', 'gjs', 'eman', 'disappiont', 'falvor', 'supercharg', 'mallo', 'tne', 'boyer', 'hagen', 'behemoth', 'pearson', 'bachata', 'overproduc', 'lui', 'amid', 'taub', 'documentari', 'scot', 'kashi', 'nutrigrain', 'golean', 'kayak', 'solver', 'rasin', 'vitimin', 'tring', 'supress', 'weightwatch', 'snacktim', 'powerbar', 'fibrous', 'larabar', 'manodori', 'condimento', 'lambrusco', 'tastewis', 'lemonais', 'blam', 'hearth', 'submarin', 'sector', 'podz', 'commonplac', 'thom', 'hav', 'monotoni', 'oppress', 'fesh', 'sanchez', 'est', 'mucho', 'starburst', 'butterfing', 'chupa', 'chup', 'expressli', 'hahahaha', 'whittl', 'sapphir', 'afb', 'youngun', 'waikiki', 'choward', 'locust', 'drawstr', 'berti', 'bott', 'spokan', 'enrob', 'jellybelli', 'parenthet', 'yesteryear', 'aero', 'traction', 'geletin', 'autoimmun', 'neurodegen', 'phytochem', 'anthocyanin', 'tumour', 'montmor', 'neuron', 'hopkin', 'nitric', 'jorg', 'hallow', 'encrust', 'netrit', 'fage', 'ezsweetz', 'flaver', 'onc', 'flowerett', 'hotdish', 'metropolitan', 'blusteri', 'snyder', 'pralus', 'callebaut', 'rocco', 'nightcap', 'prejud', 'lindberg', 'apprentic', 'porterhous', 'reasonbl', 'gentlemen', 'humidor', 'naan', 'fontina', 'punjab', 'retort', 'currri', 'punjabi', 'gogo', 'rdv', 'morrocan', 'jaipur', 'puri', 'aloo', 'kohinoor', 'micowav', 'git', 'kashmiri', 'fuji', 'btn', 'veneer', 'tike', 'cardboardi', 'kiddi', 'sunk', 'analyt', 'viz', 'unimagin', 'packaga', 'crazili', 'bah', 'scovil', 'manhood', 'peper', 'papper', 'gilroy', 'wallop', 'motorcycl', 'nepenth', 'carnita', 'reno', 'prod', 'subtler', 'innard', 'blackout', 'iga', 'comstock', 'baloney', 'fresno', 'yummmmmm', 'softwar', 'alwaysdirect', 'menth', 'parfait', 'plano', 'cadillac', 'pilfer', 'shortest', 'mannitol', 'tic', 'tac', 'winterfresh', 'callard', 'uneduc', 'nah', 'ahmad', 'bissing', 'birmingham', 'jaffa', 'pakistan', 'rewrap', 'halifax', 'priviledg', 'parmesano', 'inst', 'nun', 'recevi', 'tung', 'alkal', 'unexpir', 'rapunzel', 'underlin', 'houten', 'dragonwel', 'palo', 'alto', 'bbcs', 'freebi', 'vito', 'compliant', 'mach', 'locatelli', 'lincoln', 'maladi', 'haze', 'longstand', 'prepaid', 'wayward', 'samsclub', 'caramello', 'dubai', 'shap', 'writh', 'powerad', 'thrifti', 'satisf', 'looseleaf', 'debi', 'enfamil', 'prosobe', 'anyoth', 'elecar', 'nutramigen', 'gastro', 'botton', 'burlap', 'jablum', 'ingenuitea', 'skylin', 'frito', 'trapani', 'sant', 'eustachio', 'starwest', 'undertak', 'meltag', 'paramount', 'hunki', 'definiet', 'interweb', 'newcastl', 'notat', 'gomm', 'sazerac', 'slurri', 'jiggler', 'porcin', 'ike', 'boardwalk', 'loooooong', 'mickey', 'brickl', 'manila', 'keept', 'delieveri', 'piccolo', 'meister', 'limoncello', 'opa', 'flinti', 'laudemio', 'frantoio', 'moraiolo', 'leccino', 'truffett', 'vive', 'chocahol', 'linden', 'wifey', 'trouffl', 'chochol', 'greta', 'frist', 'individuali', 'gurante', 'ned', 'recvd', 'cosco', 'deleci', 'stong', 'pute', 'defnit', 'colloid', 'donchel', 'stollen', 'urbani', 'sprat', 'latvia', 'mozz', 'astoria', 'qualti', 'tjmaxx', 'tasmania', 'leatherwood', 'rosin', 'carbsmart', 'chicagoland', 'liqour', 'antithesi', 'devon', 'iri', 'mastic', 'beeswax', 'carnauba', 'cachou', 'liquorish', 'kronung', 'aaf', 'concurr', 'paradox', 'nto', 'yammi', 'guerand', 'camargu', 'faraway', 'autoship', 'moistest', 'pier', 'unwash', 'sempio', 'izz', 'shameless', 'ester', 'themself', 'totali', 'walt', 'hotw', 'suffoc', 'stromboli', 'fleshi', 'rebel', 'alan', 'onioni', 'exir', 'amelior', 'adio', 'recommand', 'coral', 'lacklust', 'moca', 'vernon', 'convieni', 'grumbl', 'are', 'rotini', 'roni', 'afterschool', 'dravi', 'morningstar', 'vermicelli', 'subcrib', 'thks', 'olympus', 'anf', 'biltong', 'phoney', 'potao', 'sceneri', 'stupend', 'dartmouth', 'linol', 'linolen', 'outgrow', 'hexan', 'docosahexaeno', 'arachidon', 'insidi', 'granit', 'spreader', 'heartland', 'forumula', 'bougth', 'oversuppli', 'nicu', 'hairstylist', 'boob', 'penis', 'becas', 'motherlov', 'engorg', 'bra', 'pcos', 'restart', 'counterproduct', 'mls', 'enfacar', 'alimentum', 'keyword', 'pubm', 'encapsul', 'busier', 'libido', 'buddhist', 'empath', 'emin', 'yor', 'astragalus', 'pumper', 'lopsid', 'torula', 'hydrox', 'zach', 'unpackag', 'nighti', 'natual', 'salient', 'fibromyalgia', 'appeas', 'matern', 'recurr', 'apnea', 'passionflow', 'twiggi', 'definint', 'strep', 'unfound', 'sicki', 'laryng', 'neti', 'glycosid', 'rehears', 'nalgen', 'soprano', 'nob', 'foe', 'methi', 'andd', 'abt', 'diarrea', 'icu', 'multitask', 'sippi', 'godd', 'predica', 'wiht', 'nih', 'contigo', 'wildberri', 'metformin', 'doesnot', 'licoris', 'deminish', 'reseach', 'upto', 'anticoagul', 'shatavari', 'werther', 'ovul', 'induct', 'uncertainti', 'somethim', 'shebang', 'plight', 'pilot', 'woozi', 'aveda', 'gaia', 'spicer', 'musician', 'awa', 'allegro', 'catalyst', 'miricl', 'midol', 'ab', 'grouchi', 'alev', 'precautionari', 'indespens', 'hbp', 'osteoarthr', 'lipoma', 'edema', 'llike', 'homead', 'owl', 'immensli', 'skullcap', 'mao', 'webmd', 'twofer', 'viscous', 'nepal', 'caffen', 'cuti', 'concuss', 'sasparilla', 'angustifolia', 'pallida', 'purpurea', 'interferon', 'polysaccharid', 'bhajan', 'compass', 'birthright', 'surrend', 'garcinia', 'gotu', 'stomack', 'relianc', 'surpress', 'quell', 'kombucha', 'panax', 'subcript', 'jang', 'grn', 'untri', 'obliter', 'landslid', 'conceren', 'slake', 'steviaplus', 'mossi', 'overgrown', 'pickmeup', 'chrystal', 'bfast', 'prototyp', 'guru', 'hari', 'oppinion', 'workshop', 'imbal', 'migran', 'maca', 'weirder', 'aqueous', 'conjuct', 'mantra', 'loov', 'labour', 'carlton', 'marrick', 'blucaff', 'egad', 'withdrawl', 'caffix', 'crayon', 'litchi', 'liche', 'emili', 'foodsav', 'stail', 'tikuanyin', 'goddess', 'yix', 'vick', 'ginko', 'outright', 'curler', 'thermogenesi', 'catechin', 'expenditur', 'epigallocatechin', 'egcg', 'synergist', 'pilari', 'haircut', 'venus', 'radianc', 'hypothesi', 'lollypop', 'faillac', 'behren', 'reneofc', 'torino', 'psychosomat', 'bubl', 'skelet', 'castil', 'fossil', 'panach', 'mercola', 'eloqu', 'nacl', 'autist', 'hig', 'patriot', 'wtih', 'krema', 'crunci', 'ful', 'insensit', 'amedei', 'hypoglycem', 'bench', 'ristretto', 'lungo', 'prudent', 'perri', 'punchi', 'vampir', 'danesi', 'ketogen', 'ckd', 'toph', 'sag', 'fagor', 'waaaaay', 'fisheri', 'plunk', 'glucon', 'mayonaiss', 'blotch', 'contian', 'taro', 'deffinit', 'taipei', 'aftershav', 'afar', 'floater', 'floati', 'ticker', 'blur', 'tes', 'muscat', 'guarana', 'disapear', 'whammi', 'spiedi', 'alicia', 'muscavado', 'erh', 'fluent', 'guan', 'jing', 'grean', 'puer', 'incens', 'pedal', 'sku', 'torch', 'usu', 'huli', 'latini', 'antidot', 'broomrap', 'herba', 'rou', 'tradion', 'buyout', 'discust', 'proctor', 'natura', 'steriod', 'dant', 'permut', 'cheri', 'rodeo', 'dampen', 'blendtec', 'overmix', 'nil', 'cuervo', 'licor', 'everclear', 'namesak', 'oilv', 'superol', 'convect', 'vit', 'dipe', 'wavi', 'garnier', 'friz', 'tresemm', 'chondroiton', 'lexi', 'proudct', 'sleepov', 'spokesman', 'gsds', 'saccharomyc', 'ingrid', 'pooper', 'substant', 'smithereen', 'methionin', 'franki', 'defray', 'bisulf', 'biopsi', 'hoofer', 'gangbust', 'pharma', 'jun', 'nemo', 'warhead', 'avaiabl', 'uji', 'blocker', 'amput', 'spitz', 'std', 'catti', 'cush', 'pescatarian', 'anywhoo', 'denis', 'kangaroo', 'tyson', 'ewwww', 'hacksaw', 'unoffens', 'booo', 'overtim', 'lineag', 'activist', 'metaphor', 'cleaver', 'qualit', 'bendabl', 'irrevers', 'shihtzu', 'poundag', 'carefre', 'granddog', 'respit', 'toot', 'breat', 'vitagravi', 'elkhound', 'nikki', 'gordon', 'chloe', 'pemmi', 'suction', 'distruct', 'stud', 'tock', 'downtim', 'nix', 'perfct', 'ocd', 'licker', 'infomerci', 'yorkiepoo', 'boyz', 'beaver', 'unchew', 'headway', 'papillion', 'pander', 'jolen', 'instand', 'regal', 'crocodil', 'loki', 'crockett', 'kelpi', 'cora', 'quic', 'nab', 'whit', 'acd', 'maddi', 'wheatfre', 'ballgam', 'hoarder', 'waggl', 'elli', 'strew', 'curtain', 'deaf', 'malfunct', 'creaki', 'chem', 'biweek', 'defec', 'sol', 'hydrocarbon', 'tsc', 'app', 'trooper', 'aprox', 'strewn', 'differnc', 'benedryl', 'tge', 'diarhhea', 'flippin', 'lifebit', 'acidolphilus', 'bifidobacgterium', 'goggl', 'monument', 'betray', 'hte', 'catsur', 'wernt', 'mackerel', 'garfield', 'muzzl', 'lifesourc', 'loveabl', 'ingenu', 'unders', 'precript', 'prodect', 'phantom', 'aval', 'parfum', 'fewest', 'nobel', 'fungicid', 'triclopyr', 'bayer', 'abat', 'node', 'denatur', 'havahart', 'anus', 'mothbal', 'dung', 'hosta', 'onhand', 'permeabl', 'woodchuck', 'concetr', 'ineffici', 'wer', 'waggin', 'utopia', 'ontim', 'chooser', 'heimlich', 'chewz', 'hijiki', 'aram', 'pog', 'recommn', 'ironman', 'hump', 'cano', 'ing', 'moutain', 'alta', 'rapido', 'mucha', 'powergel', 'bonk', 'mph', 'rei', 'hilli', 'robe', 'satisif', 'ruler', 'scudder', 'witmer', 'pnut', 'doozi', 'gasket', 'pare', 'polypropylen', 'fundament', 'vension', 'butler', 'breathi', 'rougi', 'teisseir', 'saranac', 'captn', 'eli', 'bundaberg', 'glide', 'stonewal', 'fallaci', 'maverick', 'himilayan', 'breakast', 'smooooth', 'kent', 'deliver', 'banner', 'nondescript', 'symtom', 'pepperminti', 'gastroenterologist', 'seelect', 'fantabul', 'divorc', 'panera', 'awful', 'tripod', 'zarafina', 'daugther', 'declici', 'download', 'rosmarini', 'jenni', 'tassimo', 'trashi', 'sugest', 'mau', 'kopi', 'luwak', 'roil', 'irvin', 'twirl', 'ibc', 'shirataki', 'nood', 'cacciator', 'heathier', 'konjac', 'glucomannan', 'livin', 'alsosalt', 'congratul', 'comp', 'funk', 'sukiyaki', 'limitless', 'substitur', 'blot', 'basalm', 'cremoso', 'rinaldi', 'blanco', 'modenaceti', 'mussini', 'crawler', 'gyp', 'loveem', 'bec', 'speghetti', 'yuch', 'vitamini', 'isomil', 'goodstart', 'occassionali', 'inconsol', 'rtf', 'with', 'mylicon', 'bru', 'toungu', 'erin', 'zantac', 'heartbreak', 'spitup', 'abbott', 'abd', 'runaround', 'neocat', 'arch', 'babiesrus', 'neosur', 'fattier', 'premi', 'glucerna', 'transfat', 'acesulfam', 'lollicup', 'orgeat', 'revolv', 'bimbo', 'sodastream', 'prouduct', 'holliday', 'appolog', 'torr', 'lizano', 'loma', 'worthington', 'chik', 'cus', 'adventist', 'linkett', 'dredg', 'vise', 'dom', 'thes', 'ahoy', 'myocardi', 'infarct', 'chd', 'harvard', 'epidemiolog', 'imaginari', 'preposter', 'muck', 'kellog', 'persev', 'cracklin', 'oatbran', 'awri', 'marriott', 'shirk', 'vegeburg', 'redi', 'vegitarian', 'peril', 'ahhhhhh', 'poptart', 'cheezit', 'gyro', 'tzatziki', 'wallyworld', 'wang', 'chage', 'inkl', 'amzn', 'buscuit', 'humma', 'playdat', 'gripz', 'unsanitari', 'grievous', 'chikn', 'frichik', 'gravey', 'reva', 'sda', 'lotsa', 'skallop', 'kort', 'lanc', 'sez', 'hush', 'damper', 'noooooo', 'reckless', 'ranger', 'pumkinse', 'wieser', 'coppola', 'flounder', 'origion', 'botch', 'cincinnatian', 'fairfield', 'cinci', 'dayton', 'recaptur', 'insati', 'nummi', 'giddi', 'dumbfound', 'devolv', 'wizard', 'groin', 'frappacino', 'malden', 'contagi', 'ream', 'domatcha', 'theanin', 'honeydew', 'macha', 'chattanooga', 'aioli', 'cachet', 'carpent', 'kili', 'giner', 'ragout', 'chummi', 'custardi', 'falcon', 'boquet', 'gerbera', 'loveli', 'sheath', 'albuquerqu', 'paticular', 'diann', 'perturb', 'hondura', 'honduran', 'cutom', 'ceaser', 'benni', 'realsalt', 'hogwash', 'finki', 'monohydrochlorid', 'niacinamid', 'loooong', 'rememberd', 'cornflak', 'saucett', 'vascular', 'fellowship', 'griller', 'misguid', 'salisburi', 'partic', 'tofurkey', 'falter', 'ewe', 'tavern', 'mic', 'pillsburi', 'wayyyi', 'doenst', 'foodnetwork', 'foo', 'yung', 'monik', 'fuhrman', 'subtitut', 'doh', 'extremem', 'ime', 'overblown', 'wheatmeal', 'tapenad', 'edta', 'viewpoint', 'diesel', 'purcahs', 'vic', 'pluss', 'weaver', 'blox', 'taste', 'calari', 'proscuitto', 'franklin', 'parv', 'lipil', 'gentleas', 'hestit', 'mct', 'miscalcul', 'nursett', 'punctual', 'clearbrook', 'outliv', 'herbalif', 'mumum', 'saucey', 'mancha', 'luca', 'vineyard', 'sydney', 'pricei', 'yardbird', 'abot', 'phoeb', 'ownership', 'ungrat', 'sidenot', 'dimmer', 'haphazard', 'hummingbird', 'layout', 'outa', 'bate', 'horehound', 'peerless', 'wen', 'telescop', 'decim', 'avon', 'picaridin', 'permethrin', 'sawyer', 'malaria', 'ccs', 'longan', 'complac', 'shawn', 'kovacich', 'thinker', 'terro', 'visser', 'subconsci', 'lin', 'forefront', 'embark', 'cho', 'peat', 'distint', 'bewley', 'widespread', 'lactas', 'sterol', 'breathabl', 'voucher', 'goodwil', 'notwithstand', 'flahavan', 'nanni', 'souffl', 'wessex', 'oatey', 'pinhead', 'muesli', 'faq', 'deceit', 'scold', 'goosebump', 'koska', 'outdo', 'pruduct', 'pimenton', 'latina', 'biter', 'ouzo', 'etho', 'condom', 'treacl', 'forrest', 'gateway', 'iberico', 'huevo', 'ranchero', 'haci', 'bekir', 'mehmet', 'efendi', 'anhydr', 'rasher', 'homesick', 'senstiv', 'panetton', 'anaphylact', 'silverwar', 'hotest', 'sarcasm', 'arena', 'plume', 'wyld', 'surpis', 'airhead', 'anthon', 'berg', 'whitefli', 'juvenil', 'lukewarm', 'girlish', 'gluttoni', 'speedier', 'pudgi', 'mitzi', 'rustl', 'amizon', 'sedona', 'overwelm', 'persnicketi', 'turmoil', 'skidmor', 'furbal', 'incontin', 'msb', 'kerala', 'sensor', 'feelin', 'emmi', 'obi', 'appetis', 'humong', 'bestest', 'tham', 'somersault', 'harmful', 'thiner', 'futher', 'ont', 'slc', 'uptak', 'distilleri', 'cucina', 'oati', 'legion', 'crater', 'mushier', 'joyva', 'glico', 'pretz', 'quid', 'rowntre', 'callet', 'unscientif', 'temperament', 'saigon', 'halaleveryday', 'cella', 'deeelish', 'heavyweight', 'involuntarili', 'ebb', 'craziest', 'avow', 'yummmmmmmm', 'rockstar', 'broker', 'wearhous', 'teensi', 'liguid', 'savon', 'supos', 'irn', 'vogu', 'curat', 'attiki', 'supermaket', 'taset', 'flavanoid', 'doubleshot', 'telltal', 'kristin', 'outback', 'allegi', 'oleic', 'grappa', 'gia', 'russa', 'manhatten', 'bonefish', 'gotcha', 'santo', 'stonehous', 'oktoberfest', 'dimension', 'articul', 'snak', 'twosom', 'turner', 'shhh', 'anticanc', 'releiv', 'benefib', 'miralax', 'gett', 'gussi', 'wayi', 'synthesi', 'kuwait', 'kahv', 'bazaar', 'storefront', 'armenian', 'eggshel', 'nonpluss', 'nutrious', 'glenni', 'healtier', 'cannib', 'rasp', 'raspi', 'sensuous', 'inki', 'deseas', 'ruffl', 'reboot', 'deaden', 'eveyth', 'megamart', 'definti', 'snappish', 'cerebr', 'rosea', 'wakeup', 'circulatori', 'prouct', 'revit', 'nora', 'robb', 'maroon', 'midafternoon', 'ayurveda', 'cubbard', 'amazin', 'snowbal', 'doin', 'bananna', 'overwhelem', 'vitacoco', 'peregrin', 'oconnor', 'broaden', 'isoton', 'loooooov', 'triathlon', 'mishandl', 'hdpe', 'malais', 'chocolo', 'sooooooooo', 'outdid', 'undi', 'nuttier', 'recylc', 'reeealli', 'pomberri', 'quercetin', 'benifici', 'affort', 'sambazon', 'foco', 'friendlier', 'asept', 'jen', 'rode', 'cruncher', 'tetrapack', 'hella', 'chapstick', 'metromint', 'anough', 'gatoraid', 'pedialyt', 'machet', 'discontnu', 'intraven', 'platic', 'deplor', 'bikram', 'plasticki', 'tetrapak', 'leas', 'metabisulfit', 'foresight', 'rational', 'curbsid', 'reminic', 'cocounut', 'suscript', 'gallo', 'spiki', 'duffi', 'pyr', 'lunchmeat', 'newfi', 'qualif', 'majesti', 'beaus', 'whiner', 'badger', 'booti', 'retap', 'jax', 'huband', 'plainer', 'gfcf', 'diverticulosi', 'cannon', 'maze', 'puffier', 'markdown', 'esposito', 'ihop', 'homeschool', 'vitaminer', 'highchair', 'sketch', 'discours', 'macronutri', 'macro', 'birdse', 'hempse', 'allway', 'revisit', 'garten', 'smirnoff', 'arom', 'supermart', 'woot', 'paycheck', 'quailiti', 'swelter', 'ack', 'stipul', 'carroti', 'bmw', 'loyalist', 'diplomat', 'metamucil', 'gump', 'spackl', 'healther', 'alllll', 'slacker', 'tinkyada', 'leeper', 'unwel', 'ksa', 'usal', 'neurologist', 'puberti', 'schar', 'glutten', 'snuff', 'toothsom', 'glutino', 'tripolyphosph', 'pericarp', 'ooey', 'nutrish', 'verbal', 'indianapoli', 'quilti', 'spaghettio', 'babysitt', 'grrrrr', 'psghetti', 'papa', 'undeliver', 'embellish', 'doggon', 'cuter', 'shippment', 'carseat', 'floppi', 'bourguignon', 'unfortunatelli', 'whimpi', 'yogart', 'cheesiest', 'reconfigur', 'velveta', 'alchemi', 'tastin', 'dissapear', 'carbonara', 'compleat', 'exempt', 'theri', 'mba', 'pathmark', 'luminarc', 'systol', 'customiz', 'subcontin', 'ping', 'pong', 'carmin', 'appley', 'acheiv', 'shingl', 'batavia', 'yumberri', 'blackcurr', 'overreact', 'choir', 'haircar', 'yaya', 'winteri', 'hom', 'singlehand', 'fragant', 'cardomon', 'ofter', 'fruitti', 'whittard', 'hobnob', 'berkshir', 'celest', 'ber', 'capt', 'hypocrit', 'zhena', 'tisano', 'affraid', 'homey', 'containt', 'officem', 'tucker', 'yoplait', 'isoflavon', 'chung', 'chocolov', 'moto', 'filmi', 'greeen', 'yest', 'availbl', 'hisbiscus', 'amazonian', 'snazzi', 'superfruit', 'competet', 'goldilock', 'nastier', 'availab', 'pomegranit', 'brink', 'oregonian', 'slimjim', 'knick', 'onz', 'eauction', 'spew', 'gunner', 'tatst', 'abstin', 'reconstruct', 'beefaroni', 'unfold', 'acquisit', 'breweri', 'butterfli', 'gluhwein', 'pragu', 'naturel', 'reinvent', 'nell', 'jpg', 'availabilti', 'regualar', 'newmann', 'illog', 'pallett', 'slate', 'mimi', 'mut', 'consisten', 'pyrophosph', 'stricter', 'aplenti', 'pds', 'airpop', 'conventi', 'buyng', 'bearito', 'thinkthin', 'reharden', 'gitter', 'unwholesom', 'pnb', 'mete', 'celephan', 'chocloat', 'whitish', 'fulltim', 'ea', 'wherehous', 'proce', 'subsist', 'crispix', 'mag', 'congenit', 'meaningless', 'ballot', 'font', 'tooo', 'chobani', 'robinson', 'abod', 'infatu', 'cerer', 'troika', 'mumbl', 'mishmash', 'creal', 'breakfeast', 'inconclus', 'gurus', 'cherrio', 'dieti', 'delishi', 'hairlin', 'galley', 'variey', 'carboard', 'grassroot', 'ine', 'mfr', 'iraqi', 'ambigu', 'deco', 'prepack', 'dhs', 'conveini', 'agribusi', 'subscib', 'choplet', 'vinacaf', 'orer', 'francai', 'tina', 'pledg', 'pamala', 'browner', 'crape', 'redmil', 'sprue', 'rework', 'coooki', 'hub', 'lowcarb', 'blondi', 'gluton', 'breadman', 'goodn', 'brm', 'storebought', 'springi', 'guten', 'zant', 'foccacia', 'rewarm', 'flakier', 'caveman', 'raison', 'probabi', 'udi', 'underbak', 'sparc', 'cetera', 'despond', 'rockin', 'zoji', 'cia', 'breadi', 'tada', 'orgran', 'excell', 'gulten', 'lorna', 'indgredi', 'crumbli', 'turnoff', 'naysay', 'constraint', 'cherrybrook', 'delusion', 'tofutti', 'divvi', 'jimbo', 'crumbley', 'glutenfre', 'muncher', 'disppoint', 'airbag', 'login', 'sunsweet', 'rosey', 'foodstor', 'howdi', 'emul', 'preliminari', 'mcts', 'corningwar', 'tollhous', 'lechitin', 'ummmmm', 'sensitivi', 'sultan', 'teaspon', 'grimi', 'memmi', 'weeknight', 'overpric', 'gimic', 'ocass', 'rafael', 'suey', 'hotlin', 'noddl', 'amz', 'teryaki', 'abstain', 'glassi', 'ramin', 'rizzo', 'pkt', 'wardrob', 'narnia', 'unlimit', 'nongshim', 'nevermind', 'quantifi', 'kun', 'gochujang', 'soem', 'everest', 'glint', 'superiour', 'lemonaid', 'magenta', 'bioflavonoid', 'becaus', 'relent', 'yukki', 'gorceri', 'rous', 'blegh', 'catalina', 'trailmix', 'shit', 'watermellon', 'favoritest', 'purcas', 'mansion', 'prego', 'alberta', 'tailgat', 'ordr', 'humanitarian', 'wor', 'envio', 'esto', 'aprehens', 'fairest', 'kickbal', 'timesav', 'grandchild', 'thompson', 'enuf', 'dorothi', 'lynch', 'geesh', 'ummmm', 'ensenda', 'midget', 'tanqueray', 'sudoku', 'unsweetend', 'gentleeas', 'enflora', 'kmart', 'genesi', 'cocunut', 'evap', 'malibu', 'mitchel', 'bunt', 'recepi', 'waterproof', 'sidedish', 'usn', 'ret', 'goober', 'orgi', 'potter', 'sucki', 'endocrinologist', 'neuropathi', 'pigg', 'zuccini', 'barilla', 'recoil', 'hambug', 'arrog', 'marzetti', 'irat', 'salty', 'thsi', 'jarlsberg', 'angus', 'cruton', 'didnot', 'suberb', 'dat', 'bargan', 'icecub', 'nutit', 'thc', 'metrx', 'hempmilk', 'unfrost', 'coucous', 'contractor', 'biobag', 'same', 'workaround', 'wareh', 'outgo', 'seitenbach', 'rapadura', 'undisclos', 'nueva', 'cocina', 'mussel', 'kirk', 'manufactu', 'hoppin', 'marilyn', 'laissez', 'rouler', 'rut', 'etouffe', 'conniv', 'intolor', 'envirokidz', 'koala', 'flaxi', 'pert', 'mcdougal', 'scroung', 'earthfar', 'usrda', 'breakroom', 'recollect', 'stockyard', 'prostitut', 'shelton', 'supppos', 'pemmican', 'necesari', 'refuel', 'snowboard', 'blaylock', 'boggl', 'unnot', 'lymph', 'envirokid', 'maiz', 'turpentin', 'margerin', 'luve', 'edensoy', 'unecessari', 'peckish', 'chaka', 'ancestor', 'cherio', 'preclud', 'kidz', 'abou', 'rebar', 'closeup', 'gad', 'deborah', 'tbhq', 'greasier', 'thisll', 'backcountri', 'anyday', 'meusli', 'cascadian', 'bloodsugar', 'lingo', 'pricewis', 'exel', 'irishman', 'jefferson', 'unhealthiest', 'mmmmmmmmmmmm', 'cochin', 'herman', 'dammag', 'grat', 'nan', 'smooshi', 'intertwin', 'ezekiel', 'mmmmmmmmmm', 'casbah', 'paneer', 'delhi', 'vegancompass', 'soupier', 'unclean', 'casina', 'rossa', 'momentum', 'gusta', 'aswel', 'pepita', 'thow', 'casarol', 'volumn', 'motif', 'steviosid', 'adag', 'lucill', 'odder', 'matiz', 'torta', 'aceit', 'brewmast', 'jangl', 'stringless', 'adenosin', 'amass', 'harmon', 'indivdu', 'doze', 'dint', 'woodier', 'hostag', 'tagless', 'ekobrew', 'easygo', 'rooboi', 'prowl', 'espcial', 'flava', 'curtail', 'slumber', 'lullabi', 'dickinson', 'welll', 'vimto', 'cert', 'mdr', 'icey', 'whereof', 'eleutherosid', 'acuiti', 'ethanol', 'intellectu', 'exemplari', 'ambien', 'sledg', 'replay', 'oxford', 'grump', 'glycin', 'ricola', 'quado', 'fod', 'inth', 'perm', 'hmmmmmmm', 'verac', 'henceforth', 'monsoon', 'trilog', 'partway', 'ahhhhh', 'allus', 'wager', 'fairmont', 'terrac', 'chiang', 'diehard', 'indiviu', 'favori', 'teresa', 'zyrtec', 'hgh', 'signfic', 'omiss', 'nutcrack', 'springtim', 'breezi', 'dicontinu', 'creamy', 'hydropon', 'perlit', 'qai', 'cultivar', 'glade', 'slump', 'craig', 'dogwood', 'genisi', 'aerogrow', 'aerogarden', 'presoak', 'peroxid', 'hone', 'symphoni', 'followup', 'williamsburg', 'maci', 'ambrosoli', 'contiu', 'zot', 'pusher', 'gilligan', 'haddock', 'pollack', 'autodeliveri', 'kha', 'phad', 'prepart', 'abbrevi', 'hmmmmmm', 'formosa', 'sapporo', 'ichiban', 'alchol', 'coffem', 'ergo', 'simeon', 'backach', 'eyedropp', 'deduc', 'hyson', 'twilight', 'addicit', 'packagin', 'sunridg', 'mistreat', 'poverti', 'billington', 'demerara', 'wellll', 'nigella', 'lawson', 'mauritius', 'diffenc', 'satieti', 'empress', 'tilda', 'bloke', 'cornnut', 'cornut', 'unblemish', 'lignan', 'curti', 'rector', 'entrap', 'woth', 'gfp', 'gfcfsf', 'shoestr', 'garbonzo', 'extran', 'erewhon', 'anasazi', 'cattledog', 'colesterol', 'franken', 'govt', 'bisquik', 'playdoh', 'serendipit', 'donot', 'heret', 'ith', 'pow', 'yogert', 'crispiest', 'quotient', 'oooh', 'flynn', 'tbsps', 'spatter', 'falafel', 'smidgeon', 'wail', 'tsunami', 'cyanid', 'heehe', 'prostrat', 'hyman', 'colester', 'bitey', 'cholestrol', 'flexse', 'ekt', 'gjetost', 'sesmark', 'itth', 'weetabix', 'familia', 'carpool', 'mestemach', 'esthet', 'fingerprint', 'glutamin', 'flaxmeal', 'handwash', 'mim', 'sucrolos', 'bulgarian', 'seminar', 'mueslix', 'waffel', 'chloresterol', 'taboul', 'sud', 'quiona', 'oster', 'spongier', 'programm', 'breadmachin', 'undiagnos', 'thermostat', 'yey', 'clu', 'pbjs', 'misshapen', 'biscuiti', 'fearn', 'nativa', 'arginin', 'honk', 'rounder', 'quasi', 'metric', 'noisett', 'xylosweet', 'pks', 'moldabl', 'navita', 'dana', 'glycogen', 'underpr', 'wfgf', 'grrrr', 'ribe', 'nigrum', 'musli', 'nos', 'bovril', 'worcest', 'nam', 'pla', 'featheri', 'casualti', 'lowli', 'puy', 'sharpli', 'beanier', 'bechamel', 'lds', 'saco', 'fanfar', 'pnw', 'incub', 'filbert', 'oozi', 'sorbit', 'cortisol', 'sourish', 'dotcom', 'ricemak', 'coo', 'arawak', 'maranta', 'manf', 'sbd', 'nsa', 'pst', 'scrimp', 'daiya', 'unfit', 'overheard', 'packg', 'beeman', 'joyc', 'brisl', 'wisecrack', 'geisha', 'occasionali', 'juci', 'pumpernickl', 'armageddon', 'hayden', 'pcbs', 'athough', 'boni', 'databas', 'hooo', 'malign', 'crispbread', 'verieti', 'dioxin', 'aliment', 'mummi', 'pilchard', 'ren', 'disquis', 'shimmer', 'tigger', 'fjord', 'unneccessari', 'bloodwork', 'thrash', 'floret', 'ralston', 'skipjack', 'crabcak', 'idol', 'baco', 'sourcream', 'forethought', 'flavourless', 'gah', 'favorti', 'sali', 'chocola', 'discolour', 'bubblewrap', 'consol', 'thse', 'sahal', 'slaveri', 'communism', 'haccp', 'brc', 'microbiolog', 'forthright', 'atroc', 'rearrang', 'hungrili', 'sheldon', 'landmin', 'greal', 'dahl', 'tlbs', 'qfc', 'pastina', 'texmati', 'pricetag', 'carbo', 'staunch', 'imperson', 'barbar', 'kimlan', 'bangladesh', 'supertarget', 'parmasan', 'sunfood', 'tmj', 'bookbag', 'multidimension', 'spotless', 'payday', 'esophag', 'incredul', 'trifecta', 'scrutin', 'methylcellulos', 'kinnikinnick', 'jodi', 'chebe', 'galang', 'kaffir', 'mak', 'housew', 'jones', 'tiparo', 'proxi', 'nama', 'mam', 'dippi', 'amalgam', 'massaman', 'lager', 'frm', 'consomm', 'importfood', 'recoomend', 'frankenfood', 'unclump', 'duls', 'healthest', 'uphold', 'mafia', 'endometriosi', 'pau', 'darco', 'weightless', 'flus', 'antidepress', 'ursi', 'cranberi', 'lingham', 'costplus', 'phe', 'sua', 'cosmopolitan', 'amason', 'fungusamongus', 'monohydr', 'superpump', 'creatinin', 'mtn', 'ritrovo', 'fodder', 'overabund', 'impregn', 'enig', 'devid', 'broader', 'algernon', 'caverdish', 'repris', 'barbado', 'resuppli', 'cavendish', 'tortuga', 'tignor', 'bellow', 'midshipman', 'skipper', 'descend', 'pathway', 'cutlass', 'forg', 'dutchman', 'dispatch', 'pillar', 'boson', 'mickleg', 'stow', 'unstick', 'sheri', 'gill', 'oversweeten', 'aldi', 'redesdal', 'pyung', 'quiver', 'dammit', 'scurri', 'voyag', 'propag', 'cheesebal', 'spead', 'ringo', 'vacumn', 'spatini', 'gastroparesi', 'gingeral', 'otehr', 'klean', 'kanteen', 'octavia', 'readymad', 'omgood', 'steviaclear', 'clifford', 'chunck', 'relleno', 'absout', 'nutirit', 'kracker', 'mer', 'nari', 'dart', 'hammerhead', 'dagger', 'helmsman', 'tow', 'intel', 'tamil', 'restat', 'flail', 'joyous', 'tevana', 'budweis', 'malic', 'uganda', 'lupus', 'ravish', 'compuls', 'languish', 'deactiv', 'tetrazzini', 'vail', 'summit', 'silpat', 'jtc', 'wls', 'keto', 'righ', 'kenni', 'angela', 'joray', 'clasp', 'srong', 'hydrogent', 'horray', 'backseat', 'crunchy', 'mildi', 'goey', 'wallmart', 'soooooooooooo', 'famiy', 'shrunken', 'easliy', 'classier', 'cakelik', 'somethng', 'fleischmann', 'pastorelli', 'mroe', 'lipitor', 'nas', 'creamora', 'dell', 'mish', 'barbi', 'sticky', 'bard', 'pseudo', 'groovi', 'allen', 'snd', 'wannabe', 'valdosta', 'soledad', 'abe', 'schmidt', 'lexington', 'cautionari', 'relabel', 'humm', 'petunia', 'perfectionist', 'delud', 'invalid', 'readabl', 'mre', 'engergi', 'dancer', 'glovebox', 'breviti', 'freakish', 'jocalat', 'rekindl', 'viscer', 'sryup', 'fiberon', 'keylim', 'triathlet', 'jive', 'vanquish', 'gooier', 'restructur', 'petrol', 'crossfit', 'supermodel', 'sixlet', 'eurocuisin', 'yogourmet', 'snafu', 'elain', 'kalua', 'mardi', 'cooktop', 'beli', 'liption', 'wrack', 'aspargus', 'outag', 'dabomb', 'housekeep', 'filth', 'midel', 'liveli', 'imprecis', 'underdon', 'tryin', 'gould', 'skus', 'epicuri', 'arnott', 'apathi', 'teacak', 'iver', 'inositol', 'mcg', 'aspart', 'prolin', 'untreat', 'ineeka', 'mfgs', 'committ', 'whitest', 'pcc', 'inan', 'inconsequenti', 'parsnip', 'unreturn', 'brunt', 'plocki', 'krinkl', 'saltless', 'popchip', 'vis', 'staci', 'yummmmmmi', 'snoot', 'bonafid', 'nutragrain', 'ulinov', 'propon', 'eb', 'elmo', 'grandbabi', 'cearal', 'cyanocobalamin', 'happybelli', 'inorgan', 'scuff', 'tuffi', 'unbreak', 'poss', 'mezzetta', 'zwieback', 'profici', 'incisor', 'twos', 'windpip', 'rusk', 'aggreg', 'stroller', 'caddi', 'gage', 'sine', 'clamor', 'babyfood', 'eath', 'chastis', 'louie', 'idem', 'excellet', 'sooooooooooo', 'cassi', 'ahm', 'heheheh', 'hve', 'dearth', 'annalovesbook', 'brough', 'heathrow', 'bergomot', 'winston', 'davidoff', 'grrreat', 'compars', 'cafestol', 'frivol', 'crawford', 'vivani', 'woudl', 'mayacama', 'swich', 'caro', 'arbitrari', 'dvita', 'dring', 'cholat', 'reguar', 'strenght', 'ligh', 'som', 'booni', 'betel', 'opion', 'tito', 'goldton', 'ell', 'vac', 'plumpest', 'panna', 'yaki', 'bulgar', 'esoter', 'ricecak', 'sabra', 'rwanda', 'mel', 'hyperglycemia', 'undercut', 'weasel', 'cheater', 'gustaf', 'venco', 'salmiak', 'zout', 'corros', 'chime', 'suff', 'gumdrop', 'flipz', 'vez', 'diebet', 'gustav', 'sean', 'malcolm', 'melanin', 'grassier', 'chimpanze', 'chimp', 'bagl', 'finn', 'cuke', 'blogspot', 'lunchabl', 'hardtack', 'jaguar', 'meltabl', 'pinot', 'zin', 'rosacea', 'uncondit', 'nissan', 'mouthful', 'vibe', 'pts', 'grandmom', 'papertowel', 'wheatless', 'cryin', 'gald', 'asd', 'bcaus', 'bori', 'carboxymethylcellulos', 'luckier', 'agava', 'prezel', 'havet', 'gluteni', 'reynold', 'thump', 'preset', 'homebak', 'meatloav', 'brea', 'bunco', 'ener', 'surefir', 'potatoey', 'shone', 'gfree', 'kindergartn', 'creamchees', 'supers', 'parakeet', 'gastriti', 'fiberplus', 'off', 'disneyland', 'fruta', 'croc', 'awwww', 'ade', 'outshin', 'hoppi', 'wisp', 'partit', 'beadi', 'catastroph', 'absoulut', 'lenght', 'outnumb', 'bearer', 'pareil', 'ingrdient', 'semper', 'druther', 'coldston', 'usmc', 'solitari', 'gummibear', 'deutschland', 'trolli', 'hairbo', 'commonwealth', 'goldbaren', 'prefernc', 'echelon', 'graph', 'strawberi', 'grapefru', 'reattach', 'reccom', 'mislabl', 'techno', 'mutant', 'nothing', 'strident', 'airlock', 'serch', 'wayyyyy', 'lund', 'albanian', 'sphincter', 'gape', 'follw', 'lycasin', 'outhous', 'pupil', 'slur', 'imodium', 'fissur', 'squishier', 'juju', 'gummmi', 'briberi', 'grazi', 'deeeelici', 'wallgreen', 'aquat', 'gooooood', 'munchabl', 'brite', 'sghetti', 'peacock', 'sympath', 'porkchop', 'glutenfreeda', 'crybabi', 'sephra', 'connoiseur', 'chimichanga', 'quck', 'knit', 'inglehoff', 'riser', 'dolcetto', 'mounth', 'dfw', 'horsey', 'invers', 'remix', 'dibet', 'woodford', 'rollup', 'orgini', 'largish', 'indivu', 'overdri', 'teriaki', 'itt', 'cosmo', 'drinkwel', 'thor', 'procter', 'duller', 'kelsey', 'atm', 'frankenstein', 'brethren', 'purinaon', 'deleteri', 'settlement', 'painstak', 'italiano', 'rosarita', 'mcviti', 'wholem', 'sitcom', 'arbi', 'schnapp', 'talc', 'mfgr', 'tizzi', 'pacakag', 'waa', 'quanit', 'refridg', 'ridder', 'sandbox', 'chipmunk', 'breadshop', 'debol', 'bole', 'nrg', 'teath', 'ziyad', 'swad', 'nirav', 'remak', 'michelin', 'syrian', 'aldent', 'linse', 'arid', 'unclog', 'shoo', 'patronag', 'tahina', 'fransisco', 'nanak', 'desi', 'pastey', 'occais', 'bobcat', 'frolick', 'gutter', 'rendezv', 'gibson', 'willingham', 'autograph', 'vous', 'kwan', 'sox', 'girard', 'corki', 'whan', 'laksa', 'grana', 'ryvita', 'seedland', 'choosi', 'moorish', 'andersen', 'mamad', 'haggi', 'caledonian', 'scarpetta', 'misinterpret', 'arrabbiata', 'oskri', 'sezm', 'anazon', 'ohhhhh', 'spaetzl', 'ingriedi', 'swindl', 'thei', 'taho', 'vinegarett', 'tjmax', 'delizioso', 'burk', 'eugen', 'sander', 'agatha', 'tet', 'everday', 'souchang', 'toh', 'kwazulu', 'tearoom', 'dilmah', 'bitterish', 'finum', 'peati', 'ntingw', 'homer', 'zeus', 'doubtless', 'diyagama', 'apartheid', 'pilgrimag', 'consumm', 'patern', 'potteri', 'chevi', 'conist', 'woodstock', 'canela', 'coumarin', 'calimyrna', 'tabbouleh', 'peeler', 'indefin', 'fruitabu', 'pku', 'tempeh', 'microbi', 'poundcak', 'canni', 'disguist', 'corrod', 'ascertain', 'polyethylen', 'quota', 'tanzanian', 'etch', 'mariag', 'modicum', 'unfortuant', 'bleah', 'irreplac', 'wagner', 'koyo', 'hfs', 'griti', 'resold', 'sice', 'bisphenol', 'troublesom', 'yoyo', 'plasic', 'gulper', 'cornflow', 'gutsi', 'barcod', 'infinitesim', 'stroopwafel', 'slob', 'manhandl', 'uproar', 'pgtip', 'benfit', 'comparit', 'hospic', 'pba', 'veriti', 'tgfop', 'siphon', 'hei', 'adept', 'babbl', 'hijack', 'spangler', 'cremosa', 'toffifay', 'hubba', 'bzzagent', 'gaseous', 'riesen', 'legitimaci', 'fakey', 'soooooooooo', 'prodict', 'reevalu', 'giftcard', 'wallow', 'garcia', 'cellular', 'peanuti', 'improb', 'amazonprim', 'tata', 'artici', 'poet', 'nute', 'graveyard', 'frapuccino', 'atlas', 'unholi', 'midmorn', 'alder', 'lankan', 'divulg', 'badg', 'decalf', 'producti', 'baratza', 'mick', 'backlash', 'dispel', 'olli', 'inova', 'anyt', 'vallarta', 'grainless', 'chuao', 'porcelana', 'amadei', 'ghiardelli', 'goliath', 'actulli', 'reinstat', 'shoebox', 'beauregard', 'ozon', 'golight', 'pandan', 'yess', 'redbul', 'stimulus', 'jamican', 'voss', 'lan', 'pastachees', 'nilla', 'akmak', 'biskit', 'congression', 'infin', 'palmit', 'unctuous', 'barnum', 'pretens', 'morri', 'allay', 'cakest', 'scape', 'unplan', 'feingold', 'toller', 'auction', 'owen', 'boxi', 'spokesperson', 'grahm', 'friendliest', 'roosevelt', 'legaci', 'soduim', 'elf', 'quess', 'diari', 'espeic', 'alow', 'hogan', 'convict', 'syurp', 'doon', 'snugg', 'pillowi', 'lytwyn', 'fairbank', 'pointsplus', 'adventuresom', 'icebreak', 'amo', 'cholol', 'simpson', 'drivel', 'bonfir', 'katz', 'nyt', 'tunnock', 'jfk', 'payload', 'stoog', 'tactil', 'pigeon', 'casava', 'versit', 'beluga', 'ilov', 'endulg', 'uptown', 'muffaletta', 'byzantin', 'grissini', 'snapshot', 'peloponnes', 'cerignola', 'unpit', 'graber', 'degen', 'technivorm', 'natural', 'guyana', 'arduous', 'cyprus', 'uncur', 'apx', 'purplish', 'inexcus', 'bahlsen', 'variati', 'primer', 'threee', 'unrustl', 'lemur', 'nonorgan', 'orangutan', 'magick', 'kix', 'isi', 'kavli', 'spencer', 'cinnamom', 'abscond', 'delacr', 'blackbox', 'spook', 'goodnight', 'walkway', 'ravag', 'hatr', 'infront', 'hillsid', 'caster', 'nemesi', 'firecrack', 'sundown', 'someway', 'replet', 'audrey', 'slum', 'impec', 'spilt', 'proten', 'mento', 'outburst', 'bloomfield', 'goldbox', 'tikka', 'heavey', 'watkin', 'plz', 'multicolor', 'noggin', 'summeri', 'frittata', 'sizzlin', 'iceland', 'brendan', 'gilbert', 'baba', 'ganoush', 'bacardi', 'gloopi', 'kneed', 'ihav', 'nigh', 'entangl', 'missus', 'jyoti', 'osem', 'smatter', 'vitaspelt', 'coudnt', 'packa', 'alternit', 'bemoan', 'asperg', 'chabli', 'homemak', 'delongi', 'junctur', 'geographi', 'quickbread', 'implant', 'overag', 'lofti', 'babka', 'theresa', 'nutritio', 'primavera', 'fiberi', 'primula', 'paskesz', 'alexandria', 'heaver', 'trudeau', 'canneri', 'biloxi', 'pulpo', 'daiquiri', 'sadaf', 'olymp', 'verbiag', 'interven', 'euphem', 'pablum', 'calamari', 'ellipt', 'bbc', 'viga', 'rail', 'greati', 'decaffen', 'uno', 'abba', 'zaba', 'nooooooo', 'qui', 'twister', 'cheeson', 'appos', 'baltic', 'hiatal', 'hernia', 'volumin', 'pincher', 'mtr', 'jeera', 'thenewmal', 'methanol', 'palsi', 'xylichew', 'foodservic', 'tweet', 'tubi', 'quanti', 'der', 'saccarin', 'bremner', 'vinta', 'cocoanut', 'hitman', 'fetid', 'foreground', 'ramien', 'macdougal', 'discredit', 'stirr', 'subtil', 'paraphernalia', 'sewn', 'perl', 'peoni', 'starlight', 'garish', 'iota', 'glimmer', 'aford', 'reschedul', 'weedi', 'reconnect', 'coffeepot', 'gogi', 'smorgasbord', 'himalania', 'orac', 'wolfberri', 'prc', 'carotenoid', 'enviorn', 'warfarin', 'goitrogen', 'andean', 'pacifica', 'masculin', 'hcl', 'gainer', 'sublingu', 'brekki', 'covert', 'conting', 'mcd', 'gfi', 'piquanc', 'esselstyn', 'tastest', 'fre', 'ingreadi', 'sami', 'gooy', 'kuan', 'tieguanyin', 'wulong', 'tgi', 'longj', 'osmanthus', 'gook', 'peacework', 'aguav', 'palestinian', 'persimmon', 'scrambler', 'lachoy', 'csa', 'somekind', 'mccall', 'polyest', 'proverbi', 'fratern', 'yokan', 'chump', 'fleer', 'spacer', 'fruition', 'chervil', 'sorrel', 'trelli', 'recoment', 'areogarden', 'booger', 'impract', 'clunki', 'ipod', 'glare', 'wimpier', 'thine', 'basin', 'otoh', 'scorpian', 'wade', 'impel', 'reflector', 'irk', 'rerout', 'unhelp', 'rotor', 'chatter', 'wildest', 'prepara', 'disinfect', 'meduim', 'amorph', 'hydron', 'lanai', 'spiffi', 'mexicali', 'lipoprotein', 'ducal', 'haystack', 'borracho', 'chalupa', 'xango', 'herbox', 'pizzell', 'just', 'xyletol', 'xyla', 'plausibl', 'smint', 'xyloburst', 'overhaul', 'nad', 'sweetnlow', 'apr', 'musubi', 'imparti', 'chois', 'stauffer', 'ado', 'flavigni', 'quacker', 'nibblet', 'japonica', 'victorio', 'danjou', 'odour', 'starchier', 'tittl', 'disfigur', 'buonissimo', 'thew', 'olein', 'sailor', 'salsita', 'sabroso', 'bellpepp', 'caramelo', 'hoy', 'spearment', 'sheriff', 'bleagh', 'gardner', 'collin', 'couldnot', 'palatt', 'dispensor', 'dissappear', 'saveur', 'sinker', 'isomalt', 'revolution', 'sirup', 'jonni', 'multipurpos', 'aftereffect', 'mead', 'shill', 'nutr', 'subscipt', 'sacrilegi', 'boyd', 'supertast', 'anywer', 'succanat', 'preconceiv', 'hershi', 'sukhi', 'garret', 'seer', 'kickback', 'underarm', 'boscoli', 'perricon', 'drat', 'griffin', 'thujon', 'absinth', 'wormwood', 'calbe', 'snapea', 'admonit', 'snackabl', 'cruch', 'styrofoami', 'cholester', 'sublt', 'dextrin', 'undermin', 'wnat', 'swampi', 'churro', 'methyl', 'definelti', 'freedent', 'unfavor', 'montgomeri', 'familiy', 'treenut', 'emblazon', 'roost', 'punkin', 'dyno', 'zeal', 'mirepoix', 'dreamfield', 'rigat', 'convolut', 'catit', 'alll', 'oetker', 'springerl', 'scrappl', 'farewel', 'choochoo', 'sinewi', 'transmiss', 'yippi', 'addtion', 'mischa', 'mello', 'cambodian', 'precipit', 'reallllli', 'zamouri', 'tattoo', 'sumac', 'petrochem', 'originali', 'runaway', 'mannheim', 'steamrol', 'mostur', 'nigeria', 'deelish', 'mcneil', 'apprais', 'peperoni', 'marca', 'excelent', 'tillamook', 'greasey', 'junction', 'pawne', 'vennison', 'accolad', 'saddlebag', 'storabl', 'soot', 'rood', 'penros', 'lemmon', 'barcelona', 'seach', 'benji', 'dickason', 'entrust', 'carbquik', 'dylan', 'carbquick', 'fido', 'tam', 'berlin', 'undent', 'blizzard', 'disruptor', 'brothi', 'stagg', 'spudman', 'winfrey', 'baton', 'cdc', 'hawaiin', 'valeri', 'combust', 'seapoint', 'flashlight', 'ducki', 'dachsi', 'bunker', 'villain', 'parachut', 'pox', 'crete', 'mutti', 'biblic', 'oink', 'oilier', 'edi', 'investor', 'annett', 'riesl', 'madhous', 'flavori', 'wetland', 'seasalt', 'iren', 'msgs', 'hexagon', 'cheeki', 'biglot', 'hab', 'moni', 'cheesestick', 'baxter', 'cornflour', 'polyphosph', 'croak', 'exrem', 'alp', 'volleybal', 'sanyo', 'uglier', 'concis', 'rsvp', 'migratori', 'carbrit', 'nutrimigen', 'belamandil', 'breathalys', 'zylitol', 'hopeful', 'ricemilk', 'cannabi', 'nutivia', 'testpledg', 'mrsa', 'polio', 'dissimilar', 'norma', 'lucuma', 'camu', 'yacon', 'navitasnatur', 'stonyfield', 'countdown', 'manitoba', 'qauliti', 'logan', 'thrush', 'lanki', 'bodywash', 'tress', 'untangl', 'tempuratur', 'autopsi', 'socket', 'hokey', 'dissap', 'stylist', 'talapia', 'cuticl', 'hayward', 'reallemon', 'friut', 'cantuccini', 'leeway', 'acidifi', 'pithi', 'dosa', 'sambar', 'tsu', 'lammi', 'barney', 'mot', 'kopper', 'sainsburi', 'sigg', 'fleec', 'longish', 'iarc', 'overact', 'eggnogg', 'tsao', 'cinnnamon', 'restar', 'flavenoid', 'ballerina', 'biglow', 'repast', 'bff', 'indvidu', 'rls', 'verrrri', 'nutrajoint', 'osteo', 'reced', 'wiil', 'dealership', 'intricaci', 'coumadin', 'subsript', 'overland', 'rumsfeld', 'sacharin', 'alma', 'shawarma', 'kefta', 'oaxaca', 'halloumi', 'zealous', 'crapshoot', 'cusin', 'chanakara', 'damiana', 'dragonfruit', 'robbi', 'dawg', 'outlay', 'caymen', 'flamin', 'turnpik', 'surveil', 'insulinoma', 'lacer', 'fdc', 'magnum', 'mathemat', 'bsn', 'labrada', 'supp', 'redlin', 'humanofort', 'clutch', 'reaffirm', 'myoplex', 'afganistan', 'immeasur', 'nesquick', 'bubblemint', 'citrusmint', 'mouthi', 'scottsdal', 'maisi', 'bowti', 'id', 'chapati', 'funfetti', 'ipad', 'granuloma', 'brut', 'blaa', 'offload', 'aladdin', 'hoopla', 'cavendar', 'decenc', 'preen', 'embroid', 'natto', 'rotel', 'manwich', 'uggh', 'acoust', 'soybutt', 'wowbutt', 'sunbutt', 'farley', 'teether', 'sbs', 'chaokoh', 'lumpier', 'vultur', 'fagioli', 'mmmmmmmmm', 'untasti', 'triad', 'cookoff', 'guangzhou', 'greenwis', 'enumer', 'michell', 'nudg', 'malto', 'jasper', 'bookbind', 'ungreas', 'joel', 'shant', 'mexicana', 'fra', 'rebrand', 'tobleron', 'hastili', 'lme', 'kcl', 'cardini', 'mbt', 'suprema', 'yoshida', 'taunt', 'dumplin', 'pushi', 'crackhead', 'unfortunatley', 'bux', 'nonperish', 'amarillo', 'portabella', 'adirondack', 'yehuda', 'whore', 'slickdeal', 'polysorb', 'hypothes', 'flavanol', 'tempo', 'mcqueen', 'calhoun', 'faeri', 'toooooo', 'rotell', 'longhorn', 'prodigi', 'mimiccrem', 'chiffon', 'clement', 'hyatt', 'saimin', 'veryasia', 'shhhh', 'thougt', 'makeshift', 'taker', 'necessit', 'mixup', 'cannoli', 'iberia', 'forklift', 'matzoh', 'rune', 'confort', 'walgren', 'manga', 'cello', 'maranad', 'pancit', 'mueller', 'exspect', 'kluski', 'flask', 'beaumont', 'empacadora', 'volia', 'remad', 'intead', 'bennett', 'cambel', 'kedem', 'telma', 'dillon', 'bask', 'deject', 'natch', 'skateboard', 'academia', 'ode', 'bulgogi', 'on', 'macadamian', 'repay', 'sweetgourmet', 'dominion', 'gooooooood', 'hanson', 'gree', 'ramotsw', 'preggo', 'homepag', 'tardi', 'galil', 'achva', 'anton', 'puppodum', 'marc', 'capitol', 'subdivid', 'exhort', 'bazillion', 'pompadour', 'teekann', 'plastisol', 'hnz', 'unflavour', 'therer', 'rjs', 'licorag', 'becus', 'inning', 'novoandina', 'ethylen', 'decocain', 'bolivia', 'venom', 'contan', 'propens', 'indetermin', 'theoriz', 'acupuncturist', 'decoct', 'refres', 'lavassa', 'macchiatto', 'thumbnail', 'allergan', 'stretcher', 'samsung', 'fluffli', 'fob', 'undo', 'ontrac', 'breach', 'pumpkini', 'bamboozl', 'carmal', 'bionatur', 'legisl', 'academ', 'denial', 'lobbyist', 'betain', 'bolthous', 'fishier', 'lumpfish', 'iran', 'mambo', 'epiphani', 'tango', 'yummyearth', 'razzmatazz', 'dabbl', 'talli', 'tooberri', 'goog', 'fuit', 'watermeloni', 'errant', 'commentor', 'varnish', 'zsweet', 'dil', 'caller', 'pomegrant', 'booberri', 'sergio', 'tilth', 'allergin', 'rcvd', 'sqeez', 'notta', 'dunker', 'raisan', 'fudgier', 'buttercrunch', 'navajo', 'tooooo', 'avaialbl', 'semblanc', 'chewy', 'gerbil', 'ava', 'mitzvah', 'barbqu', 'biggbi', 'lefti', 'canner', 'oregan', 'biltmor', 'grapenut', 'outter', 'scrumptuous', 'cholest', 'soooooooooooooo', 'mcmate', 'intrins', 'bolivian', 'handyman', 'birdfeed', 'merest', 'felix', 'electrifi', 'snoop', 'afro', 'leat', 'drambui', 'breaksfast', 'trill', 'forlorn', 'catchmast', 'coul', 'livid', 'wack', 'towelett', 'tara', 'dnt', 'ghana', 'clamato', 'bri', 'bakewel', 'kipl', 'battenberg', 'humect', 'stearat', 'shrank', 'wur', 'caramilk', 'wig', 'predecessor', 'nearer', 'deeelici', 'quicken', 'subtrop', 'babaganoush', 'tandoori', 'delallo', 'forwarn', 'neurotox', 'georgetown', 'rancho', 'tostado', 'webshop', 'estancia', 'argentin', 'niederegg', 'lubeck', 'ottoman', 'rebuilt', 'reunif', 'loooooooov', 'hob', 'pumac', 'endoscopi', 'soaker', 'overestim', 'fern', 'myojo', 'raman', 'carosel', 'gospel', 'finial', 'alterra', 'parisienn', 'plebeian', 'alwadi', 'unprotect', 'ghannoug', 'akhdar', 'corta', 'pitta', 'paypal', 'malleabl', 'clorox', 'honeymaid', 'offhand', 'plantin', 'laguna', 'satini', 'prettiest', 'equilibrium', 'selzer', 'alaea', 'porn', 'sulk', 'chocolit', 'bubblici', 'toma', 'cappucinno', 'oatcak', 'cofffe', 'umf', 'statisfi', 'dumbbel', 'scharffenberg', 'unafford', 'mei', 'incud', 'cyclam', 'posess', 'itoen', 'en', 'marachino', 'crimp', 'delmont', 'soyabella', 'overlay', 'grogg', 'cameron', 'kaldi', 'staunchest', 'dunkindonut', 'deidrich', 'yirgacheff', 'conrad', 'intelligentsia', 'harrar', 'grog', 'xena', 'fanconi', 'gait', 'quan', 'tdisc', 'nabob', 'kenco', 'kitamu', 'huntsvill', 'bosch', 'mastro', 'capp', 'licorac', 'greedili', 'voluptuoso', 'hag', 'blower', 'serotonin', 'nightshad', 'byrd', 'fussiest', 'puss', 'mashup', 'mornflak', 'hamlyn', 'tutti', 'tammi', 'brookston', 'kyle', 'heid', 'blok', 'stinger', 'sharki', 'candyman', 'girli', 'kohl', 'crispli', 'medford', 'inus', 'schooner', 'tramp', 'softi', 'dryish', 'branson', 'thur', 'lafayett', 'sidetrack', 'romeo', 'friendli', 'bosss', 'simplebit', 'snapz', 'njoy', 'powerpop', 'gardetto', 'cloret', 'kukicha', 'contraind', 'gossip', 'summat', 'gday', 'safcol', 'shazam', 'toff', 'sourwood', 'wiska', 'skor', 'goodbar', 'heatwav', 'mocaf', 'cardin', 'suiss', 'latte', 'incis', 'averi', 'paleolith', 'starr', 'maritim', 'parodi', 'appel', 'injoy', 'silt', 'comida', 'loca', 'handwritten', 'todo', 'clandestin', 'marmelad', 'permalink', 'sanalac', 'emulsif', 'indecipher', 'dissent', 'deliss', 'metabolit', 'disciplinari', 'macmat', 'anomali', 'casi', 'pued', 'otra', 'uso', 'bicarb', 'recommnend', 'embassi', 'nutlett', 'bilg', 'kar', 'coher', 'prom', 'extrus', 'krisp', 'benn', 'cinco', 'molino', 'hartley', 'swath', 'smeel', 'jacquelin', 'knowlton', 'cbs', 'kara', 'patek', 'cerelac', 'ribena', 'suav', 'elaps', 'plasmon', 'nanaimo', 'horlick', 'mulligatawni', 'ktc', 'asafoetida', 'lucozad', 'brash', 'hpv', 'jinx', 'prozac', 'phenobarbit', 'prefil', 'tapeworm', 'fang', 'tomcat', 'gelcap', 'pillpocket', 'forcibl', 'jellyfish', 'declaw', 'hassel', 'coenzym', 'homegood', 'distict', 'tcho', 'rajah', 'textil', 'pav', 'bhaji', 'mdh', 'chaat', 'papad', 'lijjat', 'dabba', 'zaatar', 'colman', 'mahal', 'drainer', 'brinjal', 'shuttl', 'tulley', 'karmal', 'bettter', 'instuct', 'dabur', 'vatika', 'shutter', 'krupp', 'unfresh', 'happytim', 'flowerb', 'sweetmint', 'momento', 'albanes', 'em', 'hollist', 'novus', 'garibaldi', 'luger', 'perigord', 'unsweetn', 'yardstick', 'attun', 'claxton', 'sulfid', 'woodpeck', 'masoor', 'moong', 'benson', 'waterlog', 'brushtail', 'texarkana', 'stacey', 'cinn', 'crunchmast', 'hummous', 'ladden', 'airwav', 'yummmmi', 'truelemon', 'lifewat', 'uncap', 'chickwe', 'everymorn', 'teaspoonful', 'dellici', 'massacr', 'approximat', 'merangu', 'culver', 'pai', 'mona', 'eggbeat', 'cusinart', 'handheld', 'leven', 'glom', 'drogheria', 'alimentari', 'weensi', 'conge', 'plochman', 'fam', 'cocao', 'cocol', 'dipotassium', 'et', 'harrow', 'onsal', 'fasta', 'einstein', 'thii', 'nitrosamin', 'kimber', 'sidamo', 'spotajava', 'pcp', 'remi', 'eveyon', 'madam', 'moonstruck', 'sneaker', 'oth', 'solstic', 'clyde', 'alomst', 'slant', 'predetermin', 'swoosh', 'neuro', 'cud', 'kodiak', 'ohgav', 'feve', 'recap', 'nector', 'quirt', 'soulmat', 'zon', 'rectal', 'almsot', 'looooooov', 'aboout', 'pimiento', 'idahoan', 'hangout', 'recald', 'hexametaphosph', 'natratast', 'phylli', 'monarch', 'millionair', 'granddaddi', 'sortof', 'altura', 'appassionato', 'pestisid', 'biodynam', 'postiv', 'ruta', 'cubita', 'underdevelop', 'porport', 'intenso', 'aerobi', 'kroenung', 'monro', 'opionion', 'sather', 'gnawhid', 'swung', 'fixabl', 'drooli', 'bouvier', 'eaiser', 'uncarbon', 'shamrock', 'globul', 'coastlin', 'stocker', 'wholl', 'bei', 'argan', 'maloney', 'moloney', 'tesco', 'midland', 'delisi', 'goetta', 'lifelin', 'baar', 'philmont', 'crispy', 'shari', 'blight', 'pepino', 'newfangl', 'ezeki', 'bawl', 'toothi', 'garofalo', 'wadi', 'wihtout', 'pindi', 'duet', 'bukara', 'mori', 'draft', 'tongol', 'dontt', 'caustic', 'jerque', 'loveeee', 'diggiti', 'eruc', 'longitudin', 'clandinin', 'yamashiro', 'vles', 'robblen', 'downey', 'ashri', 'mcgraw', 'toxicolog', 'golovko', 'trocomar', 'lumen', 'whereupon', 'demograph', 'cargil', 'cann', 'celcius', 'dopamin', 'mcsteven', 'polka', 'comvita', 'unhul', 'orgainc', 'weightlift', 'fuctos', 'chese', 'theobroma', 'choloc', 'quater', 'itc', 'palak', 'saag', 'navratan', 'paratha', 'westphalian', 'maillard', 'longlast', 'gloop', 'histamin', 'radiator', 'coeliac', 'gist', 'norpro', 'parmalat', 'bankruptci', 'phthalat', 'dicey', 'essn', 'yeild', 'villawar', 'vruit', 'smushi', 'bronner', 'alpsnack', 'bogo', 'craveabl', 'floavor', 'bumblebar', 'bever', 'ltr', 'granddad', 'jul', 'manioc', 'sloth', 'mirch', 'hyderabad', 'vittl', 'bukhara', 'matar', 'spreadsheet', 'krave', 'heckuva', 'raincoast', 'rinc', 'umeboshi', 'zensoy', 'litll', 'howd', 'unples', 'christoph', 'gomasio', 'brocoli', 'factoid', 'bionatura', 'incap', 'shanshad', 'teem', 'waaaayyy', 'tobacman', 'tandoor', 'karin', 'cove', 'nigari', 'rotelli', 'unev', 'marguerita', 'chole', 'kist', 'potasium', 'pocono', 'vanil', 'inasmuch', 'harde', 'glasswar', 'mochiko', 'soursop', 'camelback', 'katj', 'panni', 'whipit', 'hippo', 'corrobor', 'tolberon', 'chocki', 'guylian', 'honour', 'seashel', 'slovenia', 'nissin', 'neoguri', 'chapagetti', 'fillo', 'prevacid', 'deglet', 'edmund', 'grapeleav', 'teardrop', 'susanna', 'blous', 'cuttlefish', 'ef', 'saltahol', 'riga', 'radial', 'giovanni', 'hilton', 'acct', 'chajang', 'hmart', 'myun', 'ramon', 'pylori', 'gritty', 'dallmayr', 'prodomo', 'avg', 'wield', 'hellmann', 'taramosalata', 'gourmetfoodstor', 'keta', 'inconsider', 'lobe', 'polystyren', 'terr', 'chateau', 'aspic', 'waldbaum', 'hooey', 'dofino', 'plazma', 'lupini', 'weiss', 'oma', 'szege', 'ajvar', 'vivian', 'verbatim', 'edgar', 'cayc', 'acke', 'basqu', 'grecian', 'toro', 'panzanella', 'thomi', 'capric', 'legibl', 'quinin', 'ancestri', 'carp', 'partanna', 'avil', 'lebkuchen', 'anew', 'pfeffernuss', 'wispi', 'bulgaricus', 'bifidus', 'romania', 'noni', 'lauderdal', 'fattoush', 'claussen', 'scoup', 'bmi', 'amarylli', 'cavati', 'frooti', 'wiki', 'housebound', 'comsumpt', 'piment', 'despelett', 'nuremberg', 'ital', 'umbria', 'baysid', 'queijo', 'mina', 'pouf', 'woner', 'tongkat', 'juliet', 'wedderspoon', 'malabar', 'woah', 'schizandra', 'medela', 'ameda', 'lansinoh', 'nuk', 'uncompromis', 'magma', 'elitist', 'mtrs', 'pakora', 'bela', 'cheetoh', 'kettlecorn', 'jollytim', 'schnuck', 'astray', 'restaurant', 'wetfood', 'discretionari', 'nort', 'ephemer', 'zipfizz', 'albican', 'natrazyl', 'ingried', 'carboy', 'deputi', 'usher', 'campel', 'appart', 'chester', 'mateo', 'haldiram', 'soan', 'papdi', 'genco', 'pompeian', 'nairn', 'sunchip', 'wrestler', 'columnist', 'datem', 'piccalilli', 'flapjack', 'dari', 'crackerjack', 'paxo', 'ovenproof', 'avaial', 'incipi', 'fumar', 'nestum', 'bonz', 'cronat', 'kabab', 'pap', 'bree', 'yummmmmi', 'bellino', 'soviet', 'throttl', 'warcraft', 'longterm', 'crv', 'vidalia', 'coocki', 'hanuta', 'cinderella', 'reguardless', 'refreash', 'snikiddi', 'wunderbar', 'gallopin', 'sinew', 'unsubstanti', 'samosa', 'poppadom', 'glenfiddich', 'sommeli', 'glencarin', 'cll', 'oncologist', 'cervic', 'hplc', 'parampara', 'milli', 'hirt', 'aralia', 'lacey', 'superbal', 'shanghai', 'beautiful', 'desserti', 'evenflo', 'rebaudiana', 'beigel', 'wingal', 'indiscrimin', 'zoey', 'catinfo', 'tsk', 'mideastern', 'ling', 'poochi', 'napili', 'kitter', 'moozl', 'poppadum', 'beleav', 'shoulda', 'counterbal', 'silic', 'chincoteagu', 'benecol', 'stanol', 'chol', 'cholestoff', 'zetia', 'simvastatin', 'affor', 'conditon', 'marcona', 'taza', 'bulger', 'engeri', 'actaulli', 'carib', 'stumptown', 'mazzer', 'indel', 'hairstyl', 'rarifi', 'scuf', 'spiderman', 'uncool', 'goldenberg', 'desrib', 'darlin', 'lass', 'lani', 'sauna', 'bice', 'koolerz', 'unlink', 'mayer', 'burri', 'americarx', 'tictac', 'wawa', 'mmmmmmmmmmm', 'gymnast', 'octagon', 'lvoe', 'roberta', 'voicemail', 'lemonhead', 'glueten', 'busiest', 'tanzania', 'nuffin', 'ciliac', 'environmentalist', 'yoder', 'favoit', 'lana', 'rootbal', 'nodul', 'arrriv', 'turron', 'fess', 'jfg', 'satchet', 'rapper', 'polynesian', 'cartridg', 'knott', 'carolin', 'aril', 'thk', 'darwin', 'plott', 'phat', 'untoward', 'sheba', 'regan', 'peychaud', 'fidd', 'nesbitt', 'barq', 'cappachino', 'cappuccinno', 'hela', 'salata', 'gefilt', 'fairer', 'sharffen', 'priorit', 'amano', 'tchibo', 'rebiana', 'beanilla', 'bruno', 'smarten', 'certin', 'composur', 'knucklehead', 'tagliatell', 'jagermeist', 'brava', 'symptomat', 'descal', 'tundra', 'woken', 'bromley', 'joaquin', 'oversel', 'aristocat', 'confidenti', 'gulab', 'nutsonlin', 'wut', 'savoiardi', 'elim', 'sbux', 'tutto', 'woudnt', 'havest', 'tbps', 'pepsin', 'weighti', 'vitam', 'boron', 'ionic', 'arrhythmia', 'calv', 'pharmacolog', 'convuls', 'kickstart', 'resaur', 'steepster', 'xylo', 'inprov', 'chihauhau', 'oner', 'birman', 'intriqu', 'gebhardt', 'guh', 'salina', 'racquetbal', 'emil', 'gano', 'ganoderma', 'widest', 'ganocaf', 'reishi', 'bonid', 'undesolv', 'foliar', 'grabe', 'cutoff', 'scrubbi', 'whenc', 'cinnamomum', 'soho', 'seabear', 'deja', 'cardia', 'availi', 'winterfrost', 'bettern', 'arc', 'microphon', 'formular', 'martek', 'recombin', 'lifesdha', 'lifesara', 'rescind', 'reagent', 'reabsorb', 'chiefli', 'nother', 'chocoperfect', 'oligofructos', 'polyol', 'fructooligosaccharid', 'fos', 'demet', 'vosg', 'maison', 'lucienn', 'sparx', 'pandora', 'lindsay', 'azmira', 'shellac', 'pomona', 'quoc', 'campground', 'yummy', 'flavocol', 'preport', 'earthborn', 'popocorn', 'surgari', 'menard', 'satisfactorili', 'syphon', 'wate', 'swerv', 'carabin', 'culpa', 'unorthodox', 'vitamen', 'ziwipeak', 'ziwi', 'goodlif', 'bookmark', 'krabbi', 'tartlet', 'sniffer', 'mitt', 'pigskin', 'provoc', 'holster', 'melbourn', 'terrarium', 'redempt', 'mover', 'hedonist', 'chefshop', 'suchard', 'phillippin', 'micronutri', 'zbar', 'untwist', 'snackim', 'paraben', 'breathless', 'ornat', 'deglaz', 'jcs', 'verv', 'grainfre', 'caricatur', 'kyocera', 'carter', 'pablo', 'oxbow', 'kayte', 'toiletri', 'cherryhead', 'nuero', 'mongoos', 'sabin', 'puka', 'pps', 'wouldt', 'ola', 'wherebi', 'petflow', 'merlin', 'uninterrupt', 'extendbar', 'byron', 'ensembl', 'milkier', 'carmelina', 'mangia', 'pact', 'forman', 'pomodoro', 'gemelli', 'antibodi', 'infamil', 'panca', 'woodear', 'bolet', 'unshel', 'eastcoast', 'housework', 'kaniwa', 'pilsner', 'smal', 'snackin', 'petsitt', 'fisher', 'nascar', 'frodo', 'casey', 'gamer', 'fiona', 'caykur', 'blenheim', 'republican', 'presidenti', 'sojourn', 'seaalo', 'comet', 'nordstrom', 'geyser', 'lupo', 'bonsaiboy', 'phal', 'intoduc', 'edo', 'huitlacoch', 'addl', 'doyl', 'untaint', 'bamba', 'wissotzki', 'opin', 'clair', 'pleasnt', 'coldaid', 'wheedl', 'carnaroli', 'roja', 'refesh', 'lapsong', 'resteep', 'cinnammon', 'oothu', 'nilgiri', 'himala', 'hereaft', 'undaunt', 'puget', 'sheila', 'jut', 'purrrfect', 'by', 'ramadan', 'interspers', 'banaspati', 'coolaid', 'poduct', 'intelligencia', 'supercrema', 'sirena', 'expobar', 'cocco', 'francisfr', 'capachino', 'finess', 'acupunctur', 'beetroot', 'cafein', 'wafel', 'daifuku', 'stoe', 'fallout', 'tener', 'mimosa', 'compnay', 'sherbert', 'sakura', 'atora', 'cobbleston', 'stag', 'kureg', 'carrabba', 'prima', 'obsidian', 'antelop', 'througout', 'waaaaaay', 'squeeker', 'alig', 'giraff', 'staghorn', 'rhonda', 'wii', 'ricemellow', 'cerael', 'cashmer', 'adequan', 'pluto', 'gucci', 'condroitin', 'rebirth', 'baconsalt', 'opod', 'cosist', 'gillett', 'cappuchino', 'solofil', 'cupper', 'richmond', 'sow', 'pipett', 'buss', 'dasher', 'algea', 'clovey', 'alderwood', 'ricework', 'bryan', 'quad', 'açai', 'benzen', 'gefen', 'abalon', 'lysol', 'piquillo', 'nonreturn', 'deliri', 'funtim', 'odel', 'elderflow', 'jivealim', 'bananamon', 'seneca', 'steaz', 'hyderabadi', 'rendang', 'glamor', 'cornel', 'hafi', 'flipsid', 'nutso', 'weisswurst', 'ditalini', 'thos', 'mckay', 'realism', 'chimichurri', 'luxardo', 'amarena', 'brix', 'kadota', 'yada', 'stik', 'xplosion', 'hopj', 'shizzl', 'polycarbon', 'cipriani', 'raisinet', 'raisinett', 'bart', 'riteaid', 'camano', 'papua', 'ambian', 'carrington', 'gins', 'gens', 'youthberri', 'porqu', 'identif', 'mountian', 'graft', 'columela', 'rbgh', 'unmanag', 'sheetz', 'jin', 'xuan', 'marabou', 'arcor', 'feng', 'shui', 'nate', 'twiglet', 'pomad', 'avent', 'spitter', 'busili', 'racconto', 'neosporin', 'bergin', 'ppis', 'sidr', 'dyspepsia', 'moisturis', 'proton', 'gauz', 'glowi', 'bedsor', 'mgo', 'omeprazol', 'constru', 'masqu', 'candyland', 'shannon', 'eatig', 'teari', 'bouncier', 'frat', 'orijin', 'ornish', 'lynx', 'grackl', 'vegg', 'wiff', 'butch', 'talker', 'tempat', 'muncho', 'cassava', 'seeker', 'manfactur', 'snax', 'limber', 'bellyrub', 'arbuckl', 'rachael', 'barz', 'berner', 'unkind', 'sorrow', 'ozarka', 'unruli', 'wireless', 'amoretti', 'sippin', 'shakespear', 'rigth', 'redneck', 'citarella', 'satellit', 'yack', 'burnout', 'mayor', 'dasuquin', 'twistix', 'salba', 'reqular', 'teecino', 'firstmat', 'bage', 'louis', 'psa', 'toxicologist', 'gasiewicz', 'transmit', 'mitsuwa', 'wolfram', 'plywood', 'wagn', 'calculus', 'nutrisourc', 'hoc', 'fluffyp', 'bergen', 'emolli', 'ballet', 'breathsav', 'antiperspir', 'mitchum', 'ppo', 'greenfir', 'sansho', 'kup', 'neuman', 'crass', 'millisecond', 'fbi', 'tubbi', 'teaposi', 'africaf', 'aleppo', 'wagyu', 'gris', 'lowrey', 'boooooo', 'lurri', 'matthew', 'darkish', 'gmod', 'soulist', 'gooshi', 'becki', 'iv', 'stub', 'organg', 'bromelain', 'cetaphil', 'wissotski', 'zola', 'montego', 'amigo', 'writeup', 'galliano', 'boozi', 'jager', 'fortiflora', 'planti', 'tonnino', 'influenst', 'baconi', 'holm', 'polydextros', 'mmms', 'happybabi', 'atyp', 'foodshouldtastegood', 'terracycl', 'honeytre', 'azar', 'mongo', 'curacao', 'preferenti', 'absentmind', 'samoa', 'fishermen', 'saloon', 'sportea', 'pepermint', 'layov', 'minerali', 'grandpuppi', 'bobo', 'soyjoy', 'bitartr', 'fnb', 'malodextrin', 'funley', 'preponder', 'regularili', 'rbst', 'keifer', 'gordo', 'panfort', 'catkin', 'zumba', 'udo', 'suv', 'acual', 'mtg', 'poulet', 'viand', 'bouillabaiss', 'umbrian', 'champignon', 'ogan', 'probar', 'milkyway', 'miler', 'logist', 'sodamix', 'shimmeri', 'trix', 'glutathion', 'utilitarian', 'mnc', 'premiun', 'acerola', 'emergen', 'unblend', 'onboard', 'artisin', 'ctc', 'impra', 'frappachino', 'carrageean', 'dimpl', 'unread', 'underey', 'belveder', 'accelerad', 'prenat', 'algal', 'ebf', 'snowcon', 'shaver', 'fukushima', 'superhero', 'vertebra', 'jessica', 'ecc', 'shenanigan', 'oxtail', 'sleepier', 'retali', 'salvia', 'sensen', 'nighter', 'toniq', 'organiz', 'dmae', 'opioid', 'neurotransmitt', 'colori', 'pastariso', 'callori', 'glycerit', 'camelbak', 'mixabl', 'staw', 'steelcut', 'flouresc', 'berr', 'snowsho', 'beachsid', 'unpopular', 'reclus', 'cotti', 'dentabit', 'petrolatum', 'healtiest', 'sous', 'yuzu', 'kosho', 'wispa', 'playtex', 'ventair', 'antsi', 'braunfel', 'obrien', 'curriculum', 'okonatur', 'sunroom', 'caputo', 'lokum', 'neotam', 'sugarwork', 'strictest', 'teagu', 'potabl', 'htis', 'yello', 'nopalina', 'bom', 'reec', 'aura', 'bomba', 'keenan', 'postur', 'petcurean', 'cbtl', 'philz', 'gavalia', 'ocha', 'debra', 'cnn', 'unconvinc', 'cyanur', 'satifact', 'glycerol', 'chowhound', 'shrapnel', 'chocolet', 'recyl', 'secound', 'yeo', 'ventresca', 'fructus', 'anchiovi', 'repent', 'snide', 'fortif', 'caffrey', 'swan', 'pickin', 'reenerg', 'julius', 'pomagran', 'armor', 'hannah', 'esl', 'chocula', 'frs', 'cytomax', 'beachbodi', 'cesspool', 'tracker', 'singaporean', 'steen', 'sturdili', 'adolph', 'jetblu', 'hummm', 'airbrush', 'paperclip', 'impostor', 'ghetto', 'pescetarian', 'jackfruit', 'crossroad', 'greaat', 'holler', 'winegum', 'monavi', 'incapacit', 'acia', 'rosal', 'liquafe', 'nuti', 'minichew', 'tweek', 'albumin', 'jamon', 'maxwellhous', 'effeci', 'donor', 'mrp', 'rtd', 'bcaa', 'appian', 'orangish', 'goetz', 'cheerwin', 'chasen', 'gephardt', 'huddl', 'disneyworld', 'underfoot', 'maplein', 'waffi', 'quisp', 'quak', 'bandito', 'faddl', 'ecuadorian', 'pacari', 'kbg', 'gracia', 'stearoyl', 'lactyl', 'batdorf', 'gopicn', 'katsu', 'hazelnutti', 'nocciolata', 'pierogi', 'mabo', 'frango', 'omri', 'piperin', 'lupin', 'opossum', 'mouthpiec', 'eiermann', 'disaster', 'epigen', 'petsaf', 'catbox', 'tuo', 'kahn', 'wallac', 'ziptop', 'margaritavill', 'hypo', 'propest', 'rewash', 'leksand', 'lieg', 'lar', 'nuttella', 'indoctrin', 'wren', 'vitamuffin', 'teastea', 'macrobar', 'wmr', 'orgain', 'cyrstal', 'swtich', 'perruch', 'robek', 'dauvergn', 'chambord', 'apollinari', 'seeder', 'spinich', 'amatriciana', 'stearic', 'frappuchino', 'montmorillonit', 'ariel', 'wildsid', 'minitur', 'codi', 'abi', 'farro', 'desensit', 'bergan', 'asorb', 'cavatappi', 'durian', 'thot', 'eboni', 'rephras', 'budgetari', 'tireless', 'adenium', 'bhuja', 'clubhous', 'geomar', 'teasp', 'dansk', 'banan', 'brianna', 'lus', 'thatn', 'chawan', 'phytonutri', 'bilberri', 'smither', 'nagasaki', 'soyajoy', 'hiziki', 'mio', 'maqui', 'zesta', 'llego', 'grassland', 'eboost', 'barkeep', 'girardelli', 'eeri', 'bonjour', 'undereduc', 'prisrob', 'civet', 'nesspresso', 'champlain', 'brillo', 'timei', 'mixolog', 'wafu', 'vitalyt', 'strengh', 'upbeat', 'nitro', 'enegri', 'flicker', 'oilli', 'fusspot', 'chuka', 'snarl', 'schultz', 'sling', 'franni', 'comma', 'railroad', 'nutrisca', 'wagatha', 'ceski', 'morinaga', 'ull', 'caron', 'cerevisia', 'wolfbrand', 'pois', 'watchdog', 'nigel', 'wordi', 'wan', 'mef', 'sponch', 'tipo', 'siliskin', 'admin', 'brikka', 'redespresso', 'fot', 'workspac', 'choffi', 'bettycrock', 'livestrong', 'plesent', 'sawdusti', 'dominiqu', 'gonatur', 'loot', 'jol', 'licorett', 'butthol', 'hipp', 'moosh', 'yowza', 'glucuronolacton', 'kaia', 'parallelogram', 'cordycep', 'dassant', 'raya', 'foldger', 'wofgang', 'jls', 'rabbin', 'rubinstein', 'comper', 'naturali', 'knudson', 'tribal', 'phytic', 'perticular', 'qtys', 'quinci', 'exhibitor', 'darbi', 'iperespresso', 'pricepoint', 'straberri', 'cioccolati', 'cupful', 'hevla', 'puroast', 'daydream', 'sonoran', 'stargaz', 'decaffeni', 'keruig', 'methylen', 'keur', 'teribl', 'dorado', 'undisput', 'jetfuel', 'emiril', 'gmcr', 'khalua', 'commot', 'tomothi', 'lifeboat', 'hairdress', 'dme', 'wyeast', 'hydromet', 'abv', 'arora', 'talbott', 'nostra', 'puffet', 'underhand', 'lolivi', 'arbequina', 'mexen', 'causal', 'serissa', 'prediabet', 'glyceryl', 'bokar', 'starbux', 'sweetzfre', 'emfamil', 'che', 'softdrink', 'francais', 'gfic', 'callend', 'mccafe', 'unbeleiv', 'maxi', 'amanzon', 'tthe', 'sugeri', 'mediterranian', 'certo', 'iveta', 'meda', 'vergnano', 'gallston', 'alpen', 'skinner', 'fitz', 'chamba', 'sbuck', 'cugino', 'silex', 'scobi', 'wisconson', 'swp', 'stripper', 'degreas', 'sbc', 'gnocci', 'fufil', 'miniwheat', 'suplement', 'wayyyyyi', 'ecobrew', 'reddi', 'prodotto', 'napolitan', 'baha', 'figgi', 'kopali', 'traffick', 'titrat', 'ahlaska', 'monoflor', 'stakich', 'poi', 'hempshak', 'oustand', 'organicvill', 'ascept', 'melina', 'partaken', 'surimi', 'canterburi', 'hazer', 'stoneridg', 'marg', 'keureg', 'kerig', 'hae', 'nevella', 'reposado', 'fiz', 'aamazon', 'dixon', 'hessian', 'numero', 'righteous', 'tribest', 'exec', 'dealbreak', 'bustello', 'willard', 'citiz', 'overwrap', 'lunchroom', 'caprisun', 'icio', 'reisl', 'degass', 'valpolicella', 'gewurztramin', 'corker', 'vintner', 'winemak', 'barolo', 'fermentor', 'paklab', 'venturi', 'ethyl', 'magnifico', 'hatcho', 'kuzu', 'dissovl', 'barnacl', 'wafflemak', 'chiquita', 'classiqu', 'audubon', 'grassf', 'resveratrol', 'tant', 'panela', 'santini', 'pignoli', 'breve', 'embalm', 'coho', 'biraci', 'uncanni', 'deo', 'caucasian', 'multibran', 'kirkoswald', 'mccain', 'sioux', 'probibl', 'hazulnut', 'prado', 'wmart', 'grigio', 'infusium', 'matzah', 'mufa', 'afterglow', 'cordless', 'mahogoni', 'finch', 'stok', 'takeya', 'farfel', 'garvey', 'hilo', 'geraldin', 'riso', 'bello', 'garland', 'rwandan', 'aand', 'humdrum', 'zevia', 'excitotoxin', 'tabanero', 'vervein', 'fageolet', 'pukka', 'cavier', 'tou', 'jessi', 'macademia', 'salsifi', 'tbe', 'hygen', 'capellini', 'perciatelli', 'ethan', 'incompat', 'kapha', 'roasteri', 'heathen', 'teaspot', 'carapelli', 'differet', 'hci', 'wendel', 'purfect', 'bender', 'mcp', 'cremora', 'cib', 'nestley', 'mofo', 'polysyllab', 'rost', 'sweepstak', 'foglift', 'spenser', 'vergin', 'kyjen', 'eightoclock', 'ipanema', 'eoc', 'chocoalt', 'sux', 'unfathom', 'llave', 'lotr', 'camill', 'totonac', 'bront', 'fussier', 'lakesid', 'prodct', 'kama', 'vestig', 'joffrey', 'parmessan', 'velvetta', 'dmdm', 'hydantoin', 'aubergin', 'icicl', 'xlr', 'usb', 'preamp', 'mxl', 'crossov', 'encor', 'headphon', 'buywel', 'gynostemma', 'buzzag', 'gmc', 'greenvill', 'teechino', 'teccino', 'sqwincher', 'racael', 'julep', 'gourm', 'tidier', 'teaindia', 'croccantini', 'propac', 'attatch', 'itlov', 'gele', 'verjuic', 'verum', 'indus', 'rugelach', 'brooksid', 'avita', 'aweful', 'tocotrienol', 'rspo', 'dcd', 'chintzi', 'anathema', 'chatfield', 'fraling', 'justcaviar', 'chococino', 'canon', 'machiatto', 'robl', 'cran', 'gingerspic', 'almondina', 'jalfrezi', 'zicco', 'beanito', 'polyunsat', 'unpeel', 'sfbc', 'veri', 'pippin', 'amway', 'carm', 'wickl', 'peppod', 'wip', 'honib', 'siljan', 'dawdl', 'grommet', 'baconnais', 'baconais', 'funbit', 'sama', 'regatta', 'sprecher', 'cavalieri', 'boldo', 'fedelini', 'pasticcio', 'screamin', 'blastin', 'pamona', 'surejel', 'burmannii', 'quill', 'gosl', 'hotair', 'kaimal', 'fibergourmet', 'donckel', 'bobett', 'emdd', 'rgdc', 'thinkgeek', 'baird', 'argo', 'copolym', 'limburg', 'gmcs', 'menedion', 'gnu', 'reb', 'derbi', 'barritt', 'spaghettini', 'cedrinca', 'asta', 'analges', 'rosamont', 'forb', 'leila', 'nutrisoda', 'overtook', 'natali', 'raffia', 'zeb', 'kantrowitz', 'litig', 'kow', 'gylcem', 'beaba', 'babycook', 'brezza', 'resevoir', 'protion', 'grammar', 'memento', 'mberri', 'survivalist', 'swithc', 'choch', 'gastronomi', 'bana', 'queue', 'corazona', 'daim', 'flavrz', 'bora', 'happymelt', 'nooki', 'ppi', 'nutriant', 'suckl', 'denta', 'gellan', 'hoyo', 'monounsat', 'lutein', 'muskat', 'bakto', 'hextra', 'chlorhexidin', 'pinhol', 'terrafina', 'yakima', 'sunland', 'nutbutt', 'dauschund', 'demitri', 'dimitri', 'dilli', 'nekot', 'palous', 'pardina', 'shtick', 'greendog', 'burnish', 'ono', 'wiley', 'besan', 'gorlok', 'issimo', 'romulan', 'edc', 'koru', 'lanolin', 'becca', 'miguel', 'delidirect', 'styren', 'braga', 'lysand', 'purvia', 'groupon', 'carbona', 'giorgio', 'punjana', 'seder', 'chewnola', 'chuy', 'trehalos', 'biancolilla', 'nocellara', 'taibi', 'monocultivar', 'macallan', 'akira', 'mideast', 'kamehameha', 'seameal', 'booker', 'midpal', 'seagram', 'mashbil', 'rancio', 'ppb', 'lessor', 'xagav', 'goldenberri', 'chalci', 'caffeen', 'cfls', 'earthmat', 'kelvin', 'foures', 'pendant', 'helmet', 'elaichi', 'gts', 'cheape', 'chandler', 'fwd', 'fortuna', 'mmol', 'fhe', 'willpowd', 'mmf', 'sweetmat', 'memaw', 'gampi', 'rover', 'mammi', 'cattleman', 'monopotassium', 'solixir', 'rubberband', 'olestra', 'colici', 'alpina', 'gbs', 'grt', 'peget', 'giroll', 'multiport', 'venezian', 'microfoam', 'feliway', 'handcook', 'earring', 'grippo', 'edemam', 'ippeichan', 'fudgesicl', 'taterz', 'cherryz', 'arni', 'ddp', 'freezi', 'tuttorosso', 'roarin', 'marrobon', 'pedicur', 'bequet', 'tmm', 'fru', 'xbold', 'tcp', 'pilao', 'creativa', 'ottosson', 'kahula', 'vue', 'wanchai', 'domata', 'truson', 'boozl', 'mareblu', 'eastman', 'riviera', 'trampetti', 'fruitchia', 'breadtopia', 'tikicat', 'punk', 'evangelin', 'madecass', 'sahlen', 'spago', 'popcornopoli', 'friske', 'beebo', 'coffess', 'rni', 'appleappl', 'rippin', 'gaucho', 'guancial', 'kazoozl', 'msc', 'ziplok', 'enfagrow', 'wallabi', 'vader', 'puntur', 'shakeolog', 'shiratak', 'frappaccino', 'kofta', 'pesach', 'cbd', 'cbds', 'coffeebeandirect', 'sechung', 'lagavulin', 'microground', 'rillett', 'herloch', 'yoshi', 'gentleleas', 'aoc', 'knotz', 'mauv', 'visalus', 'kameda', 'kratom', 'liam', 'chiarello', 'beckham', 'smooz', 'retinol', 'hork', 'vitalici', 'tamanishiki', 'cajohn', 'benzocain', 'talisk', 'chicharron', 'leclerc', 'vinturi', 'panarello', 'bomrad', 'spartan', 'fondarif', 'zym', 'ottimo', 'applemon', 'lupe', 'skyy', 'frilli', 'mira', 'nivea', 'nutrium', 'laureth', 'micromoistur', 'unisex', 'barker', 'fiddyment', 'gourmantra', 'pennant', 'baconpop', 'chifl', 'truroot', 'sunblock', 'omanhen', 'cocotherapi', 'natchez', 'delfa', 'kensington', 'teatulia', 'conchita', 'pennywort', 'helmann', 'happytot', 'happyfamili', 'orion', 'ascorbyl', 'tocopheryl', 'selen', 'spini', 'cla', 'jaybar', 'skylak', 'kureig', 'frieda', 'yaucono', 'tradewind', 'galbi', 'eun', 'kuisin', 'sohgav', 'bach', 'seasnax', 'angi', 'phu', 'baggu', 'envirosax', 'sle', 'antimo', 'contata', 'nuun', 'follicl', 'tandem', 'keratin', 'flyaway', 'camomill', 'vitafus', 'ocharley', 'endurox', 'shisha', 'gordita', 'moctail', 'nectress', 'froos', 'chamoy', 'medora', 'pici', 'frey', 'fastgreat', 'greenlif', 'kruncher', 'tieman', 'koshihikari', 'dendrobium', 'neurobliss', 'gasm', 'neurosleep', 'neuroson', 'neurogasm', 'coffaro', 'parbak', 'darford', 'valuebul', 'nuttzo', 'buendia', 'talkingrain', 'brandt', 'ketepa', 'haiga', 'krunch', 'hefe', 'weizen', 'bret', 'gnosi', 'castlevetrano', 'kevala', 'flatt', 'ulcinex', 'yuuuummmi', 'bonomo', 'cafejo', 'kokumaro', 'ukon', 'betteroat', 'freekeh', 'hoffi', 'tonkotsu', 'hnc', 'sundew', 'cheezwhiz', 'contractu', 'licketi', 'cinqu', 'smartbon', 'unsat', 'girlscout', 'lemonmint', 'chocolatemint', 'chaga', 'nune', 'boilerm', 'fatman', 'elmwood', 'malay', 'candlenut', 'redang', 'maifun', 'taki', 'deadman', 'ketchikan', 'pecker', 'nurturm', 'spherif', 'bethenni', 'einkorn', 'moccona', 'gudrun', 'icv', 'cocohydro', 'yonana', 'gallolea', 'tropifrutti', 'karav', 'rothchild', 'tanka', 'cyclon', 'cere', 'evamor', 'slimstix', 'mclib', 'leilalov', 'chickpz', 'excelencia', 'calnatural', 'oogav', 'hubert', 'infring', 'kelapo', 'sphagnum', 'kristian', 'dinni', 'tunatreat', 'honeystix', 'wellabi', 'smithfield', 'umpqua', 'sharkbanana', 'runa', 'guayusa', 'officepro', 'cheribundi', 'salerno', 'cuddlecuss', 'kiwaii', 'bineshii', 'yahushua', 'papi', 'tagalong', 'disposakup', 'disposacup', 'rtu', 'ekojava', 'nfses', 'popin', 'beetbox', 'nibbi', 'gmr', 'shimmi', 'azul', 'mezz', 'carous', 'breeza', 'driveshaft', 'youndoo', 'kagayaki', 'jspp', 'graviola', 'wholey', 'silverado', 'essentia', 'hardart', 'starport', 'orbana', 'chocofudg', 'megafudg', 'revhoney', 'incredibit', 'crio', 'olewo', 'boomi', 'minicongo', 'bushmil', 'draper', 'shane', 'cheesburg', 'fulvic', 'cmd', 'vplenish', 'gerb', 'butterwort', 'whonu', 'marlin', 'barkster', 'briosa', 'olov', 'mammarella', 'bumbola', 'cretor', 'pyur', 'rihanna', 'lavado', 'roctan', 'tristan', 'sanskriti', 'liketi', 'rollerbal', 'kenzi', 'cinnemon', 'shilajit', 'biscoffe', 'avena', 'speysid', 'cardhu', 'neutrogena', 'emmet', 'karlsson', 'barrilito', 'essenza', 'indianolia', 'dreambon', 'lasinoh', 'simpliss', 'regen', 'mya', 'cruncha', 'chantea', 'tico', 'fike', 'krb', 'necap', 'belvita', 'boodum', 'rohan', 'mcewan', 'spookylici', 'samu', 'trivedi', 'lourd', 'croton', 'onecup', 'sfbay', 'sfb', 'fogchas', 'cupless', 'fuhgeddaboudit', 'cocoquik', 'weeful', 'pelindaba', 'higgen', 'kofina', 'truebar', 'espressivo', 'jjamppong', 'voxbox', 'jouli', 'massel', 'lizabeth', 'bbr', 'fuhgeddaboutit', 'buffa', 'solbit', 'stashu', 'kap', 'cedarhous', 'supergravi', 'gloe', 'momvox', 'momvoxbox', 'stila', 'pyrithion', 'fructi', 'fuggedaboudit', 'amara', 'martinson', 'realcup', 'nacheez', 'havista', 'joico', 'nexxus', 'cyclopentasiloxan', 'dimethylamin', 'biolag', 'loreal', 'fekkai', 'redken', 'peo', 'achiva', 'erythrytol', 'koma', 'golazo', 'bbd', 'wheyup', 'kilamb', 'ooma', 'everida']\n"
     ]
    }
   ],
   "source": [
    "print(w2v_words)"
   ]
  },
  {
   "cell_type": "code",
   "execution_count": 113,
   "metadata": {},
   "outputs": [
    {
     "data": {
      "text/plain": [
       "[('delici', 0.8057049512863159),\n",
       " ('yummi', 0.7857769727706909),\n",
       " ('tastey', 0.7620706558227539),\n",
       " ('nice', 0.6688322424888611),\n",
       " ('satisfi', 0.6679210662841797),\n",
       " ('hearti', 0.6659702062606812),\n",
       " ('good', 0.6645392775535583),\n",
       " ('nutriti', 0.6569509506225586),\n",
       " ('crunchi', 0.6563467979431152),\n",
       " ('dens', 0.6378092765808105)]"
      ]
     },
     "execution_count": 113,
     "metadata": {},
     "output_type": "execute_result"
    }
   ],
   "source": [
    "w2v_model.wv.most_similar('tasti')"
   ]
  },
  {
   "cell_type": "code",
   "execution_count": 114,
   "metadata": {},
   "outputs": [
    {
     "name": "stdout",
     "output_type": "stream",
     "text": [
      "like\n"
     ]
    }
   ],
   "source": [
    "count_vect_feat = count_vect.get_feature_names() # list of words in the BoW\n",
    "print(count_vect_feat[count_vect_feat.index('like')])"
   ]
  },
  {
   "cell_type": "markdown",
   "metadata": {},
   "source": [
    "#  Avg W2V"
   ]
  },
  {
   "cell_type": "code",
   "execution_count": 115,
   "metadata": {},
   "outputs": [
    {
     "name": "stdout",
     "output_type": "stream",
     "text": [
      "364171\n",
      "50\n"
     ]
    }
   ],
   "source": [
    "# average Word2Vec\n",
    "# computing average word2vec for each review.\n",
    "sent_vectors = []; # the avg-w2v for each sentence/review is stored in this list\n",
    "for sent in list_of_sent: # for each review/sentence\n",
    "    sent_vec = np.zeros(50) # as word vectors are of zero length\n",
    "    cnt_words =0; # num of words with a valid vector in the sentence/review\n",
    "    for word in sent: # for each word in a review/sentence\n",
    "        if word in w2v_words:\n",
    "            vec = w2v_model.wv[word]\n",
    "            sent_vec += vec\n",
    "            cnt_words += 1\n",
    "    if cnt_words != 0:\n",
    "        sent_vec /= cnt_words\n",
    "    sent_vectors.append(sent_vec)\n",
    "print(len(sent_vectors))\n",
    "print(len(sent_vectors[0]))"
   ]
  },
  {
   "cell_type": "code",
   "execution_count": 119,
   "metadata": {},
   "outputs": [],
   "source": [
    "from sklearn.model_selection import train_test_split"
   ]
  },
  {
   "cell_type": "code",
   "execution_count": 120,
   "metadata": {},
   "outputs": [],
   "source": [
    "y=After_dedup[\"Score\"].iloc[:500]"
   ]
  },
  {
   "cell_type": "code",
   "execution_count": 137,
   "metadata": {},
   "outputs": [],
   "source": [
    "from sklearn.metrics import confusion_matrix,accuracy_score,classification_report\n",
    "from sklearn.metrics import scorer,roc_auc_score,f1_score,precision_score,recall_score"
   ]
  },
  {
   "cell_type": "code",
   "execution_count": 138,
   "metadata": {},
   "outputs": [],
   "source": [
    "from sklearn.tree import DecisionTreeClassifier\n",
    "from sklearn.model_selection import GridSearchCV\n",
    "from sklearn.model_selection import cross_val_score"
   ]
  },
  {
   "cell_type": "code",
   "execution_count": 59,
   "metadata": {},
   "outputs": [],
   "source": [
    "import numpy as np"
   ]
  },
  {
   "cell_type": "code",
   "execution_count": 60,
   "metadata": {},
   "outputs": [],
   "source": [
    "sentence_W2V=np.array(sent_vectors)"
   ]
  },
  {
   "cell_type": "code",
   "execution_count": 61,
   "metadata": {},
   "outputs": [],
   "source": [
    "sentence_W2V1=sentence_W2V[:500,:]"
   ]
  },
  {
   "cell_type": "markdown",
   "metadata": {},
   "source": [
    "# KNN Classification on TF-IDF Data:"
   ]
  },
  {
   "cell_type": "code",
   "execution_count": 139,
   "metadata": {},
   "outputs": [],
   "source": [
    "from sklearn.neighbors import KNeighborsClassifier "
   ]
  },
  {
   "cell_type": "markdown",
   "metadata": {},
   "source": [
    "#### Time Based Sampling:"
   ]
  },
  {
   "cell_type": "code",
   "execution_count": 140,
   "metadata": {},
   "outputs": [],
   "source": [
    "nw_df=pd.read_sql_query(\"\"\"\n",
    "SELECT *\n",
    "FROM Reviews\n",
    "GROUP BY Time\n",
    "\"\"\",conn)"
   ]
  },
  {
   "cell_type": "code",
   "execution_count": 141,
   "metadata": {},
   "outputs": [
    {
     "data": {
      "text/html": [
       "<div>\n",
       "<style scoped>\n",
       "    .dataframe tbody tr th:only-of-type {\n",
       "        vertical-align: middle;\n",
       "    }\n",
       "\n",
       "    .dataframe tbody tr th {\n",
       "        vertical-align: top;\n",
       "    }\n",
       "\n",
       "    .dataframe thead th {\n",
       "        text-align: right;\n",
       "    }\n",
       "</style>\n",
       "<table border=\"1\" class=\"dataframe\">\n",
       "  <thead>\n",
       "    <tr style=\"text-align: right;\">\n",
       "      <th></th>\n",
       "      <th>index</th>\n",
       "      <th>Id</th>\n",
       "      <th>ProductId</th>\n",
       "      <th>UserId</th>\n",
       "      <th>ProfileName</th>\n",
       "      <th>HelpfulnessNumerator</th>\n",
       "      <th>HelpfulnessDenominator</th>\n",
       "      <th>Score</th>\n",
       "      <th>Time</th>\n",
       "      <th>Summary</th>\n",
       "      <th>Text</th>\n",
       "      <th>CleanedText</th>\n",
       "    </tr>\n",
       "  </thead>\n",
       "  <tbody>\n",
       "    <tr>\n",
       "      <th>0</th>\n",
       "      <td>138706</td>\n",
       "      <td>150524</td>\n",
       "      <td>0006641040</td>\n",
       "      <td>ACITT7DI6IDDL</td>\n",
       "      <td>shari zychinski</td>\n",
       "      <td>0</td>\n",
       "      <td>0</td>\n",
       "      <td>positive</td>\n",
       "      <td>939340800</td>\n",
       "      <td>EVERY book is educational</td>\n",
       "      <td>this witty little book makes my son laugh at l...</td>\n",
       "      <td>witti littl book make son laugh loud recit car...</td>\n",
       "    </tr>\n",
       "    <tr>\n",
       "      <th>1</th>\n",
       "      <td>138683</td>\n",
       "      <td>150501</td>\n",
       "      <td>0006641040</td>\n",
       "      <td>AJ46FKXOVC7NR</td>\n",
       "      <td>Nicholas A Mesiano</td>\n",
       "      <td>2</td>\n",
       "      <td>2</td>\n",
       "      <td>positive</td>\n",
       "      <td>940809600</td>\n",
       "      <td>This whole series is great way to spend time w...</td>\n",
       "      <td>I can remember seeing the show when it aired o...</td>\n",
       "      <td>rememb see show air televis year ago child sis...</td>\n",
       "    </tr>\n",
       "    <tr>\n",
       "      <th>2</th>\n",
       "      <td>417839</td>\n",
       "      <td>451856</td>\n",
       "      <td>B00004CXX9</td>\n",
       "      <td>AIUWLEQ1ADEG5</td>\n",
       "      <td>Elizabeth Medina</td>\n",
       "      <td>0</td>\n",
       "      <td>0</td>\n",
       "      <td>positive</td>\n",
       "      <td>944092800</td>\n",
       "      <td>Entertainingl Funny!</td>\n",
       "      <td>Beetlejuice is a well written movie ..... ever...</td>\n",
       "      <td>beetlejuic well written movi everyth excel act...</td>\n",
       "    </tr>\n",
       "    <tr>\n",
       "      <th>3</th>\n",
       "      <td>346055</td>\n",
       "      <td>374359</td>\n",
       "      <td>B00004CI84</td>\n",
       "      <td>A344SMIA5JECGM</td>\n",
       "      <td>Vincent P. Ross</td>\n",
       "      <td>1</td>\n",
       "      <td>2</td>\n",
       "      <td>positive</td>\n",
       "      <td>944438400</td>\n",
       "      <td>A modern day fairy tale</td>\n",
       "      <td>A twist of rumplestiskin captured on film, sta...</td>\n",
       "      <td>twist rumplestiskin captur film star michael k...</td>\n",
       "    </tr>\n",
       "    <tr>\n",
       "      <th>4</th>\n",
       "      <td>417838</td>\n",
       "      <td>451855</td>\n",
       "      <td>B00004CXX9</td>\n",
       "      <td>AJH6LUC1UT1ON</td>\n",
       "      <td>The Phantom of the Opera</td>\n",
       "      <td>0</td>\n",
       "      <td>0</td>\n",
       "      <td>positive</td>\n",
       "      <td>946857600</td>\n",
       "      <td>FANTASTIC!</td>\n",
       "      <td>Beetlejuice is an excellent and funny movie. K...</td>\n",
       "      <td>beetlejuic excel funni movi keaton hilari wack...</td>\n",
       "    </tr>\n",
       "  </tbody>\n",
       "</table>\n",
       "</div>"
      ],
      "text/plain": [
       "    index      Id   ProductId          UserId               ProfileName  \\\n",
       "0  138706  150524  0006641040   ACITT7DI6IDDL           shari zychinski   \n",
       "1  138683  150501  0006641040   AJ46FKXOVC7NR        Nicholas A Mesiano   \n",
       "2  417839  451856  B00004CXX9   AIUWLEQ1ADEG5          Elizabeth Medina   \n",
       "3  346055  374359  B00004CI84  A344SMIA5JECGM           Vincent P. Ross   \n",
       "4  417838  451855  B00004CXX9   AJH6LUC1UT1ON  The Phantom of the Opera   \n",
       "\n",
       "   HelpfulnessNumerator  HelpfulnessDenominator     Score       Time  \\\n",
       "0                     0                       0  positive  939340800   \n",
       "1                     2                       2  positive  940809600   \n",
       "2                     0                       0  positive  944092800   \n",
       "3                     1                       2  positive  944438400   \n",
       "4                     0                       0  positive  946857600   \n",
       "\n",
       "                                             Summary  \\\n",
       "0                          EVERY book is educational   \n",
       "1  This whole series is great way to spend time w...   \n",
       "2                               Entertainingl Funny!   \n",
       "3                            A modern day fairy tale   \n",
       "4                                         FANTASTIC!   \n",
       "\n",
       "                                                Text  \\\n",
       "0  this witty little book makes my son laugh at l...   \n",
       "1  I can remember seeing the show when it aired o...   \n",
       "2  Beetlejuice is a well written movie ..... ever...   \n",
       "3  A twist of rumplestiskin captured on film, sta...   \n",
       "4  Beetlejuice is an excellent and funny movie. K...   \n",
       "\n",
       "                                         CleanedText  \n",
       "0  witti littl book make son laugh loud recit car...  \n",
       "1  rememb see show air televis year ago child sis...  \n",
       "2  beetlejuic well written movi everyth excel act...  \n",
       "3  twist rumplestiskin captur film star michael k...  \n",
       "4  beetlejuic excel funni movi keaton hilari wack...  "
      ]
     },
     "execution_count": 141,
     "metadata": {},
     "output_type": "execute_result"
    }
   ],
   "source": [
    "nw_df.head()"
   ]
  },
  {
   "cell_type": "code",
   "execution_count": 142,
   "metadata": {},
   "outputs": [],
   "source": [
    "y1=nw_df[\"Score\"].iloc[:500]#Taking Top 500 Datapoints from Older timestamps."
   ]
  },
  {
   "cell_type": "code",
   "execution_count": 143,
   "metadata": {},
   "outputs": [
    {
     "data": {
      "text/plain": [
       "0    positive\n",
       "1    positive\n",
       "2    positive\n",
       "3    positive\n",
       "4    positive\n",
       "Name: Score, dtype: object"
      ]
     },
     "execution_count": 143,
     "metadata": {},
     "output_type": "execute_result"
    }
   ],
   "source": [
    "y1.head()"
   ]
  },
  {
   "cell_type": "code",
   "execution_count": 144,
   "metadata": {},
   "outputs": [],
   "source": [
    "x1_train,x1_test,y1_train,y1_test=train_test_split(final_tf_idf_data,y1,test_size=0.2,random_state=2)"
   ]
  },
  {
   "cell_type": "code",
   "execution_count": 145,
   "metadata": {},
   "outputs": [],
   "source": [
    "lst=list(range(0,20))\n",
    "neighbors=list(filter(lambda x: x % 2 != 0,lst))\n",
    "cv_scores=[]\n",
    "for k in neighbors:\n",
    "    neigh= KNeighborsClassifier(n_neighbors=k)\n",
    "    neigh.fit(x1_train,y1_train)\n",
    "    scores = cross_val_score(neigh, x1_train, y1_train, cv=10)\n",
    "    cv_scores.append(scores)\n",
    "#print(scores)"
   ]
  },
  {
   "cell_type": "code",
   "execution_count": 146,
   "metadata": {},
   "outputs": [
    {
     "data": {
      "text/plain": [
       "[1, 3, 5, 7, 9, 11, 13, 15, 17, 19]"
      ]
     },
     "execution_count": 146,
     "metadata": {},
     "output_type": "execute_result"
    }
   ],
   "source": [
    "neighbors"
   ]
  },
  {
   "cell_type": "code",
   "execution_count": 147,
   "metadata": {},
   "outputs": [
    {
     "data": {
      "image/png": "[encoded data removed]",
      "text/plain": [
       "<Figure size 432x288 with 1 Axes>"
      ]
     },
     "metadata": {},
     "output_type": "display_data"
    }
   ],
   "source": [
    "plt.plot(neighbors,scores)\n",
    "plt.grid()\n",
    "plt.title(\"K_Values Vs CV_Accuracy\")\n",
    "plt.xlabel(\"Depth\")\n",
    "plt.ylabel(\"CV_Accuracy\")\n",
    "plt.show()"
   ]
  },
  {
   "cell_type": "code",
   "execution_count": 148,
   "metadata": {},
   "outputs": [
    {
     "name": "stdout",
     "output_type": "stream",
     "text": [
      "\n",
      "The optimal number of neighbors is 17.\n"
     ]
    }
   ],
   "source": [
    "scores_lst=list(scores)\n",
    "optimal_k = neighbors[scores_lst.index(max(scores_lst))]\n",
    "print('\\nThe optimal number of neighbors is %d.' % optimal_k)"
   ]
  },
  {
   "cell_type": "code",
   "execution_count": 149,
   "metadata": {},
   "outputs": [],
   "source": [
    "neigh1= KNeighborsClassifier(n_neighbors=optimal_k,algorithm='kd_tree')"
   ]
  },
  {
   "cell_type": "code",
   "execution_count": 150,
   "metadata": {},
   "outputs": [
    {
     "data": {
      "text/plain": [
       "KNeighborsClassifier(algorithm='kd_tree', leaf_size=30, metric='minkowski',\n",
       "           metric_params=None, n_jobs=1, n_neighbors=17, p=2,\n",
       "           weights='uniform')"
      ]
     },
     "execution_count": 150,
     "metadata": {},
     "output_type": "execute_result"
    }
   ],
   "source": [
    "neigh1.fit(x1_train,y1_train)"
   ]
  },
  {
   "cell_type": "code",
   "execution_count": 151,
   "metadata": {},
   "outputs": [
    {
     "name": "stdout",
     "output_type": "stream",
     "text": [
      "The Accuracy on Test/Unknown data is: 0.91\n"
     ]
    }
   ],
   "source": [
    "score=neigh1.score(x1_test,y1_test)\n",
    "print(\"The Accuracy on Test/Unknown data is:\",score)"
   ]
  },
  {
   "cell_type": "code",
   "execution_count": 152,
   "metadata": {},
   "outputs": [
    {
     "data": {
      "text/plain": [
       "KNeighborsClassifier(algorithm='brute', leaf_size=30, metric='minkowski',\n",
       "           metric_params=None, n_jobs=1, n_neighbors=17, p=2,\n",
       "           weights='uniform')"
      ]
     },
     "execution_count": 152,
     "metadata": {},
     "output_type": "execute_result"
    }
   ],
   "source": [
    "neigh2= KNeighborsClassifier(n_neighbors=optimal_k,algorithm='brute')\n",
    "neigh2.fit(x1_train,y1_train)"
   ]
  },
  {
   "cell_type": "code",
   "execution_count": 153,
   "metadata": {},
   "outputs": [
    {
     "name": "stdout",
     "output_type": "stream",
     "text": [
      "The Accuracy on Test/Unknown data is: 0.91\n"
     ]
    }
   ],
   "source": [
    "score=neigh2.score(x1_test,y1_test)\n",
    "print(\"The Accuracy on Test/Unknown data is:\",score)"
   ]
  },
  {
   "cell_type": "code",
   "execution_count": 154,
   "metadata": {},
   "outputs": [],
   "source": [
    "predictions   = neigh1.predict(x1_test)\n",
    "probabilities = neigh1.predict_proba(x1_test)"
   ]
  },
  {
   "cell_type": "code",
   "execution_count": 155,
   "metadata": {},
   "outputs": [
    {
     "name": "stdout",
     "output_type": "stream",
     "text": [
      "\n",
      " Classification report : \n",
      "              precision    recall  f1-score   support\n",
      "\n",
      "   negative       0.00      0.00      0.00         9\n",
      "   positive       0.91      1.00      0.95        91\n",
      "\n",
      "avg / total       0.83      0.91      0.87       100\n",
      "\n",
      "Accuracy   Score :  0.91\n"
     ]
    }
   ],
   "source": [
    "print (\"\\n Classification report : \\n\",classification_report(y1_test,predictions))\n",
    "print (\"Accuracy   Score : \",accuracy_score(y1_test,predictions))"
   ]
  },
  {
   "cell_type": "code",
   "execution_count": 156,
   "metadata": {},
   "outputs": [],
   "source": [
    "conf_matrix = confusion_matrix(y1_test,predictions)"
   ]
  },
  {
   "cell_type": "code",
   "execution_count": 157,
   "metadata": {},
   "outputs": [
    {
     "data": {
      "text/plain": [
       "array([[ 0,  9],\n",
       "       [ 0, 91]], dtype=int64)"
      ]
     },
     "execution_count": 157,
     "metadata": {},
     "output_type": "execute_result"
    }
   ],
   "source": [
    "conf_matrix"
   ]
  },
  {
   "cell_type": "markdown",
   "metadata": {},
   "source": [
    "# KNN Classification on AVG-W2V Data:"
   ]
  },
  {
   "cell_type": "code",
   "execution_count": 158,
   "metadata": {},
   "outputs": [],
   "source": [
    "X1_train,X1_test,Y1_train,Y1_test=train_test_split(sentence_W2V1,y1,test_size=0.2,random_state=2)"
   ]
  },
  {
   "cell_type": "code",
   "execution_count": 159,
   "metadata": {},
   "outputs": [],
   "source": [
    "lst=list(range(0,20))\n",
    "neighbors=list(filter(lambda x: x % 2 != 0,lst))\n",
    "cv_scores=[]\n",
    "for k in neighbors:\n",
    "    neigh= KNeighborsClassifier(n_neighbors=k)\n",
    "    neigh.fit(X1_train,Y1_train)\n",
    "    scores = cross_val_score(neigh, X1_train, Y1_train, cv=10)\n",
    "    cv_scores.append(scores)"
   ]
  },
  {
   "cell_type": "code",
   "execution_count": 160,
   "metadata": {},
   "outputs": [
    {
     "data": {
      "image/png": "[encoded data removed]",
      "text/plain": [
       "<Figure size 432x288 with 1 Axes>"
      ]
     },
     "metadata": {},
     "output_type": "display_data"
    }
   ],
   "source": [
    "plt.plot(neighbors,scores)\n",
    "plt.grid()\n",
    "plt.title(\"K_Values Vs CV_Accuracy\")\n",
    "plt.xlabel(\"Depth\")\n",
    "plt.ylabel(\"CV_Accuracy\")\n",
    "plt.show()"
   ]
  },
  {
   "cell_type": "code",
   "execution_count": 161,
   "metadata": {},
   "outputs": [
    {
     "name": "stdout",
     "output_type": "stream",
     "text": [
      "\n",
      "The optimal number of neighbors is 17.\n"
     ]
    }
   ],
   "source": [
    "scores_lst=list(scores)\n",
    "optimal_k = neighbors[scores_lst.index(max(scores_lst))]\n",
    "print('\\nThe optimal number of neighbors is %d.' % optimal_k)"
   ]
  },
  {
   "cell_type": "markdown",
   "metadata": {},
   "source": [
    "# Conclusions:"
   ]
  },
  {
   "cell_type": "markdown",
   "metadata": {},
   "source": [
    "#### KNN on TF-IDF and AVG-W2V Data :"
   ]
  },
  {
   "cell_type": "markdown",
   "metadata": {},
   "source": [
    "1. After getting Optimal-K=17,The Accuracy tested on Test Data and the result(0.91)came better than Decision-Tree classifier.\n",
    "2. The TP,FP results in confusion Matrix came out to be 91,9.Again True Negetive cases are not classified.\n",
    "3. Here Time Based Sampling is done for train,CV,test data.\n",
    "4. For both TF-IDF data,AVG-W2V data,the result of optimal K came out as 17.So,for AVG-W2V data the result in terms of accuracy\n",
    "   is likely to come same as TF-IDF."
   ]
  },
  {
   "cell_type": "code",
   "execution_count": null,
   "metadata": {},
   "outputs": [],
   "source": []
  }
 ],
 "metadata": {
  "kernelspec": {
   "display_name": "Python 3",
   "language": "python",
   "name": "python3"
  },
  "language_info": {
   "codemirror_mode": {
    "name": "ipython",
    "version": 3
   },
   "file_extension": ".py",
   "mimetype": "text/x-python",
   "name": "python",
   "nbconvert_exporter": "python",
   "pygments_lexer": "ipython3",
   "version": "3.6.5"
  }
 },
 "nbformat": 4,
 "nbformat_minor": 2
}
